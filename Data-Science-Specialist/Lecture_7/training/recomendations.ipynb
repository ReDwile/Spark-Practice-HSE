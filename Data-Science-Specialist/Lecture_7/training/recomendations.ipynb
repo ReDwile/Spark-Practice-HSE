{
  "cells": [
    {
      "cell_type": "markdown",
      "id": "cf5fa89c-c582-4e6c-8509-839270ac5bb1",
      "metadata": {
        "id": "cf5fa89c-c582-4e6c-8509-839270ac5bb1"
      },
      "source": [
        "# `Промышленное машинное обучение на Spark`\n",
        "## `Занятие 07: Spark Recomendation Systems. ALS.`"
      ]
    },
    {
      "cell_type": "markdown",
      "id": "a97bd924-cdbe-454c-a5d2-486bd939a943",
      "metadata": {
        "id": "a97bd924-cdbe-454c-a5d2-486bd939a943"
      },
      "source": [
        "О чём можно узнать из этого ноутбука:\n",
        "\n",
        "* Построение рекомендательной системы для фильмов\n",
        "* Алгоритм ALS в Pyspark\n",
        "* Настройка выбор оптимальных гиперпараметров для ALS модели"
      ]
    },
    {
      "cell_type": "code",
      "execution_count": 1,
      "id": "0c5e7973-3e56-446c-a257-f1b10c652533",
      "metadata": {
        "colab": {
          "base_uri": "https://localhost:8080/"
        },
        "id": "0c5e7973-3e56-446c-a257-f1b10c652533",
        "outputId": "da09bd45-bbe6-4b63-8ec4-873a372bddc6"
      },
      "outputs": [
        {
          "output_type": "stream",
          "name": "stdout",
          "text": [
            "Requirement already satisfied: pyspark in /usr/local/lib/python3.11/dist-packages (3.5.5)\n",
            "Requirement already satisfied: pyarrow in /usr/local/lib/python3.11/dist-packages (18.1.0)\n",
            "Requirement already satisfied: seaborn in /usr/local/lib/python3.11/dist-packages (0.13.2)\n",
            "Requirement already satisfied: py4j==0.10.9.7 in /usr/local/lib/python3.11/dist-packages (from pyspark) (0.10.9.7)\n",
            "Requirement already satisfied: numpy!=1.24.0,>=1.20 in /usr/local/lib/python3.11/dist-packages (from seaborn) (2.0.2)\n",
            "Requirement already satisfied: pandas>=1.2 in /usr/local/lib/python3.11/dist-packages (from seaborn) (2.2.2)\n",
            "Requirement already satisfied: matplotlib!=3.6.1,>=3.4 in /usr/local/lib/python3.11/dist-packages (from seaborn) (3.10.0)\n",
            "Requirement already satisfied: contourpy>=1.0.1 in /usr/local/lib/python3.11/dist-packages (from matplotlib!=3.6.1,>=3.4->seaborn) (1.3.1)\n",
            "Requirement already satisfied: cycler>=0.10 in /usr/local/lib/python3.11/dist-packages (from matplotlib!=3.6.1,>=3.4->seaborn) (0.12.1)\n",
            "Requirement already satisfied: fonttools>=4.22.0 in /usr/local/lib/python3.11/dist-packages (from matplotlib!=3.6.1,>=3.4->seaborn) (4.56.0)\n",
            "Requirement already satisfied: kiwisolver>=1.3.1 in /usr/local/lib/python3.11/dist-packages (from matplotlib!=3.6.1,>=3.4->seaborn) (1.4.8)\n",
            "Requirement already satisfied: packaging>=20.0 in /usr/local/lib/python3.11/dist-packages (from matplotlib!=3.6.1,>=3.4->seaborn) (24.2)\n",
            "Requirement already satisfied: pillow>=8 in /usr/local/lib/python3.11/dist-packages (from matplotlib!=3.6.1,>=3.4->seaborn) (11.1.0)\n",
            "Requirement already satisfied: pyparsing>=2.3.1 in /usr/local/lib/python3.11/dist-packages (from matplotlib!=3.6.1,>=3.4->seaborn) (3.2.3)\n",
            "Requirement already satisfied: python-dateutil>=2.7 in /usr/local/lib/python3.11/dist-packages (from matplotlib!=3.6.1,>=3.4->seaborn) (2.8.2)\n",
            "Requirement already satisfied: pytz>=2020.1 in /usr/local/lib/python3.11/dist-packages (from pandas>=1.2->seaborn) (2025.2)\n",
            "Requirement already satisfied: tzdata>=2022.7 in /usr/local/lib/python3.11/dist-packages (from pandas>=1.2->seaborn) (2025.2)\n",
            "Requirement already satisfied: six>=1.5 in /usr/local/lib/python3.11/dist-packages (from python-dateutil>=2.7->matplotlib!=3.6.1,>=3.4->seaborn) (1.17.0)\n"
          ]
        }
      ],
      "source": [
        "! pip3 install pyspark pyarrow seaborn"
      ]
    },
    {
      "cell_type": "code",
      "execution_count": 2,
      "id": "d6e0d59c-d94a-4e75-9cf5-d6237d7dd566",
      "metadata": {
        "id": "d6e0d59c-d94a-4e75-9cf5-d6237d7dd566"
      },
      "outputs": [],
      "source": [
        "import os\n",
        "import sys\n",
        "import urllib\n",
        "import zipfile\n",
        "import seaborn as sns\n",
        "import matplotlib.pyplot as plt\n",
        "\n",
        "\n",
        "import pyspark.sql.functions as F\n",
        "\n",
        "from pyspark import SparkConf, SparkContext\n",
        "from pyspark.sql.types import StructType, StructField\n",
        "from pyspark.sql.types import StringType, FloatType, IntegerType, LongType\n",
        "from pyspark.sql import SparkSession\n",
        "from pyspark.ml.recommendation import ALS\n",
        "from pyspark.ml.evaluation import RegressionEvaluator\n",
        "from pyspark.ml.tuning import TrainValidationSplit, ParamGridBuilder, CrossValidator\n",
        "\n",
        "%matplotlib inline"
      ]
    },
    {
      "cell_type": "code",
      "execution_count": 3,
      "id": "6b38056e-0206-4d0b-9fe7-681bc42c64c3",
      "metadata": {
        "id": "6b38056e-0206-4d0b-9fe7-681bc42c64c3"
      },
      "outputs": [],
      "source": [
        "conf = (\n",
        "    SparkConf()\n",
        "        .set('spark.driver.memory', '4g')\n",
        "        .set('spark.executor.extraJavaOptions', '-Xss512m')\n",
        "        .set('spark.driver.extraJavaOptions', '-Xss512m')\n",
        "        .setMaster('local[*]')\n",
        ")\n",
        "sc = SparkContext(conf=conf)\n",
        "spark = SparkSession(sc)"
      ]
    },
    {
      "cell_type": "code",
      "source": [
        "spark"
      ],
      "metadata": {
        "colab": {
          "base_uri": "https://localhost:8080/",
          "height": 221
        },
        "id": "eKYUodkOXN5q",
        "outputId": "6446b9b3-9f5f-483d-897a-9ef6186594a9"
      },
      "id": "eKYUodkOXN5q",
      "execution_count": 4,
      "outputs": [
        {
          "output_type": "execute_result",
          "data": {
            "text/plain": [
              "<pyspark.sql.session.SparkSession at 0x792a23e82b10>"
            ],
            "text/html": [
              "\n",
              "            <div>\n",
              "                <p><b>SparkSession - in-memory</b></p>\n",
              "                \n",
              "        <div>\n",
              "            <p><b>SparkContext</b></p>\n",
              "\n",
              "            <p><a href=\"http://38ceddf730e8:4040\">Spark UI</a></p>\n",
              "\n",
              "            <dl>\n",
              "              <dt>Version</dt>\n",
              "                <dd><code>v3.5.5</code></dd>\n",
              "              <dt>Master</dt>\n",
              "                <dd><code>local[*]</code></dd>\n",
              "              <dt>AppName</dt>\n",
              "                <dd><code>pyspark-shell</code></dd>\n",
              "            </dl>\n",
              "        </div>\n",
              "        \n",
              "            </div>\n",
              "        "
            ]
          },
          "metadata": {},
          "execution_count": 4
        }
      ]
    },
    {
      "cell_type": "markdown",
      "id": "0be8d011-29d0-428a-8329-c5021b0b4b1e",
      "metadata": {
        "id": "0be8d011-29d0-428a-8329-c5021b0b4b1e"
      },
      "source": [
        "### `Загрузка данных`"
      ]
    },
    {
      "cell_type": "markdown",
      "id": "489c7578-33d6-4741-9d72-fa467c4d8f04",
      "metadata": {
        "id": "489c7578-33d6-4741-9d72-fa467c4d8f04"
      },
      "source": [
        "Загрузим и распакуем данные с официального источника. Для экспериментов возьмём самый маленький датасет, в котором содержаться 100тыс оценок от 1000 пользователей по 1700 фильмам"
      ]
    },
    {
      "cell_type": "code",
      "execution_count": 5,
      "id": "2d9bd65b-e23a-4d44-8450-54f5e51803f0",
      "metadata": {
        "id": "2d9bd65b-e23a-4d44-8450-54f5e51803f0"
      },
      "outputs": [],
      "source": [
        "file_url = \"https://files.grouplens.org/datasets/movielens/ml-100k.zip\"\n",
        "\n",
        "archive_filename = \"movielens-100k.zip\"\n",
        "urllib.request.urlretrieve(file_url, archive_filename)\n",
        "\n",
        "path = \"movielens-100k\"\n",
        "with zipfile.ZipFile(archive_filename, 'r') as zip_ref:\n",
        "    zip_ref.extractall(path)\n",
        "\n",
        "os.remove(archive_filename)"
      ]
    },
    {
      "cell_type": "markdown",
      "id": "342ac91b-b170-4bc4-ba50-462707884aa8",
      "metadata": {
        "id": "342ac91b-b170-4bc4-ba50-462707884aa8"
      },
      "source": [
        "Информация о поставленных оценках содержиться в файле u.data. Прочитаем и загрузим его в Spark"
      ]
    },
    {
      "cell_type": "code",
      "source": [
        "!head movielens-100k/ml-100k/u.data"
      ],
      "metadata": {
        "colab": {
          "base_uri": "https://localhost:8080/"
        },
        "id": "_rsAQ5vTXigj",
        "outputId": "fa71db5d-7ebe-45d7-b04f-32d48f762df5"
      },
      "id": "_rsAQ5vTXigj",
      "execution_count": 8,
      "outputs": [
        {
          "output_type": "stream",
          "name": "stdout",
          "text": [
            "196\t242\t3\t881250949\n",
            "186\t302\t3\t891717742\n",
            "22\t377\t1\t878887116\n",
            "244\t51\t2\t880606923\n",
            "166\t346\t1\t886397596\n",
            "298\t474\t4\t884182806\n",
            "115\t265\t2\t881171488\n",
            "253\t465\t5\t891628467\n",
            "305\t451\t3\t886324817\n",
            "6\t86\t3\t883603013\n"
          ]
        }
      ]
    },
    {
      "cell_type": "code",
      "execution_count": 6,
      "id": "d2ec3877-4e9e-4f15-9583-6a560bdb5aa4",
      "metadata": {
        "id": "d2ec3877-4e9e-4f15-9583-6a560bdb5aa4"
      },
      "outputs": [],
      "source": [
        "# Зададим пути к файлам из датасета\n",
        "data_file = f\"{path}/ml-100k/u.data\"\n",
        "\n",
        "file_type = \"csv\"\n",
        "infer_schema = \"false\"\n",
        "first_row_is_header = \"false\"\n",
        "delimiter = \"\\t\"\n",
        "\n",
        "schema = StructType(\n",
        "    (\n",
        "        StructField(\"UserId\", IntegerType()),\n",
        "        StructField(\"MovieId\", IntegerType()),\n",
        "        StructField(\"Rating\", FloatType()),\n",
        "        StructField(\"Timestamp\", LongType()),\n",
        "    )\n",
        ")\n",
        "\n",
        "ratings_df = (\n",
        "    spark.read.csv(data_file, schema=schema, sep=\"\\t\", header=False)\n",
        ")"
      ]
    },
    {
      "cell_type": "code",
      "execution_count": 9,
      "id": "32c84d33-9891-4980-a360-bf0ca96119bd",
      "metadata": {
        "colab": {
          "base_uri": "https://localhost:8080/"
        },
        "id": "32c84d33-9891-4980-a360-bf0ca96119bd",
        "outputId": "8302deee-5735-4a14-8d31-a0d1106dd416"
      },
      "outputs": [
        {
          "output_type": "stream",
          "name": "stdout",
          "text": [
            "+------+-------+------+---------+\n",
            "|UserId|MovieId|Rating|Timestamp|\n",
            "+------+-------+------+---------+\n",
            "|   196|    242|   3.0|881250949|\n",
            "|   186|    302|   3.0|891717742|\n",
            "|    22|    377|   1.0|878887116|\n",
            "|   244|     51|   2.0|880606923|\n",
            "|   166|    346|   1.0|886397596|\n",
            "|   298|    474|   4.0|884182806|\n",
            "|   115|    265|   2.0|881171488|\n",
            "|   253|    465|   5.0|891628467|\n",
            "|   305|    451|   3.0|886324817|\n",
            "|     6|     86|   3.0|883603013|\n",
            "+------+-------+------+---------+\n",
            "only showing top 10 rows\n",
            "\n"
          ]
        }
      ],
      "source": [
        "# посмотрим на данные\n",
        "ratings_df.show(10)"
      ]
    },
    {
      "cell_type": "code",
      "execution_count": 10,
      "id": "9f4a7b07-8a94-4f0b-8719-a5ab5deb53f2",
      "metadata": {
        "colab": {
          "base_uri": "https://localhost:8080/"
        },
        "id": "9f4a7b07-8a94-4f0b-8719-a5ab5deb53f2",
        "outputId": "b0d999b2-c294-4d5b-a874-e03b79868801"
      },
      "outputs": [
        {
          "output_type": "stream",
          "name": "stdout",
          "text": [
            "root\n",
            " |-- UserId: integer (nullable = true)\n",
            " |-- MovieId: integer (nullable = true)\n",
            " |-- Rating: float (nullable = true)\n",
            " |-- Timestamp: long (nullable = true)\n",
            "\n"
          ]
        }
      ],
      "source": [
        "ratings_df.printSchema()"
      ]
    },
    {
      "cell_type": "code",
      "source": [
        "ratings_df.count()"
      ],
      "metadata": {
        "colab": {
          "base_uri": "https://localhost:8080/"
        },
        "id": "Tj7qpzkEZoCB",
        "outputId": "48062ff3-8af4-4e42-a978-b958926f6160"
      },
      "id": "Tj7qpzkEZoCB",
      "execution_count": 11,
      "outputs": [
        {
          "output_type": "execute_result",
          "data": {
            "text/plain": [
              "100000"
            ]
          },
          "metadata": {},
          "execution_count": 11
        }
      ]
    },
    {
      "cell_type": "code",
      "source": [
        "ratings_df.select(\"UserId\").distinct().count()"
      ],
      "metadata": {
        "colab": {
          "base_uri": "https://localhost:8080/"
        },
        "id": "CLsdYdWDZu8n",
        "outputId": "4c9b3ffe-50cd-4e2c-8006-c267e66a5523"
      },
      "id": "CLsdYdWDZu8n",
      "execution_count": 12,
      "outputs": [
        {
          "output_type": "execute_result",
          "data": {
            "text/plain": [
              "943"
            ]
          },
          "metadata": {},
          "execution_count": 12
        }
      ]
    },
    {
      "cell_type": "code",
      "source": [
        "ratings_df.select(\"MovieId\").distinct().count()"
      ],
      "metadata": {
        "colab": {
          "base_uri": "https://localhost:8080/"
        },
        "id": "xaFT7IEZZ4cR",
        "outputId": "6f4091c6-610a-47d8-a5e8-a7a5e34cbaed"
      },
      "id": "xaFT7IEZZ4cR",
      "execution_count": 13,
      "outputs": [
        {
          "output_type": "execute_result",
          "data": {
            "text/plain": [
              "1682"
            ]
          },
          "metadata": {},
          "execution_count": 13
        }
      ]
    },
    {
      "cell_type": "code",
      "source": [
        "ratings_df.select(\"Rating\").distinct().count()"
      ],
      "metadata": {
        "colab": {
          "base_uri": "https://localhost:8080/"
        },
        "id": "m2TbxPe0aDKR",
        "outputId": "271e7bcd-1d95-4440-d1ee-f02f40d38daf"
      },
      "id": "m2TbxPe0aDKR",
      "execution_count": 14,
      "outputs": [
        {
          "output_type": "execute_result",
          "data": {
            "text/plain": [
              "5"
            ]
          },
          "metadata": {},
          "execution_count": 14
        }
      ]
    },
    {
      "cell_type": "code",
      "source": [
        "ratings_df.select(\"Rating\").distinct().orderBy(\"Rating\").show(5, False)"
      ],
      "metadata": {
        "colab": {
          "base_uri": "https://localhost:8080/"
        },
        "id": "KNpP-ng6aIPQ",
        "outputId": "a6e38e5c-5ed4-484e-cbb4-ef59bb73622b"
      },
      "id": "KNpP-ng6aIPQ",
      "execution_count": 18,
      "outputs": [
        {
          "output_type": "stream",
          "name": "stdout",
          "text": [
            "+------+\n",
            "|Rating|\n",
            "+------+\n",
            "|1.0   |\n",
            "|2.0   |\n",
            "|3.0   |\n",
            "|4.0   |\n",
            "|5.0   |\n",
            "+------+\n",
            "\n"
          ]
        }
      ]
    },
    {
      "cell_type": "code",
      "source": [
        "ratings_df.filter(\"Rating is null\").show(5)"
      ],
      "metadata": {
        "colab": {
          "base_uri": "https://localhost:8080/"
        },
        "id": "_zFBtSVuaR3h",
        "outputId": "f641bba1-4e39-4ca2-a3da-5a8a1a2aab1b"
      },
      "id": "_zFBtSVuaR3h",
      "execution_count": 21,
      "outputs": [
        {
          "output_type": "stream",
          "name": "stdout",
          "text": [
            "+------+-------+------+---------+\n",
            "|UserId|MovieId|Rating|Timestamp|\n",
            "+------+-------+------+---------+\n",
            "+------+-------+------+---------+\n",
            "\n"
          ]
        }
      ]
    },
    {
      "cell_type": "markdown",
      "id": "e5452f31-3bd7-4713-b67f-9a18cd0ec4b8",
      "metadata": {
        "id": "e5452f31-3bd7-4713-b67f-9a18cd0ec4b8"
      },
      "source": [
        "### `Исследование и визуализация данных`"
      ]
    },
    {
      "cell_type": "markdown",
      "id": "a02bda54-1d97-4475-9fe4-7a30ea53d2eb",
      "metadata": {
        "id": "a02bda54-1d97-4475-9fe4-7a30ea53d2eb"
      },
      "source": [
        "Посмотрим на распределение оценок в данном датасете"
      ]
    },
    {
      "cell_type": "code",
      "execution_count": 8,
      "id": "99f3871e-c868-417e-883b-143513c541a5",
      "metadata": {
        "colab": {
          "base_uri": "https://localhost:8080/",
          "height": 574
        },
        "id": "99f3871e-c868-417e-883b-143513c541a5",
        "outputId": "6d99a8f3-02b4-4a08-e254-86a0940b3b19"
      },
      "outputs": [
        {
          "output_type": "stream",
          "name": "stdout",
          "text": [
            "   Rating  count\n",
            "0     5.0  21201\n",
            "1     2.0  11370\n",
            "2     3.0  27145\n",
            "3     1.0   6110\n",
            "4     4.0  34174\n"
          ]
        },
        {
          "output_type": "execute_result",
          "data": {
            "text/plain": [
              "<Axes: xlabel='Rating', ylabel='count'>"
            ]
          },
          "metadata": {},
          "execution_count": 8
        },
        {
          "output_type": "display_data",
          "data": {
            "text/plain": [
              "<Figure size 640x480 with 1 Axes>"
            ],
            "image/png": "[encoded data removed]"
          },
          "metadata": {}
        }
      ],
      "source": [
        "ratings_stat = ratings_df.groupby(\"Rating\").count().toPandas()\n",
        "print(ratings_stat)\n",
        "sns.barplot(ratings_stat, x=\"Rating\", y=\"count\", hue=\"Rating\")"
      ]
    },
    {
      "cell_type": "markdown",
      "id": "028a5b5c-a741-46ab-8514-ffe6dbfb078f",
      "metadata": {
        "id": "028a5b5c-a741-46ab-8514-ffe6dbfb078f"
      },
      "source": [
        "Теперь посмотрим, как часто оценивается тот или иной фильм"
      ]
    },
    {
      "cell_type": "code",
      "execution_count": 22,
      "id": "4f8f2203-3fe8-47e6-b19b-44f4022a4b92",
      "metadata": {
        "colab": {
          "base_uri": "https://localhost:8080/",
          "height": 637
        },
        "id": "4f8f2203-3fe8-47e6-b19b-44f4022a4b92",
        "outputId": "13685908-b550-48ec-e5e2-05ca935c11cd"
      },
      "outputs": [
        {
          "output_type": "execute_result",
          "data": {
            "text/plain": [
              "<Axes: xlabel='count', ylabel='Count'>"
            ]
          },
          "metadata": {},
          "execution_count": 22
        },
        {
          "output_type": "display_data",
          "data": {
            "text/plain": [
              "<Figure size 1000x700 with 1 Axes>"
            ],
            "image/png": "[encoded data removed]"
          },
          "metadata": {}
        }
      ],
      "source": [
        "fig, ax = plt.subplots(figsize=(10, 7))\n",
        "\n",
        "count_marks_stat = ratings_df.groupby(\"MovieId\").count().toPandas()\n",
        "sns.histplot(count_marks_stat, x=\"count\", ax=ax)"
      ]
    },
    {
      "cell_type": "markdown",
      "id": "fbcf5874-f0ae-40c7-a50d-b0ad0f110060",
      "metadata": {
        "id": "fbcf5874-f0ae-40c7-a50d-b0ad0f110060"
      },
      "source": [
        "### `Обучение модели`"
      ]
    },
    {
      "cell_type": "markdown",
      "id": "ab01f4d5-85ce-4b5c-a807-d592df9635f4",
      "metadata": {
        "id": "ab01f4d5-85ce-4b5c-a807-d592df9635f4"
      },
      "source": [
        "Поделим датасет на данные для обучения и теста в пропорции 7 к 3"
      ]
    },
    {
      "cell_type": "code",
      "execution_count": 23,
      "id": "20b51aa1-0d29-4f57-acf3-1c703fec612b",
      "metadata": {
        "colab": {
          "base_uri": "https://localhost:8080/"
        },
        "id": "20b51aa1-0d29-4f57-acf3-1c703fec612b",
        "outputId": "f4f01493-c911-4caf-d5fa-bb740ce18e22"
      },
      "outputs": [
        {
          "output_type": "execute_result",
          "data": {
            "text/plain": [
              "(35038, 15175)"
            ]
          },
          "metadata": {},
          "execution_count": 23
        }
      ],
      "source": [
        "ratings_df = ratings_df.sample(fraction=0.5)\n",
        "train_ratings_df, test_ratings_df = ratings_df.randomSplit([0.7, 0.3], seed=123)\n",
        "train_ratings_df, test_ratings_df = train_ratings_df.cache(), test_ratings_df.cache()\n",
        "# Выведем сколько данных попало в обучение, а сколько на тест\n",
        "train_ratings_df.count(), test_ratings_df.count()"
      ]
    },
    {
      "cell_type": "markdown",
      "id": "82ca9167-d757-4b03-ab79-794a7a4aa484",
      "metadata": {
        "id": "82ca9167-d757-4b03-ab79-794a7a4aa484"
      },
      "source": [
        "Pyspark предоставляет уже готовый алгоритм ASL из пакета pysprk.recommendation. Поэтому создадим объект для данной модели и проинициализируем его гиперпараметры какими-нибудь значениями, которые потом доуточним на кросс-валидации"
      ]
    },
    {
      "cell_type": "markdown",
      "source": [
        "\n",
        "\n",
        "**Объяснение параметров ALS:**\n",
        "\n",
        "**`rank=10`**  \n",
        "Размерность скрытого признакового пространства (latent factors). Каждому пользователю и объекту будет соответствовать вектор длины 10. Их скалярное произведение используется для предсказания рейтинга. Чем выше значение, тем модель потенциально точнее, но возрастает риск переобучения и время обучения.\n",
        "\n",
        "**`maxIter=15`**  \n",
        "Количество итераций алгоритма ALS (Alternating Least Squares). Чем больше итераций, тем выше шанс достижения сходимости, но обучение занимает больше времени. Обычно достаточно 10–20 итераций.\n",
        "\n",
        "**`regParam=0.05`**  \n",
        "Параметр регуляризации (λ), который контролирует сложность модели. Добавляет штраф за слишком большие значения весов, чтобы избежать переобучения. Оптимизирует функцию ошибки с регуляризатором:  \n",
        "Loss = Σ(r_ui - ŷ_ui)² + λ(||User||² + ||Item||²)  \n",
        "Где r_ui — реальный рейтинг, ŷ_ui — предсказанный.\n",
        "\n",
        "**`coldStartStrategy='drop'`**  \n",
        "Стратегия обработки ситуаций, когда в тестовых данных встречаются новые пользователи или объекты, которых не было в обучающей выборке.  \n",
        "- `'drop'` — удаляет строки с неизвестными пользователями/объектами (где получился NaN в предсказании).  \n",
        "- `'nan'` — оставляет такие значения (по умолчанию).\n",
        "\n",
        "**`userCol='UserId'`**  \n",
        "Название столбца, содержащего идентификаторы пользователей. Тип данных должен быть числовым (например, IntegerType или LongType).\n",
        "\n",
        "**`itemCol='MovieId'`**  \n",
        "Название столбца с идентификаторами объектов (товаров, фильмов и т.д.). Также должен быть числовым.\n",
        "\n",
        "**`ratingCol='Rating'`**  \n",
        "Название столбца, содержащего оценки пользователей (рейтинги). Может быть явным (например, от 1 до 5) или неявным (например, факт просмотра/покупки как 1.0)."
      ],
      "metadata": {
        "id": "y7UaG7IG4M5R"
      },
      "id": "y7UaG7IG4M5R"
    },
    {
      "cell_type": "code",
      "execution_count": 24,
      "id": "8c4f6d90-ecb1-4a37-9d92-76c232feac09",
      "metadata": {
        "id": "8c4f6d90-ecb1-4a37-9d92-76c232feac09"
      },
      "outputs": [],
      "source": [
        "als = ALS(\n",
        "    rank=10, # размерность признакового пространства\n",
        "    maxIter=15, # количество итераций в алгоритме решения\n",
        "    regParam=0.05, # параметр регуляризации lambda: Err + lambda(||u|| + ||i||)\n",
        "    coldStartStrategy='drop', # Стратегия холодного старта, не делаем предскзаний\n",
        "                              # для тех пользователей, которых не было в обучении\n",
        "    userCol=\"UserId\", # название колонки с id пользователя\n",
        "    itemCol=\"MovieId\", # название колонки с id предмета\n",
        "    ratingCol=\"Rating\" # название колонки с оценкой\n",
        ")"
      ]
    },
    {
      "cell_type": "code",
      "execution_count": 25,
      "id": "d5d7c673-cf94-4e34-94df-5de717996cc7",
      "metadata": {
        "colab": {
          "base_uri": "https://localhost:8080/"
        },
        "id": "d5d7c673-cf94-4e34-94df-5de717996cc7",
        "outputId": "1c0ed434-04a3-4f9e-bc83-a36848f152eb"
      },
      "outputs": [
        {
          "output_type": "stream",
          "name": "stdout",
          "text": [
            "alpha: alpha for implicit preference (default: 1.0)\n",
            "blockSize: block size for stacking input data in matrices. Data is stacked within partitions. If block size is more than remaining data in a partition then it is adjusted to the size of this data. (default: 4096)\n",
            "checkpointInterval: set checkpoint interval (>= 1) or disable checkpoint (-1). E.g. 10 means that the cache will get checkpointed every 10 iterations. Note: this setting will be ignored if the checkpoint directory is not set in the SparkContext. (default: 10)\n",
            "coldStartStrategy: strategy for dealing with unknown or new users/items at prediction time. This may be useful in cross-validation or production scenarios, for handling user/item ids the model has not seen in the training data. Supported values: 'nan', 'drop'. (default: nan, current: drop)\n",
            "finalStorageLevel: StorageLevel for ALS model factors. (default: MEMORY_AND_DISK)\n",
            "implicitPrefs: whether to use implicit preference (default: False)\n",
            "intermediateStorageLevel: StorageLevel for intermediate datasets. Cannot be 'NONE'. (default: MEMORY_AND_DISK)\n",
            "itemCol: column name for item ids. Ids must be within the integer value range. (default: item, current: MovieId)\n",
            "maxIter: max number of iterations (>= 0). (default: 10, current: 15)\n",
            "nonnegative: whether to use nonnegative constraint for least squares (default: False)\n",
            "numItemBlocks: number of item blocks (default: 10)\n",
            "numUserBlocks: number of user blocks (default: 10)\n",
            "predictionCol: prediction column name. (default: prediction)\n",
            "rank: rank of the factorization (default: 10, current: 10)\n",
            "ratingCol: column name for ratings (default: rating, current: Rating)\n",
            "regParam: regularization parameter (>= 0). (default: 0.1, current: 0.05)\n",
            "seed: random seed. (default: -2265360964234484539)\n",
            "userCol: column name for user ids. Ids must be within the integer value range. (default: user, current: UserId)\n"
          ]
        }
      ],
      "source": [
        "print(als.explainParams())"
      ]
    },
    {
      "cell_type": "markdown",
      "id": "3fb07abd-5d12-4d55-a20a-f32bb15ea71e",
      "metadata": {
        "id": "3fb07abd-5d12-4d55-a20a-f32bb15ea71e"
      },
      "source": [
        "Обучим модель на обучающем множестве"
      ]
    },
    {
      "cell_type": "code",
      "execution_count": 26,
      "id": "ef1987d5-478c-4d6e-bda3-42209de830cf",
      "metadata": {
        "id": "ef1987d5-478c-4d6e-bda3-42209de830cf"
      },
      "outputs": [],
      "source": [
        "trained_model = als.fit(train_ratings_df)"
      ]
    },
    {
      "cell_type": "markdown",
      "id": "426d37a1-9ea1-4e4f-8a6b-1c77c730c290",
      "metadata": {
        "id": "426d37a1-9ea1-4e4f-8a6b-1c77c730c290"
      },
      "source": [
        "Теперь сделаем предсказания для всех фильмов и всех пользователей, которые попали в обучающее множество. При этом не забудем удалить те ячейки, у которых уже стоят изначально оценки, поскольку нас интересуют предсказания на непросмотренных пользователем фильмах."
      ]
    },
    {
      "cell_type": "code",
      "source": [
        "users = train_ratings_df.select(\"UserId\").distinct() # берём всех уникальных пользователей\n",
        "items = train_ratings_df.select(\"MovieId\").distinct() # берём всех уникальные фильмы\n",
        "print(f\"Количество уникальных пользователей: {users.count()}, количество уникальных фильмов: {items.count()}\")"
      ],
      "metadata": {
        "colab": {
          "base_uri": "https://localhost:8080/"
        },
        "id": "wpaAhR_FeyBN",
        "outputId": "8ff3e5d1-b6ab-4e58-c010-9bc02d677fa2"
      },
      "id": "wpaAhR_FeyBN",
      "execution_count": 27,
      "outputs": [
        {
          "output_type": "stream",
          "name": "stdout",
          "text": [
            "Количество уникальных пользователей: 943, количество уникальных фильмов: 1531\n"
          ]
        }
      ]
    },
    {
      "cell_type": "code",
      "source": [
        "users.show(5)\n",
        "items.show(5)"
      ],
      "metadata": {
        "colab": {
          "base_uri": "https://localhost:8080/"
        },
        "id": "ShLD-7MJfNjO",
        "outputId": "05aa7ea6-39f9-4ca0-9e7a-bf46c402b7ec"
      },
      "id": "ShLD-7MJfNjO",
      "execution_count": 28,
      "outputs": [
        {
          "output_type": "stream",
          "name": "stdout",
          "text": [
            "+------+\n",
            "|UserId|\n",
            "+------+\n",
            "|   148|\n",
            "|   463|\n",
            "|   471|\n",
            "|   496|\n",
            "|   833|\n",
            "+------+\n",
            "only showing top 5 rows\n",
            "\n",
            "+-------+\n",
            "|MovieId|\n",
            "+-------+\n",
            "|    148|\n",
            "|    471|\n",
            "|    463|\n",
            "|    496|\n",
            "|    833|\n",
            "+-------+\n",
            "only showing top 5 rows\n",
            "\n"
          ]
        }
      ]
    },
    {
      "cell_type": "code",
      "source": [
        "user_item = users.crossJoin(items) # производим декартово произведенеи колонок: пользователь - фильм\n",
        "user_item.show(5)\n",
        "dfs_pred = trained_model.transform(user_item) # делаем предсказания для сформированных пар\n",
        "dfs_pred.show(5)"
      ],
      "metadata": {
        "colab": {
          "base_uri": "https://localhost:8080/"
        },
        "id": "ba-ZyE-4fTDl",
        "outputId": "0e274019-6a95-4eb2-9c6f-e91bfbd83b3c"
      },
      "id": "ba-ZyE-4fTDl",
      "execution_count": 29,
      "outputs": [
        {
          "output_type": "stream",
          "name": "stdout",
          "text": [
            "+------+-------+\n",
            "|UserId|MovieId|\n",
            "+------+-------+\n",
            "|   148|    148|\n",
            "|   463|    148|\n",
            "|   471|    148|\n",
            "|   496|    148|\n",
            "|   833|    148|\n",
            "+------+-------+\n",
            "only showing top 5 rows\n",
            "\n",
            "+------+-------+----------+\n",
            "|UserId|MovieId|prediction|\n",
            "+------+-------+----------+\n",
            "|   148|    148| 2.0681546|\n",
            "|   463|    148| 1.8455638|\n",
            "|   471|    148|  4.914557|\n",
            "|   496|    148|  4.588044|\n",
            "|   833|    148|0.74414694|\n",
            "+------+-------+----------+\n",
            "only showing top 5 rows\n",
            "\n"
          ]
        }
      ]
    },
    {
      "cell_type": "code",
      "source": [
        "# сделаем объединение результатов предсказаний модели с данными для обучения\n",
        "dfs_pred_exclude_train = (\n",
        "    dfs_pred\n",
        "    .join(\n",
        "        train_ratings_df,\n",
        "        on=[\"UserId\", \"MovieId\"],\n",
        "        how='outer'\n",
        "    )\n",
        ")\n",
        "# Если в строке Rating стоит значение NULL, значит этой\n",
        "# строки не было в обучающем множестве\n",
        "dfs_pred_exclude_train.show()"
      ],
      "metadata": {
        "colab": {
          "base_uri": "https://localhost:8080/"
        },
        "id": "UXM-RRi_gH8B",
        "outputId": "b53c0840-d468-4a96-a7c6-19cdc737cd4c"
      },
      "id": "UXM-RRi_gH8B",
      "execution_count": 30,
      "outputs": [
        {
          "output_type": "stream",
          "name": "stdout",
          "text": [
            "+------+-------+----------+------+---------+\n",
            "|UserId|MovieId|prediction|Rating|Timestamp|\n",
            "+------+-------+----------+------+---------+\n",
            "|     1|      1| 3.3390243|  NULL|     NULL|\n",
            "|     1|      2| 2.5720541|  NULL|     NULL|\n",
            "|     1|      3|  3.028615|   4.0|878542960|\n",
            "|     1|      4|  2.622985|   3.0|876893119|\n",
            "|     1|      7| 5.0383077|  NULL|     NULL|\n",
            "|     1|      8| 4.6875663|  NULL|     NULL|\n",
            "|     1|      9| 4.5411344|   5.0|878543541|\n",
            "|     1|     11| 3.4933305|   2.0|875072262|\n",
            "|     1|     16|  3.454204|  NULL|     NULL|\n",
            "|     1|     19| 4.6520624|   5.0|875071515|\n",
            "|     1|     20| 4.0751944|   4.0|887431883|\n",
            "|     1|     22|  4.510491|  NULL|     NULL|\n",
            "|     1|     23| 4.1875362|  NULL|     NULL|\n",
            "|     1|     25| 2.8996472|  NULL|     NULL|\n",
            "|     1|     26| 3.6524322|  NULL|     NULL|\n",
            "|     1|     32| 4.8040595|  NULL|     NULL|\n",
            "|     1|     33| 3.5640166|  NULL|     NULL|\n",
            "|     1|     36| 1.4515961|  NULL|     NULL|\n",
            "|     1|     37| 2.1356587|   2.0|878543030|\n",
            "|     1|     39| 3.6179888|   4.0|875072173|\n",
            "+------+-------+----------+------+---------+\n",
            "only showing top 20 rows\n",
            "\n"
          ]
        }
      ]
    },
    {
      "cell_type": "code",
      "execution_count": 31,
      "id": "16068370-3da5-4546-8617-ea25d71903c5",
      "metadata": {
        "colab": {
          "base_uri": "https://localhost:8080/"
        },
        "id": "16068370-3da5-4546-8617-ea25d71903c5",
        "outputId": "7a49ce95-001a-452c-a53b-6e3599d89577"
      },
      "outputs": [
        {
          "output_type": "execute_result",
          "data": {
            "text/plain": [
              "1408695"
            ]
          },
          "metadata": {},
          "execution_count": 31
        }
      ],
      "source": [
        "# отберём толькоте строки, которые содержат новые предсказания\n",
        "top_all = dfs_pred_exclude_train.filter(dfs_pred_exclude_train.Rating.isNull()) \\\n",
        "    .select(\"UserId\", \"MovieId\", \"prediction\")\n",
        "\n",
        "# In Spark, transformations are lazy evaluation\n",
        "# Use an action to force execute and measure the test time\n",
        "top_all.count()"
      ]
    },
    {
      "cell_type": "code",
      "execution_count": 32,
      "id": "480cd638-d39d-4e5e-a4b0-666812fcde50",
      "metadata": {
        "colab": {
          "base_uri": "https://localhost:8080/"
        },
        "id": "480cd638-d39d-4e5e-a4b0-666812fcde50",
        "outputId": "424756eb-9ee3-4667-f970-be8a5d6da4f6"
      },
      "outputs": [
        {
          "output_type": "stream",
          "name": "stdout",
          "text": [
            "+------+-------+----------+\n",
            "|UserId|MovieId|prediction|\n",
            "+------+-------+----------+\n",
            "|     1|      1| 3.3390243|\n",
            "|     1|      2| 2.5720541|\n",
            "|     1|      7| 5.0383077|\n",
            "|     1|      8| 4.6875663|\n",
            "|     1|     16|  3.454204|\n",
            "|     1|     22|  4.510491|\n",
            "|     1|     23| 4.1875362|\n",
            "|     1|     25| 2.8996472|\n",
            "|     1|     26| 3.6524322|\n",
            "|     1|     32| 4.8040595|\n",
            "|     1|     33| 3.5640166|\n",
            "|     1|     36| 1.4515961|\n",
            "|     1|     43| 3.3585167|\n",
            "|     1|     46| 3.6969638|\n",
            "|     1|     51| 3.3262055|\n",
            "|     1|     54| 2.4535046|\n",
            "|     1|     55|  4.006472|\n",
            "|     1|     57|  4.065917|\n",
            "|     1|     62| 2.5491986|\n",
            "|     1|     63| 1.0240991|\n",
            "+------+-------+----------+\n",
            "only showing top 20 rows\n",
            "\n"
          ]
        }
      ],
      "source": [
        "top_all.show()"
      ]
    },
    {
      "cell_type": "markdown",
      "id": "16f50f90-488a-4481-b6c0-85a63a9e39b1",
      "metadata": {
        "id": "16f50f90-488a-4481-b6c0-85a63a9e39b1"
      },
      "source": [
        "### `Оценка качества работы по метрике RMSE`"
      ]
    },
    {
      "cell_type": "markdown",
      "id": "19718c07-1ffa-48a4-8e28-ddd7a6833180",
      "metadata": {
        "id": "19718c07-1ffa-48a4-8e28-ddd7a6833180"
      },
      "source": [
        "Так как в данной задаче есть точные оценки от пользователей, то в качестве метрики качества можно воспользоваться RMSE\n",
        "\n",
        "$$RMSE(y, y_{true})=\\sqrt{\\sum_{i=1}^{n}\\frac{(y_{i} - y_{i}^{true})^{2}}{n}}$$\n",
        "\n"
      ]
    },
    {
      "cell_type": "code",
      "execution_count": 33,
      "id": "4d22adfd-1808-418d-83c2-432ca79061ab",
      "metadata": {
        "colab": {
          "base_uri": "https://localhost:8080/"
        },
        "id": "4d22adfd-1808-418d-83c2-432ca79061ab",
        "outputId": "9f67e06d-975c-48c2-877e-591d68fb9eee"
      },
      "outputs": [
        {
          "output_type": "stream",
          "name": "stdout",
          "text": [
            "Root Mean Squared Error (RMSE): 1.0954650821364513\n"
          ]
        }
      ],
      "source": [
        "# прогоняем алгоритм на тестовом множестве\n",
        "predictions = trained_model.transform(test_ratings_df)\n",
        "\n",
        "# так как предсказания алгоритма могут\n",
        "# быть больше, чем допустимый диапозон значений [1, 5]\n",
        "# то произведём замену слишком больших и малых значений\n",
        "# на граничные\n",
        "\n",
        "predictions = predictions.withColumn(\n",
        "    \"prediction\",\n",
        "    F.when(\n",
        "        F.col(\"prediction\") < 1, 1\n",
        "    ).otherwise(\n",
        "        F.when(\n",
        "            F.col(\"prediction\") > 5, 5\n",
        "        ).otherwise(F.col(\"prediction\"))\n",
        "\n",
        "    )\n",
        ")\n",
        "\n",
        "evaluator = RegressionEvaluator(metricName='rmse', labelCol='Rating', predictionCol='prediction')\n",
        "rmse = evaluator.evaluate(predictions)\n",
        "print(f'Root Mean Squared Error (RMSE): {rmse}')"
      ]
    },
    {
      "cell_type": "markdown",
      "id": "d8870829-00f9-486e-aa11-44626450191b",
      "metadata": {
        "id": "d8870829-00f9-486e-aa11-44626450191b"
      },
      "source": [
        "### `Поиск оптимального значения гиперпараметров`"
      ]
    },
    {
      "cell_type": "code",
      "execution_count": 35,
      "id": "747aa1fe-102e-4303-8328-81154e233161",
      "metadata": {
        "colab": {
          "base_uri": "https://localhost:8080/"
        },
        "id": "747aa1fe-102e-4303-8328-81154e233161",
        "outputId": "411d9dc7-ac5b-4213-87a7-6f108fe4f728"
      },
      "outputs": [
        {
          "output_type": "execute_result",
          "data": {
            "text/plain": [
              "(4,\n",
              " {Param(parent='ALS_f5e3f83584d5', name='rank', doc='rank of the factorization'): 10,\n",
              "  Param(parent='ALS_f5e3f83584d5', name='maxIter', doc='max number of iterations (>= 0).'): 100,\n",
              "  Param(parent='ALS_f5e3f83584d5', name='regParam', doc='regularization parameter (>= 0).'): 0.15},\n",
              " {Param(parent='ALS_f5e3f83584d5', name='rank', doc='rank of the factorization'): 50,\n",
              "  Param(parent='ALS_f5e3f83584d5', name='maxIter', doc='max number of iterations (>= 0).'): 100,\n",
              "  Param(parent='ALS_f5e3f83584d5', name='regParam', doc='regularization parameter (>= 0).'): 0.05},\n",
              " {Param(parent='ALS_f5e3f83584d5', name='rank', doc='rank of the factorization'): 50,\n",
              "  Param(parent='ALS_f5e3f83584d5', name='maxIter', doc='max number of iterations (>= 0).'): 100,\n",
              "  Param(parent='ALS_f5e3f83584d5', name='regParam', doc='regularization parameter (>= 0).'): 0.15})"
            ]
          },
          "metadata": {},
          "execution_count": 35
        }
      ],
      "source": [
        "# задаём сетку параметров, в которой попробуем найти оптимальные\n",
        "# значения для размерности признаков d, количества итераций алгоритма\n",
        "# и параметра регуляризаци lambda\n",
        "param_grid = (\n",
        "    ParamGridBuilder()\n",
        "        .addGrid(als.rank, [10, 50]) # возможные значение d\n",
        "        .addGrid(als.maxIter, [100]) # возможные значения итерации\n",
        "        .addGrid(als.regParam, [0.05, 0.15]) # возможные значения параметра регуляризации\n",
        "        .build()\n",
        ")\n",
        "len(param_grid), param_grid[1], param_grid[2], param_grid[3]"
      ]
    },
    {
      "cell_type": "code",
      "execution_count": 36,
      "id": "9e7bf97e-4fbf-45c5-aa3c-5222e6f88079",
      "metadata": {
        "id": "9e7bf97e-4fbf-45c5-aa3c-5222e6f88079"
      },
      "outputs": [],
      "source": [
        "# запускаем обучение + валидацию по заданной выше сетке\n",
        "# исходное обучющее множество будет разбито на само обучение 0.8\n",
        "tvs = TrainValidationSplit(\n",
        "    estimator=als, # ml-алгоритм\n",
        "    estimatorParamMaps=param_grid, # сетка гиперпараметров\n",
        "    evaluator=evaluator, # алгоритм оценки\n",
        "    trainRatio=0.8, # доля данных используемых для обучения\n",
        "    seed=123 # генератор псевдослучайных чисел\n",
        ")\n",
        "tvs_model = tvs.fit(train_ratings_df)"
      ]
    },
    {
      "cell_type": "code",
      "execution_count": 37,
      "id": "fb87a97c-383f-4f3f-ae4d-60fca04a81f8",
      "metadata": {
        "colab": {
          "base_uri": "https://localhost:8080/"
        },
        "id": "fb87a97c-383f-4f3f-ae4d-60fca04a81f8",
        "outputId": "86348606-1e1a-4a46-c5f2-82aff9fe0ffa"
      },
      "outputs": [
        {
          "output_type": "execute_result",
          "data": {
            "text/plain": [
              "[{Param(parent='ALS_f5e3f83584d5', name='rank', doc='rank of the factorization'): 10,\n",
              "  Param(parent='ALS_f5e3f83584d5', name='maxIter', doc='max number of iterations (>= 0).'): 100,\n",
              "  Param(parent='ALS_f5e3f83584d5', name='regParam', doc='regularization parameter (>= 0).'): 0.05},\n",
              " {Param(parent='ALS_f5e3f83584d5', name='rank', doc='rank of the factorization'): 10,\n",
              "  Param(parent='ALS_f5e3f83584d5', name='maxIter', doc='max number of iterations (>= 0).'): 100,\n",
              "  Param(parent='ALS_f5e3f83584d5', name='regParam', doc='regularization parameter (>= 0).'): 0.15},\n",
              " {Param(parent='ALS_f5e3f83584d5', name='rank', doc='rank of the factorization'): 50,\n",
              "  Param(parent='ALS_f5e3f83584d5', name='maxIter', doc='max number of iterations (>= 0).'): 100,\n",
              "  Param(parent='ALS_f5e3f83584d5', name='regParam', doc='regularization parameter (>= 0).'): 0.05},\n",
              " {Param(parent='ALS_f5e3f83584d5', name='rank', doc='rank of the factorization'): 50,\n",
              "  Param(parent='ALS_f5e3f83584d5', name='maxIter', doc='max number of iterations (>= 0).'): 100,\n",
              "  Param(parent='ALS_f5e3f83584d5', name='regParam', doc='regularization parameter (>= 0).'): 0.15}]"
            ]
          },
          "metadata": {},
          "execution_count": 37
        }
      ],
      "source": [
        "tvs_model.getEstimatorParamMaps()"
      ]
    },
    {
      "cell_type": "markdown",
      "id": "27a6a269-adc4-4441-8e76-84603e7d2f96",
      "metadata": {
        "id": "27a6a269-adc4-4441-8e76-84603e7d2f96"
      },
      "source": [
        "Посмотрим, какие метрики по каждому набору параметров, будут на валидационном множестве"
      ]
    },
    {
      "cell_type": "code",
      "execution_count": 38,
      "id": "53c563bd-0086-414b-ad43-442b60d6ce58",
      "metadata": {
        "colab": {
          "base_uri": "https://localhost:8080/"
        },
        "id": "53c563bd-0086-414b-ad43-442b60d6ce58",
        "outputId": "37d4f617-343a-41ef-8045-93a42cdb56f0"
      },
      "outputs": [
        {
          "output_type": "execute_result",
          "data": {
            "text/plain": [
              "[1.1545290668221928, 1.0262837834838112, 1.047723041067667, 1.008302860735357]"
            ]
          },
          "metadata": {},
          "execution_count": 38
        }
      ],
      "source": [
        "tvs_model.validationMetrics"
      ]
    },
    {
      "cell_type": "code",
      "source": [
        "# прогоняем алгоритм на тестовом множестве\n",
        "predictions_tvs = tvs_model.transform(test_ratings_df)\n",
        "\n",
        "# так как предсказания алгоритма могут\n",
        "# быть больше, чем допустимый диапозон значений [1, 5]\n",
        "# то произведём замену слишком больших и малых значений\n",
        "# на граничные\n",
        "\n",
        "predictions_tvs = predictions_tvs.withColumn(\n",
        "    \"prediction\",\n",
        "    F.when(\n",
        "        F.col(\"prediction\") < 1, 1\n",
        "    ).otherwise(\n",
        "        F.when(\n",
        "            F.col(\"prediction\") > 5, 5\n",
        "        ).otherwise(F.col(\"prediction\"))\n",
        "\n",
        "    )\n",
        ")\n",
        "\n",
        "rmse_tvs = evaluator.evaluate(predictions_tvs)\n",
        "print(f'Root Mean Squared Error (RMSE) 1: {rmse}')\n",
        "print(f'Root Mean Squared Error (RMSE) 2: {rmse_tvs}')"
      ],
      "metadata": {
        "colab": {
          "base_uri": "https://localhost:8080/"
        },
        "id": "4q27YPdIkqmx",
        "outputId": "f0d8c078-1656-4743-8d1b-2d4fea111dfe"
      },
      "id": "4q27YPdIkqmx",
      "execution_count": 40,
      "outputs": [
        {
          "output_type": "stream",
          "name": "stdout",
          "text": [
            "Root Mean Squared Error (RMSE) 1: 1.0954650821364513\n",
            "Root Mean Squared Error (RMSE) 2: 0.9824069893591453\n"
          ]
        }
      ]
    },
    {
      "cell_type": "code",
      "execution_count": null,
      "id": "6b2da3ae-919d-419a-a61e-604647ab7ecf",
      "metadata": {
        "id": "6b2da3ae-919d-419a-a61e-604647ab7ecf"
      },
      "outputs": [],
      "source": []
    }
  ],
  "metadata": {
    "kernelspec": {
      "display_name": "Python 3 (ipykernel)",
      "language": "python",
      "name": "python3"
    },
    "language_info": {
      "codemirror_mode": {
        "name": "ipython",
        "version": 3
      },
      "file_extension": ".py",
      "mimetype": "text/x-python",
      "name": "python",
      "nbconvert_exporter": "python",
      "pygments_lexer": "ipython3",
      "version": "3.10.12"
    },
    "colab": {
      "provenance": []
    }
  },
  "nbformat": 4,
  "nbformat_minor": 5
}