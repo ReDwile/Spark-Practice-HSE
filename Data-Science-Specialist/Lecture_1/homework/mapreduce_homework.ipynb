{
  "cells": [
    {
      "cell_type": "markdown",
      "metadata": {
        "id": "8b1g45EhB9pn"
      },
      "source": [
        "# Шаги mapreduce для запросов в Google\n",
        "**Домашнее задание**.\n",
        "\n",
        "**Дано**: датасет google_queries.csv. В нем находятся 3 значения, разделенных запятыми:\n",
        "\n",
        "1.   Пользовательский запрос\n",
        "2.   Количество запросов за день\n",
        "3.   День, когда запросы посылались\n",
        "\n",
        "(Учтите, что в файле первая строка – название колонок! Ее не нужно учитывать при чтении файла!)\n",
        "\n",
        "\n",
        "**Задачи**:\n",
        "\n",
        "1.   Посчитать количество уникальных запросов в файле. Ожидается вывод в виде: \"запрос, количество его упоминаний в файле\" (например, \"погода 28\").\n",
        "2.   Для каждого запроса посчитать его сумму. Ожидается вывод в виде: \"запрос, сумма его запрашиваний в google\" (например, \"погода, 392\").\n",
        "3.   Для каждого дня посчитать сумму запросов. Ожидается вывод в виде: \"дата, сумма запросов в эту дату\" (например, \"2025-02-19, 231\")"
      ]
    },
    {
      "cell_type": "code",
      "source": [
        "# Выведем первые 10 строк файла в output\n",
        "!head google_queries.csv"
      ],
      "metadata": {
        "id": "UdUObZLhfUV6"
      },
      "execution_count": null,
      "outputs": []
    },
    {
      "cell_type": "code",
      "source": [],
      "metadata": {
        "id": "Qt02D47faxHN"
      },
      "execution_count": null,
      "outputs": []
    },
    {
      "cell_type": "markdown",
      "metadata": {
        "id": "RFLa6RuLB9po"
      },
      "source": [
        "## Задача 1\n",
        "Посчитать количество уникальных запросов в файле."
      ]
    },
    {
      "cell_type": "code",
      "source": [
        "# Распарсим файл и выведем 6 значений в output\n",
        "\n",
        "with open('google_queries.csv') as f:\n",
        "    for i, line in enumerate(f): # enumerate() – возвращает номер строки и ее значение\n",
        "        if i == 0: # Первая строка – название столбцов, их не будем выводить и учитывать\n",
        "          continue # continue – просто пропускает проход цикла\n",
        "\n",
        "        request, number_of_views, date = line.strip().split(',') # Запрос, их количество и день запроса\n",
        "        print(request, number_of_views, date)\n",
        "\n",
        "        if i > 5: # Выводим только первые 6 значений\n",
        "            break"
      ],
      "metadata": {
        "id": "ce3adz2pgai5"
      },
      "execution_count": null,
      "outputs": []
    },
    {
      "cell_type": "code",
      "source": [
        "# Запишем mapper-файл 1_after_mapper.csv\n",
        "\n",
        "with open('1_after_mapper.csv', 'w') as f_mapper:\n",
        "    with open('google_queries.csv') as f:\n",
        "        for i, line in enumerate(f):\n",
        "            # НАПИШИ КОД ЗДЕСЬ"
      ],
      "metadata": {
        "id": "VJ8kpfLyMPMo"
      },
      "execution_count": 26,
      "outputs": []
    },
    {
      "cell_type": "code",
      "source": [],
      "metadata": {
        "id": "teMvwsVqbILj"
      },
      "execution_count": null,
      "outputs": []
    },
    {
      "cell_type": "code",
      "source": [
        "# Отсортируем файл для корректной работы reduce-функции. (Можно расценивать как Shuffle-шаг)\n",
        "!cat 1_after_mapper.csv | sort > 1_google_queries_sorted.csv"
      ],
      "metadata": {
        "id": "8IxLqJIiMmFE"
      },
      "execution_count": 27,
      "outputs": []
    },
    {
      "cell_type": "code",
      "source": [
        "# Выведем первые 10 значений отсортированного файла\n",
        "!head 1_google_queries_sorted.csv"
      ],
      "metadata": {
        "id": "bvBI3ug4fjTu"
      },
      "execution_count": null,
      "outputs": []
    },
    {
      "cell_type": "code",
      "source": [
        "# Распарсим файл и выведем первые 7 значений отсортированного файла в output\n",
        "\n",
        "with open('1_google_queries_sorted.csv') as f:\n",
        "    for i, line in enumerate(f):\n",
        "        request, one = line.strip().split(',')\n",
        "        print(request, one)\n",
        "\n",
        "        if i > 5:\n",
        "            break"
      ],
      "metadata": {
        "id": "D4mSEXANfmwY"
      },
      "execution_count": null,
      "outputs": []
    },
    {
      "cell_type": "code",
      "source": [],
      "metadata": {
        "id": "wG4wtgyggD6K"
      },
      "execution_count": null,
      "outputs": []
    },
    {
      "cell_type": "code",
      "source": [
        "# Reduce–шаг\n",
        "# Посчитаем количество запросов в файле и выведем в output\n",
        "\n",
        "previous_request = None # Прошлый запрос\n",
        "request_count = 0 # Количество запросов в момент счета\n",
        "\n",
        "with open('1_google_queries_sorted.csv') as f:\n",
        "    for i, line in enumerate(f):\n",
        "        # НАПИШИ КОД ЗДЕСЬ"
      ],
      "metadata": {
        "id": "gDJaZUYobWbX"
      },
      "execution_count": null,
      "outputs": []
    },
    {
      "cell_type": "code",
      "source": [],
      "metadata": {
        "id": "wIE6A7P6bzcn"
      },
      "execution_count": null,
      "outputs": []
    },
    {
      "cell_type": "code",
      "source": [],
      "metadata": {
        "id": "hfbP17MKbzaP"
      },
      "execution_count": null,
      "outputs": []
    },
    {
      "cell_type": "code",
      "source": [],
      "metadata": {
        "id": "BipjFxghcBnn"
      },
      "execution_count": null,
      "outputs": []
    },
    {
      "cell_type": "markdown",
      "metadata": {
        "id": "FBQCmHQ5cGcw"
      },
      "source": [
        "## Задача 2\n",
        "Для каждого запроса посчитать его сумму."
      ]
    },
    {
      "cell_type": "code",
      "source": [
        "# Распарсим файл и выведем 6 значений в output\n",
        "\n",
        "with open('google_queries.csv') as f:\n",
        "    for i, line in enumerate(f): # enumerate() – возвращает номер строки и ее значение\n",
        "        if i == 0: # Первая строка – название столбцов, их не будем выводить и учитывать\n",
        "          continue # continue – просто пропускает проход цикла\n",
        "\n",
        "        request, number_of_views, date = line.strip().split(',') # Запрос, их количество и день запроса\n",
        "        print(request, number_of_views, date)\n",
        "\n",
        "        if i > 5: # Выводим только первые 6 значений\n",
        "            break"
      ],
      "metadata": {
        "id": "Pq1nxwi6gBH0"
      },
      "execution_count": null,
      "outputs": []
    },
    {
      "cell_type": "code",
      "source": [
        "# Запишем mapper-файл 2_after_mapper.csv\n",
        "\n",
        "with open('2_after_mapper.csv', 'w') as f_mapper:\n",
        "    with open('google_queries.csv') as f:\n",
        "        for i, line in enumerate(f):\n",
        "            # НАПИШИ КОД ЗДЕСЬ"
      ],
      "metadata": {
        "id": "RytvGFrScGcx"
      },
      "execution_count": 32,
      "outputs": []
    },
    {
      "cell_type": "code",
      "source": [],
      "metadata": {
        "id": "r_yJR31-cGcy"
      },
      "execution_count": null,
      "outputs": []
    },
    {
      "cell_type": "code",
      "source": [
        "# Отсортируем файл для корректной работы reduce-функции. (Можно расценивать как Shuffle-шаг)\n",
        "# НАПИШИ КОД ЗДЕСЬ"
      ],
      "metadata": {
        "id": "gaqKhHlocGcy"
      },
      "execution_count": 33,
      "outputs": []
    },
    {
      "cell_type": "code",
      "source": [
        "# Выведем первые 10 значений отсортированного файла\n",
        "!head 2_google_queries_sorted.csv"
      ],
      "metadata": {
        "id": "oIakot84ghdd"
      },
      "execution_count": null,
      "outputs": []
    },
    {
      "cell_type": "code",
      "source": [
        "# Распарсим файл и выведем первые 7 значений отсортированного файла в output\n",
        "\n",
        "with open('2_google_queries_sorted.csv') as f:\n",
        "    for i, line in enumerate(f):\n",
        "        request, number_of_views = line.strip().split(',')\n",
        "        print(request, number_of_views)\n",
        "\n",
        "        if i > 5:\n",
        "            break"
      ],
      "metadata": {
        "id": "H8SGAw3FgjBs"
      },
      "execution_count": null,
      "outputs": []
    },
    {
      "cell_type": "code",
      "source": [],
      "metadata": {
        "id": "8XyAniGvcGcz"
      },
      "execution_count": null,
      "outputs": []
    },
    {
      "cell_type": "code",
      "source": [
        "# Reduce–шаг\n",
        "# Для каждого запроса посчитаем его сумму и выведем в output\n",
        "\n",
        "previous_request = None # Прошлый запрос\n",
        "request_count = 0 # Количество запросов в момент счета\n",
        "\n",
        "with open('2_google_queries_sorted.csv') as f:\n",
        "    for i, line in enumerate(f):\n",
        "        # НАПИШИ КОД ЗДЕСЬ"
      ],
      "metadata": {
        "id": "PuRtgWtVglT1"
      },
      "execution_count": null,
      "outputs": []
    },
    {
      "cell_type": "code",
      "source": [],
      "metadata": {
        "id": "pxlFPy_CcGcz"
      },
      "execution_count": null,
      "outputs": []
    },
    {
      "cell_type": "code",
      "source": [],
      "metadata": {
        "id": "7OMtM3gpcGcz"
      },
      "execution_count": null,
      "outputs": []
    },
    {
      "cell_type": "code",
      "source": [],
      "metadata": {
        "id": "Qt1KlFckcGcz"
      },
      "execution_count": null,
      "outputs": []
    },
    {
      "cell_type": "markdown",
      "metadata": {
        "id": "DtEDYbgadN47"
      },
      "source": [
        "## Задача 3\n",
        "Для каждого дня посчитать сумму запросов."
      ]
    },
    {
      "cell_type": "code",
      "source": [
        "# Распарсим файл и выведем 6 значений в output\n",
        "\n",
        "with open('google_queries.csv') as f:\n",
        "    for i, line in enumerate(f): # enumerate() – возвращает номер строки и ее значение\n",
        "        if i == 0: # Первая строка – название столбцов, их не будем выводить и учитывать\n",
        "          continue # continue – просто пропускает проход цикла\n",
        "\n",
        "        request, number_of_views, date = line.strip().split(',') # Запрос, их количество и день запроса\n",
        "        print(request, number_of_views, date)\n",
        "\n",
        "        if i > 5: # Выводим только первые 6 значений\n",
        "            break"
      ],
      "metadata": {
        "id": "bAvSaAXAgmw3"
      },
      "execution_count": null,
      "outputs": []
    },
    {
      "cell_type": "code",
      "source": [
        "# Запишем mapper-файл 3_after_mapper.csv\n",
        "\n",
        "with open('3_after_mapper.csv', 'w') as f_mapper:\n",
        "    with open('google_queries.csv') as f:\n",
        "        for i, line in enumerate(f):\n",
        "            # НАПИШИ КОД ЗДЕСЬ"
      ],
      "metadata": {
        "id": "bKmT9vybdN48"
      },
      "execution_count": 38,
      "outputs": []
    },
    {
      "cell_type": "code",
      "source": [],
      "metadata": {
        "id": "ASZxBfWpdN49"
      },
      "execution_count": null,
      "outputs": []
    },
    {
      "cell_type": "code",
      "source": [
        "# Отсортируем файл для корректной работы reduce-функции. (Можно расценивать как Shuffle-шаг)\n",
        "# НАПИШИ КОД ЗДЕСЬ"
      ],
      "metadata": {
        "id": "a4PRpHPBdN49"
      },
      "execution_count": 39,
      "outputs": []
    },
    {
      "cell_type": "code",
      "source": [
        "# Выведем первые 10 значений отсортированного файла\n",
        "!head 3_google_queries_sorted.csv"
      ],
      "metadata": {
        "id": "fDcoThhjgp6f"
      },
      "execution_count": null,
      "outputs": []
    },
    {
      "cell_type": "code",
      "source": [
        "# Распарсим файл и выведем первые 7 значений отсортированного файла в output\n",
        "\n",
        "with open('3_google_queries_sorted.csv') as f:\n",
        "    for i, line in enumerate(f):\n",
        "        request, number_of_views = line.strip().split(',')\n",
        "        print(request, number_of_views)\n",
        "\n",
        "        if i > 5:\n",
        "            break"
      ],
      "metadata": {
        "id": "xOGPajaJgrXN"
      },
      "execution_count": null,
      "outputs": []
    },
    {
      "cell_type": "code",
      "source": [],
      "metadata": {
        "id": "gFyLSsludN49"
      },
      "execution_count": null,
      "outputs": []
    },
    {
      "cell_type": "code",
      "source": [
        "# Reduce–шаг\n",
        "# Для каждого дня посчитаем сумму запросов и выведем в output\n",
        "\n",
        "previous_day = None # Прошлый день\n",
        "request_count = 0 # Количество запросов в момент счета\n",
        "\n",
        "with open('3_google_queries_sorted.csv') as f:\n",
        "    for i, line in enumerate(f):\n",
        "        # НАПИШИ КОД ЗДЕСЬ"
      ],
      "metadata": {
        "id": "hoT5JIUcgtD3"
      },
      "execution_count": null,
      "outputs": []
    },
    {
      "cell_type": "code",
      "source": [],
      "metadata": {
        "id": "PaKilbnHdN49"
      },
      "execution_count": null,
      "outputs": []
    }
  ],
  "metadata": {
    "kernelspec": {
      "display_name": "Python 3",
      "language": "python",
      "name": "python3"
    },
    "language_info": {
      "codemirror_mode": {
        "name": "ipython",
        "version": 3
      },
      "file_extension": ".py",
      "mimetype": "text/x-python",
      "name": "python",
      "nbconvert_exporter": "python",
      "pygments_lexer": "ipython3",
      "version": "3.7.0"
    },
    "colab": {
      "provenance": []
    }
  },
  "nbformat": 4,
  "nbformat_minor": 0
}