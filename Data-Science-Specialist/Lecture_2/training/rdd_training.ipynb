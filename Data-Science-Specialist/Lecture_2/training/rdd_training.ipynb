{
  "nbformat": 4,
  "nbformat_minor": 0,
  "metadata": {
    "colab": {
      "provenance": []
    },
    "kernelspec": {
      "name": "python3",
      "display_name": "Python 3"
    },
    "language_info": {
      "name": "python"
    }
  },
  "cells": [
    {
      "cell_type": "code",
      "source": [
        "!ls -la"
      ],
      "metadata": {
        "colab": {
          "base_uri": "https://localhost:8080/"
        },
        "id": "GueTY-kf5GPY",
        "outputId": "94fbcd17-5566-46d9-e2ff-d6526b3dcd6a"
      },
      "execution_count": 5,
      "outputs": [
        {
          "output_type": "stream",
          "name": "stdout",
          "text": [
            "total 24\n",
            "drwxr-xr-x 1 root root 4096 Feb 24 16:56 .\n",
            "drwxr-xr-x 1 root root 4096 Feb 24 16:56 ..\n",
            "drwxr-xr-x 4 root root 4096 Feb 20 14:24 .config\n",
            "-rw-r--r-- 1 root root 6757 Feb 24 16:56 google_queries.csv\n",
            "drwxr-xr-x 1 root root 4096 Feb 20 14:24 sample_data\n"
          ]
        }
      ]
    },
    {
      "cell_type": "code",
      "source": [
        "!cat .config"
      ],
      "metadata": {
        "colab": {
          "base_uri": "https://localhost:8080/"
        },
        "id": "Mu91lUjf5VAZ",
        "outputId": "bc48e148-8921-4401-8bed-ebe422beeeea"
      },
      "execution_count": 3,
      "outputs": [
        {
          "output_type": "stream",
          "name": "stdout",
          "text": [
            "cat: .config: Is a directory\n"
          ]
        }
      ]
    },
    {
      "cell_type": "code",
      "source": [
        "!head google_queries.csv"
      ],
      "metadata": {
        "colab": {
          "base_uri": "https://localhost:8080/"
        },
        "id": "6uGtmD5w5COA",
        "outputId": "95770e3b-9b46-44fa-b1cf-0b7c9e514750"
      },
      "execution_count": 1,
      "outputs": [
        {
          "output_type": "stream",
          "name": "stdout",
          "text": [
            "request,number_of_views,date\r\n",
            "карта,3,2025-02-11\r\n",
            "погода,5,2025-02-13\r\n",
            "котики,5,2025-02-11\r\n",
            "игры,2,2025-02-14\r\n",
            "погода,1,2025-02-17\r\n",
            "ютуб,1,2025-02-13\r\n",
            "погода,1,2025-02-18\r\n",
            "вк,1,2025-02-15\r\n",
            "авито,5,2025-02-11\r\n"
          ]
        }
      ]
    },
    {
      "cell_type": "markdown",
      "source": [
        "# Spark RDD\n",
        "В **Apache Spark** существует интерфейс - RDD API. В нём производится работа с RDD напрямую."
      ],
      "metadata": {
        "id": "Fj6htWL-UJip"
      }
    },
    {
      "cell_type": "markdown",
      "source": [
        "<b>RDD </b>(resilent distrubuted dataset) - это фундаментальная структура данных Spark, которая представляет собой неизменяемый набор данных, который вычисляются и располагается на разных узлах кластера."
      ],
      "metadata": {
        "id": "_SLt2QtaUcE7"
      }
    },
    {
      "cell_type": "markdown",
      "source": [
        "* [Guide](https://spark.apache.org/docs/latest/rdd-programming-guide.html)\n",
        "* [Документация](https://spark.apache.org/docs/latest/api/python/reference/api/pyspark.RDD.html)"
      ],
      "metadata": {
        "id": "YtlOMhXCUv67"
      }
    },
    {
      "cell_type": "code",
      "source": [
        "a = 1\n",
        "b = 2"
      ],
      "metadata": {
        "id": "xfsr6h9c6Gtv"
      },
      "execution_count": 7,
      "outputs": []
    },
    {
      "cell_type": "code",
      "source": [
        "print(a+b)"
      ],
      "metadata": {
        "colab": {
          "base_uri": "https://localhost:8080/"
        },
        "id": "Vw-UH8Xw6LqU",
        "outputId": "10d56192-7bef-4a86-abd3-16b4161570ad"
      },
      "execution_count": 8,
      "outputs": [
        {
          "output_type": "stream",
          "name": "stdout",
          "text": [
            "3\n"
          ]
        }
      ]
    },
    {
      "cell_type": "code",
      "execution_count": 6,
      "metadata": {
        "colab": {
          "base_uri": "https://localhost:8080/"
        },
        "id": "mgqAPHSuJ1Eg",
        "outputId": "a3395b89-e8d3-458c-8516-e8e230745d32"
      },
      "outputs": [
        {
          "output_type": "stream",
          "name": "stdout",
          "text": [
            "Requirement already satisfied: pyspark in /usr/local/lib/python3.11/dist-packages (3.5.4)\n",
            "Requirement already satisfied: py4j==0.10.9.7 in /usr/local/lib/python3.11/dist-packages (from pyspark) (0.10.9.7)\n"
          ]
        }
      ],
      "source": [
        "!pip3 install pyspark"
      ]
    },
    {
      "cell_type": "code",
      "source": [
        "# Вариант 1. Создаем spark-сессию, явно указывая ее параметры\n",
        "from pyspark.sql import SparkSession\n",
        "\n",
        "from pyspark import SparkConf, SparkContext\n",
        "\n",
        "\"\"\"\n",
        "conf = (\n",
        "    SparkConf()\n",
        "        .set('spark.ui.port', '4050')\n",
        "        .setMaster('local[*]')\n",
        ")\n",
        "sc = SparkContext(conf=conf)\n",
        "spark = SparkSession(sc)\n",
        "\"\"\""
      ],
      "metadata": {
        "colab": {
          "base_uri": "https://localhost:8080/",
          "height": 222
        },
        "id": "O0QnpaPvU5Zg",
        "outputId": "830b7843-3fa8-438a-e4de-268079d6ef57"
      },
      "execution_count": 18,
      "outputs": [
        {
          "output_type": "error",
          "ename": "ValueError",
          "evalue": "Cannot run multiple SparkContexts at once; existing SparkContext(app=RDD_Example, master=local[*]) created by getOrCreate at <ipython-input-16-a9ab3538d9d1>:5 ",
          "traceback": [
            "\u001b[0;31m---------------------------------------------------------------------------\u001b[0m",
            "\u001b[0;31mValueError\u001b[0m                                Traceback (most recent call last)",
            "\u001b[0;32m<ipython-input-18-d4cd8b63b679>\u001b[0m in \u001b[0;36m<cell line: 0>\u001b[0;34m()\u001b[0m\n\u001b[1;32m     10\u001b[0m         \u001b[0;34m.\u001b[0m\u001b[0msetMaster\u001b[0m\u001b[0;34m(\u001b[0m\u001b[0;34m'local[*]'\u001b[0m\u001b[0;34m)\u001b[0m\u001b[0;34m\u001b[0m\u001b[0;34m\u001b[0m\u001b[0m\n\u001b[1;32m     11\u001b[0m )\n\u001b[0;32m---> 12\u001b[0;31m \u001b[0msc\u001b[0m \u001b[0;34m=\u001b[0m \u001b[0mSparkContext\u001b[0m\u001b[0;34m(\u001b[0m\u001b[0mconf\u001b[0m\u001b[0;34m=\u001b[0m\u001b[0mconf\u001b[0m\u001b[0;34m)\u001b[0m\u001b[0;34m\u001b[0m\u001b[0;34m\u001b[0m\u001b[0m\n\u001b[0m\u001b[1;32m     13\u001b[0m \u001b[0mspark\u001b[0m \u001b[0;34m=\u001b[0m \u001b[0mSparkSession\u001b[0m\u001b[0;34m(\u001b[0m\u001b[0msc\u001b[0m\u001b[0;34m)\u001b[0m\u001b[0;34m\u001b[0m\u001b[0;34m\u001b[0m\u001b[0m\n",
            "\u001b[0;32m/usr/local/lib/python3.11/dist-packages/pyspark/context.py\u001b[0m in \u001b[0;36m__init__\u001b[0;34m(self, master, appName, sparkHome, pyFiles, environment, batchSize, serializer, conf, gateway, jsc, profiler_cls, udf_profiler_cls, memory_profiler_cls)\u001b[0m\n\u001b[1;32m    199\u001b[0m             )\n\u001b[1;32m    200\u001b[0m \u001b[0;34m\u001b[0m\u001b[0m\n\u001b[0;32m--> 201\u001b[0;31m         \u001b[0mSparkContext\u001b[0m\u001b[0;34m.\u001b[0m\u001b[0m_ensure_initialized\u001b[0m\u001b[0;34m(\u001b[0m\u001b[0mself\u001b[0m\u001b[0;34m,\u001b[0m \u001b[0mgateway\u001b[0m\u001b[0;34m=\u001b[0m\u001b[0mgateway\u001b[0m\u001b[0;34m,\u001b[0m \u001b[0mconf\u001b[0m\u001b[0;34m=\u001b[0m\u001b[0mconf\u001b[0m\u001b[0;34m)\u001b[0m\u001b[0;34m\u001b[0m\u001b[0;34m\u001b[0m\u001b[0m\n\u001b[0m\u001b[1;32m    202\u001b[0m         \u001b[0;32mtry\u001b[0m\u001b[0;34m:\u001b[0m\u001b[0;34m\u001b[0m\u001b[0;34m\u001b[0m\u001b[0m\n\u001b[1;32m    203\u001b[0m             self._do_init(\n",
            "\u001b[0;32m/usr/local/lib/python3.11/dist-packages/pyspark/context.py\u001b[0m in \u001b[0;36m_ensure_initialized\u001b[0;34m(cls, instance, gateway, conf)\u001b[0m\n\u001b[1;32m    447\u001b[0m \u001b[0;34m\u001b[0m\u001b[0m\n\u001b[1;32m    448\u001b[0m                     \u001b[0;31m# Raise error if there is already a running Spark context\u001b[0m\u001b[0;34m\u001b[0m\u001b[0;34m\u001b[0m\u001b[0m\n\u001b[0;32m--> 449\u001b[0;31m                     raise ValueError(\n\u001b[0m\u001b[1;32m    450\u001b[0m                         \u001b[0;34m\"Cannot run multiple SparkContexts at once; \"\u001b[0m\u001b[0;34m\u001b[0m\u001b[0;34m\u001b[0m\u001b[0m\n\u001b[1;32m    451\u001b[0m                         \u001b[0;34m\"existing SparkContext(app=%s, master=%s)\"\u001b[0m\u001b[0;34m\u001b[0m\u001b[0;34m\u001b[0m\u001b[0m\n",
            "\u001b[0;31mValueError\u001b[0m: Cannot run multiple SparkContexts at once; existing SparkContext(app=RDD_Example, master=local[*]) created by getOrCreate at <ipython-input-16-a9ab3538d9d1>:5 "
          ]
        }
      ]
    },
    {
      "cell_type": "code",
      "source": [
        "# Вариант 2. Создаем дефолтную spark-сессию\n",
        "from pyspark.sql import SparkSession\n",
        "\n",
        "# Создае SparkSession\n",
        "sc = SparkContext(conf=conf)\n",
        "spark = SparkSession.builder.appName(\"RDD_Example\").getOrCreate()"
      ],
      "metadata": {
        "id": "V5WREx3mYWti"
      },
      "execution_count": 19,
      "outputs": []
    },
    {
      "cell_type": "markdown",
      "source": [
        "Для того, чтобы создать RDD необходимо к некоторой коллекции объектов применимеить операциюю parallelize. В результате работы spark разобъёт данные на куски (партиции) и отправит её части на разные worker ноды."
      ],
      "metadata": {
        "id": "QLSVxG1IVHlK"
      }
    },
    {
      "cell_type": "code",
      "source": [
        "# Создаем RDD из списка\n",
        "data = [(\"Иван\", 30), (\"Мария\", 25), (\"Алексей\", 35), (\"Елена\", 40)]\n",
        "rdd = spark.sparkContext.parallelize(data)"
      ],
      "metadata": {
        "id": "4I_IGi0WUI3B"
      },
      "execution_count": 23,
      "outputs": []
    },
    {
      "cell_type": "code",
      "source": [
        "rdd"
      ],
      "metadata": {
        "colab": {
          "base_uri": "https://localhost:8080/"
        },
        "id": "5PZ5ceJS75_1",
        "outputId": "84f0b830-63cd-47cf-8ca1-f52e9b4e393a"
      },
      "execution_count": 24,
      "outputs": [
        {
          "output_type": "execute_result",
          "data": {
            "text/plain": [
              "ParallelCollectionRDD[0] at readRDDFromFile at PythonRDD.scala:289"
            ]
          },
          "metadata": {},
          "execution_count": 24
        }
      ]
    },
    {
      "cell_type": "code",
      "source": [
        "# Выведем данные RDD\n",
        "print(rdd.collect())  # [('Иван', 30), ('Мария', 25), ('Алексей', 35), ('Елена', 40)]"
      ],
      "metadata": {
        "colab": {
          "base_uri": "https://localhost:8080/"
        },
        "id": "1t2buiqf73vS",
        "outputId": "3b2ade58-bf8d-4a18-9146-cd91f93f5b4b"
      },
      "execution_count": 25,
      "outputs": [
        {
          "output_type": "stream",
          "name": "stdout",
          "text": [
            "[('Иван', 30), ('Мария', 25), ('Алексей', 35), ('Елена', 40)]\n"
          ]
        }
      ]
    },
    {
      "cell_type": "markdown",
      "source": [
        "Посмотрим на количество партиций."
      ],
      "metadata": {
        "id": "OZJnf0roVKHw"
      }
    },
    {
      "cell_type": "code",
      "source": [
        "rdd.getNumPartitions()"
      ],
      "metadata": {
        "colab": {
          "base_uri": "https://localhost:8080/"
        },
        "id": "ciRYjqFKUI5V",
        "outputId": "a7eb1cff-4e32-43a6-adfc-15c41b9b15a9"
      },
      "execution_count": 26,
      "outputs": [
        {
          "output_type": "execute_result",
          "data": {
            "text/plain": [
              "2"
            ]
          },
          "metadata": {},
          "execution_count": 26
        }
      ]
    },
    {
      "cell_type": "markdown",
      "source": [
        "Spark выбирает количество партиций для каждого RDD в зависимости от конфигруции кластера - по количеству доступных вычислительных ресурсов CPU. Но можно менять количество партиций, как в большую так и в меньшую сторону. Для того чтобы поменять количество партиций в существует два метода:\n",
        "\n",
        "*   repartition - позволяет как увеличивать, так и уменьшать количество партиций, но производит полную перетасовку (shuffle) данных между узлами\n",
        "*   coelesce - метод, с помощью которого можно только уменьшать размер партций. Не требует полной перетасовки данных между исполнителями, поэтому более эффективен.\n",
        "\n"
      ],
      "metadata": {
        "id": "TTuwZDB5VMmO"
      }
    },
    {
      "cell_type": "code",
      "source": [
        "repartitioned = rdd.repartition(5)\n",
        "print(f\"Num partitions after repartition: {repartitioned.getNumPartitions()}\")\n",
        "\n",
        "coelesced = repartitioned.coalesce(2)\n",
        "print(f\"Num partitions after coelesce: {coelesced.getNumPartitions()}\")"
      ],
      "metadata": {
        "colab": {
          "base_uri": "https://localhost:8080/"
        },
        "id": "V87Q2k2QUI7p",
        "outputId": "41de940a-5c2b-4895-fa23-09ba189e8325"
      },
      "execution_count": 27,
      "outputs": [
        {
          "output_type": "stream",
          "name": "stdout",
          "text": [
            "Num partitions after repartition: 5\n",
            "Num partitions after coelesce: 2\n"
          ]
        }
      ]
    },
    {
      "cell_type": "markdown",
      "source": [
        "Обратной операцией к операции parallelize является метод collect, который наоборот создаёт коллекцию из данных, хранящихся на различных worker нодах."
      ],
      "metadata": {
        "id": "rvncFLueVY5u"
      }
    },
    {
      "cell_type": "code",
      "source": [
        "rdd.collect()"
      ],
      "metadata": {
        "colab": {
          "base_uri": "https://localhost:8080/"
        },
        "id": "JUsqonsPMcAp",
        "outputId": "f117860d-068a-4569-b1ea-92a454ba9403"
      },
      "execution_count": 28,
      "outputs": [
        {
          "output_type": "execute_result",
          "data": {
            "text/plain": [
              "[('Иван', 30), ('Мария', 25), ('Алексей', 35), ('Елена', 40)]"
            ]
          },
          "metadata": {},
          "execution_count": 28
        }
      ]
    },
    {
      "cell_type": "code",
      "source": [
        "# К элементам RDD можно применять различные операции\n",
        "# Допустим, мы хотим увеличить возраст каждого человека на 1 год\n",
        "rdd_transformed = rdd.map(lambda x: (x[0], x[1] + 1))\n",
        "print(rdd_transformed.collect())"
      ],
      "metadata": {
        "colab": {
          "base_uri": "https://localhost:8080/"
        },
        "id": "FYvRsCSkMcC3",
        "outputId": "8a48a2f4-010b-4c0e-e170-5f7a7f5036ef"
      },
      "execution_count": 29,
      "outputs": [
        {
          "output_type": "stream",
          "name": "stdout",
          "text": [
            "[('Иван', 31), ('Мария', 26), ('Алексей', 36), ('Елена', 41)]\n"
          ]
        }
      ]
    },
    {
      "cell_type": "code",
      "source": [
        "# Оставим только людей старше 30 лет\n",
        "rdd_filtered = rdd.filter(lambda x: x[1] > 30)\n",
        "print(rdd_filtered.collect())"
      ],
      "metadata": {
        "colab": {
          "base_uri": "https://localhost:8080/"
        },
        "id": "FF-h5fBrW7UR",
        "outputId": "e9c67de6-503e-4bd0-fdee-59ea1cd0ef91"
      },
      "execution_count": 30,
      "outputs": [
        {
          "output_type": "stream",
          "name": "stdout",
          "text": [
            "[('Алексей', 35), ('Елена', 40)]\n"
          ]
        }
      ]
    },
    {
      "cell_type": "code",
      "source": [
        "# Отсортируем людей во возрасту\n",
        "rdd.sortByKey(keyfunc=lambda x: x[-1]).collect()"
      ],
      "metadata": {
        "colab": {
          "base_uri": "https://localhost:8080/"
        },
        "id": "xED7qGKfZEgK",
        "outputId": "5d4a85eb-318b-4cfc-8660-ddf30e924145"
      },
      "execution_count": 37,
      "outputs": [
        {
          "output_type": "execute_result",
          "data": {
            "text/plain": [
              "[('Елена', 40), ('Алексей', 35), ('Иван', 30), ('Мария', 25)]"
            ]
          },
          "metadata": {},
          "execution_count": 37
        }
      ]
    },
    {
      "cell_type": "code",
      "source": [
        "# Отсортируем людей по именам\n",
        "rdd.sortByKey().collect()"
      ],
      "metadata": {
        "colab": {
          "base_uri": "https://localhost:8080/"
        },
        "id": "Jj-qUbegXA4z",
        "outputId": "ea87123a-381c-4b9e-e810-9549fa6d8fb5"
      },
      "execution_count": 38,
      "outputs": [
        {
          "output_type": "execute_result",
          "data": {
            "text/plain": [
              "[('Алексей', 35), ('Елена', 40), ('Иван', 30), ('Мария', 25)]"
            ]
          },
          "metadata": {},
          "execution_count": 38
        }
      ]
    },
    {
      "cell_type": "code",
      "source": [],
      "metadata": {
        "id": "MPjkPxF_aHqW"
      },
      "execution_count": null,
      "outputs": []
    },
    {
      "cell_type": "code",
      "source": [
        "# Допустим, у нас есть повторяющиеся имена, и мы хотим найти их средний возраст\n",
        "\n",
        "data_with_duplicates = [(\"Иван\", 30), (\"Мария\", 25), (\"Иван\", 40), (\"Мария\", 35)]\n",
        "rdd_with_dup = spark.sparkContext.parallelize(data_with_duplicates)"
      ],
      "metadata": {
        "id": "9XxCc1SQbUl3"
      },
      "execution_count": 39,
      "outputs": []
    },
    {
      "cell_type": "code",
      "source": [
        "rdd_with_dup.collect()"
      ],
      "metadata": {
        "colab": {
          "base_uri": "https://localhost:8080/"
        },
        "id": "LfAczcz_bVQg",
        "outputId": "21839f21-baa3-46cb-9aa6-752d8673b3a2"
      },
      "execution_count": 40,
      "outputs": [
        {
          "output_type": "execute_result",
          "data": {
            "text/plain": [
              "[('Иван', 30), ('Мария', 25), ('Иван', 40), ('Мария', 35)]"
            ]
          },
          "metadata": {},
          "execution_count": 40
        }
      ]
    },
    {
      "cell_type": "code",
      "source": [
        "rdd_grouped = rdd_with_dup.groupByKey()"
      ],
      "metadata": {
        "id": "nUM9wRM1b-TC"
      },
      "execution_count": 41,
      "outputs": []
    },
    {
      "cell_type": "code",
      "source": [
        "rdd_grouped.collect()"
      ],
      "metadata": {
        "colab": {
          "base_uri": "https://localhost:8080/"
        },
        "id": "6g9A0YaubY_u",
        "outputId": "db88a9b4-cc60-49e9-f012-9e68d1bb9e56"
      },
      "execution_count": 42,
      "outputs": [
        {
          "output_type": "execute_result",
          "data": {
            "text/plain": [
              "[('Иван', <pyspark.resultiterable.ResultIterable at 0x7e0f10c1ab90>),\n",
              " ('Мария', <pyspark.resultiterable.ResultIterable at 0x7e0f10c1bdd0>)]"
            ]
          },
          "metadata": {},
          "execution_count": 42
        }
      ]
    },
    {
      "cell_type": "code",
      "source": [
        "[(key, list(values)) for key, values in rdd_grouped.collect()]"
      ],
      "metadata": {
        "colab": {
          "base_uri": "https://localhost:8080/"
        },
        "id": "T4x2pCT7b7V6",
        "outputId": "a22faa12-287b-4fca-f7e0-48238c649378"
      },
      "execution_count": 43,
      "outputs": [
        {
          "output_type": "execute_result",
          "data": {
            "text/plain": [
              "[('Иван', [30, 40]), ('Мария', [25, 35])]"
            ]
          },
          "metadata": {},
          "execution_count": 43
        }
      ]
    },
    {
      "cell_type": "code",
      "source": [
        "# Хотим найти сумму возраста повторяющихся имен\n",
        "rdd_with_dup.groupByKey().mapValues(sum).collect()"
      ],
      "metadata": {
        "colab": {
          "base_uri": "https://localhost:8080/"
        },
        "collapsed": true,
        "id": "vJTt3hphbfdl",
        "outputId": "097ea1b5-ff0a-415a-ae62-239ee39599dd"
      },
      "execution_count": 44,
      "outputs": [
        {
          "output_type": "execute_result",
          "data": {
            "text/plain": [
              "[('Иван', 70), ('Мария', 60)]"
            ]
          },
          "metadata": {},
          "execution_count": 44
        }
      ]
    },
    {
      "cell_type": "code",
      "source": [
        "# Хотим найти количество повторяющихся имен\n",
        "rdd_with_dup.groupByKey().mapValues(lambda x: len(list(x))).collect()"
      ],
      "metadata": {
        "colab": {
          "base_uri": "https://localhost:8080/"
        },
        "id": "9-FuDSmGcVT3",
        "outputId": "c2c0836d-6c4f-4882-de7f-1643e664d344"
      },
      "execution_count": 45,
      "outputs": [
        {
          "output_type": "execute_result",
          "data": {
            "text/plain": [
              "[('Иван', 2), ('Мария', 2)]"
            ]
          },
          "metadata": {},
          "execution_count": 45
        }
      ]
    },
    {
      "cell_type": "code",
      "source": [
        "# Хотим найти средний возраст повторяющихся имен\n",
        "rdd_with_dup.groupByKey().mapValues(lambda x: round(sum(list(x)) / len(list(x))) + 1).collect()"
      ],
      "metadata": {
        "colab": {
          "base_uri": "https://localhost:8080/"
        },
        "collapsed": true,
        "id": "8o2U8PjTc4A-",
        "outputId": "afe3955d-5394-4bcf-acb2-91ab8cf55a00"
      },
      "execution_count": 48,
      "outputs": [
        {
          "output_type": "execute_result",
          "data": {
            "text/plain": [
              "[('Иван', 36), ('Мария', 31)]"
            ]
          },
          "metadata": {},
          "execution_count": 48
        }
      ]
    },
    {
      "cell_type": "code",
      "source": [],
      "metadata": {
        "id": "3W0_m0kjXac8"
      },
      "execution_count": null,
      "outputs": []
    },
    {
      "cell_type": "markdown",
      "source": [
        "RDD API поддердивает прямую загрузку из текстового файла. При этом каждая строка будет интерпретироваться, как отдельный элемент RDD"
      ],
      "metadata": {
        "id": "hG-ts0VnVm-A"
      }
    },
    {
      "cell_type": "code",
      "source": [
        "! echo \"Hello, sample RDD\" > text.txt\n",
        "! echo \"This RDD contains three lines\" >> text.txt\n",
        "! echo \"This is the last line\" >> text.txt\n",
        "! echo \"\" >> text.txt\n",
        "! echo \"Just kidding, it contains five lines\" >> text.txt"
      ],
      "metadata": {
        "id": "FynlZXvwVsft"
      },
      "execution_count": 49,
      "outputs": []
    },
    {
      "cell_type": "code",
      "source": [
        "!cat text.txt"
      ],
      "metadata": {
        "colab": {
          "base_uri": "https://localhost:8080/"
        },
        "id": "EtX2judR_G3Y",
        "outputId": "2a264ab8-392a-48d2-bbc8-83ae1ad181f9"
      },
      "execution_count": 50,
      "outputs": [
        {
          "output_type": "stream",
          "name": "stdout",
          "text": [
            "Hello, sample RDD\n",
            "This RDD contains three lines\n",
            "This is the last line\n",
            "\n",
            "Just kidding, it contains five lines\n"
          ]
        }
      ]
    },
    {
      "cell_type": "code",
      "source": [
        "text_data = spark.sparkContext.textFile('text.txt')\n",
        "text_data, text_data.collect()"
      ],
      "metadata": {
        "colab": {
          "base_uri": "https://localhost:8080/"
        },
        "id": "01REIBq1McJN",
        "outputId": "9e78041c-d76f-4565-d1cf-2d456f117f19"
      },
      "execution_count": 55,
      "outputs": [
        {
          "output_type": "execute_result",
          "data": {
            "text/plain": [
              "(text.txt MapPartitionsRDD[84] at textFile at NativeMethodAccessorImpl.java:0,\n",
              " ['Hello, sample RDD',\n",
              "  'This RDD contains three lines',\n",
              "  'This is the last line',\n",
              "  '',\n",
              "  'Just kidding, it contains five lines'])"
            ]
          },
          "metadata": {},
          "execution_count": 55
        }
      ]
    },
    {
      "cell_type": "code",
      "source": [
        "text_data.collect()"
      ],
      "metadata": {
        "colab": {
          "base_uri": "https://localhost:8080/"
        },
        "id": "YQlLQOB6_yji",
        "outputId": "0dde6206-6e02-44da-c830-94d375ec26d3"
      },
      "execution_count": 56,
      "outputs": [
        {
          "output_type": "execute_result",
          "data": {
            "text/plain": [
              "['Hello, sample RDD',\n",
              " 'This RDD contains three lines',\n",
              " 'This is the last line',\n",
              " '',\n",
              " 'Just kidding, it contains five lines']"
            ]
          },
          "metadata": {},
          "execution_count": 56
        }
      ]
    },
    {
      "cell_type": "markdown",
      "source": [
        "Теперь к данному RDD можно применять стандартные Spark операции"
      ],
      "metadata": {
        "id": "xDpBC-EMVyBv"
      }
    },
    {
      "cell_type": "code",
      "source": [
        "distinct_words = (\n",
        "    text_data\n",
        "        .filter(lambda x: len(x)) # отбираем только не пустые строки\n",
        "        .flatMap(lambda x: x.split(' ')) # разбиваем все строки на слова и переводим список\n",
        "        .distinct() # берём только уникальные слова\n",
        ")"
      ],
      "metadata": {
        "id": "mrl84dGCAGhM"
      },
      "execution_count": 57,
      "outputs": []
    },
    {
      "cell_type": "code",
      "source": [
        "distinct_words"
      ],
      "metadata": {
        "colab": {
          "base_uri": "https://localhost:8080/"
        },
        "id": "IZjE4JQpAIps",
        "outputId": "61336c4a-4b29-45fd-f33c-39046cf55adc"
      },
      "execution_count": 60,
      "outputs": [
        {
          "output_type": "execute_result",
          "data": {
            "text/plain": [
              "PythonRDD[89] at RDD at PythonRDD.scala:53"
            ]
          },
          "metadata": {},
          "execution_count": 60
        }
      ]
    },
    {
      "cell_type": "code",
      "source": [
        "# Будьте внимательны, если такой файл существует,\n",
        "# то spark будет выдавать ошибку\n",
        "distinct_words.saveAsTextFile('words.txt')"
      ],
      "metadata": {
        "id": "EP6vQcgTAa7p"
      },
      "execution_count": 61,
      "outputs": []
    },
    {
      "cell_type": "code",
      "source": [
        "# можно вывести отладочную информацию по данному RDD\n",
        "print(distinct_words.toDebugString().decode())"
      ],
      "metadata": {
        "colab": {
          "base_uri": "https://localhost:8080/"
        },
        "id": "fmYuwnO4Aud-",
        "outputId": "d0edebfc-eb04-4fec-a493-7fb10adc7656"
      },
      "execution_count": 62,
      "outputs": [
        {
          "output_type": "stream",
          "name": "stdout",
          "text": [
            "(2) PythonRDD[89] at RDD at PythonRDD.scala:53 []\n",
            " |  MapPartitionsRDD[88] at mapPartitions at PythonRDD.scala:160 []\n",
            " |  ShuffledRDD[87] at partitionBy at NativeMethodAccessorImpl.java:0 []\n",
            " +-(2) PairwiseRDD[86] at distinct at <ipython-input-57-307dbd238947>:5 []\n",
            "    |  PythonRDD[85] at distinct at <ipython-input-57-307dbd238947>:5 []\n",
            "    |  text.txt MapPartitionsRDD[84] at textFile at NativeMethodAccessorImpl.java:0 []\n",
            "    |  text.txt HadoopRDD[83] at textFile at NativeMethodAccessorImpl.java:0 []\n"
          ]
        }
      ]
    },
    {
      "cell_type": "markdown",
      "source": [
        "Снизу вверх показаны все низкоуровневые операции (lineage), которые были применены к данному RDD c самого начала его создания"
      ],
      "metadata": {
        "id": "gjAdSOHbV5bG"
      }
    },
    {
      "cell_type": "markdown",
      "source": [],
      "metadata": {
        "id": "4dIOUvAcV5yt"
      }
    },
    {
      "cell_type": "markdown",
      "source": [
        "Для того, чтобы переиспользовать посчитанные значения в рамках текущей сессии стоит использовать метод `.cache`, который сохраняет результат вычислений вершины графа вычислений в оперативной памяти. Это нужно для того, чтобы оперции, работающие поверх данной получали результат операций из оперативной памяти, а не считывались с диска.\n",
        "\n",
        "Метод `.persist` позволяет сохранять промежуточные вычисления в рамках текущей сессии с более тонкой настройкой места хранения (жёсткий диск, оперативная память, ...)"
      ],
      "metadata": {
        "id": "5fiQ37ApV_X2"
      }
    },
    {
      "cell_type": "code",
      "source": [
        "distinct_words_cached = distinct_words.cache()\n",
        "print(distinct_words_cached.toDebugString().decode())"
      ],
      "metadata": {
        "colab": {
          "base_uri": "https://localhost:8080/"
        },
        "id": "gGZjYtP_Vzll",
        "outputId": "1a4f54a5-f6e4-41aa-e3d7-5b206b08c984"
      },
      "execution_count": 63,
      "outputs": [
        {
          "output_type": "stream",
          "name": "stdout",
          "text": [
            "(2) PythonRDD[89] at RDD at PythonRDD.scala:53 [Memory Serialized 1x Replicated]\n",
            " |  MapPartitionsRDD[88] at mapPartitions at PythonRDD.scala:160 [Memory Serialized 1x Replicated]\n",
            " |  ShuffledRDD[87] at partitionBy at NativeMethodAccessorImpl.java:0 [Memory Serialized 1x Replicated]\n",
            " +-(2) PairwiseRDD[86] at distinct at <ipython-input-57-307dbd238947>:5 [Memory Serialized 1x Replicated]\n",
            "    |  PythonRDD[85] at distinct at <ipython-input-57-307dbd238947>:5 [Memory Serialized 1x Replicated]\n",
            "    |  text.txt MapPartitionsRDD[84] at textFile at NativeMethodAccessorImpl.java:0 [Memory Serialized 1x Replicated]\n",
            "    |  text.txt HadoopRDD[83] at textFile at NativeMethodAccessorImpl.java:0 [Memory Serialized 1x Replicated]\n"
          ]
        }
      ]
    },
    {
      "cell_type": "markdown",
      "source": [
        "Как можно заметить после операции cache появились дополнительные вершины в графе вычислений, в которых указаны место расположения данных и количество их реплик: Memory Serialized 1x Replicated"
      ],
      "metadata": {
        "id": "l8mNtaiWWFDM"
      }
    },
    {
      "cell_type": "code",
      "source": [
        "distinct_words_cached.collect()\n",
        "print(distinct_words_cached.toDebugString().decode())"
      ],
      "metadata": {
        "colab": {
          "base_uri": "https://localhost:8080/"
        },
        "id": "eUH5-unJV0LO",
        "outputId": "ba8be7ac-e69f-41f7-b2fd-583710ae5397"
      },
      "execution_count": 64,
      "outputs": [
        {
          "output_type": "stream",
          "name": "stdout",
          "text": [
            "(2) PythonRDD[89] at RDD at PythonRDD.scala:53 [Memory Serialized 1x Replicated]\n",
            " |       CachedPartitions: 2; MemorySize: 296.0 B; DiskSize: 0.0 B\n",
            " |  MapPartitionsRDD[88] at mapPartitions at PythonRDD.scala:160 [Memory Serialized 1x Replicated]\n",
            " |  ShuffledRDD[87] at partitionBy at NativeMethodAccessorImpl.java:0 [Memory Serialized 1x Replicated]\n",
            " +-(2) PairwiseRDD[86] at distinct at <ipython-input-57-307dbd238947>:5 [Memory Serialized 1x Replicated]\n",
            "    |  PythonRDD[85] at distinct at <ipython-input-57-307dbd238947>:5 [Memory Serialized 1x Replicated]\n",
            "    |  text.txt MapPartitionsRDD[84] at textFile at NativeMethodAccessorImpl.java:0 [Memory Serialized 1x Replicated]\n",
            "    |  text.txt HadoopRDD[83] at textFile at NativeMethodAccessorImpl.java:0 [Memory Serialized 1x Replicated]\n"
          ]
        }
      ]
    },
    {
      "cell_type": "markdown",
      "source": [
        "Для сохранения данных между сессиями можно использовать `.checkpoint`. Особенность этого метода — изменение графа вычислений.\n",
        "Цепочка вычислений для сохраняемого RDD будет удалена.\n",
        "\n",
        "Сокращение цепочки вычислений полезно в случае больших графов, например, в итеративных алгоритмах."
      ],
      "metadata": {
        "id": "eJByVn4oWMGh"
      }
    },
    {
      "cell_type": "code",
      "source": [
        "distinct_first_words = (\n",
        "    text_data\n",
        "        .filter(lambda x: len(x))\n",
        "        .flatMap(lambda x: x.split(' ')[0])\n",
        "        .distinct()\n",
        ")\n",
        "\n",
        "spark.sparkContext.setCheckpointDir('./checkpoints')\n",
        "\n",
        "distinct_first_words.checkpoint()\n",
        "print(distinct_first_words.toDebugString().decode())"
      ],
      "metadata": {
        "colab": {
          "base_uri": "https://localhost:8080/"
        },
        "id": "_J1jC39eV0JF",
        "outputId": "cc8a984c-c8ad-483a-cbda-ac1f16b60b2c"
      },
      "execution_count": 66,
      "outputs": [
        {
          "output_type": "stream",
          "name": "stdout",
          "text": [
            "(2) PythonRDD[101] at RDD at PythonRDD.scala:53 []\n",
            " |  MapPartitionsRDD[100] at mapPartitions at PythonRDD.scala:160 []\n",
            " |  ShuffledRDD[99] at partitionBy at NativeMethodAccessorImpl.java:0 []\n",
            " +-(2) PairwiseRDD[98] at distinct at <ipython-input-66-dc207dcbce62>:5 []\n",
            "    |  PythonRDD[97] at distinct at <ipython-input-66-dc207dcbce62>:5 []\n",
            "    |  text.txt MapPartitionsRDD[84] at textFile at NativeMethodAccessorImpl.java:0 []\n",
            "    |  text.txt HadoopRDD[83] at textFile at NativeMethodAccessorImpl.java:0 []\n"
          ]
        }
      ]
    },
    {
      "cell_type": "code",
      "source": [
        "!ls -la ./checkpoints/d1826eb9-af1e-4ea1-af0a-53f441ba148a"
      ],
      "metadata": {
        "colab": {
          "base_uri": "https://localhost:8080/"
        },
        "id": "qQNbL-IJBrFB",
        "outputId": "61cf592c-03bb-49cf-9587-3e7055facfbb"
      },
      "execution_count": 68,
      "outputs": [
        {
          "output_type": "stream",
          "name": "stdout",
          "text": [
            "total 8\n",
            "drwxr-xr-x 2 root root 4096 Feb 24 17:34 .\n",
            "drwxr-xr-x 3 root root 4096 Feb 24 17:34 ..\n"
          ]
        }
      ]
    },
    {
      "cell_type": "code",
      "source": [
        "distinct_first_words.collect()\n",
        "print(distinct_first_words.toDebugString().decode())"
      ],
      "metadata": {
        "colab": {
          "base_uri": "https://localhost:8080/"
        },
        "id": "ixzLxOdDV0G6",
        "outputId": "f645dd26-002b-47fb-f15a-1196661a6be2"
      },
      "execution_count": 69,
      "outputs": [
        {
          "output_type": "stream",
          "name": "stdout",
          "text": [
            "(2) PythonRDD[101] at RDD at PythonRDD.scala:53 []\n",
            " |  ReliableCheckpointRDD[102] at collect at <ipython-input-69-c1aaa7e99388>:1 []\n"
          ]
        }
      ]
    },
    {
      "cell_type": "markdown",
      "source": [
        "Как можно увидеть предыдущий граф вычилений был полность удалён, и теперь вычисления начинаются с загрузки контрольной точки: ReliableCheckpointRDD"
      ],
      "metadata": {
        "id": "WBusyCo9WS3P"
      }
    },
    {
      "cell_type": "code",
      "source": [],
      "metadata": {
        "id": "7YNihzVEV0Ey"
      },
      "execution_count": null,
      "outputs": []
    },
    {
      "cell_type": "code",
      "source": [],
      "metadata": {
        "id": "KA3b7DoRd2r0"
      },
      "execution_count": null,
      "outputs": []
    },
    {
      "cell_type": "markdown",
      "source": [
        "# Практика"
      ],
      "metadata": {
        "id": "5s7QVPxAemJD"
      }
    },
    {
      "cell_type": "markdown",
      "source": [
        "Есть файл google_queries.csv, в нем указаны запросы пользователей в Google, количесво данных запросов в день, день запроса"
      ],
      "metadata": {
        "id": "SubGXT4zeo4j"
      }
    },
    {
      "cell_type": "code",
      "source": [
        "!head google_queries.csv"
      ],
      "metadata": {
        "colab": {
          "base_uri": "https://localhost:8080/"
        },
        "id": "tt7YY0f7d2pg",
        "outputId": "a432d03b-6e9a-44a7-9242-411dd38e7c01"
      },
      "execution_count": null,
      "outputs": [
        {
          "output_type": "stream",
          "name": "stdout",
          "text": [
            "request,number_of_views,date\r\n",
            "карта,3,2025-02-11\r\n",
            "погода,5,2025-02-13\r\n",
            "котики,5,2025-02-11\r\n",
            "игры,2,2025-02-14\r\n",
            "погода,1,2025-02-17\r\n",
            "ютуб,1,2025-02-13\r\n",
            "погода,1,2025-02-18\r\n",
            "вк,1,2025-02-15\r\n",
            "авито,5,2025-02-11\r\n"
          ]
        }
      ]
    },
    {
      "cell_type": "code",
      "source": [
        "from pyspark.sql import SparkSession\n",
        "\n",
        "# Создаем SparkSession\n",
        "spark = SparkSession.builder.appName(\"GoogleQueriesAnalysis\").getOrCreate()\n",
        "sc = spark.sparkContext  # Получаем SparkContext\n",
        "\n",
        "# Загружаем файл в RDD\n",
        "rdd = sc.textFile(\"google_queries.csv\")"
      ],
      "metadata": {
        "id": "IYDoyGyHe03S"
      },
      "execution_count": 70,
      "outputs": []
    },
    {
      "cell_type": "code",
      "source": [
        "rdd.take(5)"
      ],
      "metadata": {
        "colab": {
          "base_uri": "https://localhost:8080/"
        },
        "id": "bOkjEwZ_fAJg",
        "outputId": "748b420f-4fd3-4c9e-83cf-6dc6b2e0f1e4"
      },
      "execution_count": 71,
      "outputs": [
        {
          "output_type": "execute_result",
          "data": {
            "text/plain": [
              "['request,number_of_views,date',\n",
              " 'карта,3,2025-02-11',\n",
              " 'погода,5,2025-02-13',\n",
              " 'котики,5,2025-02-11',\n",
              " 'игры,2,2025-02-14']"
            ]
          },
          "metadata": {},
          "execution_count": 71
        }
      ]
    },
    {
      "cell_type": "code",
      "source": [
        "rdd.first()"
      ],
      "metadata": {
        "colab": {
          "base_uri": "https://localhost:8080/",
          "height": 35
        },
        "id": "XnTLnoKoHi4R",
        "outputId": "bb734ced-3dcc-493d-a2d4-26a772950504"
      },
      "execution_count": 72,
      "outputs": [
        {
          "output_type": "execute_result",
          "data": {
            "text/plain": [
              "'request,number_of_views,date'"
            ],
            "application/vnd.google.colaboratory.intrinsic+json": {
              "type": "string"
            }
          },
          "metadata": {},
          "execution_count": 72
        }
      ]
    },
    {
      "cell_type": "code",
      "source": [
        "# Пропускаем заголовок\n",
        "header = rdd.first()\n",
        "rdd = rdd.filter(lambda line: line != header)"
      ],
      "metadata": {
        "id": "Rz9AB3J7e6vi"
      },
      "execution_count": 73,
      "outputs": []
    },
    {
      "cell_type": "code",
      "source": [
        "rdd.take(5)"
      ],
      "metadata": {
        "colab": {
          "base_uri": "https://localhost:8080/"
        },
        "id": "M8j0NUKkfFIA",
        "outputId": "fd759984-1f59-4885-d97a-19a07da684fd"
      },
      "execution_count": 74,
      "outputs": [
        {
          "output_type": "execute_result",
          "data": {
            "text/plain": [
              "['карта,3,2025-02-11',\n",
              " 'погода,5,2025-02-13',\n",
              " 'котики,5,2025-02-11',\n",
              " 'игры,2,2025-02-14',\n",
              " 'погода,1,2025-02-17']"
            ]
          },
          "metadata": {},
          "execution_count": 74
        }
      ]
    },
    {
      "cell_type": "code",
      "source": [
        "rdd.map(lambda line: line.split(\",\")).take(5)"
      ],
      "metadata": {
        "colab": {
          "base_uri": "https://localhost:8080/"
        },
        "id": "i8yaCxkrIA5I",
        "outputId": "ba388fd9-1559-44ec-e1c3-a22e7664c816"
      },
      "execution_count": 75,
      "outputs": [
        {
          "output_type": "execute_result",
          "data": {
            "text/plain": [
              "[['карта', '3', '2025-02-11'],\n",
              " ['погода', '5', '2025-02-13'],\n",
              " ['котики', '5', '2025-02-11'],\n",
              " ['игры', '2', '2025-02-14'],\n",
              " ['погода', '1', '2025-02-17']]"
            ]
          },
          "metadata": {},
          "execution_count": 75
        }
      ]
    },
    {
      "cell_type": "code",
      "source": [
        "# Парсим данные (request, number_of_views, date)\n",
        "rdd_parsed = rdd.map(lambda line: line.split(\",\")).map(lambda x: (x[0], int(x[1]), x[2]))"
      ],
      "metadata": {
        "id": "Qs80FIdde8hK"
      },
      "execution_count": 76,
      "outputs": []
    },
    {
      "cell_type": "code",
      "source": [
        "rdd_parsed.take(5)"
      ],
      "metadata": {
        "colab": {
          "base_uri": "https://localhost:8080/"
        },
        "id": "j7eG2_vjfJDn",
        "outputId": "c9af49a8-2288-425e-fbe8-b32c580580c0"
      },
      "execution_count": 77,
      "outputs": [
        {
          "output_type": "execute_result",
          "data": {
            "text/plain": [
              "[('карта', 3, '2025-02-11'),\n",
              " ('погода', 5, '2025-02-13'),\n",
              " ('котики', 5, '2025-02-11'),\n",
              " ('игры', 2, '2025-02-14'),\n",
              " ('погода', 1, '2025-02-17')]"
            ]
          },
          "metadata": {},
          "execution_count": 77
        }
      ]
    },
    {
      "cell_type": "code",
      "source": [],
      "metadata": {
        "id": "qop48eFEf86W"
      },
      "execution_count": null,
      "outputs": []
    },
    {
      "cell_type": "code",
      "source": [
        "# 1. Общее количество запросов\n",
        "total_queries = rdd_parsed.count()\n",
        "print(f\"1. Общее количество запросов: {total_queries}\")"
      ],
      "metadata": {
        "colab": {
          "base_uri": "https://localhost:8080/"
        },
        "id": "wb1h5OArfO9i",
        "outputId": "b8a752b9-218c-4650-8a65-eca9edc19d0b"
      },
      "execution_count": 78,
      "outputs": [
        {
          "output_type": "stream",
          "name": "stdout",
          "text": [
            "1. Общее количество запросов: 255\n"
          ]
        }
      ]
    },
    {
      "cell_type": "code",
      "source": [],
      "metadata": {
        "id": "MfuWNyRQf9XI"
      },
      "execution_count": null,
      "outputs": []
    },
    {
      "cell_type": "code",
      "source": [
        "# 2. Общее количество просмотров\n",
        "total_views = rdd_parsed.map(lambda x: x[1]).sum()\n",
        "print(f\"2. Общее количество просмотров: {total_views}\")"
      ],
      "metadata": {
        "colab": {
          "base_uri": "https://localhost:8080/"
        },
        "id": "FU5dBKY7fUip",
        "outputId": "9de618ff-9c54-4045-bd0b-5df852bf42e8"
      },
      "execution_count": 79,
      "outputs": [
        {
          "output_type": "stream",
          "name": "stdout",
          "text": [
            "2. Общее количество просмотров: 743\n"
          ]
        }
      ]
    },
    {
      "cell_type": "code",
      "source": [],
      "metadata": {
        "id": "C4Bem1Dof973"
      },
      "execution_count": null,
      "outputs": []
    },
    {
      "cell_type": "code",
      "source": [
        "rdd_parsed.take(5)"
      ],
      "metadata": {
        "colab": {
          "base_uri": "https://localhost:8080/"
        },
        "id": "kn9rb6m6I-pz",
        "outputId": "c0320a9d-9e54-49ed-ed8d-501045448a95"
      },
      "execution_count": 80,
      "outputs": [
        {
          "output_type": "execute_result",
          "data": {
            "text/plain": [
              "[('карта', 3, '2025-02-11'),\n",
              " ('погода', 5, '2025-02-13'),\n",
              " ('котики', 5, '2025-02-11'),\n",
              " ('игры', 2, '2025-02-14'),\n",
              " ('погода', 1, '2025-02-17')]"
            ]
          },
          "metadata": {},
          "execution_count": 80
        }
      ]
    },
    {
      "cell_type": "code",
      "source": [
        "# 3. Среднее количество просмотров на запрос\n",
        "avg_views_per_query = total_views / total_queries if total_queries > 0 else 0\n",
        "print(f\"3. Среднее количество просмотров на запрос: {avg_views_per_query:.2f}\")"
      ],
      "metadata": {
        "colab": {
          "base_uri": "https://localhost:8080/"
        },
        "id": "srjLfdRffaaA",
        "outputId": "fc9d0d3d-0ec7-4fcd-f5c9-385b60d5cc54"
      },
      "execution_count": 81,
      "outputs": [
        {
          "output_type": "stream",
          "name": "stdout",
          "text": [
            "3. Среднее количество просмотров на запрос: 2.91\n"
          ]
        }
      ]
    },
    {
      "cell_type": "code",
      "source": [],
      "metadata": {
        "id": "6LIkBwJnf-j4"
      },
      "execution_count": null,
      "outputs": []
    },
    {
      "cell_type": "code",
      "source": [
        "# 4. Запрос с максимальным числом просмотров\n",
        "max_request = rdd_parsed.max(key=lambda x: x[1])\n",
        "print(f\"4. Запрос с максимальным числом просмотров: {max_request}\")"
      ],
      "metadata": {
        "colab": {
          "base_uri": "https://localhost:8080/"
        },
        "id": "iwVxBepTff22",
        "outputId": "2675cb3d-3cb7-4310-d805-b7476acadee2"
      },
      "execution_count": 83,
      "outputs": [
        {
          "output_type": "stream",
          "name": "stdout",
          "text": [
            "4. Запрос с максимальным числом просмотров: ('погода', 5, '2025-02-13')\n"
          ]
        }
      ]
    },
    {
      "cell_type": "code",
      "source": [],
      "metadata": {
        "id": "ggMvYMjcf_AA"
      },
      "execution_count": null,
      "outputs": []
    },
    {
      "cell_type": "code",
      "source": [
        "# 5. Запрос с минимальным числом просмотров\n",
        "min_request = rdd_parsed.min(key=lambda x: x[1])\n",
        "print(f\"5. Запрос с минимальным числом просмотров: {min_request}\")"
      ],
      "metadata": {
        "colab": {
          "base_uri": "https://localhost:8080/"
        },
        "id": "whiWUskhfkbJ",
        "outputId": "d3da1305-d592-4d82-b678-646109206624"
      },
      "execution_count": 84,
      "outputs": [
        {
          "output_type": "stream",
          "name": "stdout",
          "text": [
            "5. Запрос с минимальным числом просмотров: ('погода', 1, '2025-02-17')\n"
          ]
        }
      ]
    },
    {
      "cell_type": "code",
      "source": [],
      "metadata": {
        "id": "lqPRVK8Sf_id"
      },
      "execution_count": null,
      "outputs": []
    },
    {
      "cell_type": "code",
      "source": [
        "rdd_parsed.take(5)"
      ],
      "metadata": {
        "colab": {
          "base_uri": "https://localhost:8080/"
        },
        "id": "-0DABiCQJ4dx",
        "outputId": "7296ce35-8252-4f0e-bdaa-7245a5d1d596"
      },
      "execution_count": 85,
      "outputs": [
        {
          "output_type": "execute_result",
          "data": {
            "text/plain": [
              "[('карта', 3, '2025-02-11'),\n",
              " ('погода', 5, '2025-02-13'),\n",
              " ('котики', 5, '2025-02-11'),\n",
              " ('игры', 2, '2025-02-14'),\n",
              " ('погода', 1, '2025-02-17')]"
            ]
          },
          "metadata": {},
          "execution_count": 85
        }
      ]
    },
    {
      "cell_type": "code",
      "source": [
        "# 6. Количество уникальных запросов\n",
        "unique_requests = rdd_parsed.map(lambda x: x[0]).distinct().count()\n",
        "print(f\"6. Количество уникальных запросов: {unique_requests}\")"
      ],
      "metadata": {
        "colab": {
          "base_uri": "https://localhost:8080/"
        },
        "id": "gJ87fxXffniV",
        "outputId": "1c262b12-b2aa-41bf-855a-7ec21725976a"
      },
      "execution_count": 93,
      "outputs": [
        {
          "output_type": "stream",
          "name": "stdout",
          "text": [
            "6. Количество уникальных запросов: 14\n"
          ]
        }
      ]
    },
    {
      "cell_type": "code",
      "source": [],
      "metadata": {
        "id": "hrY-7JEuf__d"
      },
      "execution_count": null,
      "outputs": []
    },
    {
      "cell_type": "code",
      "source": [
        "rdd_parsed.map(lambda x: (x[2], x[1])).groupByKey().take(5)"
      ],
      "metadata": {
        "colab": {
          "base_uri": "https://localhost:8080/"
        },
        "collapsed": true,
        "id": "LASLjzZ-L9RZ",
        "outputId": "64b0d378-b965-4dfa-b0cc-c17a03081642"
      },
      "execution_count": 105,
      "outputs": [
        {
          "output_type": "execute_result",
          "data": {
            "text/plain": [
              "[('2025-02-11', <pyspark.resultiterable.ResultIterable at 0x7e0f0f23ac10>),\n",
              " ('2025-02-13', <pyspark.resultiterable.ResultIterable at 0x7e0f10c58550>),\n",
              " ('2025-02-19', <pyspark.resultiterable.ResultIterable at 0x7e0f0f1be250>),\n",
              " ('2025-02-12', <pyspark.resultiterable.ResultIterable at 0x7e0f0f1bc910>),\n",
              " ('2025-02-14', <pyspark.resultiterable.ResultIterable at 0x7e0f0f26a850>)]"
            ]
          },
          "metadata": {},
          "execution_count": 105
        }
      ]
    },
    {
      "cell_type": "code",
      "source": [
        "rdd_parsed.map(lambda x: (x[2], x[1])).groupByKey().mapValues(lambda values: sum(values) / len(values)).take(5)"
      ],
      "metadata": {
        "colab": {
          "base_uri": "https://localhost:8080/"
        },
        "id": "EjE_0V2XKykH",
        "outputId": "05879972-2b3e-44e7-a123-948c16e6e021"
      },
      "execution_count": 97,
      "outputs": [
        {
          "output_type": "execute_result",
          "data": {
            "text/plain": [
              "[('2025-02-11', 2.7714285714285714),\n",
              " ('2025-02-13', 2.92),\n",
              " ('2025-02-19', 3.033333333333333),\n",
              " ('2025-02-12', 2.6956521739130435),\n",
              " ('2025-02-14', 3.1)]"
            ]
          },
          "metadata": {},
          "execution_count": 97
        }
      ]
    },
    {
      "cell_type": "code",
      "source": [
        "# 7. Среднее количество просмотров на дату\n",
        "views_per_date = rdd_parsed.map(lambda x: (x[2], x[1])).groupByKey().mapValues(lambda values: sum(values) / len(values))\n",
        "avg_views_per_date = views_per_date.map(lambda x: x[1]).mean()\n",
        "print(f\"7. Среднее количество просмотров на дату: {avg_views_per_date:.2f}\")"
      ],
      "metadata": {
        "colab": {
          "base_uri": "https://localhost:8080/"
        },
        "id": "W24admZ_frVy",
        "outputId": "3f43d398-ef6f-4c43-a527-7f0d4b14bbc6"
      },
      "execution_count": 98,
      "outputs": [
        {
          "output_type": "stream",
          "name": "stdout",
          "text": [
            "7. Среднее количество просмотров на дату: 2.92\n"
          ]
        }
      ]
    },
    {
      "cell_type": "code",
      "source": [],
      "metadata": {
        "id": "a83PpCWRgAcx"
      },
      "execution_count": null,
      "outputs": []
    },
    {
      "cell_type": "code",
      "source": [
        "rdd_parsed.take(5)"
      ],
      "metadata": {
        "colab": {
          "base_uri": "https://localhost:8080/"
        },
        "id": "riFPZOWKMyy5",
        "outputId": "50254e16-c57a-4561-9bdd-73328b991e65"
      },
      "execution_count": 106,
      "outputs": [
        {
          "output_type": "execute_result",
          "data": {
            "text/plain": [
              "[('карта', 3, '2025-02-11'),\n",
              " ('погода', 5, '2025-02-13'),\n",
              " ('котики', 5, '2025-02-11'),\n",
              " ('игры', 2, '2025-02-14'),\n",
              " ('погода', 1, '2025-02-17')]"
            ]
          },
          "metadata": {},
          "execution_count": 106
        }
      ]
    },
    {
      "cell_type": "code",
      "source": [
        "rdd_parsed.map(lambda x: x[2]).collect()"
      ],
      "metadata": {
        "colab": {
          "base_uri": "https://localhost:8080/"
        },
        "collapsed": true,
        "id": "TS98hRwHNBU9",
        "outputId": "266fdabb-7025-4c4c-d38e-286dce9873bf"
      },
      "execution_count": 109,
      "outputs": [
        {
          "output_type": "execute_result",
          "data": {
            "text/plain": [
              "['2025-02-11',\n",
              " '2025-02-13',\n",
              " '2025-02-11',\n",
              " '2025-02-14',\n",
              " '2025-02-17',\n",
              " '2025-02-13',\n",
              " '2025-02-18',\n",
              " '2025-02-15',\n",
              " '2025-02-11',\n",
              " '2025-02-15',\n",
              " '2025-02-13',\n",
              " '2025-02-17',\n",
              " '2025-02-15',\n",
              " '2025-02-16',\n",
              " '2025-02-10',\n",
              " '2025-02-13',\n",
              " '2025-02-19',\n",
              " '2025-02-11',\n",
              " '2025-02-13',\n",
              " '2025-02-10',\n",
              " '2025-02-15',\n",
              " '2025-02-14',\n",
              " '2025-02-13',\n",
              " '2025-02-11',\n",
              " '2025-02-11',\n",
              " '2025-02-12',\n",
              " '2025-02-19',\n",
              " '2025-02-18',\n",
              " '2025-02-16',\n",
              " '2025-02-18',\n",
              " '2025-02-10',\n",
              " '2025-02-12',\n",
              " '2025-02-11',\n",
              " '2025-02-17',\n",
              " '2025-02-15',\n",
              " '2025-02-14',\n",
              " '2025-02-13',\n",
              " '2025-02-15',\n",
              " '2025-02-13',\n",
              " '2025-02-14',\n",
              " '2025-02-17',\n",
              " '2025-02-11',\n",
              " '2025-02-15',\n",
              " '2025-02-17',\n",
              " '2025-02-16',\n",
              " '2025-02-13',\n",
              " '2025-02-10',\n",
              " '2025-02-12',\n",
              " '2025-02-17',\n",
              " '2025-02-12',\n",
              " '2025-02-18',\n",
              " '2025-02-17',\n",
              " '2025-02-16',\n",
              " '2025-02-17',\n",
              " '2025-02-10',\n",
              " '2025-02-19',\n",
              " '2025-02-17',\n",
              " '2025-02-14',\n",
              " '2025-02-14',\n",
              " '2025-02-12',\n",
              " '2025-02-10',\n",
              " '2025-02-17',\n",
              " '2025-02-11',\n",
              " '2025-02-17',\n",
              " '2025-02-11',\n",
              " '2025-02-11',\n",
              " '2025-02-11',\n",
              " '2025-02-13',\n",
              " '2025-02-10',\n",
              " '2025-02-16',\n",
              " '2025-02-18',\n",
              " '2025-02-10',\n",
              " '2025-02-11',\n",
              " '2025-02-13',\n",
              " '2025-02-11',\n",
              " '2025-02-16',\n",
              " '2025-02-11',\n",
              " '2025-02-12',\n",
              " '2025-02-19',\n",
              " '2025-02-11',\n",
              " '2025-02-12',\n",
              " '2025-02-16',\n",
              " '2025-02-17',\n",
              " '2025-02-12',\n",
              " '2025-02-10',\n",
              " '2025-02-12',\n",
              " '2025-02-14',\n",
              " '2025-02-19',\n",
              " '2025-02-18',\n",
              " '2025-02-15',\n",
              " '2025-02-13',\n",
              " '2025-02-14',\n",
              " '2025-02-12',\n",
              " '2025-02-10',\n",
              " '2025-02-10',\n",
              " '2025-02-16',\n",
              " '2025-02-18',\n",
              " '2025-02-18',\n",
              " '2025-02-13',\n",
              " '2025-02-17',\n",
              " '2025-02-12',\n",
              " '2025-02-17',\n",
              " '2025-02-19',\n",
              " '2025-02-13',\n",
              " '2025-02-11',\n",
              " '2025-02-11',\n",
              " '2025-02-10',\n",
              " '2025-02-17',\n",
              " '2025-02-10',\n",
              " '2025-02-18',\n",
              " '2025-02-14',\n",
              " '2025-02-19',\n",
              " '2025-02-19',\n",
              " '2025-02-14',\n",
              " '2025-02-10',\n",
              " '2025-02-13',\n",
              " '2025-02-17',\n",
              " '2025-02-18',\n",
              " '2025-02-19',\n",
              " '2025-02-11',\n",
              " '2025-02-17',\n",
              " '2025-02-19',\n",
              " '2025-02-11',\n",
              " '2025-02-15',\n",
              " '2025-02-13',\n",
              " '2025-02-16',\n",
              " '2025-02-19',\n",
              " '2025-02-19',\n",
              " '2025-02-11',\n",
              " '2025-02-10',\n",
              " '2025-02-11',\n",
              " '2025-02-15',\n",
              " '2025-02-14',\n",
              " '2025-02-17',\n",
              " '2025-02-11',\n",
              " '2025-02-12',\n",
              " '2025-02-17',\n",
              " '2025-02-13',\n",
              " '2025-02-17',\n",
              " '2025-02-13',\n",
              " '2025-02-13',\n",
              " '2025-02-19',\n",
              " '2025-02-10',\n",
              " '2025-02-15',\n",
              " '2025-02-14',\n",
              " '2025-02-17',\n",
              " '2025-02-16',\n",
              " '2025-02-12',\n",
              " '2025-02-19',\n",
              " '2025-02-18',\n",
              " '2025-02-19',\n",
              " '2025-02-11',\n",
              " '2025-02-16',\n",
              " '2025-02-15',\n",
              " '2025-02-12',\n",
              " '2025-02-19',\n",
              " '2025-02-17',\n",
              " '2025-02-11',\n",
              " '2025-02-17',\n",
              " '2025-02-19',\n",
              " '2025-02-12',\n",
              " '2025-02-15',\n",
              " '2025-02-16',\n",
              " '2025-02-15',\n",
              " '2025-02-12',\n",
              " '2025-02-10',\n",
              " '2025-02-12',\n",
              " '2025-02-11',\n",
              " '2025-02-19',\n",
              " '2025-02-15',\n",
              " '2025-02-10',\n",
              " '2025-02-10',\n",
              " '2025-02-16',\n",
              " '2025-02-15',\n",
              " '2025-02-12',\n",
              " '2025-02-17',\n",
              " '2025-02-19',\n",
              " '2025-02-10',\n",
              " '2025-02-11',\n",
              " '2025-02-16',\n",
              " '2025-02-19',\n",
              " '2025-02-13',\n",
              " '2025-02-14',\n",
              " '2025-02-11',\n",
              " '2025-02-10',\n",
              " '2025-02-14',\n",
              " '2025-02-17',\n",
              " '2025-02-12',\n",
              " '2025-02-19',\n",
              " '2025-02-19',\n",
              " '2025-02-10',\n",
              " '2025-02-13',\n",
              " '2025-02-18',\n",
              " '2025-02-13',\n",
              " '2025-02-10',\n",
              " '2025-02-10',\n",
              " '2025-02-11',\n",
              " '2025-02-16',\n",
              " '2025-02-17',\n",
              " '2025-02-10',\n",
              " '2025-02-18',\n",
              " '2025-02-11',\n",
              " '2025-02-16',\n",
              " '2025-02-14',\n",
              " '2025-02-17',\n",
              " '2025-02-11',\n",
              " '2025-02-19',\n",
              " '2025-02-17',\n",
              " '2025-02-16',\n",
              " '2025-02-16',\n",
              " '2025-02-15',\n",
              " '2025-02-12',\n",
              " '2025-02-10',\n",
              " '2025-02-15',\n",
              " '2025-02-18',\n",
              " '2025-02-12',\n",
              " '2025-02-14',\n",
              " '2025-02-14',\n",
              " '2025-02-14',\n",
              " '2025-02-19',\n",
              " '2025-02-13',\n",
              " '2025-02-18',\n",
              " '2025-02-19',\n",
              " '2025-02-14',\n",
              " '2025-02-11',\n",
              " '2025-02-19',\n",
              " '2025-02-16',\n",
              " '2025-02-11',\n",
              " '2025-02-16',\n",
              " '2025-02-17',\n",
              " '2025-02-16',\n",
              " '2025-02-16',\n",
              " '2025-02-13',\n",
              " '2025-02-16',\n",
              " '2025-02-16',\n",
              " '2025-02-15',\n",
              " '2025-02-19',\n",
              " '2025-02-18',\n",
              " '2025-02-11',\n",
              " '2025-02-15',\n",
              " '2025-02-12',\n",
              " '2025-02-18',\n",
              " '2025-02-11',\n",
              " '2025-02-10',\n",
              " '2025-02-10',\n",
              " '2025-02-19',\n",
              " '2025-02-14',\n",
              " '2025-02-16',\n",
              " '2025-02-17',\n",
              " '2025-02-12',\n",
              " '2025-02-18',\n",
              " '2025-02-10',\n",
              " '2025-02-19',\n",
              " '2025-02-19',\n",
              " '2025-02-13']"
            ]
          },
          "metadata": {},
          "execution_count": 109
        }
      ]
    },
    {
      "cell_type": "code",
      "source": [
        "rdd_parsed.map(lambda x: x[2]).distinct().collect()"
      ],
      "metadata": {
        "colab": {
          "base_uri": "https://localhost:8080/"
        },
        "id": "fjprIKnzM_NU",
        "outputId": "a1568224-cab6-422e-9942-e5ba8f3860e9"
      },
      "execution_count": 110,
      "outputs": [
        {
          "output_type": "execute_result",
          "data": {
            "text/plain": [
              "['2025-02-11',\n",
              " '2025-02-13',\n",
              " '2025-02-19',\n",
              " '2025-02-12',\n",
              " '2025-02-14',\n",
              " '2025-02-17',\n",
              " '2025-02-18',\n",
              " '2025-02-15',\n",
              " '2025-02-16',\n",
              " '2025-02-10']"
            ]
          },
          "metadata": {},
          "execution_count": 110
        }
      ]
    },
    {
      "cell_type": "code",
      "source": [
        "# 8. Общее число дат, когда были поисковые запросы\n",
        "unique_dates = rdd_parsed.map(lambda x: x[2]).distinct().count()\n",
        "print(f\"8. Общее число дат, когда были поисковые запросы: {unique_dates}\")"
      ],
      "metadata": {
        "colab": {
          "base_uri": "https://localhost:8080/"
        },
        "id": "1twpjkeHfvvh",
        "outputId": "36fe5808-71b1-478c-9971-0ab2836ccab2"
      },
      "execution_count": 111,
      "outputs": [
        {
          "output_type": "stream",
          "name": "stdout",
          "text": [
            "8. Общее число дат, когда были поисковые запросы: 10\n"
          ]
        }
      ]
    },
    {
      "cell_type": "code",
      "source": [],
      "metadata": {
        "id": "zWEYRDM0gA4P"
      },
      "execution_count": null,
      "outputs": []
    },
    {
      "cell_type": "code",
      "source": [
        "rdd_parsed.take(5)"
      ],
      "metadata": {
        "colab": {
          "base_uri": "https://localhost:8080/"
        },
        "id": "yb_T7gqYNPqg",
        "outputId": "d24e8aba-f429-4ac4-9e1d-e9070bf3f895"
      },
      "execution_count": 112,
      "outputs": [
        {
          "output_type": "execute_result",
          "data": {
            "text/plain": [
              "[('карта', 3, '2025-02-11'),\n",
              " ('погода', 5, '2025-02-13'),\n",
              " ('котики', 5, '2025-02-11'),\n",
              " ('игры', 2, '2025-02-14'),\n",
              " ('погода', 1, '2025-02-17')]"
            ]
          },
          "metadata": {},
          "execution_count": 112
        }
      ]
    },
    {
      "cell_type": "markdown",
      "source": [
        "\n",
        "\n",
        "1.   groupBy\n",
        "2.   groupByKey\n",
        "3.   reduceByKey\n",
        "\n"
      ],
      "metadata": {
        "id": "izhEzfT_O1pM"
      }
    },
    {
      "cell_type": "code",
      "source": [
        "rdd_parsed.map(lambda x: (x[0], x[2])).distinct().map(lambda x: (x[0], 1)) \\\n",
        "  .reduceByKey(lambda a, b: a + b).take(5)"
      ],
      "metadata": {
        "colab": {
          "base_uri": "https://localhost:8080/"
        },
        "id": "teA73i9wNjVs",
        "outputId": "14b26bbd-8192-4915-e14e-081244468172"
      },
      "execution_count": 114,
      "outputs": [
        {
          "output_type": "execute_result",
          "data": {
            "text/plain": [
              "[('ютуб', 9), ('спорт', 8), ('игры', 8), ('музыка', 9), ('фильмы', 10)]"
            ]
          },
          "metadata": {},
          "execution_count": 114
        }
      ]
    },
    {
      "cell_type": "code",
      "source": [
        "# 9. Запрос с наибольшим числом дней появления\n",
        "query_day_count = rdd_parsed.map(lambda x: (x[0], x[2])).distinct().map(lambda x: (x[0], 1)) \\\n",
        "                            .reduceByKey(lambda a, b: a + b)\n",
        "max_days_request = query_day_count.max(key=lambda x: x[1])\n",
        "print(f\"9. Запрос с наибольшим числом дней появления: {max_days_request}\")"
      ],
      "metadata": {
        "colab": {
          "base_uri": "https://localhost:8080/"
        },
        "id": "KBB_OtNjfzSt",
        "outputId": "7e8b986a-3a2e-4f4c-92f6-93df1277fa5a"
      },
      "execution_count": 115,
      "outputs": [
        {
          "output_type": "stream",
          "name": "stdout",
          "text": [
            "9. Запрос с наибольшим числом дней появления: ('фильмы', 10)\n"
          ]
        }
      ]
    },
    {
      "cell_type": "code",
      "source": [],
      "metadata": {
        "id": "L-vni5dDgBUf"
      },
      "execution_count": null,
      "outputs": []
    },
    {
      "cell_type": "code",
      "source": [
        "rdd_parsed.take(5)"
      ],
      "metadata": {
        "colab": {
          "base_uri": "https://localhost:8080/"
        },
        "id": "aGZyqAaUPY1Y",
        "outputId": "5a3e2db0-0082-4c02-fd7c-d9104ca0af42"
      },
      "execution_count": 116,
      "outputs": [
        {
          "output_type": "execute_result",
          "data": {
            "text/plain": [
              "[('карта', 3, '2025-02-11'),\n",
              " ('погода', 5, '2025-02-13'),\n",
              " ('котики', 5, '2025-02-11'),\n",
              " ('игры', 2, '2025-02-14'),\n",
              " ('погода', 1, '2025-02-17')]"
            ]
          },
          "metadata": {},
          "execution_count": 116
        }
      ]
    },
    {
      "cell_type": "code",
      "source": [
        "rdd_parsed.map(lambda x: (x[2], x[1])).reduceByKey(lambda a, b: a + b).take(5)"
      ],
      "metadata": {
        "colab": {
          "base_uri": "https://localhost:8080/"
        },
        "id": "DC9bOD4KPmYj",
        "outputId": "eb6c6cc3-118e-4639-a261-35b5e58ca64c"
      },
      "execution_count": 117,
      "outputs": [
        {
          "output_type": "execute_result",
          "data": {
            "text/plain": [
              "[('2025-02-11', 97),\n",
              " ('2025-02-13', 73),\n",
              " ('2025-02-19', 91),\n",
              " ('2025-02-12', 62),\n",
              " ('2025-02-14', 62)]"
            ]
          },
          "metadata": {},
          "execution_count": 117
        }
      ]
    },
    {
      "cell_type": "code",
      "source": [
        "# 10. Самая популярная дата по просмотрам\n",
        "popular_date = rdd_parsed.map(lambda x: (x[2], x[1])).reduceByKey(lambda a, b: a + b) \\\n",
        "                         .max(key=lambda x: x[1])\n",
        "print(f\"10. Самая популярная дата по просмотрам: {popular_date}\")"
      ],
      "metadata": {
        "colab": {
          "base_uri": "https://localhost:8080/"
        },
        "id": "kd5QGvusf3Eg",
        "outputId": "1be0e0e6-d88d-440f-a512-eeaa07cfc231"
      },
      "execution_count": 118,
      "outputs": [
        {
          "output_type": "stream",
          "name": "stdout",
          "text": [
            "10. Самая популярная дата по просмотрам: ('2025-02-11', 97)\n"
          ]
        }
      ]
    },
    {
      "cell_type": "code",
      "source": [],
      "metadata": {
        "id": "T-EbVoQQd2lP"
      },
      "execution_count": null,
      "outputs": []
    },
    {
      "cell_type": "code",
      "source": [
        "rdd_parsed.take(5)"
      ],
      "metadata": {
        "colab": {
          "base_uri": "https://localhost:8080/"
        },
        "id": "IlG4qlgzQFHY",
        "outputId": "831e8818-578d-4fa3-d2fd-a4e81fe68c9b"
      },
      "execution_count": 119,
      "outputs": [
        {
          "output_type": "execute_result",
          "data": {
            "text/plain": [
              "[('карта', 3, '2025-02-11'),\n",
              " ('погода', 5, '2025-02-13'),\n",
              " ('котики', 5, '2025-02-11'),\n",
              " ('игры', 2, '2025-02-14'),\n",
              " ('погода', 1, '2025-02-17')]"
            ]
          },
          "metadata": {},
          "execution_count": 119
        }
      ]
    },
    {
      "cell_type": "code",
      "source": [
        "# 11. Дата с наибольшим количеством уникальных запросов\n",
        "unique_queries_per_date = rdd_parsed.map(lambda x: (x[2], x[0])).distinct() \\\n",
        "                                    .map(lambda x: (x[0], 1)).reduceByKey(lambda a, b: a + b)\n",
        "max_unique_query_date = unique_queries_per_date.max(key=lambda x: x[1])\n",
        "print(f\"11. Дата с наибольшим количеством уникальных запросов: {max_unique_query_date}\")"
      ],
      "metadata": {
        "colab": {
          "base_uri": "https://localhost:8080/"
        },
        "id": "BoWCzBsCV0CP",
        "outputId": "68b1dd05-f65d-4e0e-9fce-871ee66d729c"
      },
      "execution_count": 126,
      "outputs": [
        {
          "output_type": "stream",
          "name": "stdout",
          "text": [
            "11. Дата с наибольшим количеством уникальных запросов: ('2025-02-11', 14)\n"
          ]
        }
      ]
    },
    {
      "cell_type": "code",
      "source": [],
      "metadata": {
        "id": "grqUqAe7ipYK"
      },
      "execution_count": null,
      "outputs": []
    },
    {
      "cell_type": "code",
      "source": [
        "# 11. Дата с наибольшим количеством уникальных запросов\n",
        "unique_queries_per_date = rdd_parsed.map(lambda x: (x[2], x[0])).distinct() \\\n",
        "                                    .map(lambda x: (x[0], 1)).reduceByKey(lambda a, b: a + b)\n",
        "max_unique_query_date = unique_queries_per_date.min(key=lambda x: x[1])\n",
        "print(f\"11. Дата с наибольшим количеством уникальных запросов: {max_unique_query_date}\")"
      ],
      "metadata": {
        "colab": {
          "base_uri": "https://localhost:8080/"
        },
        "id": "YMVSJLQFSk8T",
        "outputId": "dffccb23-4ed4-4667-e036-fe3e22275c38"
      },
      "execution_count": 131,
      "outputs": [
        {
          "output_type": "stream",
          "name": "stdout",
          "text": [
            "11. Дата с наибольшим количеством уникальных запросов: ('2025-02-18', 9)\n"
          ]
        }
      ]
    },
    {
      "cell_type": "code",
      "source": [
        "rdd_parsed.take(5)"
      ],
      "metadata": {
        "colab": {
          "base_uri": "https://localhost:8080/"
        },
        "id": "5xNuY6h-R_kb",
        "outputId": "a0a7ec68-99dd-49b0-ff34-9ae9b4c15db9"
      },
      "execution_count": 128,
      "outputs": [
        {
          "output_type": "execute_result",
          "data": {
            "text/plain": [
              "[('карта', 3, '2025-02-11'),\n",
              " ('погода', 5, '2025-02-13'),\n",
              " ('котики', 5, '2025-02-11'),\n",
              " ('игры', 2, '2025-02-14'),\n",
              " ('погода', 1, '2025-02-17')]"
            ]
          },
          "metadata": {},
          "execution_count": 128
        }
      ]
    },
    {
      "cell_type": "code",
      "source": [
        "unique_queries_per_date.count()"
      ],
      "metadata": {
        "colab": {
          "base_uri": "https://localhost:8080/"
        },
        "id": "JXdTmmDhR6rw",
        "outputId": "7921ce99-1766-453f-c4ab-f32adf0b21a1"
      },
      "execution_count": 130,
      "outputs": [
        {
          "output_type": "execute_result",
          "data": {
            "text/plain": [
              "10"
            ]
          },
          "metadata": {},
          "execution_count": 130
        }
      ]
    },
    {
      "cell_type": "code",
      "source": [
        "# 12. Общее количество дней, когда было более 3 уникальных запросов\n",
        "days_with_more_than_3_queries = unique_queries_per_date.filter(lambda x: x[1] > 10).count()\n",
        "print(f\"12. Общее количество дней с >3 уникальными запросами: {days_with_more_than_3_queries}\")"
      ],
      "metadata": {
        "colab": {
          "base_uri": "https://localhost:8080/"
        },
        "id": "QP6psAD7ipVr",
        "outputId": "16e0ae76-5f42-4acc-fe14-70a6001fb4b6"
      },
      "execution_count": 132,
      "outputs": [
        {
          "output_type": "stream",
          "name": "stdout",
          "text": [
            "12. Общее количество дней с >3 уникальными запросами: 8\n"
          ]
        }
      ]
    },
    {
      "cell_type": "code",
      "source": [],
      "metadata": {
        "id": "RBCpB75QipTS"
      },
      "execution_count": null,
      "outputs": []
    },
    {
      "cell_type": "code",
      "source": [
        "rdd_parsed.take(5)"
      ],
      "metadata": {
        "colab": {
          "base_uri": "https://localhost:8080/"
        },
        "id": "5OHrSHhjSvQs",
        "outputId": "3a24deda-c74f-401b-c2f5-cc4b044d049a"
      },
      "execution_count": 133,
      "outputs": [
        {
          "output_type": "execute_result",
          "data": {
            "text/plain": [
              "[('карта', 3, '2025-02-11'),\n",
              " ('погода', 5, '2025-02-13'),\n",
              " ('котики', 5, '2025-02-11'),\n",
              " ('игры', 2, '2025-02-14'),\n",
              " ('погода', 1, '2025-02-17')]"
            ]
          },
          "metadata": {},
          "execution_count": 133
        }
      ]
    },
    {
      "cell_type": "code",
      "source": [
        "# 13. Топ-3 самых популярных запроса по просмотрам\n",
        "top_3_queries = rdd_parsed.map(lambda x: (x[0], x[1])).reduceByKey(lambda a, b: a + b) \\\n",
        "                          .top(3, key=lambda x: x[1])\n",
        "print(f\"13. Топ-3 самых популярных запроса по просмотрам: {top_3_queries}\")"
      ],
      "metadata": {
        "colab": {
          "base_uri": "https://localhost:8080/"
        },
        "id": "ladFNkWgipQ_",
        "outputId": "1cd39b6b-285a-49ab-f8a1-6e4983e49d7a"
      },
      "execution_count": 134,
      "outputs": [
        {
          "output_type": "stream",
          "name": "stdout",
          "text": [
            "13. Топ-3 самых популярных запроса по просмотрам: [('игры', 68), ('авито', 65), ('вк', 61)]\n"
          ]
        }
      ]
    },
    {
      "cell_type": "code",
      "source": [
        "rdd_parsed.map(lambda x: (x[0], x[1])).reduceByKey(lambda a, b: a + b) \\\n",
        "  .map(lambda x: (x[1], x[0])) \\\n",
        "  .sortByKey().take(3)"
      ],
      "metadata": {
        "colab": {
          "base_uri": "https://localhost:8080/"
        },
        "id": "ocSMb9PETJrA",
        "outputId": "d9c10fb3-ffe6-408f-b9ef-516cfe0e2c24"
      },
      "execution_count": 149,
      "outputs": [
        {
          "output_type": "execute_result",
          "data": {
            "text/plain": [
              "[(33, 'котики'), (35, 'вконтакте'), (38, 'новости')]"
            ]
          },
          "metadata": {},
          "execution_count": 149
        }
      ]
    },
    {
      "cell_type": "code",
      "source": [],
      "metadata": {
        "id": "2zwg7BhaioRf"
      },
      "execution_count": null,
      "outputs": []
    }
  ]
}