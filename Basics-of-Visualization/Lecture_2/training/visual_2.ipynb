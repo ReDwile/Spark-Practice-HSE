{
  "nbformat": 4,
  "nbformat_minor": 0,
  "metadata": {
    "colab": {
      "provenance": []
    },
    "kernelspec": {
      "name": "python3",
      "display_name": "Python 3"
    },
    "language_info": {
      "name": "python"
    }
  },
  "cells": [
    {
      "cell_type": "markdown",
      "source": [
        "Датасет disney_plus_titles.csv содержит информацию о фильмах и сериалах, доступных на стриминговой платформе. В нем представлены ключевые характеристики контента, такие как тип (фильм или сериал), название, режиссер, актерский состав, страна производства, дата добавления на платформу, год выпуска, возрастной рейтинг, продолжительность, жанр и краткое описание."
      ],
      "metadata": {
        "id": "1cP-75CUcEsG"
      }
    },
    {
      "cell_type": "markdown",
      "source": [
        "Бизнес-описание колонок\n",
        "1. show_id – Уникальный идентификатор контента. Используется для внутреннего учета и управления каталогом.\n",
        "2. type – Тип контента: Movie (фильм) или TV Show (сериал). Позволяет фильтровать данные по форматам.\n",
        "3. title – Название фильма или сериала. Используется для отображения пользователям и поиска контента.\n",
        "4. director – Имя режиссера (или режиссеров). Влияет на восприятие качества контента и предпочтения зрителей.\n",
        "5. cast – Список актеров, участвующих в фильме или сериале. Может использоваться для поиска по актерскому составу.\n",
        "6. country – Страна производства контента. Позволяет анализировать географическое разнообразие библиотеки.\n",
        "7. date_added – Дата добавления фильма или сериала в каталог платформы. Важно для анализа свежести контента.\n",
        "8. release_year – Год выпуска контента. Используется для анализа тенденций в кино и классификации по эпохам.\n",
        "9. rating – Возрастной рейтинг (например, TV-G, PG). Важно для регулирования доступа к контенту.\n",
        "10. duration – Длительность фильма или количество сезонов в сериале. Позволяет анализировать продолжительность контента.\n",
        "11. listed_in – Жанры контента (например, Comedy, Family). Используется для классификации и рекомендаций.\n",
        "12. description – Краткое описание фильма или сериала. Используется в пользовательском интерфейсе для привлечения внимания зрителей."
      ],
      "metadata": {
        "id": "hqwb0F5ucJbh"
      }
    },
    {
      "cell_type": "code",
      "source": [
        "!head disney_plus_titles.csv"
      ],
      "metadata": {
        "colab": {
          "base_uri": "https://localhost:8080/"
        },
        "id": "W8ige9qgaXr8",
        "outputId": "b206d51e-c217-4ecd-bfc3-9f2e5ea7b5ec"
      },
      "execution_count": 68,
      "outputs": [
        {
          "output_type": "stream",
          "name": "stdout",
          "text": [
            "show_id,type,title,director,cast,country,date_added,release_year,rating,duration,listed_in,description\n",
            "s1,Movie,Duck the Halls: A Mickey Mouse Christmas Special,\"Alonso Ramirez Ramos, Dave Wasson\",\"Chris Diamantopoulos, Tony Anselmo, Tress MacNeille, Bill Farmer, Russi Taylor, Corey Burton\",,\"November 26, 2021\",2016,TV-G,23 min,\"Animation, Family\",Join Mickey and the gang as they duck the halls!\n",
            "s2,Movie,Ernest Saves Christmas,John Cherry,\"Jim Varney, Noelle Parker, Douglas Seale\",,\"November 26, 2021\",1988,PG,91 min,Comedy,Santa Claus passes his magic bag to a new St. Nic.\n",
            "s3,Movie,Ice Age: A Mammoth Christmas,Karen Disher,\"Raymond Albert Romano, John Leguizamo, Denis Leary, Queen Latifah\",United States,\"November 26, 2021\",2011,TV-G,23 min,\"Animation, Comedy, Family\",Sid the Sloth is on Santa's naughty list.\n",
            "s4,Movie,The Queen Family Singalong,Hamish Hamilton,\"Darren Criss, Adam Lambert, Derek Hough, Alexander Jean, Fall Out Boy, Jimmie Allen\",,\"November 26, 2021\",2021,TV-PG,41 min,Musical,\"This is real life, not just fantasy!\"\n",
            "s5,TV Show,The Beatles: Get Back,,\"John Lennon, Paul McCartney, George Harrison, Ringo Starr\",,\"November 25, 2021\",2021,,1 Season,\"Docuseries, Historical, Music\",A three-part documentary from Peter Jackson capturing a moment in music history with The Beatles.\n",
            "s6,Movie,Becoming Cousteau,Liz Garbus,\"Jacques Yves Cousteau, Vincent Cassel\",United States,\"November 24, 2021\",2021,PG-13,94 min,\"Biographical, Documentary\",An inside look at the legendary life of adventurer Jacques-Yves Cousteau.\n",
            "s7,TV Show,Hawkeye,,\"Jeremy Renner, Hailee Steinfeld, Vera Farmiga, Fra Fee, Tony Dalton, Zahn McClarnon\",,\"November 24, 2021\",2021,TV-14,1 Season,\"Action-Adventure, Superhero\",Clint Barton/Hawkeye must team up with skilled archer Kate Bishop to unravel a criminal conspiracy.\n",
            "s8,TV Show,Port Protection Alaska,,\"Gary Muehlberger, Mary Miller, Curly Leach, Sam Carlson, Stuart Andrews, David Squibb\",United States,\"November 24, 2021\",2015,TV-14,2 Seasons,\"Docuseries, Reality, Survival\",Residents of Port Protection must combat volatile conditions to survive and thrive in Alaska.\n",
            "s9,TV Show,Secrets of the Zoo: Tampa,,\"Dr. Ray Ball, Dr. Lauren Smith, Chris Massaro, Tiffany Burns, Mike Burns, Melinda Mendolusky\",United States,\"November 24, 2021\",2019,TV-PG,2 Seasons,\"Animals & Nature, Docuseries, Family\",A day in the life at ZooTampa is anything but ordinary. It's extraordinary!\n"
          ]
        }
      ]
    },
    {
      "cell_type": "markdown",
      "source": [
        "# Общие принципы matplotlib"
      ],
      "metadata": {
        "id": "zNCFQZYraaWM"
      }
    },
    {
      "cell_type": "markdown",
      "source": [
        "Библиотека matplotlib устанавливается и импортируется так же, как и другие библиотеки\n",
        "\n",
        "https://matplotlib.org/stable/api/pyplot_summary.html"
      ],
      "metadata": {
        "id": "M3dsm7kzhUn2"
      }
    },
    {
      "cell_type": "code",
      "source": [
        "import matplotlib.pyplot as plt\n",
        "import pandas as pd"
      ],
      "metadata": {
        "id": "JZGepJjiaZs6"
      },
      "execution_count": 69,
      "outputs": []
    },
    {
      "cell_type": "markdown",
      "source": [
        "Создание визуализаций можно представить как последовательное добавление различных элементов итогового графика:\n",
        "\n",
        "1. пустого графика с осями;\n",
        "2. элементов, отображающих переменные;\n",
        "3. подписей;\n",
        "4. цвета и стиля."
      ],
      "metadata": {
        "id": "dwkxLPU9bdqQ"
      }
    },
    {
      "cell_type": "markdown",
      "source": [
        "## Гистограммы"
      ],
      "metadata": {
        "id": "y1idmp6Obkgu"
      }
    },
    {
      "cell_type": "markdown",
      "source": [
        "Гистограммы — такой вид визуализаций, где рассматривается распределение значений по одному параметру. Например, мы можем посмотреть, каким было распределение значений по году производства фильма или шоу."
      ],
      "metadata": {
        "id": "yZdzskekbn3H"
      }
    },
    {
      "cell_type": "code",
      "source": [
        "df = pd.read_csv('disney_plus_titles.csv')\n",
        "df.head()"
      ],
      "metadata": {
        "colab": {
          "base_uri": "https://localhost:8080/",
          "height": 293
        },
        "id": "hyccn8ElhtiT",
        "outputId": "d48a94de-17f8-4b9f-ff1e-66b614adb792"
      },
      "execution_count": 70,
      "outputs": [
        {
          "output_type": "execute_result",
          "data": {
            "text/plain": [
              "  show_id     type                                             title  \\\n",
              "0      s1    Movie  Duck the Halls: A Mickey Mouse Christmas Special   \n",
              "1      s2    Movie                            Ernest Saves Christmas   \n",
              "2      s3    Movie                      Ice Age: A Mammoth Christmas   \n",
              "3      s4    Movie                        The Queen Family Singalong   \n",
              "4      s5  TV Show                             The Beatles: Get Back   \n",
              "\n",
              "                            director  \\\n",
              "0  Alonso Ramirez Ramos, Dave Wasson   \n",
              "1                        John Cherry   \n",
              "2                       Karen Disher   \n",
              "3                    Hamish Hamilton   \n",
              "4                                NaN   \n",
              "\n",
              "                                                cast        country  \\\n",
              "0  Chris Diamantopoulos, Tony Anselmo, Tress MacN...            NaN   \n",
              "1           Jim Varney, Noelle Parker, Douglas Seale            NaN   \n",
              "2  Raymond Albert Romano, John Leguizamo, Denis L...  United States   \n",
              "3  Darren Criss, Adam Lambert, Derek Hough, Alexa...            NaN   \n",
              "4  John Lennon, Paul McCartney, George Harrison, ...            NaN   \n",
              "\n",
              "          date_added  release_year rating  duration  \\\n",
              "0  November 26, 2021          2016   TV-G    23 min   \n",
              "1  November 26, 2021          1988     PG    91 min   \n",
              "2  November 26, 2021          2011   TV-G    23 min   \n",
              "3  November 26, 2021          2021  TV-PG    41 min   \n",
              "4  November 25, 2021          2021    NaN  1 Season   \n",
              "\n",
              "                       listed_in  \\\n",
              "0              Animation, Family   \n",
              "1                         Comedy   \n",
              "2      Animation, Comedy, Family   \n",
              "3                        Musical   \n",
              "4  Docuseries, Historical, Music   \n",
              "\n",
              "                                         description  \n",
              "0   Join Mickey and the gang as they duck the halls!  \n",
              "1  Santa Claus passes his magic bag to a new St. ...  \n",
              "2          Sid the Sloth is on Santa's naughty list.  \n",
              "3               This is real life, not just fantasy!  \n",
              "4  A three-part documentary from Peter Jackson ca...  "
            ],
            "text/html": [
              "\n",
              "  <div id=\"df-05653ce7-6c34-4fb9-8171-eed0fc3ba3b2\" class=\"colab-df-container\">\n",
              "    <div>\n",
              "<style scoped>\n",
              "    .dataframe tbody tr th:only-of-type {\n",
              "        vertical-align: middle;\n",
              "    }\n",
              "\n",
              "    .dataframe tbody tr th {\n",
              "        vertical-align: top;\n",
              "    }\n",
              "\n",
              "    .dataframe thead th {\n",
              "        text-align: right;\n",
              "    }\n",
              "</style>\n",
              "<table border=\"1\" class=\"dataframe\">\n",
              "  <thead>\n",
              "    <tr style=\"text-align: right;\">\n",
              "      <th></th>\n",
              "      <th>show_id</th>\n",
              "      <th>type</th>\n",
              "      <th>title</th>\n",
              "      <th>director</th>\n",
              "      <th>cast</th>\n",
              "      <th>country</th>\n",
              "      <th>date_added</th>\n",
              "      <th>release_year</th>\n",
              "      <th>rating</th>\n",
              "      <th>duration</th>\n",
              "      <th>listed_in</th>\n",
              "      <th>description</th>\n",
              "    </tr>\n",
              "  </thead>\n",
              "  <tbody>\n",
              "    <tr>\n",
              "      <th>0</th>\n",
              "      <td>s1</td>\n",
              "      <td>Movie</td>\n",
              "      <td>Duck the Halls: A Mickey Mouse Christmas Special</td>\n",
              "      <td>Alonso Ramirez Ramos, Dave Wasson</td>\n",
              "      <td>Chris Diamantopoulos, Tony Anselmo, Tress MacN...</td>\n",
              "      <td>NaN</td>\n",
              "      <td>November 26, 2021</td>\n",
              "      <td>2016</td>\n",
              "      <td>TV-G</td>\n",
              "      <td>23 min</td>\n",
              "      <td>Animation, Family</td>\n",
              "      <td>Join Mickey and the gang as they duck the halls!</td>\n",
              "    </tr>\n",
              "    <tr>\n",
              "      <th>1</th>\n",
              "      <td>s2</td>\n",
              "      <td>Movie</td>\n",
              "      <td>Ernest Saves Christmas</td>\n",
              "      <td>John Cherry</td>\n",
              "      <td>Jim Varney, Noelle Parker, Douglas Seale</td>\n",
              "      <td>NaN</td>\n",
              "      <td>November 26, 2021</td>\n",
              "      <td>1988</td>\n",
              "      <td>PG</td>\n",
              "      <td>91 min</td>\n",
              "      <td>Comedy</td>\n",
              "      <td>Santa Claus passes his magic bag to a new St. ...</td>\n",
              "    </tr>\n",
              "    <tr>\n",
              "      <th>2</th>\n",
              "      <td>s3</td>\n",
              "      <td>Movie</td>\n",
              "      <td>Ice Age: A Mammoth Christmas</td>\n",
              "      <td>Karen Disher</td>\n",
              "      <td>Raymond Albert Romano, John Leguizamo, Denis L...</td>\n",
              "      <td>United States</td>\n",
              "      <td>November 26, 2021</td>\n",
              "      <td>2011</td>\n",
              "      <td>TV-G</td>\n",
              "      <td>23 min</td>\n",
              "      <td>Animation, Comedy, Family</td>\n",
              "      <td>Sid the Sloth is on Santa's naughty list.</td>\n",
              "    </tr>\n",
              "    <tr>\n",
              "      <th>3</th>\n",
              "      <td>s4</td>\n",
              "      <td>Movie</td>\n",
              "      <td>The Queen Family Singalong</td>\n",
              "      <td>Hamish Hamilton</td>\n",
              "      <td>Darren Criss, Adam Lambert, Derek Hough, Alexa...</td>\n",
              "      <td>NaN</td>\n",
              "      <td>November 26, 2021</td>\n",
              "      <td>2021</td>\n",
              "      <td>TV-PG</td>\n",
              "      <td>41 min</td>\n",
              "      <td>Musical</td>\n",
              "      <td>This is real life, not just fantasy!</td>\n",
              "    </tr>\n",
              "    <tr>\n",
              "      <th>4</th>\n",
              "      <td>s5</td>\n",
              "      <td>TV Show</td>\n",
              "      <td>The Beatles: Get Back</td>\n",
              "      <td>NaN</td>\n",
              "      <td>John Lennon, Paul McCartney, George Harrison, ...</td>\n",
              "      <td>NaN</td>\n",
              "      <td>November 25, 2021</td>\n",
              "      <td>2021</td>\n",
              "      <td>NaN</td>\n",
              "      <td>1 Season</td>\n",
              "      <td>Docuseries, Historical, Music</td>\n",
              "      <td>A three-part documentary from Peter Jackson ca...</td>\n",
              "    </tr>\n",
              "  </tbody>\n",
              "</table>\n",
              "</div>\n",
              "    <div class=\"colab-df-buttons\">\n",
              "\n",
              "  <div class=\"colab-df-container\">\n",
              "    <button class=\"colab-df-convert\" onclick=\"convertToInteractive('df-05653ce7-6c34-4fb9-8171-eed0fc3ba3b2')\"\n",
              "            title=\"Convert this dataframe to an interactive table.\"\n",
              "            style=\"display:none;\">\n",
              "\n",
              "  <svg xmlns=\"http://www.w3.org/2000/svg\" height=\"24px\" viewBox=\"0 -960 960 960\">\n",
              "    <path d=\"M120-120v-720h720v720H120Zm60-500h600v-160H180v160Zm220 220h160v-160H400v160Zm0 220h160v-160H400v160ZM180-400h160v-160H180v160Zm440 0h160v-160H620v160ZM180-180h160v-160H180v160Zm440 0h160v-160H620v160Z\"/>\n",
              "  </svg>\n",
              "    </button>\n",
              "\n",
              "  <style>\n",
              "    .colab-df-container {\n",
              "      display:flex;\n",
              "      gap: 12px;\n",
              "    }\n",
              "\n",
              "    .colab-df-convert {\n",
              "      background-color: #E8F0FE;\n",
              "      border: none;\n",
              "      border-radius: 50%;\n",
              "      cursor: pointer;\n",
              "      display: none;\n",
              "      fill: #1967D2;\n",
              "      height: 32px;\n",
              "      padding: 0 0 0 0;\n",
              "      width: 32px;\n",
              "    }\n",
              "\n",
              "    .colab-df-convert:hover {\n",
              "      background-color: #E2EBFA;\n",
              "      box-shadow: 0px 1px 2px rgba(60, 64, 67, 0.3), 0px 1px 3px 1px rgba(60, 64, 67, 0.15);\n",
              "      fill: #174EA6;\n",
              "    }\n",
              "\n",
              "    .colab-df-buttons div {\n",
              "      margin-bottom: 4px;\n",
              "    }\n",
              "\n",
              "    [theme=dark] .colab-df-convert {\n",
              "      background-color: #3B4455;\n",
              "      fill: #D2E3FC;\n",
              "    }\n",
              "\n",
              "    [theme=dark] .colab-df-convert:hover {\n",
              "      background-color: #434B5C;\n",
              "      box-shadow: 0px 1px 3px 1px rgba(0, 0, 0, 0.15);\n",
              "      filter: drop-shadow(0px 1px 2px rgba(0, 0, 0, 0.3));\n",
              "      fill: #FFFFFF;\n",
              "    }\n",
              "  </style>\n",
              "\n",
              "    <script>\n",
              "      const buttonEl =\n",
              "        document.querySelector('#df-05653ce7-6c34-4fb9-8171-eed0fc3ba3b2 button.colab-df-convert');\n",
              "      buttonEl.style.display =\n",
              "        google.colab.kernel.accessAllowed ? 'block' : 'none';\n",
              "\n",
              "      async function convertToInteractive(key) {\n",
              "        const element = document.querySelector('#df-05653ce7-6c34-4fb9-8171-eed0fc3ba3b2');\n",
              "        const dataTable =\n",
              "          await google.colab.kernel.invokeFunction('convertToInteractive',\n",
              "                                                    [key], {});\n",
              "        if (!dataTable) return;\n",
              "\n",
              "        const docLinkHtml = 'Like what you see? Visit the ' +\n",
              "          '<a target=\"_blank\" href=https://colab.research.google.com/notebooks/data_table.ipynb>data table notebook</a>'\n",
              "          + ' to learn more about interactive tables.';\n",
              "        element.innerHTML = '';\n",
              "        dataTable['output_type'] = 'display_data';\n",
              "        await google.colab.output.renderOutput(dataTable, element);\n",
              "        const docLink = document.createElement('div');\n",
              "        docLink.innerHTML = docLinkHtml;\n",
              "        element.appendChild(docLink);\n",
              "      }\n",
              "    </script>\n",
              "  </div>\n",
              "\n",
              "\n",
              "<div id=\"df-f56399a6-2296-4ac4-924f-c9064b5c837f\">\n",
              "  <button class=\"colab-df-quickchart\" onclick=\"quickchart('df-f56399a6-2296-4ac4-924f-c9064b5c837f')\"\n",
              "            title=\"Suggest charts\"\n",
              "            style=\"display:none;\">\n",
              "\n",
              "<svg xmlns=\"http://www.w3.org/2000/svg\" height=\"24px\"viewBox=\"0 0 24 24\"\n",
              "     width=\"24px\">\n",
              "    <g>\n",
              "        <path d=\"M19 3H5c-1.1 0-2 .9-2 2v14c0 1.1.9 2 2 2h14c1.1 0 2-.9 2-2V5c0-1.1-.9-2-2-2zM9 17H7v-7h2v7zm4 0h-2V7h2v10zm4 0h-2v-4h2v4z\"/>\n",
              "    </g>\n",
              "</svg>\n",
              "  </button>\n",
              "\n",
              "<style>\n",
              "  .colab-df-quickchart {\n",
              "      --bg-color: #E8F0FE;\n",
              "      --fill-color: #1967D2;\n",
              "      --hover-bg-color: #E2EBFA;\n",
              "      --hover-fill-color: #174EA6;\n",
              "      --disabled-fill-color: #AAA;\n",
              "      --disabled-bg-color: #DDD;\n",
              "  }\n",
              "\n",
              "  [theme=dark] .colab-df-quickchart {\n",
              "      --bg-color: #3B4455;\n",
              "      --fill-color: #D2E3FC;\n",
              "      --hover-bg-color: #434B5C;\n",
              "      --hover-fill-color: #FFFFFF;\n",
              "      --disabled-bg-color: #3B4455;\n",
              "      --disabled-fill-color: #666;\n",
              "  }\n",
              "\n",
              "  .colab-df-quickchart {\n",
              "    background-color: var(--bg-color);\n",
              "    border: none;\n",
              "    border-radius: 50%;\n",
              "    cursor: pointer;\n",
              "    display: none;\n",
              "    fill: var(--fill-color);\n",
              "    height: 32px;\n",
              "    padding: 0;\n",
              "    width: 32px;\n",
              "  }\n",
              "\n",
              "  .colab-df-quickchart:hover {\n",
              "    background-color: var(--hover-bg-color);\n",
              "    box-shadow: 0 1px 2px rgba(60, 64, 67, 0.3), 0 1px 3px 1px rgba(60, 64, 67, 0.15);\n",
              "    fill: var(--button-hover-fill-color);\n",
              "  }\n",
              "\n",
              "  .colab-df-quickchart-complete:disabled,\n",
              "  .colab-df-quickchart-complete:disabled:hover {\n",
              "    background-color: var(--disabled-bg-color);\n",
              "    fill: var(--disabled-fill-color);\n",
              "    box-shadow: none;\n",
              "  }\n",
              "\n",
              "  .colab-df-spinner {\n",
              "    border: 2px solid var(--fill-color);\n",
              "    border-color: transparent;\n",
              "    border-bottom-color: var(--fill-color);\n",
              "    animation:\n",
              "      spin 1s steps(1) infinite;\n",
              "  }\n",
              "\n",
              "  @keyframes spin {\n",
              "    0% {\n",
              "      border-color: transparent;\n",
              "      border-bottom-color: var(--fill-color);\n",
              "      border-left-color: var(--fill-color);\n",
              "    }\n",
              "    20% {\n",
              "      border-color: transparent;\n",
              "      border-left-color: var(--fill-color);\n",
              "      border-top-color: var(--fill-color);\n",
              "    }\n",
              "    30% {\n",
              "      border-color: transparent;\n",
              "      border-left-color: var(--fill-color);\n",
              "      border-top-color: var(--fill-color);\n",
              "      border-right-color: var(--fill-color);\n",
              "    }\n",
              "    40% {\n",
              "      border-color: transparent;\n",
              "      border-right-color: var(--fill-color);\n",
              "      border-top-color: var(--fill-color);\n",
              "    }\n",
              "    60% {\n",
              "      border-color: transparent;\n",
              "      border-right-color: var(--fill-color);\n",
              "    }\n",
              "    80% {\n",
              "      border-color: transparent;\n",
              "      border-right-color: var(--fill-color);\n",
              "      border-bottom-color: var(--fill-color);\n",
              "    }\n",
              "    90% {\n",
              "      border-color: transparent;\n",
              "      border-bottom-color: var(--fill-color);\n",
              "    }\n",
              "  }\n",
              "</style>\n",
              "\n",
              "  <script>\n",
              "    async function quickchart(key) {\n",
              "      const quickchartButtonEl =\n",
              "        document.querySelector('#' + key + ' button');\n",
              "      quickchartButtonEl.disabled = true;  // To prevent multiple clicks.\n",
              "      quickchartButtonEl.classList.add('colab-df-spinner');\n",
              "      try {\n",
              "        const charts = await google.colab.kernel.invokeFunction(\n",
              "            'suggestCharts', [key], {});\n",
              "      } catch (error) {\n",
              "        console.error('Error during call to suggestCharts:', error);\n",
              "      }\n",
              "      quickchartButtonEl.classList.remove('colab-df-spinner');\n",
              "      quickchartButtonEl.classList.add('colab-df-quickchart-complete');\n",
              "    }\n",
              "    (() => {\n",
              "      let quickchartButtonEl =\n",
              "        document.querySelector('#df-f56399a6-2296-4ac4-924f-c9064b5c837f button');\n",
              "      quickchartButtonEl.style.display =\n",
              "        google.colab.kernel.accessAllowed ? 'block' : 'none';\n",
              "    })();\n",
              "  </script>\n",
              "</div>\n",
              "    </div>\n",
              "  </div>\n"
            ],
            "application/vnd.google.colaboratory.intrinsic+json": {
              "type": "dataframe",
              "variable_name": "df",
              "summary": "{\n  \"name\": \"df\",\n  \"rows\": 1450,\n  \"fields\": [\n    {\n      \"column\": \"show_id\",\n      \"properties\": {\n        \"dtype\": \"string\",\n        \"num_unique_values\": 1450,\n        \"samples\": [\n          \"s539\",\n          \"s755\",\n          \"s50\"\n        ],\n        \"semantic_type\": \"\",\n        \"description\": \"\"\n      }\n    },\n    {\n      \"column\": \"type\",\n      \"properties\": {\n        \"dtype\": \"category\",\n        \"num_unique_values\": 2,\n        \"samples\": [\n          \"TV Show\",\n          \"Movie\"\n        ],\n        \"semantic_type\": \"\",\n        \"description\": \"\"\n      }\n    },\n    {\n      \"column\": \"title\",\n      \"properties\": {\n        \"dtype\": \"string\",\n        \"num_unique_values\": 1450,\n        \"samples\": [\n          \"Homeward Bound II: Lost in San Francisco\",\n          \"Boat Builders\"\n        ],\n        \"semantic_type\": \"\",\n        \"description\": \"\"\n      }\n    },\n    {\n      \"column\": \"director\",\n      \"properties\": {\n        \"dtype\": \"category\",\n        \"num_unique_values\": 609,\n        \"samples\": [\n          \"Richard Fleischer\",\n          \"Glenn Weiss\"\n        ],\n        \"semantic_type\": \"\",\n        \"description\": \"\"\n      }\n    },\n    {\n      \"column\": \"cast\",\n      \"properties\": {\n        \"dtype\": \"string\",\n        \"num_unique_values\": 1193,\n        \"samples\": [\n          \"Thomas Nicholas, Joss Ackland, Art Malik, Paloma Baeza, Kate Winslet, Daniel Craig\",\n          \"Hutch Dano, G. Hannelius, Maurice Godin, David Lambert, Kelsy Chow, Debra Mooney\"\n        ],\n        \"semantic_type\": \"\",\n        \"description\": \"\"\n      }\n    },\n    {\n      \"column\": \"country\",\n      \"properties\": {\n        \"dtype\": \"category\",\n        \"num_unique_values\": 89,\n        \"samples\": [\n          \"United States, Ireland\",\n          \"United States, Australia, France, Canada\"\n        ],\n        \"semantic_type\": \"\",\n        \"description\": \"\"\n      }\n    },\n    {\n      \"column\": \"date_added\",\n      \"properties\": {\n        \"dtype\": \"object\",\n        \"num_unique_values\": 167,\n        \"samples\": [\n          \"July 10, 2020\",\n          \"May 29, 2020\"\n        ],\n        \"semantic_type\": \"\",\n        \"description\": \"\"\n      }\n    },\n    {\n      \"column\": \"release_year\",\n      \"properties\": {\n        \"dtype\": \"number\",\n        \"std\": 21,\n        \"min\": 1928,\n        \"max\": 2021,\n        \"num_unique_values\": 90,\n        \"samples\": [\n          1992,\n          1997\n        ],\n        \"semantic_type\": \"\",\n        \"description\": \"\"\n      }\n    },\n    {\n      \"column\": \"rating\",\n      \"properties\": {\n        \"dtype\": \"category\",\n        \"num_unique_values\": 9,\n        \"samples\": [\n          \"TV-Y\",\n          \"PG\"\n        ],\n        \"semantic_type\": \"\",\n        \"description\": \"\"\n      }\n    },\n    {\n      \"column\": \"duration\",\n      \"properties\": {\n        \"dtype\": \"category\",\n        \"num_unique_values\": 158,\n        \"samples\": [\n          \"74 min\",\n          \"32 Seasons\"\n        ],\n        \"semantic_type\": \"\",\n        \"description\": \"\"\n      }\n    },\n    {\n      \"column\": \"listed_in\",\n      \"properties\": {\n        \"dtype\": \"category\",\n        \"num_unique_values\": 329,\n        \"samples\": [\n          \"Comedy, Family, Musical\",\n          \"Comedy, Variety\"\n        ],\n        \"semantic_type\": \"\",\n        \"description\": \"\"\n      }\n    },\n    {\n      \"column\": \"description\",\n      \"properties\": {\n        \"dtype\": \"string\",\n        \"num_unique_values\": 1448,\n        \"samples\": [\n          \"A toy-stealing bully meets his match in a Lost & Found box.\",\n          \"India From Above, a two-part aerial documentary of a nation and its people.\"\n        ],\n        \"semantic_type\": \"\",\n        \"description\": \"\"\n      }\n    }\n  ]\n}"
            }
          },
          "metadata": {},
          "execution_count": 70
        }
      ]
    },
    {
      "cell_type": "markdown",
      "source": [
        "Функция *plt.hist()* из библиотеки Matplotlib используется для построения гистограммы\n",
        "https://matplotlib.org/stable/api/_as_gen/matplotlib.axes.Axes.hist.html\n",
        "\n",
        "**Основные параметры**:\n",
        "* x – массив данных (список, массив NumPy, Pandas Series и т. д.).\n",
        "* bins – количество интервалов (бинов) или список границ бинов (по умолчанию 10).\n",
        "* range – кортеж (min, max), задающий диапазон значений, которые будут учтены в гистограмме.\n",
        "* density – если True, нормирует частоты так, чтобы сумма площадей всех бинов была равна 1.\n",
        "* weights – массив весов, определяющий вклад каждого значения x в высоту столбца.\n",
        "* cumulative – если True, строит накопленную (кумулятивную) гистограмму.\n",
        "\n",
        "**Настройки отображения**:\n",
        "* color – цвет столбцов гистограммы.\n",
        "* edgecolor – цвет границ столбцов.\n",
        "* alpha – прозрачность (0 – полностью прозрачный, 1 – полностью непрозрачный).\n",
        "* histtype – тип гистограммы:\n",
        "  1. 'bar' (по умолчанию) – стандартные столбцы.\n",
        "  2. 'step' – контур гистограммы.\n",
        "  3. 'stepfilled' – контур с заливкой.\n",
        "  4. 'barstacked' – сгруппированные данные.\n",
        "* linewidth – толщина линий (актуально для histtype='step').\n",
        "* rwidth – относительная ширина столбцов (0–1)."
      ],
      "metadata": {
        "id": "nMIipTg9kowq"
      }
    },
    {
      "cell_type": "code",
      "source": [
        "print(type(df['release_year']))\n",
        "df['release_year'].head()"
      ],
      "metadata": {
        "colab": {
          "base_uri": "https://localhost:8080/",
          "height": 259
        },
        "id": "2NbGTVfm690c",
        "outputId": "e29c582b-ae7e-46cc-a449-b300796f26c1"
      },
      "execution_count": 71,
      "outputs": [
        {
          "output_type": "stream",
          "name": "stdout",
          "text": [
            "<class 'pandas.core.series.Series'>\n"
          ]
        },
        {
          "output_type": "execute_result",
          "data": {
            "text/plain": [
              "0    2016\n",
              "1    1988\n",
              "2    2011\n",
              "3    2021\n",
              "4    2021\n",
              "Name: release_year, dtype: int64"
            ],
            "text/html": [
              "<div>\n",
              "<style scoped>\n",
              "    .dataframe tbody tr th:only-of-type {\n",
              "        vertical-align: middle;\n",
              "    }\n",
              "\n",
              "    .dataframe tbody tr th {\n",
              "        vertical-align: top;\n",
              "    }\n",
              "\n",
              "    .dataframe thead th {\n",
              "        text-align: right;\n",
              "    }\n",
              "</style>\n",
              "<table border=\"1\" class=\"dataframe\">\n",
              "  <thead>\n",
              "    <tr style=\"text-align: right;\">\n",
              "      <th></th>\n",
              "      <th>release_year</th>\n",
              "    </tr>\n",
              "  </thead>\n",
              "  <tbody>\n",
              "    <tr>\n",
              "      <th>0</th>\n",
              "      <td>2016</td>\n",
              "    </tr>\n",
              "    <tr>\n",
              "      <th>1</th>\n",
              "      <td>1988</td>\n",
              "    </tr>\n",
              "    <tr>\n",
              "      <th>2</th>\n",
              "      <td>2011</td>\n",
              "    </tr>\n",
              "    <tr>\n",
              "      <th>3</th>\n",
              "      <td>2021</td>\n",
              "    </tr>\n",
              "    <tr>\n",
              "      <th>4</th>\n",
              "      <td>2021</td>\n",
              "    </tr>\n",
              "  </tbody>\n",
              "</table>\n",
              "</div><br><label><b>dtype:</b> int64</label>"
            ]
          },
          "metadata": {},
          "execution_count": 71
        }
      ]
    },
    {
      "cell_type": "code",
      "source": [
        "plt.hist(df['release_year'])\n",
        "plt.show()"
      ],
      "metadata": {
        "colab": {
          "base_uri": "https://localhost:8080/",
          "height": 430
        },
        "id": "L_8pZCj8aXqC",
        "outputId": "18b1839c-6e6a-4a0f-ab13-e6a678d94dcc"
      },
      "execution_count": 72,
      "outputs": [
        {
          "output_type": "display_data",
          "data": {
            "text/plain": [
              "<Figure size 640x480 with 1 Axes>"
            ],
            "image/png": "[encoded data removed]"
          },
          "metadata": {}
        }
      ]
    },
    {
      "cell_type": "markdown",
      "source": [
        "По оси X указан год производства, а по оси Y — количество фильмов, произведённых в этот год. Как видно из этого графика, производство фильмов начало расти после восьмидесятых, причём после начала нулевых производство фильмов резко увеличилось.\n",
        "\n",
        "Столбцы на получившейся гистограмме довольно широкие, что позволяет нам довольно примерно оценить соотношение года и количества произведённых фильмов. Однако это регулируемый параметр. По умолчанию он равен 10, но давайте удвоим количество столбцов (иначе их называют корзинами):"
      ],
      "metadata": {
        "id": "viJjSxLccdI7"
      }
    },
    {
      "cell_type": "code",
      "source": [
        "plt.hist(df['release_year'], bins=20)\n",
        "plt.show()"
      ],
      "metadata": {
        "colab": {
          "base_uri": "https://localhost:8080/",
          "height": 430
        },
        "id": "mhRi2XIKaXnp",
        "outputId": "af3626fe-3fbc-4186-ba1e-6dfc250e7e60"
      },
      "execution_count": 73,
      "outputs": [
        {
          "output_type": "display_data",
          "data": {
            "text/plain": [
              "<Figure size 640x480 with 1 Axes>"
            ],
            "image/png": "[encoded data removed]"
          },
          "metadata": {}
        }
      ]
    },
    {
      "cell_type": "markdown",
      "source": [
        "Построим гистограмму, задав несколько новых параметров"
      ],
      "metadata": {
        "id": "1G3CVhZpnS1v"
      }
    },
    {
      "cell_type": "code",
      "source": [
        "plt.hist(df['release_year'], bins=25, color='b', edgecolor='0.8', alpha=0.7, histtype='bar')\n",
        "plt.xlabel('Год производства')\n",
        "plt.ylabel('Количество фильмов')\n",
        "plt.title('Гистограмма распределения значений по году производства фильма или шоу')\n",
        "plt.show()"
      ],
      "metadata": {
        "colab": {
          "base_uri": "https://localhost:8080/",
          "height": 472
        },
        "id": "L-wihqzsmx8e",
        "outputId": "b5e941e0-970d-40bf-e587-a7768241e0a9"
      },
      "execution_count": 79,
      "outputs": [
        {
          "output_type": "display_data",
          "data": {
            "text/plain": [
              "<Figure size 640x480 with 1 Axes>"
            ],
            "image/png": "[encoded data removed]"
          },
          "metadata": {}
        }
      ]
    },
    {
      "cell_type": "markdown",
      "source": [
        "Помимо этого, мы можем добавить на график сразу несколько разных данных. Предположим, мы хотим одновременно посмотреть на гистограммы фильмов и ТВ-шоу. Для этого сделаем отдельные наборы данных:"
      ],
      "metadata": {
        "id": "rV2VXtBoclt8"
      }
    },
    {
      "cell_type": "code",
      "source": [
        "df_film = df[df['type'] == 'Movie']\n",
        "df_show = df[df['type'] == 'TV Show']"
      ],
      "metadata": {
        "id": "xHylRRvhaXlW"
      },
      "execution_count": null,
      "outputs": []
    },
    {
      "cell_type": "code",
      "source": [
        "df_film['release_year'].head()"
      ],
      "metadata": {
        "colab": {
          "base_uri": "https://localhost:8080/",
          "height": 241
        },
        "id": "ckdxF8Ti8ihH",
        "outputId": "00839d49-e9f4-42e8-e19d-90f6fe23b058"
      },
      "execution_count": 80,
      "outputs": [
        {
          "output_type": "execute_result",
          "data": {
            "text/plain": [
              "0    2016\n",
              "1    1988\n",
              "2    2011\n",
              "3    2021\n",
              "5    2021\n",
              "Name: release_year, dtype: int64"
            ],
            "text/html": [
              "<div>\n",
              "<style scoped>\n",
              "    .dataframe tbody tr th:only-of-type {\n",
              "        vertical-align: middle;\n",
              "    }\n",
              "\n",
              "    .dataframe tbody tr th {\n",
              "        vertical-align: top;\n",
              "    }\n",
              "\n",
              "    .dataframe thead th {\n",
              "        text-align: right;\n",
              "    }\n",
              "</style>\n",
              "<table border=\"1\" class=\"dataframe\">\n",
              "  <thead>\n",
              "    <tr style=\"text-align: right;\">\n",
              "      <th></th>\n",
              "      <th>release_year</th>\n",
              "    </tr>\n",
              "  </thead>\n",
              "  <tbody>\n",
              "    <tr>\n",
              "      <th>0</th>\n",
              "      <td>2016</td>\n",
              "    </tr>\n",
              "    <tr>\n",
              "      <th>1</th>\n",
              "      <td>1988</td>\n",
              "    </tr>\n",
              "    <tr>\n",
              "      <th>2</th>\n",
              "      <td>2011</td>\n",
              "    </tr>\n",
              "    <tr>\n",
              "      <th>3</th>\n",
              "      <td>2021</td>\n",
              "    </tr>\n",
              "    <tr>\n",
              "      <th>5</th>\n",
              "      <td>2021</td>\n",
              "    </tr>\n",
              "  </tbody>\n",
              "</table>\n",
              "</div><br><label><b>dtype:</b> int64</label>"
            ]
          },
          "metadata": {},
          "execution_count": 80
        }
      ]
    },
    {
      "cell_type": "code",
      "source": [
        "df_show['release_year'].head()"
      ],
      "metadata": {
        "colab": {
          "base_uri": "https://localhost:8080/",
          "height": 241
        },
        "id": "44UVsW1E8l0T",
        "outputId": "c015eec6-10ac-4684-f194-d10ca5eb7a25"
      },
      "execution_count": 81,
      "outputs": [
        {
          "output_type": "execute_result",
          "data": {
            "text/plain": [
              "4     2021\n",
              "6     2021\n",
              "7     2015\n",
              "8     2019\n",
              "13    2013\n",
              "Name: release_year, dtype: int64"
            ],
            "text/html": [
              "<div>\n",
              "<style scoped>\n",
              "    .dataframe tbody tr th:only-of-type {\n",
              "        vertical-align: middle;\n",
              "    }\n",
              "\n",
              "    .dataframe tbody tr th {\n",
              "        vertical-align: top;\n",
              "    }\n",
              "\n",
              "    .dataframe thead th {\n",
              "        text-align: right;\n",
              "    }\n",
              "</style>\n",
              "<table border=\"1\" class=\"dataframe\">\n",
              "  <thead>\n",
              "    <tr style=\"text-align: right;\">\n",
              "      <th></th>\n",
              "      <th>release_year</th>\n",
              "    </tr>\n",
              "  </thead>\n",
              "  <tbody>\n",
              "    <tr>\n",
              "      <th>4</th>\n",
              "      <td>2021</td>\n",
              "    </tr>\n",
              "    <tr>\n",
              "      <th>6</th>\n",
              "      <td>2021</td>\n",
              "    </tr>\n",
              "    <tr>\n",
              "      <th>7</th>\n",
              "      <td>2015</td>\n",
              "    </tr>\n",
              "    <tr>\n",
              "      <th>8</th>\n",
              "      <td>2019</td>\n",
              "    </tr>\n",
              "    <tr>\n",
              "      <th>13</th>\n",
              "      <td>2013</td>\n",
              "    </tr>\n",
              "  </tbody>\n",
              "</table>\n",
              "</div><br><label><b>dtype:</b> int64</label>"
            ]
          },
          "metadata": {},
          "execution_count": 81
        }
      ]
    },
    {
      "cell_type": "code",
      "source": [
        "plt.hist(df_film['release_year'])\n",
        "plt.hist(df_show['release_year'])\n",
        "plt.show()"
      ],
      "metadata": {
        "colab": {
          "base_uri": "https://localhost:8080/",
          "height": 430
        },
        "id": "PS3C-Xx0aXjF",
        "outputId": "3f6159e9-ae5a-40b7-d644-2244f6005e1e"
      },
      "execution_count": 82,
      "outputs": [
        {
          "output_type": "display_data",
          "data": {
            "text/plain": [
              "<Figure size 640x480 with 1 Axes>"
            ],
            "image/png": "[encoded data removed]"
          },
          "metadata": {}
        }
      ]
    },
    {
      "cell_type": "markdown",
      "source": [
        "Мы рисуем две гистограммы, но видим их не отдельно, а вместе. Дело в том, что если мы определяем две гистограммы подряд, то пакет интерпретирует это как предложение нарисовать их поверх друг друга. Это может быть полезным.\n",
        "\n",
        "С помощью такой визуализации мы можем увидеть, как менялись темпы производства фильмов и шоу. Однако эта визуализация будет не вполне понятна для аудитории: что именно изображено на графике? Что отражает график синего и оранжевого цвета? Эти вопросы стоит прояснить, поэтому мы добавим текстовые объяснения на график."
      ],
      "metadata": {
        "id": "MZ8HarfJcvgB"
      }
    },
    {
      "cell_type": "code",
      "source": [
        "plt.hist(df_film['release_year'], label = 'Films')\n",
        "plt.hist(df_show['release_year'], label = 'Shows')\n",
        "plt.legend() # Используется для отображения легенды на графике, которая помогает различать различные серии данных\n",
        "plt.show()"
      ],
      "metadata": {
        "colab": {
          "base_uri": "https://localhost:8080/",
          "height": 430
        },
        "id": "F-8MKIJoaXg7",
        "outputId": "8770bcf1-c327-4787-a1b5-0aead7d0b4e7"
      },
      "execution_count": 83,
      "outputs": [
        {
          "output_type": "display_data",
          "data": {
            "text/plain": [
              "<Figure size 640x480 with 1 Axes>"
            ],
            "image/png": "[encoded data removed]"
          },
          "metadata": {}
        }
      ]
    },
    {
      "cell_type": "markdown",
      "source": [
        "Давайте разберём, что мы добавили на график:\n",
        "\n",
        "1. label — с помощью этого параметра мы добавили подписи к гистограммам;\n",
        "2. legend — с помощью этого аргумента мы выводим на график подписи к данным к ним — это не только названия данных, но и, например, названия осей и графика в целом."
      ],
      "metadata": {
        "id": "qiLgl0_gc0P1"
      }
    },
    {
      "cell_type": "code",
      "source": [
        "plt.hist(df_film['release_year'], label = 'Films', bins = 20)\n",
        "plt.hist(df_show['release_year'], label = 'Shows', bins = 20)\n",
        "plt.xlabel(\"Year\")\n",
        "plt.ylabel(\"amount\")\n",
        "plt.title('Hist #1')\n",
        "plt.legend()\n",
        "plt.show()"
      ],
      "metadata": {
        "colab": {
          "base_uri": "https://localhost:8080/",
          "height": 472
        },
        "id": "1B_P3isoaXes",
        "outputId": "c0ae8332-de79-460d-8c59-799d011bdc63"
      },
      "execution_count": 86,
      "outputs": [
        {
          "output_type": "display_data",
          "data": {
            "text/plain": [
              "<Figure size 640x480 with 1 Axes>"
            ],
            "image/png": "[encoded data removed]"
          },
          "metadata": {}
        }
      ]
    },
    {
      "cell_type": "markdown",
      "source": [
        "## Столбчатые диаграммы"
      ],
      "metadata": {
        "id": "VR1Nfj6bc8Vu"
      }
    },
    {
      "cell_type": "markdown",
      "source": [
        "Для визуализации категориальных переменных мы будем использовать столбчатые диаграммы. Они могут внешне напоминать гистограммы, но сильно отличаются по смыслу, в первую очередь как раз тем, что используются при работе с категориальными шкалами."
      ],
      "metadata": {
        "id": "TThEDe0gdC6w"
      }
    },
    {
      "cell_type": "markdown",
      "source": [
        "Для начала посмотрим, какие возрастные категории фильмов и шоу были самыми распространёнными. В нашем наборе данных есть переменная Rating, которая отражает, какой именно возрастной рейтинг был присвоен каждому фильму и шоу. Для начала посмотрим на эти данные без визуализации. Напомним, что для этого можно использовать функцию value_counts():"
      ],
      "metadata": {
        "id": "CNrOaRHCdFRk"
      }
    },
    {
      "cell_type": "code",
      "source": [
        "df.head()"
      ],
      "metadata": {
        "colab": {
          "base_uri": "https://localhost:8080/",
          "height": 293
        },
        "id": "piNNmBoy9Ypc",
        "outputId": "909f57d6-9d18-43f0-8502-0c8c8a95e42e"
      },
      "execution_count": 88,
      "outputs": [
        {
          "output_type": "execute_result",
          "data": {
            "text/plain": [
              "  show_id     type                                             title  \\\n",
              "0      s1    Movie  Duck the Halls: A Mickey Mouse Christmas Special   \n",
              "1      s2    Movie                            Ernest Saves Christmas   \n",
              "2      s3    Movie                      Ice Age: A Mammoth Christmas   \n",
              "3      s4    Movie                        The Queen Family Singalong   \n",
              "4      s5  TV Show                             The Beatles: Get Back   \n",
              "\n",
              "                            director  \\\n",
              "0  Alonso Ramirez Ramos, Dave Wasson   \n",
              "1                        John Cherry   \n",
              "2                       Karen Disher   \n",
              "3                    Hamish Hamilton   \n",
              "4                                NaN   \n",
              "\n",
              "                                                cast        country  \\\n",
              "0  Chris Diamantopoulos, Tony Anselmo, Tress MacN...            NaN   \n",
              "1           Jim Varney, Noelle Parker, Douglas Seale            NaN   \n",
              "2  Raymond Albert Romano, John Leguizamo, Denis L...  United States   \n",
              "3  Darren Criss, Adam Lambert, Derek Hough, Alexa...            NaN   \n",
              "4  John Lennon, Paul McCartney, George Harrison, ...            NaN   \n",
              "\n",
              "          date_added  release_year rating  duration  \\\n",
              "0  November 26, 2021          2016   TV-G    23 min   \n",
              "1  November 26, 2021          1988     PG    91 min   \n",
              "2  November 26, 2021          2011   TV-G    23 min   \n",
              "3  November 26, 2021          2021  TV-PG    41 min   \n",
              "4  November 25, 2021          2021    NaN  1 Season   \n",
              "\n",
              "                       listed_in  \\\n",
              "0              Animation, Family   \n",
              "1                         Comedy   \n",
              "2      Animation, Comedy, Family   \n",
              "3                        Musical   \n",
              "4  Docuseries, Historical, Music   \n",
              "\n",
              "                                         description  \n",
              "0   Join Mickey and the gang as they duck the halls!  \n",
              "1  Santa Claus passes his magic bag to a new St. ...  \n",
              "2          Sid the Sloth is on Santa's naughty list.  \n",
              "3               This is real life, not just fantasy!  \n",
              "4  A three-part documentary from Peter Jackson ca...  "
            ],
            "text/html": [
              "\n",
              "  <div id=\"df-bcf90962-c2f9-418f-b50e-1fa60d8d2864\" class=\"colab-df-container\">\n",
              "    <div>\n",
              "<style scoped>\n",
              "    .dataframe tbody tr th:only-of-type {\n",
              "        vertical-align: middle;\n",
              "    }\n",
              "\n",
              "    .dataframe tbody tr th {\n",
              "        vertical-align: top;\n",
              "    }\n",
              "\n",
              "    .dataframe thead th {\n",
              "        text-align: right;\n",
              "    }\n",
              "</style>\n",
              "<table border=\"1\" class=\"dataframe\">\n",
              "  <thead>\n",
              "    <tr style=\"text-align: right;\">\n",
              "      <th></th>\n",
              "      <th>show_id</th>\n",
              "      <th>type</th>\n",
              "      <th>title</th>\n",
              "      <th>director</th>\n",
              "      <th>cast</th>\n",
              "      <th>country</th>\n",
              "      <th>date_added</th>\n",
              "      <th>release_year</th>\n",
              "      <th>rating</th>\n",
              "      <th>duration</th>\n",
              "      <th>listed_in</th>\n",
              "      <th>description</th>\n",
              "    </tr>\n",
              "  </thead>\n",
              "  <tbody>\n",
              "    <tr>\n",
              "      <th>0</th>\n",
              "      <td>s1</td>\n",
              "      <td>Movie</td>\n",
              "      <td>Duck the Halls: A Mickey Mouse Christmas Special</td>\n",
              "      <td>Alonso Ramirez Ramos, Dave Wasson</td>\n",
              "      <td>Chris Diamantopoulos, Tony Anselmo, Tress MacN...</td>\n",
              "      <td>NaN</td>\n",
              "      <td>November 26, 2021</td>\n",
              "      <td>2016</td>\n",
              "      <td>TV-G</td>\n",
              "      <td>23 min</td>\n",
              "      <td>Animation, Family</td>\n",
              "      <td>Join Mickey and the gang as they duck the halls!</td>\n",
              "    </tr>\n",
              "    <tr>\n",
              "      <th>1</th>\n",
              "      <td>s2</td>\n",
              "      <td>Movie</td>\n",
              "      <td>Ernest Saves Christmas</td>\n",
              "      <td>John Cherry</td>\n",
              "      <td>Jim Varney, Noelle Parker, Douglas Seale</td>\n",
              "      <td>NaN</td>\n",
              "      <td>November 26, 2021</td>\n",
              "      <td>1988</td>\n",
              "      <td>PG</td>\n",
              "      <td>91 min</td>\n",
              "      <td>Comedy</td>\n",
              "      <td>Santa Claus passes his magic bag to a new St. ...</td>\n",
              "    </tr>\n",
              "    <tr>\n",
              "      <th>2</th>\n",
              "      <td>s3</td>\n",
              "      <td>Movie</td>\n",
              "      <td>Ice Age: A Mammoth Christmas</td>\n",
              "      <td>Karen Disher</td>\n",
              "      <td>Raymond Albert Romano, John Leguizamo, Denis L...</td>\n",
              "      <td>United States</td>\n",
              "      <td>November 26, 2021</td>\n",
              "      <td>2011</td>\n",
              "      <td>TV-G</td>\n",
              "      <td>23 min</td>\n",
              "      <td>Animation, Comedy, Family</td>\n",
              "      <td>Sid the Sloth is on Santa's naughty list.</td>\n",
              "    </tr>\n",
              "    <tr>\n",
              "      <th>3</th>\n",
              "      <td>s4</td>\n",
              "      <td>Movie</td>\n",
              "      <td>The Queen Family Singalong</td>\n",
              "      <td>Hamish Hamilton</td>\n",
              "      <td>Darren Criss, Adam Lambert, Derek Hough, Alexa...</td>\n",
              "      <td>NaN</td>\n",
              "      <td>November 26, 2021</td>\n",
              "      <td>2021</td>\n",
              "      <td>TV-PG</td>\n",
              "      <td>41 min</td>\n",
              "      <td>Musical</td>\n",
              "      <td>This is real life, not just fantasy!</td>\n",
              "    </tr>\n",
              "    <tr>\n",
              "      <th>4</th>\n",
              "      <td>s5</td>\n",
              "      <td>TV Show</td>\n",
              "      <td>The Beatles: Get Back</td>\n",
              "      <td>NaN</td>\n",
              "      <td>John Lennon, Paul McCartney, George Harrison, ...</td>\n",
              "      <td>NaN</td>\n",
              "      <td>November 25, 2021</td>\n",
              "      <td>2021</td>\n",
              "      <td>NaN</td>\n",
              "      <td>1 Season</td>\n",
              "      <td>Docuseries, Historical, Music</td>\n",
              "      <td>A three-part documentary from Peter Jackson ca...</td>\n",
              "    </tr>\n",
              "  </tbody>\n",
              "</table>\n",
              "</div>\n",
              "    <div class=\"colab-df-buttons\">\n",
              "\n",
              "  <div class=\"colab-df-container\">\n",
              "    <button class=\"colab-df-convert\" onclick=\"convertToInteractive('df-bcf90962-c2f9-418f-b50e-1fa60d8d2864')\"\n",
              "            title=\"Convert this dataframe to an interactive table.\"\n",
              "            style=\"display:none;\">\n",
              "\n",
              "  <svg xmlns=\"http://www.w3.org/2000/svg\" height=\"24px\" viewBox=\"0 -960 960 960\">\n",
              "    <path d=\"M120-120v-720h720v720H120Zm60-500h600v-160H180v160Zm220 220h160v-160H400v160Zm0 220h160v-160H400v160ZM180-400h160v-160H180v160Zm440 0h160v-160H620v160ZM180-180h160v-160H180v160Zm440 0h160v-160H620v160Z\"/>\n",
              "  </svg>\n",
              "    </button>\n",
              "\n",
              "  <style>\n",
              "    .colab-df-container {\n",
              "      display:flex;\n",
              "      gap: 12px;\n",
              "    }\n",
              "\n",
              "    .colab-df-convert {\n",
              "      background-color: #E8F0FE;\n",
              "      border: none;\n",
              "      border-radius: 50%;\n",
              "      cursor: pointer;\n",
              "      display: none;\n",
              "      fill: #1967D2;\n",
              "      height: 32px;\n",
              "      padding: 0 0 0 0;\n",
              "      width: 32px;\n",
              "    }\n",
              "\n",
              "    .colab-df-convert:hover {\n",
              "      background-color: #E2EBFA;\n",
              "      box-shadow: 0px 1px 2px rgba(60, 64, 67, 0.3), 0px 1px 3px 1px rgba(60, 64, 67, 0.15);\n",
              "      fill: #174EA6;\n",
              "    }\n",
              "\n",
              "    .colab-df-buttons div {\n",
              "      margin-bottom: 4px;\n",
              "    }\n",
              "\n",
              "    [theme=dark] .colab-df-convert {\n",
              "      background-color: #3B4455;\n",
              "      fill: #D2E3FC;\n",
              "    }\n",
              "\n",
              "    [theme=dark] .colab-df-convert:hover {\n",
              "      background-color: #434B5C;\n",
              "      box-shadow: 0px 1px 3px 1px rgba(0, 0, 0, 0.15);\n",
              "      filter: drop-shadow(0px 1px 2px rgba(0, 0, 0, 0.3));\n",
              "      fill: #FFFFFF;\n",
              "    }\n",
              "  </style>\n",
              "\n",
              "    <script>\n",
              "      const buttonEl =\n",
              "        document.querySelector('#df-bcf90962-c2f9-418f-b50e-1fa60d8d2864 button.colab-df-convert');\n",
              "      buttonEl.style.display =\n",
              "        google.colab.kernel.accessAllowed ? 'block' : 'none';\n",
              "\n",
              "      async function convertToInteractive(key) {\n",
              "        const element = document.querySelector('#df-bcf90962-c2f9-418f-b50e-1fa60d8d2864');\n",
              "        const dataTable =\n",
              "          await google.colab.kernel.invokeFunction('convertToInteractive',\n",
              "                                                    [key], {});\n",
              "        if (!dataTable) return;\n",
              "\n",
              "        const docLinkHtml = 'Like what you see? Visit the ' +\n",
              "          '<a target=\"_blank\" href=https://colab.research.google.com/notebooks/data_table.ipynb>data table notebook</a>'\n",
              "          + ' to learn more about interactive tables.';\n",
              "        element.innerHTML = '';\n",
              "        dataTable['output_type'] = 'display_data';\n",
              "        await google.colab.output.renderOutput(dataTable, element);\n",
              "        const docLink = document.createElement('div');\n",
              "        docLink.innerHTML = docLinkHtml;\n",
              "        element.appendChild(docLink);\n",
              "      }\n",
              "    </script>\n",
              "  </div>\n",
              "\n",
              "\n",
              "<div id=\"df-3653f393-a28c-4ae2-8518-230f612b24a2\">\n",
              "  <button class=\"colab-df-quickchart\" onclick=\"quickchart('df-3653f393-a28c-4ae2-8518-230f612b24a2')\"\n",
              "            title=\"Suggest charts\"\n",
              "            style=\"display:none;\">\n",
              "\n",
              "<svg xmlns=\"http://www.w3.org/2000/svg\" height=\"24px\"viewBox=\"0 0 24 24\"\n",
              "     width=\"24px\">\n",
              "    <g>\n",
              "        <path d=\"M19 3H5c-1.1 0-2 .9-2 2v14c0 1.1.9 2 2 2h14c1.1 0 2-.9 2-2V5c0-1.1-.9-2-2-2zM9 17H7v-7h2v7zm4 0h-2V7h2v10zm4 0h-2v-4h2v4z\"/>\n",
              "    </g>\n",
              "</svg>\n",
              "  </button>\n",
              "\n",
              "<style>\n",
              "  .colab-df-quickchart {\n",
              "      --bg-color: #E8F0FE;\n",
              "      --fill-color: #1967D2;\n",
              "      --hover-bg-color: #E2EBFA;\n",
              "      --hover-fill-color: #174EA6;\n",
              "      --disabled-fill-color: #AAA;\n",
              "      --disabled-bg-color: #DDD;\n",
              "  }\n",
              "\n",
              "  [theme=dark] .colab-df-quickchart {\n",
              "      --bg-color: #3B4455;\n",
              "      --fill-color: #D2E3FC;\n",
              "      --hover-bg-color: #434B5C;\n",
              "      --hover-fill-color: #FFFFFF;\n",
              "      --disabled-bg-color: #3B4455;\n",
              "      --disabled-fill-color: #666;\n",
              "  }\n",
              "\n",
              "  .colab-df-quickchart {\n",
              "    background-color: var(--bg-color);\n",
              "    border: none;\n",
              "    border-radius: 50%;\n",
              "    cursor: pointer;\n",
              "    display: none;\n",
              "    fill: var(--fill-color);\n",
              "    height: 32px;\n",
              "    padding: 0;\n",
              "    width: 32px;\n",
              "  }\n",
              "\n",
              "  .colab-df-quickchart:hover {\n",
              "    background-color: var(--hover-bg-color);\n",
              "    box-shadow: 0 1px 2px rgba(60, 64, 67, 0.3), 0 1px 3px 1px rgba(60, 64, 67, 0.15);\n",
              "    fill: var(--button-hover-fill-color);\n",
              "  }\n",
              "\n",
              "  .colab-df-quickchart-complete:disabled,\n",
              "  .colab-df-quickchart-complete:disabled:hover {\n",
              "    background-color: var(--disabled-bg-color);\n",
              "    fill: var(--disabled-fill-color);\n",
              "    box-shadow: none;\n",
              "  }\n",
              "\n",
              "  .colab-df-spinner {\n",
              "    border: 2px solid var(--fill-color);\n",
              "    border-color: transparent;\n",
              "    border-bottom-color: var(--fill-color);\n",
              "    animation:\n",
              "      spin 1s steps(1) infinite;\n",
              "  }\n",
              "\n",
              "  @keyframes spin {\n",
              "    0% {\n",
              "      border-color: transparent;\n",
              "      border-bottom-color: var(--fill-color);\n",
              "      border-left-color: var(--fill-color);\n",
              "    }\n",
              "    20% {\n",
              "      border-color: transparent;\n",
              "      border-left-color: var(--fill-color);\n",
              "      border-top-color: var(--fill-color);\n",
              "    }\n",
              "    30% {\n",
              "      border-color: transparent;\n",
              "      border-left-color: var(--fill-color);\n",
              "      border-top-color: var(--fill-color);\n",
              "      border-right-color: var(--fill-color);\n",
              "    }\n",
              "    40% {\n",
              "      border-color: transparent;\n",
              "      border-right-color: var(--fill-color);\n",
              "      border-top-color: var(--fill-color);\n",
              "    }\n",
              "    60% {\n",
              "      border-color: transparent;\n",
              "      border-right-color: var(--fill-color);\n",
              "    }\n",
              "    80% {\n",
              "      border-color: transparent;\n",
              "      border-right-color: var(--fill-color);\n",
              "      border-bottom-color: var(--fill-color);\n",
              "    }\n",
              "    90% {\n",
              "      border-color: transparent;\n",
              "      border-bottom-color: var(--fill-color);\n",
              "    }\n",
              "  }\n",
              "</style>\n",
              "\n",
              "  <script>\n",
              "    async function quickchart(key) {\n",
              "      const quickchartButtonEl =\n",
              "        document.querySelector('#' + key + ' button');\n",
              "      quickchartButtonEl.disabled = true;  // To prevent multiple clicks.\n",
              "      quickchartButtonEl.classList.add('colab-df-spinner');\n",
              "      try {\n",
              "        const charts = await google.colab.kernel.invokeFunction(\n",
              "            'suggestCharts', [key], {});\n",
              "      } catch (error) {\n",
              "        console.error('Error during call to suggestCharts:', error);\n",
              "      }\n",
              "      quickchartButtonEl.classList.remove('colab-df-spinner');\n",
              "      quickchartButtonEl.classList.add('colab-df-quickchart-complete');\n",
              "    }\n",
              "    (() => {\n",
              "      let quickchartButtonEl =\n",
              "        document.querySelector('#df-3653f393-a28c-4ae2-8518-230f612b24a2 button');\n",
              "      quickchartButtonEl.style.display =\n",
              "        google.colab.kernel.accessAllowed ? 'block' : 'none';\n",
              "    })();\n",
              "  </script>\n",
              "</div>\n",
              "    </div>\n",
              "  </div>\n"
            ],
            "application/vnd.google.colaboratory.intrinsic+json": {
              "type": "dataframe",
              "variable_name": "df",
              "summary": "{\n  \"name\": \"df\",\n  \"rows\": 1450,\n  \"fields\": [\n    {\n      \"column\": \"show_id\",\n      \"properties\": {\n        \"dtype\": \"string\",\n        \"num_unique_values\": 1450,\n        \"samples\": [\n          \"s539\",\n          \"s755\",\n          \"s50\"\n        ],\n        \"semantic_type\": \"\",\n        \"description\": \"\"\n      }\n    },\n    {\n      \"column\": \"type\",\n      \"properties\": {\n        \"dtype\": \"category\",\n        \"num_unique_values\": 2,\n        \"samples\": [\n          \"TV Show\",\n          \"Movie\"\n        ],\n        \"semantic_type\": \"\",\n        \"description\": \"\"\n      }\n    },\n    {\n      \"column\": \"title\",\n      \"properties\": {\n        \"dtype\": \"string\",\n        \"num_unique_values\": 1450,\n        \"samples\": [\n          \"Homeward Bound II: Lost in San Francisco\",\n          \"Boat Builders\"\n        ],\n        \"semantic_type\": \"\",\n        \"description\": \"\"\n      }\n    },\n    {\n      \"column\": \"director\",\n      \"properties\": {\n        \"dtype\": \"category\",\n        \"num_unique_values\": 609,\n        \"samples\": [\n          \"Richard Fleischer\",\n          \"Glenn Weiss\"\n        ],\n        \"semantic_type\": \"\",\n        \"description\": \"\"\n      }\n    },\n    {\n      \"column\": \"cast\",\n      \"properties\": {\n        \"dtype\": \"string\",\n        \"num_unique_values\": 1193,\n        \"samples\": [\n          \"Thomas Nicholas, Joss Ackland, Art Malik, Paloma Baeza, Kate Winslet, Daniel Craig\",\n          \"Hutch Dano, G. Hannelius, Maurice Godin, David Lambert, Kelsy Chow, Debra Mooney\"\n        ],\n        \"semantic_type\": \"\",\n        \"description\": \"\"\n      }\n    },\n    {\n      \"column\": \"country\",\n      \"properties\": {\n        \"dtype\": \"category\",\n        \"num_unique_values\": 89,\n        \"samples\": [\n          \"United States, Ireland\",\n          \"United States, Australia, France, Canada\"\n        ],\n        \"semantic_type\": \"\",\n        \"description\": \"\"\n      }\n    },\n    {\n      \"column\": \"date_added\",\n      \"properties\": {\n        \"dtype\": \"object\",\n        \"num_unique_values\": 167,\n        \"samples\": [\n          \"July 10, 2020\",\n          \"May 29, 2020\"\n        ],\n        \"semantic_type\": \"\",\n        \"description\": \"\"\n      }\n    },\n    {\n      \"column\": \"release_year\",\n      \"properties\": {\n        \"dtype\": \"number\",\n        \"std\": 21,\n        \"min\": 1928,\n        \"max\": 2021,\n        \"num_unique_values\": 90,\n        \"samples\": [\n          1992,\n          1997\n        ],\n        \"semantic_type\": \"\",\n        \"description\": \"\"\n      }\n    },\n    {\n      \"column\": \"rating\",\n      \"properties\": {\n        \"dtype\": \"category\",\n        \"num_unique_values\": 9,\n        \"samples\": [\n          \"TV-Y\",\n          \"PG\"\n        ],\n        \"semantic_type\": \"\",\n        \"description\": \"\"\n      }\n    },\n    {\n      \"column\": \"duration\",\n      \"properties\": {\n        \"dtype\": \"category\",\n        \"num_unique_values\": 158,\n        \"samples\": [\n          \"74 min\",\n          \"32 Seasons\"\n        ],\n        \"semantic_type\": \"\",\n        \"description\": \"\"\n      }\n    },\n    {\n      \"column\": \"listed_in\",\n      \"properties\": {\n        \"dtype\": \"category\",\n        \"num_unique_values\": 329,\n        \"samples\": [\n          \"Comedy, Family, Musical\",\n          \"Comedy, Variety\"\n        ],\n        \"semantic_type\": \"\",\n        \"description\": \"\"\n      }\n    },\n    {\n      \"column\": \"description\",\n      \"properties\": {\n        \"dtype\": \"string\",\n        \"num_unique_values\": 1448,\n        \"samples\": [\n          \"A toy-stealing bully meets his match in a Lost & Found box.\",\n          \"India From Above, a two-part aerial documentary of a nation and its people.\"\n        ],\n        \"semantic_type\": \"\",\n        \"description\": \"\"\n      }\n    }\n  ]\n}"
            }
          },
          "metadata": {},
          "execution_count": 88
        }
      ]
    },
    {
      "cell_type": "code",
      "source": [
        "df['rating'].value_counts()"
      ],
      "metadata": {
        "colab": {
          "base_uri": "https://localhost:8080/",
          "height": 398
        },
        "id": "I0cSCrN4aXaK",
        "outputId": "cc9d78ca-3632-4cff-915d-28f325378fcf"
      },
      "execution_count": 87,
      "outputs": [
        {
          "output_type": "execute_result",
          "data": {
            "text/plain": [
              "rating\n",
              "TV-G        318\n",
              "TV-PG       301\n",
              "G           253\n",
              "PG          236\n",
              "TV-Y7       131\n",
              "TV-14        79\n",
              "PG-13        66\n",
              "TV-Y         50\n",
              "TV-Y7-FV     13\n",
              "Name: count, dtype: int64"
            ],
            "text/html": [
              "<div>\n",
              "<style scoped>\n",
              "    .dataframe tbody tr th:only-of-type {\n",
              "        vertical-align: middle;\n",
              "    }\n",
              "\n",
              "    .dataframe tbody tr th {\n",
              "        vertical-align: top;\n",
              "    }\n",
              "\n",
              "    .dataframe thead th {\n",
              "        text-align: right;\n",
              "    }\n",
              "</style>\n",
              "<table border=\"1\" class=\"dataframe\">\n",
              "  <thead>\n",
              "    <tr style=\"text-align: right;\">\n",
              "      <th></th>\n",
              "      <th>count</th>\n",
              "    </tr>\n",
              "    <tr>\n",
              "      <th>rating</th>\n",
              "      <th></th>\n",
              "    </tr>\n",
              "  </thead>\n",
              "  <tbody>\n",
              "    <tr>\n",
              "      <th>TV-G</th>\n",
              "      <td>318</td>\n",
              "    </tr>\n",
              "    <tr>\n",
              "      <th>TV-PG</th>\n",
              "      <td>301</td>\n",
              "    </tr>\n",
              "    <tr>\n",
              "      <th>G</th>\n",
              "      <td>253</td>\n",
              "    </tr>\n",
              "    <tr>\n",
              "      <th>PG</th>\n",
              "      <td>236</td>\n",
              "    </tr>\n",
              "    <tr>\n",
              "      <th>TV-Y7</th>\n",
              "      <td>131</td>\n",
              "    </tr>\n",
              "    <tr>\n",
              "      <th>TV-14</th>\n",
              "      <td>79</td>\n",
              "    </tr>\n",
              "    <tr>\n",
              "      <th>PG-13</th>\n",
              "      <td>66</td>\n",
              "    </tr>\n",
              "    <tr>\n",
              "      <th>TV-Y</th>\n",
              "      <td>50</td>\n",
              "    </tr>\n",
              "    <tr>\n",
              "      <th>TV-Y7-FV</th>\n",
              "      <td>13</td>\n",
              "    </tr>\n",
              "  </tbody>\n",
              "</table>\n",
              "</div><br><label><b>dtype:</b> int64</label>"
            ]
          },
          "metadata": {},
          "execution_count": 87
        }
      ]
    },
    {
      "cell_type": "markdown",
      "source": [
        "Так мы можем понять наиболее и наименее распространённые рейтинги. В кодбуке к набору данных (или просто в интернете) можно узнать, чему соответствует каждый рейтинг. Например, TV-G означает, что фильм подходит для всех возрастных категорий. Однако теперь попробуем визуализировать эти данные."
      ],
      "metadata": {
        "id": "ZkWQPimLdLZc"
      }
    },
    {
      "cell_type": "markdown",
      "source": [
        "Метод *pd.Series.plot()* позволяет визуализировать данные, хранящиеся в pandas.Series, используя библиотеку Matplotlib. Он является упрощённой версией *pd.DataFrame.plot()* и поддерживает основные типы графиков.\n",
        "\n",
        "1. **Тип графика**\n",
        "* kind – определяет тип графика (\"line\" (по умолчанию), \"bar\", \"barh\", \"hist\", \"box\", \"kde\", \"density\", \"pie\").\n",
        "\n",
        "2. **Настройки осей**\n",
        "* xlabel – подпись оси X.\n",
        "* ylabel – подпись оси Y.\n",
        "* xlim – диапазон значений оси X.\n",
        "* ylim – диапазон значений оси Y.\n",
        "* logx, logy, loglog – логарифмическая шкала.\n",
        "\n",
        "3. **Оформление графика**\n",
        "* figsize – размер графика (ширина, высота).\n",
        "* title – заголовок графика.\n",
        "* grid – включение сетки (True/False).\n",
        "* rot – угол наклона подписей оси X.\n",
        "* fontsize – размер шрифта.\n",
        "\n",
        "4. **Стиль линий и точек**\n",
        "* color – цвет линий или столбцов.\n",
        "* style – стиль линий ('-', '--', '-.', ':').\n",
        "* marker – маркер ('o', '^', 's', '*' и др.).\n",
        "* linewidth (или lw) – толщина линии.\n",
        "* alpha – прозрачность (0 – прозрачный, 1 – непрозрачный).\n",
        "\n",
        "5. **Дополнительные параметры для конкретных графиков**\n",
        "* bins – количество интервалов для гистограммы (hist).\n",
        "* density – нормализация гистограммы (True/False).\n",
        "* cmap – цветовая схема (например, \"viridis\", \"coolwarm\").\n",
        "* label – подпись в легенде (работает, если используется plt.legend()).\n",
        "\n",
        "https://pandas.pydata.org/docs/reference/api/pandas.Series.plot.html"
      ],
      "metadata": {
        "id": "Qcti1wjDqUR2"
      }
    },
    {
      "cell_type": "code",
      "source": [
        "df['rating'].value_counts().plot(kind='bar', ylabel='frequency')\n",
        "plt.show()"
      ],
      "metadata": {
        "colab": {
          "base_uri": "https://localhost:8080/",
          "height": 495
        },
        "id": "o_5znl_yaXYC",
        "outputId": "4e9194c7-0c93-4e60-8913-ac79f66fa2a8"
      },
      "execution_count": 89,
      "outputs": [
        {
          "output_type": "display_data",
          "data": {
            "text/plain": [
              "<Figure size 640x480 with 1 Axes>"
            ],
            "image/png": "[encoded data removed]"
          },
          "metadata": {}
        }
      ]
    },
    {
      "cell_type": "markdown",
      "source": [
        "Несколько пояснений по этому коду, поскольку такой вид записи отличается от тех, что мы рассматривали ранее. Раз мы используем преобразованные данные, то код устроен следующим образом:\n",
        "\n",
        "* сначала мы проделываем работу с данными — это первая часть кода;\n",
        "* затем используем функцию plot() — она указывает, что полученные данные необходимо визуализировать;\n",
        "* параметры этой функции задают способ визуализации и дополнительные параметры, в нашем случае — тип графика и подпись к оси Y."
      ],
      "metadata": {
        "id": "GHvQkIzldS77"
      }
    },
    {
      "cell_type": "markdown",
      "source": [
        "Вот ещё возможные значения параметра kind:\n",
        "\n",
        "1. line — линейный график;\n",
        "2. hist — гистограмма;\n",
        "3. box — бокс-плот;\n",
        "4. pie — круговая диаграмма;\n",
        "5. kde — линия плотности распределения;\n",
        "6. density — гибрид линейного графика и гистограммы;\n",
        "7. scatter — точечная диаграмма;\n"
      ],
      "metadata": {
        "id": "2iBbU72WdfxK"
      }
    },
    {
      "cell_type": "markdown",
      "source": [
        "Мы можем отдельно оценить количество фильмов и ТВ-шоу по категориям. Опять же, начнём с кода, который покажет нам такие данные:"
      ],
      "metadata": {
        "id": "o4Bvkc67dsPn"
      }
    },
    {
      "cell_type": "code",
      "source": [
        "print(type(df.groupby('type')['rating'].value_counts()))\n",
        "df.groupby('type')['rating'].value_counts()"
      ],
      "metadata": {
        "colab": {
          "base_uri": "https://localhost:8080/",
          "height": 635
        },
        "id": "U7aRjlMOaXVe",
        "outputId": "efd1400c-9ce9-4156-dcc8-ffd86af03a8f"
      },
      "execution_count": 91,
      "outputs": [
        {
          "output_type": "stream",
          "name": "stdout",
          "text": [
            "<class 'pandas.core.series.Series'>\n"
          ]
        },
        {
          "output_type": "execute_result",
          "data": {
            "text/plain": [
              "type     rating  \n",
              "Movie    G           253\n",
              "         PG          235\n",
              "         TV-G        233\n",
              "         TV-PG       181\n",
              "         PG-13        66\n",
              "         TV-14        37\n",
              "         TV-Y7        36\n",
              "         TV-Y7-FV      7\n",
              "         TV-Y          3\n",
              "TV Show  TV-PG       120\n",
              "         TV-Y7        95\n",
              "         TV-G         85\n",
              "         TV-Y         47\n",
              "         TV-14        42\n",
              "         TV-Y7-FV      6\n",
              "         PG            1\n",
              "Name: count, dtype: int64"
            ],
            "text/html": [
              "<div>\n",
              "<style scoped>\n",
              "    .dataframe tbody tr th:only-of-type {\n",
              "        vertical-align: middle;\n",
              "    }\n",
              "\n",
              "    .dataframe tbody tr th {\n",
              "        vertical-align: top;\n",
              "    }\n",
              "\n",
              "    .dataframe thead th {\n",
              "        text-align: right;\n",
              "    }\n",
              "</style>\n",
              "<table border=\"1\" class=\"dataframe\">\n",
              "  <thead>\n",
              "    <tr style=\"text-align: right;\">\n",
              "      <th></th>\n",
              "      <th></th>\n",
              "      <th>count</th>\n",
              "    </tr>\n",
              "    <tr>\n",
              "      <th>type</th>\n",
              "      <th>rating</th>\n",
              "      <th></th>\n",
              "    </tr>\n",
              "  </thead>\n",
              "  <tbody>\n",
              "    <tr>\n",
              "      <th rowspan=\"9\" valign=\"top\">Movie</th>\n",
              "      <th>G</th>\n",
              "      <td>253</td>\n",
              "    </tr>\n",
              "    <tr>\n",
              "      <th>PG</th>\n",
              "      <td>235</td>\n",
              "    </tr>\n",
              "    <tr>\n",
              "      <th>TV-G</th>\n",
              "      <td>233</td>\n",
              "    </tr>\n",
              "    <tr>\n",
              "      <th>TV-PG</th>\n",
              "      <td>181</td>\n",
              "    </tr>\n",
              "    <tr>\n",
              "      <th>PG-13</th>\n",
              "      <td>66</td>\n",
              "    </tr>\n",
              "    <tr>\n",
              "      <th>TV-14</th>\n",
              "      <td>37</td>\n",
              "    </tr>\n",
              "    <tr>\n",
              "      <th>TV-Y7</th>\n",
              "      <td>36</td>\n",
              "    </tr>\n",
              "    <tr>\n",
              "      <th>TV-Y7-FV</th>\n",
              "      <td>7</td>\n",
              "    </tr>\n",
              "    <tr>\n",
              "      <th>TV-Y</th>\n",
              "      <td>3</td>\n",
              "    </tr>\n",
              "    <tr>\n",
              "      <th rowspan=\"7\" valign=\"top\">TV Show</th>\n",
              "      <th>TV-PG</th>\n",
              "      <td>120</td>\n",
              "    </tr>\n",
              "    <tr>\n",
              "      <th>TV-Y7</th>\n",
              "      <td>95</td>\n",
              "    </tr>\n",
              "    <tr>\n",
              "      <th>TV-G</th>\n",
              "      <td>85</td>\n",
              "    </tr>\n",
              "    <tr>\n",
              "      <th>TV-Y</th>\n",
              "      <td>47</td>\n",
              "    </tr>\n",
              "    <tr>\n",
              "      <th>TV-14</th>\n",
              "      <td>42</td>\n",
              "    </tr>\n",
              "    <tr>\n",
              "      <th>TV-Y7-FV</th>\n",
              "      <td>6</td>\n",
              "    </tr>\n",
              "    <tr>\n",
              "      <th>PG</th>\n",
              "      <td>1</td>\n",
              "    </tr>\n",
              "  </tbody>\n",
              "</table>\n",
              "</div><br><label><b>dtype:</b> int64</label>"
            ]
          },
          "metadata": {},
          "execution_count": 91
        }
      ]
    },
    {
      "cell_type": "markdown",
      "source": [
        "Тут вас может смутить синтаксис, расскажем о нём чуть подробнее:\n",
        "\n",
        "* на объекте df вызываем метод groupby, передав в качестве параметра аргумент type — этот метод группирует датафрейм по переменной type;\n",
        "* он возвращает новый объект — сгруппированный датафрейм;\n",
        "* у него выбираем все значения по переменной rating;\n",
        "* и подсчитываем количество наблюдений для каждого уникального значения."
      ],
      "metadata": {
        "id": "NLhoz3g4d0-z"
      }
    },
    {
      "cell_type": "code",
      "source": [
        "vis_1 = df.groupby('type')['rating'].value_counts()\n",
        "vis_1.unstack(0).plot(kind='bar', ylabel='frequency')"
      ],
      "metadata": {
        "colab": {
          "base_uri": "https://localhost:8080/",
          "height": 513
        },
        "id": "_HMPz4P1aXTG",
        "outputId": "db26a836-5cf3-4075-f030-fa2bfc327ca1"
      },
      "execution_count": 104,
      "outputs": [
        {
          "output_type": "execute_result",
          "data": {
            "text/plain": [
              "<Axes: xlabel='rating', ylabel='frequency'>"
            ]
          },
          "metadata": {},
          "execution_count": 104
        },
        {
          "output_type": "display_data",
          "data": {
            "text/plain": [
              "<Figure size 640x480 with 1 Axes>"
            ],
            "image/png": "[encoded data removed]"
          },
          "metadata": {}
        }
      ]
    },
    {
      "cell_type": "markdown",
      "source": [
        "Первой строкой мы сохранили данные в преобразованном виде.\n",
        "\n",
        "Второй строкой мы задали параметры визуализации. Все его части нам знакомы, кроме функции unstack. Она нужна для того, чтобы на визуализации объединить под одной категорией и фильмы, и ТВ-шоу. Чтобы лучше понять принцип работы этой функции, вы можете удалить эту часть кода и попробовать визуализировать без неё."
      ],
      "metadata": {
        "id": "N-RfB8MAd--X"
      }
    },
    {
      "cell_type": "markdown",
      "source": [
        "Глядя на эту визуализацию, можно обнаружить, что, хотя в большинстве категорий фильмы преобладают над ТВ-шоу, есть несколько категорий, где ситуация радикально иная."
      ],
      "metadata": {
        "id": "FN3RQokueD1J"
      }
    },
    {
      "cell_type": "markdown",
      "source": [
        "**Как эти данные можно еще представить?**"
      ],
      "metadata": {
        "id": "nQtApE5sr4rb"
      }
    },
    {
      "cell_type": "code",
      "source": [
        "# Линейный график\n",
        "df['rating'].value_counts().plot(kind='line', ylabel='frequency')\n",
        "plt.show()"
      ],
      "metadata": {
        "colab": {
          "base_uri": "https://localhost:8080/",
          "height": 449
        },
        "id": "0Vodmc-yrusU",
        "outputId": "61aac1c8-f514-4d5a-cedd-7b1f614e120a"
      },
      "execution_count": 105,
      "outputs": [
        {
          "output_type": "display_data",
          "data": {
            "text/plain": [
              "<Figure size 640x480 with 1 Axes>"
            ],
            "image/png": "[encoded data removed]"
          },
          "metadata": {}
        }
      ]
    },
    {
      "cell_type": "code",
      "source": [
        "# Круговая диаграмма\n",
        "df['rating'].value_counts().plot(kind='pie', title='frequency')\n",
        "plt.show()"
      ],
      "metadata": {
        "colab": {
          "base_uri": "https://localhost:8080/",
          "height": 428
        },
        "id": "0vjgIOJ_rYD0",
        "outputId": "174b5c95-55db-45c1-c42d-5d4b1e1f4622"
      },
      "execution_count": 106,
      "outputs": [
        {
          "output_type": "display_data",
          "data": {
            "text/plain": [
              "<Figure size 640x480 with 1 Axes>"
            ],
            "image/png": "[encoded data removed]"
          },
          "metadata": {}
        }
      ]
    },
    {
      "cell_type": "markdown",
      "source": [
        "## Линейные графики"
      ],
      "metadata": {
        "id": "KudldOdWeGNQ"
      }
    },
    {
      "cell_type": "markdown",
      "source": [
        "Линейные графики нужны нам, когда мы визуализируем количественные показатели и их связь между собой. В нашем наборе данных один из таких показателей — это год производства фильма. Однако все остальные показатели — категориальные, поэтому нам необходимо выполнить некоторые преобразования. Например, мы можем посчитать, какое количество фильмов было произведено в каждый год."
      ],
      "metadata": {
        "id": "ptsjRXy5eLFP"
      }
    },
    {
      "cell_type": "code",
      "source": [
        "df.head()"
      ],
      "metadata": {
        "colab": {
          "base_uri": "https://localhost:8080/",
          "height": 293
        },
        "id": "q5JrJoxw_9qf",
        "outputId": "31756a18-ec56-4d4f-f88b-bac10ef8ba9c"
      },
      "execution_count": 107,
      "outputs": [
        {
          "output_type": "execute_result",
          "data": {
            "text/plain": [
              "  show_id     type                                             title  \\\n",
              "0      s1    Movie  Duck the Halls: A Mickey Mouse Christmas Special   \n",
              "1      s2    Movie                            Ernest Saves Christmas   \n",
              "2      s3    Movie                      Ice Age: A Mammoth Christmas   \n",
              "3      s4    Movie                        The Queen Family Singalong   \n",
              "4      s5  TV Show                             The Beatles: Get Back   \n",
              "\n",
              "                            director  \\\n",
              "0  Alonso Ramirez Ramos, Dave Wasson   \n",
              "1                        John Cherry   \n",
              "2                       Karen Disher   \n",
              "3                    Hamish Hamilton   \n",
              "4                                NaN   \n",
              "\n",
              "                                                cast        country  \\\n",
              "0  Chris Diamantopoulos, Tony Anselmo, Tress MacN...            NaN   \n",
              "1           Jim Varney, Noelle Parker, Douglas Seale            NaN   \n",
              "2  Raymond Albert Romano, John Leguizamo, Denis L...  United States   \n",
              "3  Darren Criss, Adam Lambert, Derek Hough, Alexa...            NaN   \n",
              "4  John Lennon, Paul McCartney, George Harrison, ...            NaN   \n",
              "\n",
              "          date_added  release_year rating  duration  \\\n",
              "0  November 26, 2021          2016   TV-G    23 min   \n",
              "1  November 26, 2021          1988     PG    91 min   \n",
              "2  November 26, 2021          2011   TV-G    23 min   \n",
              "3  November 26, 2021          2021  TV-PG    41 min   \n",
              "4  November 25, 2021          2021    NaN  1 Season   \n",
              "\n",
              "                       listed_in  \\\n",
              "0              Animation, Family   \n",
              "1                         Comedy   \n",
              "2      Animation, Comedy, Family   \n",
              "3                        Musical   \n",
              "4  Docuseries, Historical, Music   \n",
              "\n",
              "                                         description  \n",
              "0   Join Mickey and the gang as they duck the halls!  \n",
              "1  Santa Claus passes his magic bag to a new St. ...  \n",
              "2          Sid the Sloth is on Santa's naughty list.  \n",
              "3               This is real life, not just fantasy!  \n",
              "4  A three-part documentary from Peter Jackson ca...  "
            ],
            "text/html": [
              "\n",
              "  <div id=\"df-4fc0f66c-5e21-421e-887a-7eb8c208d686\" class=\"colab-df-container\">\n",
              "    <div>\n",
              "<style scoped>\n",
              "    .dataframe tbody tr th:only-of-type {\n",
              "        vertical-align: middle;\n",
              "    }\n",
              "\n",
              "    .dataframe tbody tr th {\n",
              "        vertical-align: top;\n",
              "    }\n",
              "\n",
              "    .dataframe thead th {\n",
              "        text-align: right;\n",
              "    }\n",
              "</style>\n",
              "<table border=\"1\" class=\"dataframe\">\n",
              "  <thead>\n",
              "    <tr style=\"text-align: right;\">\n",
              "      <th></th>\n",
              "      <th>show_id</th>\n",
              "      <th>type</th>\n",
              "      <th>title</th>\n",
              "      <th>director</th>\n",
              "      <th>cast</th>\n",
              "      <th>country</th>\n",
              "      <th>date_added</th>\n",
              "      <th>release_year</th>\n",
              "      <th>rating</th>\n",
              "      <th>duration</th>\n",
              "      <th>listed_in</th>\n",
              "      <th>description</th>\n",
              "    </tr>\n",
              "  </thead>\n",
              "  <tbody>\n",
              "    <tr>\n",
              "      <th>0</th>\n",
              "      <td>s1</td>\n",
              "      <td>Movie</td>\n",
              "      <td>Duck the Halls: A Mickey Mouse Christmas Special</td>\n",
              "      <td>Alonso Ramirez Ramos, Dave Wasson</td>\n",
              "      <td>Chris Diamantopoulos, Tony Anselmo, Tress MacN...</td>\n",
              "      <td>NaN</td>\n",
              "      <td>November 26, 2021</td>\n",
              "      <td>2016</td>\n",
              "      <td>TV-G</td>\n",
              "      <td>23 min</td>\n",
              "      <td>Animation, Family</td>\n",
              "      <td>Join Mickey and the gang as they duck the halls!</td>\n",
              "    </tr>\n",
              "    <tr>\n",
              "      <th>1</th>\n",
              "      <td>s2</td>\n",
              "      <td>Movie</td>\n",
              "      <td>Ernest Saves Christmas</td>\n",
              "      <td>John Cherry</td>\n",
              "      <td>Jim Varney, Noelle Parker, Douglas Seale</td>\n",
              "      <td>NaN</td>\n",
              "      <td>November 26, 2021</td>\n",
              "      <td>1988</td>\n",
              "      <td>PG</td>\n",
              "      <td>91 min</td>\n",
              "      <td>Comedy</td>\n",
              "      <td>Santa Claus passes his magic bag to a new St. ...</td>\n",
              "    </tr>\n",
              "    <tr>\n",
              "      <th>2</th>\n",
              "      <td>s3</td>\n",
              "      <td>Movie</td>\n",
              "      <td>Ice Age: A Mammoth Christmas</td>\n",
              "      <td>Karen Disher</td>\n",
              "      <td>Raymond Albert Romano, John Leguizamo, Denis L...</td>\n",
              "      <td>United States</td>\n",
              "      <td>November 26, 2021</td>\n",
              "      <td>2011</td>\n",
              "      <td>TV-G</td>\n",
              "      <td>23 min</td>\n",
              "      <td>Animation, Comedy, Family</td>\n",
              "      <td>Sid the Sloth is on Santa's naughty list.</td>\n",
              "    </tr>\n",
              "    <tr>\n",
              "      <th>3</th>\n",
              "      <td>s4</td>\n",
              "      <td>Movie</td>\n",
              "      <td>The Queen Family Singalong</td>\n",
              "      <td>Hamish Hamilton</td>\n",
              "      <td>Darren Criss, Adam Lambert, Derek Hough, Alexa...</td>\n",
              "      <td>NaN</td>\n",
              "      <td>November 26, 2021</td>\n",
              "      <td>2021</td>\n",
              "      <td>TV-PG</td>\n",
              "      <td>41 min</td>\n",
              "      <td>Musical</td>\n",
              "      <td>This is real life, not just fantasy!</td>\n",
              "    </tr>\n",
              "    <tr>\n",
              "      <th>4</th>\n",
              "      <td>s5</td>\n",
              "      <td>TV Show</td>\n",
              "      <td>The Beatles: Get Back</td>\n",
              "      <td>NaN</td>\n",
              "      <td>John Lennon, Paul McCartney, George Harrison, ...</td>\n",
              "      <td>NaN</td>\n",
              "      <td>November 25, 2021</td>\n",
              "      <td>2021</td>\n",
              "      <td>NaN</td>\n",
              "      <td>1 Season</td>\n",
              "      <td>Docuseries, Historical, Music</td>\n",
              "      <td>A three-part documentary from Peter Jackson ca...</td>\n",
              "    </tr>\n",
              "  </tbody>\n",
              "</table>\n",
              "</div>\n",
              "    <div class=\"colab-df-buttons\">\n",
              "\n",
              "  <div class=\"colab-df-container\">\n",
              "    <button class=\"colab-df-convert\" onclick=\"convertToInteractive('df-4fc0f66c-5e21-421e-887a-7eb8c208d686')\"\n",
              "            title=\"Convert this dataframe to an interactive table.\"\n",
              "            style=\"display:none;\">\n",
              "\n",
              "  <svg xmlns=\"http://www.w3.org/2000/svg\" height=\"24px\" viewBox=\"0 -960 960 960\">\n",
              "    <path d=\"M120-120v-720h720v720H120Zm60-500h600v-160H180v160Zm220 220h160v-160H400v160Zm0 220h160v-160H400v160ZM180-400h160v-160H180v160Zm440 0h160v-160H620v160ZM180-180h160v-160H180v160Zm440 0h160v-160H620v160Z\"/>\n",
              "  </svg>\n",
              "    </button>\n",
              "\n",
              "  <style>\n",
              "    .colab-df-container {\n",
              "      display:flex;\n",
              "      gap: 12px;\n",
              "    }\n",
              "\n",
              "    .colab-df-convert {\n",
              "      background-color: #E8F0FE;\n",
              "      border: none;\n",
              "      border-radius: 50%;\n",
              "      cursor: pointer;\n",
              "      display: none;\n",
              "      fill: #1967D2;\n",
              "      height: 32px;\n",
              "      padding: 0 0 0 0;\n",
              "      width: 32px;\n",
              "    }\n",
              "\n",
              "    .colab-df-convert:hover {\n",
              "      background-color: #E2EBFA;\n",
              "      box-shadow: 0px 1px 2px rgba(60, 64, 67, 0.3), 0px 1px 3px 1px rgba(60, 64, 67, 0.15);\n",
              "      fill: #174EA6;\n",
              "    }\n",
              "\n",
              "    .colab-df-buttons div {\n",
              "      margin-bottom: 4px;\n",
              "    }\n",
              "\n",
              "    [theme=dark] .colab-df-convert {\n",
              "      background-color: #3B4455;\n",
              "      fill: #D2E3FC;\n",
              "    }\n",
              "\n",
              "    [theme=dark] .colab-df-convert:hover {\n",
              "      background-color: #434B5C;\n",
              "      box-shadow: 0px 1px 3px 1px rgba(0, 0, 0, 0.15);\n",
              "      filter: drop-shadow(0px 1px 2px rgba(0, 0, 0, 0.3));\n",
              "      fill: #FFFFFF;\n",
              "    }\n",
              "  </style>\n",
              "\n",
              "    <script>\n",
              "      const buttonEl =\n",
              "        document.querySelector('#df-4fc0f66c-5e21-421e-887a-7eb8c208d686 button.colab-df-convert');\n",
              "      buttonEl.style.display =\n",
              "        google.colab.kernel.accessAllowed ? 'block' : 'none';\n",
              "\n",
              "      async function convertToInteractive(key) {\n",
              "        const element = document.querySelector('#df-4fc0f66c-5e21-421e-887a-7eb8c208d686');\n",
              "        const dataTable =\n",
              "          await google.colab.kernel.invokeFunction('convertToInteractive',\n",
              "                                                    [key], {});\n",
              "        if (!dataTable) return;\n",
              "\n",
              "        const docLinkHtml = 'Like what you see? Visit the ' +\n",
              "          '<a target=\"_blank\" href=https://colab.research.google.com/notebooks/data_table.ipynb>data table notebook</a>'\n",
              "          + ' to learn more about interactive tables.';\n",
              "        element.innerHTML = '';\n",
              "        dataTable['output_type'] = 'display_data';\n",
              "        await google.colab.output.renderOutput(dataTable, element);\n",
              "        const docLink = document.createElement('div');\n",
              "        docLink.innerHTML = docLinkHtml;\n",
              "        element.appendChild(docLink);\n",
              "      }\n",
              "    </script>\n",
              "  </div>\n",
              "\n",
              "\n",
              "<div id=\"df-30d5c491-24e8-4a8b-8cc2-c8421b2576d8\">\n",
              "  <button class=\"colab-df-quickchart\" onclick=\"quickchart('df-30d5c491-24e8-4a8b-8cc2-c8421b2576d8')\"\n",
              "            title=\"Suggest charts\"\n",
              "            style=\"display:none;\">\n",
              "\n",
              "<svg xmlns=\"http://www.w3.org/2000/svg\" height=\"24px\"viewBox=\"0 0 24 24\"\n",
              "     width=\"24px\">\n",
              "    <g>\n",
              "        <path d=\"M19 3H5c-1.1 0-2 .9-2 2v14c0 1.1.9 2 2 2h14c1.1 0 2-.9 2-2V5c0-1.1-.9-2-2-2zM9 17H7v-7h2v7zm4 0h-2V7h2v10zm4 0h-2v-4h2v4z\"/>\n",
              "    </g>\n",
              "</svg>\n",
              "  </button>\n",
              "\n",
              "<style>\n",
              "  .colab-df-quickchart {\n",
              "      --bg-color: #E8F0FE;\n",
              "      --fill-color: #1967D2;\n",
              "      --hover-bg-color: #E2EBFA;\n",
              "      --hover-fill-color: #174EA6;\n",
              "      --disabled-fill-color: #AAA;\n",
              "      --disabled-bg-color: #DDD;\n",
              "  }\n",
              "\n",
              "  [theme=dark] .colab-df-quickchart {\n",
              "      --bg-color: #3B4455;\n",
              "      --fill-color: #D2E3FC;\n",
              "      --hover-bg-color: #434B5C;\n",
              "      --hover-fill-color: #FFFFFF;\n",
              "      --disabled-bg-color: #3B4455;\n",
              "      --disabled-fill-color: #666;\n",
              "  }\n",
              "\n",
              "  .colab-df-quickchart {\n",
              "    background-color: var(--bg-color);\n",
              "    border: none;\n",
              "    border-radius: 50%;\n",
              "    cursor: pointer;\n",
              "    display: none;\n",
              "    fill: var(--fill-color);\n",
              "    height: 32px;\n",
              "    padding: 0;\n",
              "    width: 32px;\n",
              "  }\n",
              "\n",
              "  .colab-df-quickchart:hover {\n",
              "    background-color: var(--hover-bg-color);\n",
              "    box-shadow: 0 1px 2px rgba(60, 64, 67, 0.3), 0 1px 3px 1px rgba(60, 64, 67, 0.15);\n",
              "    fill: var(--button-hover-fill-color);\n",
              "  }\n",
              "\n",
              "  .colab-df-quickchart-complete:disabled,\n",
              "  .colab-df-quickchart-complete:disabled:hover {\n",
              "    background-color: var(--disabled-bg-color);\n",
              "    fill: var(--disabled-fill-color);\n",
              "    box-shadow: none;\n",
              "  }\n",
              "\n",
              "  .colab-df-spinner {\n",
              "    border: 2px solid var(--fill-color);\n",
              "    border-color: transparent;\n",
              "    border-bottom-color: var(--fill-color);\n",
              "    animation:\n",
              "      spin 1s steps(1) infinite;\n",
              "  }\n",
              "\n",
              "  @keyframes spin {\n",
              "    0% {\n",
              "      border-color: transparent;\n",
              "      border-bottom-color: var(--fill-color);\n",
              "      border-left-color: var(--fill-color);\n",
              "    }\n",
              "    20% {\n",
              "      border-color: transparent;\n",
              "      border-left-color: var(--fill-color);\n",
              "      border-top-color: var(--fill-color);\n",
              "    }\n",
              "    30% {\n",
              "      border-color: transparent;\n",
              "      border-left-color: var(--fill-color);\n",
              "      border-top-color: var(--fill-color);\n",
              "      border-right-color: var(--fill-color);\n",
              "    }\n",
              "    40% {\n",
              "      border-color: transparent;\n",
              "      border-right-color: var(--fill-color);\n",
              "      border-top-color: var(--fill-color);\n",
              "    }\n",
              "    60% {\n",
              "      border-color: transparent;\n",
              "      border-right-color: var(--fill-color);\n",
              "    }\n",
              "    80% {\n",
              "      border-color: transparent;\n",
              "      border-right-color: var(--fill-color);\n",
              "      border-bottom-color: var(--fill-color);\n",
              "    }\n",
              "    90% {\n",
              "      border-color: transparent;\n",
              "      border-bottom-color: var(--fill-color);\n",
              "    }\n",
              "  }\n",
              "</style>\n",
              "\n",
              "  <script>\n",
              "    async function quickchart(key) {\n",
              "      const quickchartButtonEl =\n",
              "        document.querySelector('#' + key + ' button');\n",
              "      quickchartButtonEl.disabled = true;  // To prevent multiple clicks.\n",
              "      quickchartButtonEl.classList.add('colab-df-spinner');\n",
              "      try {\n",
              "        const charts = await google.colab.kernel.invokeFunction(\n",
              "            'suggestCharts', [key], {});\n",
              "      } catch (error) {\n",
              "        console.error('Error during call to suggestCharts:', error);\n",
              "      }\n",
              "      quickchartButtonEl.classList.remove('colab-df-spinner');\n",
              "      quickchartButtonEl.classList.add('colab-df-quickchart-complete');\n",
              "    }\n",
              "    (() => {\n",
              "      let quickchartButtonEl =\n",
              "        document.querySelector('#df-30d5c491-24e8-4a8b-8cc2-c8421b2576d8 button');\n",
              "      quickchartButtonEl.style.display =\n",
              "        google.colab.kernel.accessAllowed ? 'block' : 'none';\n",
              "    })();\n",
              "  </script>\n",
              "</div>\n",
              "    </div>\n",
              "  </div>\n"
            ],
            "application/vnd.google.colaboratory.intrinsic+json": {
              "type": "dataframe",
              "variable_name": "df",
              "summary": "{\n  \"name\": \"df\",\n  \"rows\": 1450,\n  \"fields\": [\n    {\n      \"column\": \"show_id\",\n      \"properties\": {\n        \"dtype\": \"string\",\n        \"num_unique_values\": 1450,\n        \"samples\": [\n          \"s539\",\n          \"s755\",\n          \"s50\"\n        ],\n        \"semantic_type\": \"\",\n        \"description\": \"\"\n      }\n    },\n    {\n      \"column\": \"type\",\n      \"properties\": {\n        \"dtype\": \"category\",\n        \"num_unique_values\": 2,\n        \"samples\": [\n          \"TV Show\",\n          \"Movie\"\n        ],\n        \"semantic_type\": \"\",\n        \"description\": \"\"\n      }\n    },\n    {\n      \"column\": \"title\",\n      \"properties\": {\n        \"dtype\": \"string\",\n        \"num_unique_values\": 1450,\n        \"samples\": [\n          \"Homeward Bound II: Lost in San Francisco\",\n          \"Boat Builders\"\n        ],\n        \"semantic_type\": \"\",\n        \"description\": \"\"\n      }\n    },\n    {\n      \"column\": \"director\",\n      \"properties\": {\n        \"dtype\": \"category\",\n        \"num_unique_values\": 609,\n        \"samples\": [\n          \"Richard Fleischer\",\n          \"Glenn Weiss\"\n        ],\n        \"semantic_type\": \"\",\n        \"description\": \"\"\n      }\n    },\n    {\n      \"column\": \"cast\",\n      \"properties\": {\n        \"dtype\": \"string\",\n        \"num_unique_values\": 1193,\n        \"samples\": [\n          \"Thomas Nicholas, Joss Ackland, Art Malik, Paloma Baeza, Kate Winslet, Daniel Craig\",\n          \"Hutch Dano, G. Hannelius, Maurice Godin, David Lambert, Kelsy Chow, Debra Mooney\"\n        ],\n        \"semantic_type\": \"\",\n        \"description\": \"\"\n      }\n    },\n    {\n      \"column\": \"country\",\n      \"properties\": {\n        \"dtype\": \"category\",\n        \"num_unique_values\": 89,\n        \"samples\": [\n          \"United States, Ireland\",\n          \"United States, Australia, France, Canada\"\n        ],\n        \"semantic_type\": \"\",\n        \"description\": \"\"\n      }\n    },\n    {\n      \"column\": \"date_added\",\n      \"properties\": {\n        \"dtype\": \"object\",\n        \"num_unique_values\": 167,\n        \"samples\": [\n          \"July 10, 2020\",\n          \"May 29, 2020\"\n        ],\n        \"semantic_type\": \"\",\n        \"description\": \"\"\n      }\n    },\n    {\n      \"column\": \"release_year\",\n      \"properties\": {\n        \"dtype\": \"number\",\n        \"std\": 21,\n        \"min\": 1928,\n        \"max\": 2021,\n        \"num_unique_values\": 90,\n        \"samples\": [\n          1992,\n          1997\n        ],\n        \"semantic_type\": \"\",\n        \"description\": \"\"\n      }\n    },\n    {\n      \"column\": \"rating\",\n      \"properties\": {\n        \"dtype\": \"category\",\n        \"num_unique_values\": 9,\n        \"samples\": [\n          \"TV-Y\",\n          \"PG\"\n        ],\n        \"semantic_type\": \"\",\n        \"description\": \"\"\n      }\n    },\n    {\n      \"column\": \"duration\",\n      \"properties\": {\n        \"dtype\": \"category\",\n        \"num_unique_values\": 158,\n        \"samples\": [\n          \"74 min\",\n          \"32 Seasons\"\n        ],\n        \"semantic_type\": \"\",\n        \"description\": \"\"\n      }\n    },\n    {\n      \"column\": \"listed_in\",\n      \"properties\": {\n        \"dtype\": \"category\",\n        \"num_unique_values\": 329,\n        \"samples\": [\n          \"Comedy, Family, Musical\",\n          \"Comedy, Variety\"\n        ],\n        \"semantic_type\": \"\",\n        \"description\": \"\"\n      }\n    },\n    {\n      \"column\": \"description\",\n      \"properties\": {\n        \"dtype\": \"string\",\n        \"num_unique_values\": 1448,\n        \"samples\": [\n          \"A toy-stealing bully meets his match in a Lost & Found box.\",\n          \"India From Above, a two-part aerial documentary of a nation and its people.\"\n        ],\n        \"semantic_type\": \"\",\n        \"description\": \"\"\n      }\n    }\n  ]\n}"
            }
          },
          "metadata": {},
          "execution_count": 107
        }
      ]
    },
    {
      "cell_type": "code",
      "source": [
        "df['release_year'].value_counts()"
      ],
      "metadata": {
        "colab": {
          "base_uri": "https://localhost:8080/",
          "height": 490
        },
        "id": "6KfhjVBzaXQh",
        "outputId": "4da49a71-da08-4d9c-eb71-84b4f52fcb80"
      },
      "execution_count": 108,
      "outputs": [
        {
          "output_type": "execute_result",
          "data": {
            "text/plain": [
              "release_year\n",
              "2021    125\n",
              "2020    114\n",
              "2019     99\n",
              "2017     69\n",
              "2018     65\n",
              "       ... \n",
              "1928      1\n",
              "1944      1\n",
              "1970      1\n",
              "1945      1\n",
              "1968      1\n",
              "Name: count, Length: 90, dtype: int64"
            ],
            "text/html": [
              "<div>\n",
              "<style scoped>\n",
              "    .dataframe tbody tr th:only-of-type {\n",
              "        vertical-align: middle;\n",
              "    }\n",
              "\n",
              "    .dataframe tbody tr th {\n",
              "        vertical-align: top;\n",
              "    }\n",
              "\n",
              "    .dataframe thead th {\n",
              "        text-align: right;\n",
              "    }\n",
              "</style>\n",
              "<table border=\"1\" class=\"dataframe\">\n",
              "  <thead>\n",
              "    <tr style=\"text-align: right;\">\n",
              "      <th></th>\n",
              "      <th>count</th>\n",
              "    </tr>\n",
              "    <tr>\n",
              "      <th>release_year</th>\n",
              "      <th></th>\n",
              "    </tr>\n",
              "  </thead>\n",
              "  <tbody>\n",
              "    <tr>\n",
              "      <th>2021</th>\n",
              "      <td>125</td>\n",
              "    </tr>\n",
              "    <tr>\n",
              "      <th>2020</th>\n",
              "      <td>114</td>\n",
              "    </tr>\n",
              "    <tr>\n",
              "      <th>2019</th>\n",
              "      <td>99</td>\n",
              "    </tr>\n",
              "    <tr>\n",
              "      <th>2017</th>\n",
              "      <td>69</td>\n",
              "    </tr>\n",
              "    <tr>\n",
              "      <th>2018</th>\n",
              "      <td>65</td>\n",
              "    </tr>\n",
              "    <tr>\n",
              "      <th>...</th>\n",
              "      <td>...</td>\n",
              "    </tr>\n",
              "    <tr>\n",
              "      <th>1928</th>\n",
              "      <td>1</td>\n",
              "    </tr>\n",
              "    <tr>\n",
              "      <th>1944</th>\n",
              "      <td>1</td>\n",
              "    </tr>\n",
              "    <tr>\n",
              "      <th>1970</th>\n",
              "      <td>1</td>\n",
              "    </tr>\n",
              "    <tr>\n",
              "      <th>1945</th>\n",
              "      <td>1</td>\n",
              "    </tr>\n",
              "    <tr>\n",
              "      <th>1968</th>\n",
              "      <td>1</td>\n",
              "    </tr>\n",
              "  </tbody>\n",
              "</table>\n",
              "<p>90 rows × 1 columns</p>\n",
              "</div><br><label><b>dtype:</b> int64</label>"
            ]
          },
          "metadata": {},
          "execution_count": 108
        }
      ]
    },
    {
      "cell_type": "markdown",
      "source": [
        "Так мы узнали, сколько фильмов было произведено в каждый год. Теперь визуализируем это соотношение. Чтобы это сделать, нам необходимо ещё одно преобразование — связь года и количества произведённых фильмов необходимо сохранить как датафрейм."
      ],
      "metadata": {
        "id": "3wUsbwLTeXqT"
      }
    },
    {
      "cell_type": "code",
      "source": [
        "film_year = pd.DataFrame(df['release_year'].value_counts().reset_index().values, columns=[\"Year\", \"amount\"])\n",
        "film_year = film_year.sort_values('Year', ascending = True)\n",
        "print(film_year)"
      ],
      "metadata": {
        "colab": {
          "base_uri": "https://localhost:8080/"
        },
        "id": "mHyeQfvKeMXc",
        "outputId": "f5b57f5e-acbd-4acc-bde4-e1ad55366b02"
      },
      "execution_count": 109,
      "outputs": [
        {
          "output_type": "stream",
          "name": "stdout",
          "text": [
            "    Year  amount\n",
            "85  1928       1\n",
            "70  1932       3\n",
            "73  1933       3\n",
            "57  1934       4\n",
            "60  1935       4\n",
            "..   ...     ...\n",
            "3   2017      69\n",
            "4   2018      65\n",
            "2   2019      99\n",
            "1   2020     114\n",
            "0   2021     125\n",
            "\n",
            "[90 rows x 2 columns]\n"
          ]
        }
      ]
    },
    {
      "cell_type": "markdown",
      "source": [
        "Этим кодом мы создали первой строкой датафрейм с колонками “Year” и “amount”, а второй строкой отсортировали его по годам. Дальнейшая визуализация будет очень простой:\n"
      ],
      "metadata": {
        "id": "qqfjxOPReclq"
      }
    },
    {
      "cell_type": "markdown",
      "source": [
        "Функция *plt.plot()* из Matplotlib предназначена для построения линейных графиков.\n",
        "\n",
        "1. **Данные**\n",
        "* x, y – координаты точек, где:\n",
        "* x – массив значений по оси X (если не указан, используется range(len(y))).\n",
        "* y – массив значений по оси Y.\n",
        "\n",
        "2. **Настройка стиля линий**\n",
        "* color (или c) – цвет линии (\"red\", \"blue\", \"#ff5733\", \"r\", \"b\", и др.).\n",
        "* linestyle (или ls) – стиль линии:\n",
        "  1.\"-\" (сплошная, по умолчанию)\n",
        "  2. \"--\" (пунктирная)\n",
        "  3. \"-.\" (штрих-пунктирная)\n",
        "  4. \":\" (точечная)\n",
        "  5. \"\" или \"None\" (без линии).\n",
        "* linewidth (или lw) – толщина линии.\n",
        "* alpha – прозрачность (от 0 до 1).\n",
        "\n",
        "3. **Маркеры**\n",
        "* marker – тип маркера:\n",
        "  1. \"o\" (круг)\n",
        "  2. \"s\" (квадрат)\n",
        "  3. \"^\" (треугольник вверх)\n",
        "  4. \"x\" (крест)\n",
        "  5. \"*\", \"d\", \"p\", \"h\", \"D\" и др.\n",
        "* markersize (или ms) – размер маркера.\n",
        "* markeredgecolor (или mec) – цвет границы маркера.\n",
        "* markerfacecolor (или mfc) – цвет заливки маркера.\n",
        "* markeredgewidth (или mew) – толщина границы маркера.\n",
        "\n",
        "4. **Настройки осей**\n",
        "* label – подпись серии данных (используется с plt.legend()).\n",
        "* xlim, ylim – диапазон значений осей.\n",
        "* logx, logy – логарифмическая шкала.\n",
        "* grid – включение сетки (True/False).\n",
        "\n",
        "5. **Работа с несколькими графиками**\n",
        "* zorder – порядок отрисовки (чем больше значение, тем выше слой).\n",
        "* drawstyle – способ соединения точек:\n",
        "  1. \"default\" (прямая линия),\n",
        "  2. \"steps\" (ступенчатая),\n",
        "  3. \"steps-pre\", \"steps-mid\", \"steps-post\".\n",
        "\n",
        "https://matplotlib.org/stable/api/_as_gen/matplotlib.axes.Axes.plot.html"
      ],
      "metadata": {
        "id": "w1riWxLuxFNf"
      }
    },
    {
      "cell_type": "code",
      "source": [
        "plt.plot(film_year['Year'], film_year['amount'])\n",
        "plt.show()"
      ],
      "metadata": {
        "colab": {
          "base_uri": "https://localhost:8080/",
          "height": 430
        },
        "id": "Fl-_njAjeMVY",
        "outputId": "3c7b47f8-d45c-452c-b5c7-4e2674041d1c"
      },
      "execution_count": 110,
      "outputs": [
        {
          "output_type": "display_data",
          "data": {
            "text/plain": [
              "<Figure size 640x480 with 1 Axes>"
            ],
            "image/png": "[encoded data removed]"
          },
          "metadata": {}
        }
      ]
    },
    {
      "cell_type": "markdown",
      "source": [
        "Простой, но отчётливо наблюдаемый тренд — это увеличение производства фильмов и ТВ-шоу от года к году."
      ],
      "metadata": {
        "id": "HXCEAjwyehGH"
      }
    },
    {
      "cell_type": "code",
      "source": [
        "plt.plot(film_year['Year'], film_year['amount'], label=\"amount films\", color=\"blue\", linestyle=\"--\", linewidth=2, marker=\"o\", markersize=5)\n",
        "plt.xlabel(\"Год производства\")\n",
        "plt.ylabel(\"Количество фильмов\")\n",
        "plt.title(\"Производство фильмов по годам\")\n",
        "plt.legend()\n",
        "plt.grid(True)\n",
        "plt.show()"
      ],
      "metadata": {
        "colab": {
          "base_uri": "https://localhost:8080/",
          "height": 472
        },
        "id": "cx62v1GNx8RF",
        "outputId": "2516d54c-7864-4542-963e-abfed7a1122b"
      },
      "execution_count": 115,
      "outputs": [
        {
          "output_type": "display_data",
          "data": {
            "text/plain": [
              "<Figure size 640x480 with 1 Axes>"
            ],
            "image/png": "[encoded data removed]"
          },
          "metadata": {}
        }
      ]
    },
    {
      "cell_type": "markdown",
      "source": [
        "## Точечная диаграмма"
      ],
      "metadata": {
        "id": "NpJKJVPqejK5"
      }
    },
    {
      "cell_type": "markdown",
      "source": [
        "Точечная диаграмма нужна нам для визуализации двух переменных и, как мы уже видели в предыдущем параграфе, часто используется при работе с корреляциями.\n",
        "\n",
        "В нашем наборе данных есть две подходящие переменные: год производства и длительность фильма. Однако длительность фильма изначально представлена как строка, поскольку содержит не только данные о количестве минут или сезонов, но и текст. Это не подходит для наших задач, поэтому мы преобразуем переменную. Мы не будем подробно разбирать, как именно это сделать в Python, однако код для этой операции выглядит следующим образом:"
      ],
      "metadata": {
        "id": "1KCGlR4xeoGk"
      }
    },
    {
      "cell_type": "code",
      "source": [
        "df.head()"
      ],
      "metadata": {
        "colab": {
          "base_uri": "https://localhost:8080/",
          "height": 293
        },
        "id": "ykh3PDzszTvJ",
        "outputId": "58f181d6-f1cf-4c97-a634-a277aa05383c"
      },
      "execution_count": 116,
      "outputs": [
        {
          "output_type": "execute_result",
          "data": {
            "text/plain": [
              "  show_id     type                                             title  \\\n",
              "0      s1    Movie  Duck the Halls: A Mickey Mouse Christmas Special   \n",
              "1      s2    Movie                            Ernest Saves Christmas   \n",
              "2      s3    Movie                      Ice Age: A Mammoth Christmas   \n",
              "3      s4    Movie                        The Queen Family Singalong   \n",
              "4      s5  TV Show                             The Beatles: Get Back   \n",
              "\n",
              "                            director  \\\n",
              "0  Alonso Ramirez Ramos, Dave Wasson   \n",
              "1                        John Cherry   \n",
              "2                       Karen Disher   \n",
              "3                    Hamish Hamilton   \n",
              "4                                NaN   \n",
              "\n",
              "                                                cast        country  \\\n",
              "0  Chris Diamantopoulos, Tony Anselmo, Tress MacN...            NaN   \n",
              "1           Jim Varney, Noelle Parker, Douglas Seale            NaN   \n",
              "2  Raymond Albert Romano, John Leguizamo, Denis L...  United States   \n",
              "3  Darren Criss, Adam Lambert, Derek Hough, Alexa...            NaN   \n",
              "4  John Lennon, Paul McCartney, George Harrison, ...            NaN   \n",
              "\n",
              "          date_added  release_year rating  duration  \\\n",
              "0  November 26, 2021          2016   TV-G    23 min   \n",
              "1  November 26, 2021          1988     PG    91 min   \n",
              "2  November 26, 2021          2011   TV-G    23 min   \n",
              "3  November 26, 2021          2021  TV-PG    41 min   \n",
              "4  November 25, 2021          2021    NaN  1 Season   \n",
              "\n",
              "                       listed_in  \\\n",
              "0              Animation, Family   \n",
              "1                         Comedy   \n",
              "2      Animation, Comedy, Family   \n",
              "3                        Musical   \n",
              "4  Docuseries, Historical, Music   \n",
              "\n",
              "                                         description  \n",
              "0   Join Mickey and the gang as they duck the halls!  \n",
              "1  Santa Claus passes his magic bag to a new St. ...  \n",
              "2          Sid the Sloth is on Santa's naughty list.  \n",
              "3               This is real life, not just fantasy!  \n",
              "4  A three-part documentary from Peter Jackson ca...  "
            ],
            "text/html": [
              "\n",
              "  <div id=\"df-c1ef8ff4-ffab-4f32-a2b0-56d69f13e2a9\" class=\"colab-df-container\">\n",
              "    <div>\n",
              "<style scoped>\n",
              "    .dataframe tbody tr th:only-of-type {\n",
              "        vertical-align: middle;\n",
              "    }\n",
              "\n",
              "    .dataframe tbody tr th {\n",
              "        vertical-align: top;\n",
              "    }\n",
              "\n",
              "    .dataframe thead th {\n",
              "        text-align: right;\n",
              "    }\n",
              "</style>\n",
              "<table border=\"1\" class=\"dataframe\">\n",
              "  <thead>\n",
              "    <tr style=\"text-align: right;\">\n",
              "      <th></th>\n",
              "      <th>show_id</th>\n",
              "      <th>type</th>\n",
              "      <th>title</th>\n",
              "      <th>director</th>\n",
              "      <th>cast</th>\n",
              "      <th>country</th>\n",
              "      <th>date_added</th>\n",
              "      <th>release_year</th>\n",
              "      <th>rating</th>\n",
              "      <th>duration</th>\n",
              "      <th>listed_in</th>\n",
              "      <th>description</th>\n",
              "    </tr>\n",
              "  </thead>\n",
              "  <tbody>\n",
              "    <tr>\n",
              "      <th>0</th>\n",
              "      <td>s1</td>\n",
              "      <td>Movie</td>\n",
              "      <td>Duck the Halls: A Mickey Mouse Christmas Special</td>\n",
              "      <td>Alonso Ramirez Ramos, Dave Wasson</td>\n",
              "      <td>Chris Diamantopoulos, Tony Anselmo, Tress MacN...</td>\n",
              "      <td>NaN</td>\n",
              "      <td>November 26, 2021</td>\n",
              "      <td>2016</td>\n",
              "      <td>TV-G</td>\n",
              "      <td>23 min</td>\n",
              "      <td>Animation, Family</td>\n",
              "      <td>Join Mickey and the gang as they duck the halls!</td>\n",
              "    </tr>\n",
              "    <tr>\n",
              "      <th>1</th>\n",
              "      <td>s2</td>\n",
              "      <td>Movie</td>\n",
              "      <td>Ernest Saves Christmas</td>\n",
              "      <td>John Cherry</td>\n",
              "      <td>Jim Varney, Noelle Parker, Douglas Seale</td>\n",
              "      <td>NaN</td>\n",
              "      <td>November 26, 2021</td>\n",
              "      <td>1988</td>\n",
              "      <td>PG</td>\n",
              "      <td>91 min</td>\n",
              "      <td>Comedy</td>\n",
              "      <td>Santa Claus passes his magic bag to a new St. ...</td>\n",
              "    </tr>\n",
              "    <tr>\n",
              "      <th>2</th>\n",
              "      <td>s3</td>\n",
              "      <td>Movie</td>\n",
              "      <td>Ice Age: A Mammoth Christmas</td>\n",
              "      <td>Karen Disher</td>\n",
              "      <td>Raymond Albert Romano, John Leguizamo, Denis L...</td>\n",
              "      <td>United States</td>\n",
              "      <td>November 26, 2021</td>\n",
              "      <td>2011</td>\n",
              "      <td>TV-G</td>\n",
              "      <td>23 min</td>\n",
              "      <td>Animation, Comedy, Family</td>\n",
              "      <td>Sid the Sloth is on Santa's naughty list.</td>\n",
              "    </tr>\n",
              "    <tr>\n",
              "      <th>3</th>\n",
              "      <td>s4</td>\n",
              "      <td>Movie</td>\n",
              "      <td>The Queen Family Singalong</td>\n",
              "      <td>Hamish Hamilton</td>\n",
              "      <td>Darren Criss, Adam Lambert, Derek Hough, Alexa...</td>\n",
              "      <td>NaN</td>\n",
              "      <td>November 26, 2021</td>\n",
              "      <td>2021</td>\n",
              "      <td>TV-PG</td>\n",
              "      <td>41 min</td>\n",
              "      <td>Musical</td>\n",
              "      <td>This is real life, not just fantasy!</td>\n",
              "    </tr>\n",
              "    <tr>\n",
              "      <th>4</th>\n",
              "      <td>s5</td>\n",
              "      <td>TV Show</td>\n",
              "      <td>The Beatles: Get Back</td>\n",
              "      <td>NaN</td>\n",
              "      <td>John Lennon, Paul McCartney, George Harrison, ...</td>\n",
              "      <td>NaN</td>\n",
              "      <td>November 25, 2021</td>\n",
              "      <td>2021</td>\n",
              "      <td>NaN</td>\n",
              "      <td>1 Season</td>\n",
              "      <td>Docuseries, Historical, Music</td>\n",
              "      <td>A three-part documentary from Peter Jackson ca...</td>\n",
              "    </tr>\n",
              "  </tbody>\n",
              "</table>\n",
              "</div>\n",
              "    <div class=\"colab-df-buttons\">\n",
              "\n",
              "  <div class=\"colab-df-container\">\n",
              "    <button class=\"colab-df-convert\" onclick=\"convertToInteractive('df-c1ef8ff4-ffab-4f32-a2b0-56d69f13e2a9')\"\n",
              "            title=\"Convert this dataframe to an interactive table.\"\n",
              "            style=\"display:none;\">\n",
              "\n",
              "  <svg xmlns=\"http://www.w3.org/2000/svg\" height=\"24px\" viewBox=\"0 -960 960 960\">\n",
              "    <path d=\"M120-120v-720h720v720H120Zm60-500h600v-160H180v160Zm220 220h160v-160H400v160Zm0 220h160v-160H400v160ZM180-400h160v-160H180v160Zm440 0h160v-160H620v160ZM180-180h160v-160H180v160Zm440 0h160v-160H620v160Z\"/>\n",
              "  </svg>\n",
              "    </button>\n",
              "\n",
              "  <style>\n",
              "    .colab-df-container {\n",
              "      display:flex;\n",
              "      gap: 12px;\n",
              "    }\n",
              "\n",
              "    .colab-df-convert {\n",
              "      background-color: #E8F0FE;\n",
              "      border: none;\n",
              "      border-radius: 50%;\n",
              "      cursor: pointer;\n",
              "      display: none;\n",
              "      fill: #1967D2;\n",
              "      height: 32px;\n",
              "      padding: 0 0 0 0;\n",
              "      width: 32px;\n",
              "    }\n",
              "\n",
              "    .colab-df-convert:hover {\n",
              "      background-color: #E2EBFA;\n",
              "      box-shadow: 0px 1px 2px rgba(60, 64, 67, 0.3), 0px 1px 3px 1px rgba(60, 64, 67, 0.15);\n",
              "      fill: #174EA6;\n",
              "    }\n",
              "\n",
              "    .colab-df-buttons div {\n",
              "      margin-bottom: 4px;\n",
              "    }\n",
              "\n",
              "    [theme=dark] .colab-df-convert {\n",
              "      background-color: #3B4455;\n",
              "      fill: #D2E3FC;\n",
              "    }\n",
              "\n",
              "    [theme=dark] .colab-df-convert:hover {\n",
              "      background-color: #434B5C;\n",
              "      box-shadow: 0px 1px 3px 1px rgba(0, 0, 0, 0.15);\n",
              "      filter: drop-shadow(0px 1px 2px rgba(0, 0, 0, 0.3));\n",
              "      fill: #FFFFFF;\n",
              "    }\n",
              "  </style>\n",
              "\n",
              "    <script>\n",
              "      const buttonEl =\n",
              "        document.querySelector('#df-c1ef8ff4-ffab-4f32-a2b0-56d69f13e2a9 button.colab-df-convert');\n",
              "      buttonEl.style.display =\n",
              "        google.colab.kernel.accessAllowed ? 'block' : 'none';\n",
              "\n",
              "      async function convertToInteractive(key) {\n",
              "        const element = document.querySelector('#df-c1ef8ff4-ffab-4f32-a2b0-56d69f13e2a9');\n",
              "        const dataTable =\n",
              "          await google.colab.kernel.invokeFunction('convertToInteractive',\n",
              "                                                    [key], {});\n",
              "        if (!dataTable) return;\n",
              "\n",
              "        const docLinkHtml = 'Like what you see? Visit the ' +\n",
              "          '<a target=\"_blank\" href=https://colab.research.google.com/notebooks/data_table.ipynb>data table notebook</a>'\n",
              "          + ' to learn more about interactive tables.';\n",
              "        element.innerHTML = '';\n",
              "        dataTable['output_type'] = 'display_data';\n",
              "        await google.colab.output.renderOutput(dataTable, element);\n",
              "        const docLink = document.createElement('div');\n",
              "        docLink.innerHTML = docLinkHtml;\n",
              "        element.appendChild(docLink);\n",
              "      }\n",
              "    </script>\n",
              "  </div>\n",
              "\n",
              "\n",
              "<div id=\"df-7fd28b5c-b19e-4559-92e5-24cdf237c462\">\n",
              "  <button class=\"colab-df-quickchart\" onclick=\"quickchart('df-7fd28b5c-b19e-4559-92e5-24cdf237c462')\"\n",
              "            title=\"Suggest charts\"\n",
              "            style=\"display:none;\">\n",
              "\n",
              "<svg xmlns=\"http://www.w3.org/2000/svg\" height=\"24px\"viewBox=\"0 0 24 24\"\n",
              "     width=\"24px\">\n",
              "    <g>\n",
              "        <path d=\"M19 3H5c-1.1 0-2 .9-2 2v14c0 1.1.9 2 2 2h14c1.1 0 2-.9 2-2V5c0-1.1-.9-2-2-2zM9 17H7v-7h2v7zm4 0h-2V7h2v10zm4 0h-2v-4h2v4z\"/>\n",
              "    </g>\n",
              "</svg>\n",
              "  </button>\n",
              "\n",
              "<style>\n",
              "  .colab-df-quickchart {\n",
              "      --bg-color: #E8F0FE;\n",
              "      --fill-color: #1967D2;\n",
              "      --hover-bg-color: #E2EBFA;\n",
              "      --hover-fill-color: #174EA6;\n",
              "      --disabled-fill-color: #AAA;\n",
              "      --disabled-bg-color: #DDD;\n",
              "  }\n",
              "\n",
              "  [theme=dark] .colab-df-quickchart {\n",
              "      --bg-color: #3B4455;\n",
              "      --fill-color: #D2E3FC;\n",
              "      --hover-bg-color: #434B5C;\n",
              "      --hover-fill-color: #FFFFFF;\n",
              "      --disabled-bg-color: #3B4455;\n",
              "      --disabled-fill-color: #666;\n",
              "  }\n",
              "\n",
              "  .colab-df-quickchart {\n",
              "    background-color: var(--bg-color);\n",
              "    border: none;\n",
              "    border-radius: 50%;\n",
              "    cursor: pointer;\n",
              "    display: none;\n",
              "    fill: var(--fill-color);\n",
              "    height: 32px;\n",
              "    padding: 0;\n",
              "    width: 32px;\n",
              "  }\n",
              "\n",
              "  .colab-df-quickchart:hover {\n",
              "    background-color: var(--hover-bg-color);\n",
              "    box-shadow: 0 1px 2px rgba(60, 64, 67, 0.3), 0 1px 3px 1px rgba(60, 64, 67, 0.15);\n",
              "    fill: var(--button-hover-fill-color);\n",
              "  }\n",
              "\n",
              "  .colab-df-quickchart-complete:disabled,\n",
              "  .colab-df-quickchart-complete:disabled:hover {\n",
              "    background-color: var(--disabled-bg-color);\n",
              "    fill: var(--disabled-fill-color);\n",
              "    box-shadow: none;\n",
              "  }\n",
              "\n",
              "  .colab-df-spinner {\n",
              "    border: 2px solid var(--fill-color);\n",
              "    border-color: transparent;\n",
              "    border-bottom-color: var(--fill-color);\n",
              "    animation:\n",
              "      spin 1s steps(1) infinite;\n",
              "  }\n",
              "\n",
              "  @keyframes spin {\n",
              "    0% {\n",
              "      border-color: transparent;\n",
              "      border-bottom-color: var(--fill-color);\n",
              "      border-left-color: var(--fill-color);\n",
              "    }\n",
              "    20% {\n",
              "      border-color: transparent;\n",
              "      border-left-color: var(--fill-color);\n",
              "      border-top-color: var(--fill-color);\n",
              "    }\n",
              "    30% {\n",
              "      border-color: transparent;\n",
              "      border-left-color: var(--fill-color);\n",
              "      border-top-color: var(--fill-color);\n",
              "      border-right-color: var(--fill-color);\n",
              "    }\n",
              "    40% {\n",
              "      border-color: transparent;\n",
              "      border-right-color: var(--fill-color);\n",
              "      border-top-color: var(--fill-color);\n",
              "    }\n",
              "    60% {\n",
              "      border-color: transparent;\n",
              "      border-right-color: var(--fill-color);\n",
              "    }\n",
              "    80% {\n",
              "      border-color: transparent;\n",
              "      border-right-color: var(--fill-color);\n",
              "      border-bottom-color: var(--fill-color);\n",
              "    }\n",
              "    90% {\n",
              "      border-color: transparent;\n",
              "      border-bottom-color: var(--fill-color);\n",
              "    }\n",
              "  }\n",
              "</style>\n",
              "\n",
              "  <script>\n",
              "    async function quickchart(key) {\n",
              "      const quickchartButtonEl =\n",
              "        document.querySelector('#' + key + ' button');\n",
              "      quickchartButtonEl.disabled = true;  // To prevent multiple clicks.\n",
              "      quickchartButtonEl.classList.add('colab-df-spinner');\n",
              "      try {\n",
              "        const charts = await google.colab.kernel.invokeFunction(\n",
              "            'suggestCharts', [key], {});\n",
              "      } catch (error) {\n",
              "        console.error('Error during call to suggestCharts:', error);\n",
              "      }\n",
              "      quickchartButtonEl.classList.remove('colab-df-spinner');\n",
              "      quickchartButtonEl.classList.add('colab-df-quickchart-complete');\n",
              "    }\n",
              "    (() => {\n",
              "      let quickchartButtonEl =\n",
              "        document.querySelector('#df-7fd28b5c-b19e-4559-92e5-24cdf237c462 button');\n",
              "      quickchartButtonEl.style.display =\n",
              "        google.colab.kernel.accessAllowed ? 'block' : 'none';\n",
              "    })();\n",
              "  </script>\n",
              "</div>\n",
              "    </div>\n",
              "  </div>\n"
            ],
            "application/vnd.google.colaboratory.intrinsic+json": {
              "type": "dataframe",
              "variable_name": "df",
              "summary": "{\n  \"name\": \"df\",\n  \"rows\": 1450,\n  \"fields\": [\n    {\n      \"column\": \"show_id\",\n      \"properties\": {\n        \"dtype\": \"string\",\n        \"num_unique_values\": 1450,\n        \"samples\": [\n          \"s539\",\n          \"s755\",\n          \"s50\"\n        ],\n        \"semantic_type\": \"\",\n        \"description\": \"\"\n      }\n    },\n    {\n      \"column\": \"type\",\n      \"properties\": {\n        \"dtype\": \"category\",\n        \"num_unique_values\": 2,\n        \"samples\": [\n          \"TV Show\",\n          \"Movie\"\n        ],\n        \"semantic_type\": \"\",\n        \"description\": \"\"\n      }\n    },\n    {\n      \"column\": \"title\",\n      \"properties\": {\n        \"dtype\": \"string\",\n        \"num_unique_values\": 1450,\n        \"samples\": [\n          \"Homeward Bound II: Lost in San Francisco\",\n          \"Boat Builders\"\n        ],\n        \"semantic_type\": \"\",\n        \"description\": \"\"\n      }\n    },\n    {\n      \"column\": \"director\",\n      \"properties\": {\n        \"dtype\": \"category\",\n        \"num_unique_values\": 609,\n        \"samples\": [\n          \"Richard Fleischer\",\n          \"Glenn Weiss\"\n        ],\n        \"semantic_type\": \"\",\n        \"description\": \"\"\n      }\n    },\n    {\n      \"column\": \"cast\",\n      \"properties\": {\n        \"dtype\": \"string\",\n        \"num_unique_values\": 1193,\n        \"samples\": [\n          \"Thomas Nicholas, Joss Ackland, Art Malik, Paloma Baeza, Kate Winslet, Daniel Craig\",\n          \"Hutch Dano, G. Hannelius, Maurice Godin, David Lambert, Kelsy Chow, Debra Mooney\"\n        ],\n        \"semantic_type\": \"\",\n        \"description\": \"\"\n      }\n    },\n    {\n      \"column\": \"country\",\n      \"properties\": {\n        \"dtype\": \"category\",\n        \"num_unique_values\": 89,\n        \"samples\": [\n          \"United States, Ireland\",\n          \"United States, Australia, France, Canada\"\n        ],\n        \"semantic_type\": \"\",\n        \"description\": \"\"\n      }\n    },\n    {\n      \"column\": \"date_added\",\n      \"properties\": {\n        \"dtype\": \"object\",\n        \"num_unique_values\": 167,\n        \"samples\": [\n          \"July 10, 2020\",\n          \"May 29, 2020\"\n        ],\n        \"semantic_type\": \"\",\n        \"description\": \"\"\n      }\n    },\n    {\n      \"column\": \"release_year\",\n      \"properties\": {\n        \"dtype\": \"number\",\n        \"std\": 21,\n        \"min\": 1928,\n        \"max\": 2021,\n        \"num_unique_values\": 90,\n        \"samples\": [\n          1992,\n          1997\n        ],\n        \"semantic_type\": \"\",\n        \"description\": \"\"\n      }\n    },\n    {\n      \"column\": \"rating\",\n      \"properties\": {\n        \"dtype\": \"category\",\n        \"num_unique_values\": 9,\n        \"samples\": [\n          \"TV-Y\",\n          \"PG\"\n        ],\n        \"semantic_type\": \"\",\n        \"description\": \"\"\n      }\n    },\n    {\n      \"column\": \"duration\",\n      \"properties\": {\n        \"dtype\": \"category\",\n        \"num_unique_values\": 158,\n        \"samples\": [\n          \"74 min\",\n          \"32 Seasons\"\n        ],\n        \"semantic_type\": \"\",\n        \"description\": \"\"\n      }\n    },\n    {\n      \"column\": \"listed_in\",\n      \"properties\": {\n        \"dtype\": \"category\",\n        \"num_unique_values\": 329,\n        \"samples\": [\n          \"Comedy, Family, Musical\",\n          \"Comedy, Variety\"\n        ],\n        \"semantic_type\": \"\",\n        \"description\": \"\"\n      }\n    },\n    {\n      \"column\": \"description\",\n      \"properties\": {\n        \"dtype\": \"string\",\n        \"num_unique_values\": 1448,\n        \"samples\": [\n          \"A toy-stealing bully meets his match in a Lost & Found box.\",\n          \"India From Above, a two-part aerial documentary of a nation and its people.\"\n        ],\n        \"semantic_type\": \"\",\n        \"description\": \"\"\n      }\n    }\n  ]\n}"
            }
          },
          "metadata": {},
          "execution_count": 116
        }
      ]
    },
    {
      "cell_type": "code",
      "source": [
        "df['duration'] = df['duration'].replace('min' or 'Season', '', regex=True).apply(pd.to_numeric, errors='coerce')\n",
        "df_2 = df[df['duration'] > 15]"
      ],
      "metadata": {
        "id": "8A1p7wsgeMTQ"
      },
      "execution_count": 117,
      "outputs": []
    },
    {
      "cell_type": "code",
      "source": [
        "df_2.head()"
      ],
      "metadata": {
        "colab": {
          "base_uri": "https://localhost:8080/",
          "height": 293
        },
        "id": "14L-MkAezPTA",
        "outputId": "76eacc27-f34d-49bc-89ce-bb010b493fd8"
      },
      "execution_count": 118,
      "outputs": [
        {
          "output_type": "execute_result",
          "data": {
            "text/plain": [
              "  show_id   type                                             title  \\\n",
              "0      s1  Movie  Duck the Halls: A Mickey Mouse Christmas Special   \n",
              "1      s2  Movie                            Ernest Saves Christmas   \n",
              "2      s3  Movie                      Ice Age: A Mammoth Christmas   \n",
              "3      s4  Movie                        The Queen Family Singalong   \n",
              "5      s6  Movie                                 Becoming Cousteau   \n",
              "\n",
              "                            director  \\\n",
              "0  Alonso Ramirez Ramos, Dave Wasson   \n",
              "1                        John Cherry   \n",
              "2                       Karen Disher   \n",
              "3                    Hamish Hamilton   \n",
              "5                         Liz Garbus   \n",
              "\n",
              "                                                cast        country  \\\n",
              "0  Chris Diamantopoulos, Tony Anselmo, Tress MacN...            NaN   \n",
              "1           Jim Varney, Noelle Parker, Douglas Seale            NaN   \n",
              "2  Raymond Albert Romano, John Leguizamo, Denis L...  United States   \n",
              "3  Darren Criss, Adam Lambert, Derek Hough, Alexa...            NaN   \n",
              "5              Jacques Yves Cousteau, Vincent Cassel  United States   \n",
              "\n",
              "          date_added  release_year rating  duration  \\\n",
              "0  November 26, 2021          2016   TV-G      23.0   \n",
              "1  November 26, 2021          1988     PG      91.0   \n",
              "2  November 26, 2021          2011   TV-G      23.0   \n",
              "3  November 26, 2021          2021  TV-PG      41.0   \n",
              "5  November 24, 2021          2021  PG-13      94.0   \n",
              "\n",
              "                   listed_in  \\\n",
              "0          Animation, Family   \n",
              "1                     Comedy   \n",
              "2  Animation, Comedy, Family   \n",
              "3                    Musical   \n",
              "5  Biographical, Documentary   \n",
              "\n",
              "                                         description  \n",
              "0   Join Mickey and the gang as they duck the halls!  \n",
              "1  Santa Claus passes his magic bag to a new St. ...  \n",
              "2          Sid the Sloth is on Santa's naughty list.  \n",
              "3               This is real life, not just fantasy!  \n",
              "5  An inside look at the legendary life of advent...  "
            ],
            "text/html": [
              "\n",
              "  <div id=\"df-0fc93369-a906-4ebd-ba38-7041120cfa00\" class=\"colab-df-container\">\n",
              "    <div>\n",
              "<style scoped>\n",
              "    .dataframe tbody tr th:only-of-type {\n",
              "        vertical-align: middle;\n",
              "    }\n",
              "\n",
              "    .dataframe tbody tr th {\n",
              "        vertical-align: top;\n",
              "    }\n",
              "\n",
              "    .dataframe thead th {\n",
              "        text-align: right;\n",
              "    }\n",
              "</style>\n",
              "<table border=\"1\" class=\"dataframe\">\n",
              "  <thead>\n",
              "    <tr style=\"text-align: right;\">\n",
              "      <th></th>\n",
              "      <th>show_id</th>\n",
              "      <th>type</th>\n",
              "      <th>title</th>\n",
              "      <th>director</th>\n",
              "      <th>cast</th>\n",
              "      <th>country</th>\n",
              "      <th>date_added</th>\n",
              "      <th>release_year</th>\n",
              "      <th>rating</th>\n",
              "      <th>duration</th>\n",
              "      <th>listed_in</th>\n",
              "      <th>description</th>\n",
              "    </tr>\n",
              "  </thead>\n",
              "  <tbody>\n",
              "    <tr>\n",
              "      <th>0</th>\n",
              "      <td>s1</td>\n",
              "      <td>Movie</td>\n",
              "      <td>Duck the Halls: A Mickey Mouse Christmas Special</td>\n",
              "      <td>Alonso Ramirez Ramos, Dave Wasson</td>\n",
              "      <td>Chris Diamantopoulos, Tony Anselmo, Tress MacN...</td>\n",
              "      <td>NaN</td>\n",
              "      <td>November 26, 2021</td>\n",
              "      <td>2016</td>\n",
              "      <td>TV-G</td>\n",
              "      <td>23.0</td>\n",
              "      <td>Animation, Family</td>\n",
              "      <td>Join Mickey and the gang as they duck the halls!</td>\n",
              "    </tr>\n",
              "    <tr>\n",
              "      <th>1</th>\n",
              "      <td>s2</td>\n",
              "      <td>Movie</td>\n",
              "      <td>Ernest Saves Christmas</td>\n",
              "      <td>John Cherry</td>\n",
              "      <td>Jim Varney, Noelle Parker, Douglas Seale</td>\n",
              "      <td>NaN</td>\n",
              "      <td>November 26, 2021</td>\n",
              "      <td>1988</td>\n",
              "      <td>PG</td>\n",
              "      <td>91.0</td>\n",
              "      <td>Comedy</td>\n",
              "      <td>Santa Claus passes his magic bag to a new St. ...</td>\n",
              "    </tr>\n",
              "    <tr>\n",
              "      <th>2</th>\n",
              "      <td>s3</td>\n",
              "      <td>Movie</td>\n",
              "      <td>Ice Age: A Mammoth Christmas</td>\n",
              "      <td>Karen Disher</td>\n",
              "      <td>Raymond Albert Romano, John Leguizamo, Denis L...</td>\n",
              "      <td>United States</td>\n",
              "      <td>November 26, 2021</td>\n",
              "      <td>2011</td>\n",
              "      <td>TV-G</td>\n",
              "      <td>23.0</td>\n",
              "      <td>Animation, Comedy, Family</td>\n",
              "      <td>Sid the Sloth is on Santa's naughty list.</td>\n",
              "    </tr>\n",
              "    <tr>\n",
              "      <th>3</th>\n",
              "      <td>s4</td>\n",
              "      <td>Movie</td>\n",
              "      <td>The Queen Family Singalong</td>\n",
              "      <td>Hamish Hamilton</td>\n",
              "      <td>Darren Criss, Adam Lambert, Derek Hough, Alexa...</td>\n",
              "      <td>NaN</td>\n",
              "      <td>November 26, 2021</td>\n",
              "      <td>2021</td>\n",
              "      <td>TV-PG</td>\n",
              "      <td>41.0</td>\n",
              "      <td>Musical</td>\n",
              "      <td>This is real life, not just fantasy!</td>\n",
              "    </tr>\n",
              "    <tr>\n",
              "      <th>5</th>\n",
              "      <td>s6</td>\n",
              "      <td>Movie</td>\n",
              "      <td>Becoming Cousteau</td>\n",
              "      <td>Liz Garbus</td>\n",
              "      <td>Jacques Yves Cousteau, Vincent Cassel</td>\n",
              "      <td>United States</td>\n",
              "      <td>November 24, 2021</td>\n",
              "      <td>2021</td>\n",
              "      <td>PG-13</td>\n",
              "      <td>94.0</td>\n",
              "      <td>Biographical, Documentary</td>\n",
              "      <td>An inside look at the legendary life of advent...</td>\n",
              "    </tr>\n",
              "  </tbody>\n",
              "</table>\n",
              "</div>\n",
              "    <div class=\"colab-df-buttons\">\n",
              "\n",
              "  <div class=\"colab-df-container\">\n",
              "    <button class=\"colab-df-convert\" onclick=\"convertToInteractive('df-0fc93369-a906-4ebd-ba38-7041120cfa00')\"\n",
              "            title=\"Convert this dataframe to an interactive table.\"\n",
              "            style=\"display:none;\">\n",
              "\n",
              "  <svg xmlns=\"http://www.w3.org/2000/svg\" height=\"24px\" viewBox=\"0 -960 960 960\">\n",
              "    <path d=\"M120-120v-720h720v720H120Zm60-500h600v-160H180v160Zm220 220h160v-160H400v160Zm0 220h160v-160H400v160ZM180-400h160v-160H180v160Zm440 0h160v-160H620v160ZM180-180h160v-160H180v160Zm440 0h160v-160H620v160Z\"/>\n",
              "  </svg>\n",
              "    </button>\n",
              "\n",
              "  <style>\n",
              "    .colab-df-container {\n",
              "      display:flex;\n",
              "      gap: 12px;\n",
              "    }\n",
              "\n",
              "    .colab-df-convert {\n",
              "      background-color: #E8F0FE;\n",
              "      border: none;\n",
              "      border-radius: 50%;\n",
              "      cursor: pointer;\n",
              "      display: none;\n",
              "      fill: #1967D2;\n",
              "      height: 32px;\n",
              "      padding: 0 0 0 0;\n",
              "      width: 32px;\n",
              "    }\n",
              "\n",
              "    .colab-df-convert:hover {\n",
              "      background-color: #E2EBFA;\n",
              "      box-shadow: 0px 1px 2px rgba(60, 64, 67, 0.3), 0px 1px 3px 1px rgba(60, 64, 67, 0.15);\n",
              "      fill: #174EA6;\n",
              "    }\n",
              "\n",
              "    .colab-df-buttons div {\n",
              "      margin-bottom: 4px;\n",
              "    }\n",
              "\n",
              "    [theme=dark] .colab-df-convert {\n",
              "      background-color: #3B4455;\n",
              "      fill: #D2E3FC;\n",
              "    }\n",
              "\n",
              "    [theme=dark] .colab-df-convert:hover {\n",
              "      background-color: #434B5C;\n",
              "      box-shadow: 0px 1px 3px 1px rgba(0, 0, 0, 0.15);\n",
              "      filter: drop-shadow(0px 1px 2px rgba(0, 0, 0, 0.3));\n",
              "      fill: #FFFFFF;\n",
              "    }\n",
              "  </style>\n",
              "\n",
              "    <script>\n",
              "      const buttonEl =\n",
              "        document.querySelector('#df-0fc93369-a906-4ebd-ba38-7041120cfa00 button.colab-df-convert');\n",
              "      buttonEl.style.display =\n",
              "        google.colab.kernel.accessAllowed ? 'block' : 'none';\n",
              "\n",
              "      async function convertToInteractive(key) {\n",
              "        const element = document.querySelector('#df-0fc93369-a906-4ebd-ba38-7041120cfa00');\n",
              "        const dataTable =\n",
              "          await google.colab.kernel.invokeFunction('convertToInteractive',\n",
              "                                                    [key], {});\n",
              "        if (!dataTable) return;\n",
              "\n",
              "        const docLinkHtml = 'Like what you see? Visit the ' +\n",
              "          '<a target=\"_blank\" href=https://colab.research.google.com/notebooks/data_table.ipynb>data table notebook</a>'\n",
              "          + ' to learn more about interactive tables.';\n",
              "        element.innerHTML = '';\n",
              "        dataTable['output_type'] = 'display_data';\n",
              "        await google.colab.output.renderOutput(dataTable, element);\n",
              "        const docLink = document.createElement('div');\n",
              "        docLink.innerHTML = docLinkHtml;\n",
              "        element.appendChild(docLink);\n",
              "      }\n",
              "    </script>\n",
              "  </div>\n",
              "\n",
              "\n",
              "<div id=\"df-06a42d28-52fc-4b0b-8368-e81a21f7e69c\">\n",
              "  <button class=\"colab-df-quickchart\" onclick=\"quickchart('df-06a42d28-52fc-4b0b-8368-e81a21f7e69c')\"\n",
              "            title=\"Suggest charts\"\n",
              "            style=\"display:none;\">\n",
              "\n",
              "<svg xmlns=\"http://www.w3.org/2000/svg\" height=\"24px\"viewBox=\"0 0 24 24\"\n",
              "     width=\"24px\">\n",
              "    <g>\n",
              "        <path d=\"M19 3H5c-1.1 0-2 .9-2 2v14c0 1.1.9 2 2 2h14c1.1 0 2-.9 2-2V5c0-1.1-.9-2-2-2zM9 17H7v-7h2v7zm4 0h-2V7h2v10zm4 0h-2v-4h2v4z\"/>\n",
              "    </g>\n",
              "</svg>\n",
              "  </button>\n",
              "\n",
              "<style>\n",
              "  .colab-df-quickchart {\n",
              "      --bg-color: #E8F0FE;\n",
              "      --fill-color: #1967D2;\n",
              "      --hover-bg-color: #E2EBFA;\n",
              "      --hover-fill-color: #174EA6;\n",
              "      --disabled-fill-color: #AAA;\n",
              "      --disabled-bg-color: #DDD;\n",
              "  }\n",
              "\n",
              "  [theme=dark] .colab-df-quickchart {\n",
              "      --bg-color: #3B4455;\n",
              "      --fill-color: #D2E3FC;\n",
              "      --hover-bg-color: #434B5C;\n",
              "      --hover-fill-color: #FFFFFF;\n",
              "      --disabled-bg-color: #3B4455;\n",
              "      --disabled-fill-color: #666;\n",
              "  }\n",
              "\n",
              "  .colab-df-quickchart {\n",
              "    background-color: var(--bg-color);\n",
              "    border: none;\n",
              "    border-radius: 50%;\n",
              "    cursor: pointer;\n",
              "    display: none;\n",
              "    fill: var(--fill-color);\n",
              "    height: 32px;\n",
              "    padding: 0;\n",
              "    width: 32px;\n",
              "  }\n",
              "\n",
              "  .colab-df-quickchart:hover {\n",
              "    background-color: var(--hover-bg-color);\n",
              "    box-shadow: 0 1px 2px rgba(60, 64, 67, 0.3), 0 1px 3px 1px rgba(60, 64, 67, 0.15);\n",
              "    fill: var(--button-hover-fill-color);\n",
              "  }\n",
              "\n",
              "  .colab-df-quickchart-complete:disabled,\n",
              "  .colab-df-quickchart-complete:disabled:hover {\n",
              "    background-color: var(--disabled-bg-color);\n",
              "    fill: var(--disabled-fill-color);\n",
              "    box-shadow: none;\n",
              "  }\n",
              "\n",
              "  .colab-df-spinner {\n",
              "    border: 2px solid var(--fill-color);\n",
              "    border-color: transparent;\n",
              "    border-bottom-color: var(--fill-color);\n",
              "    animation:\n",
              "      spin 1s steps(1) infinite;\n",
              "  }\n",
              "\n",
              "  @keyframes spin {\n",
              "    0% {\n",
              "      border-color: transparent;\n",
              "      border-bottom-color: var(--fill-color);\n",
              "      border-left-color: var(--fill-color);\n",
              "    }\n",
              "    20% {\n",
              "      border-color: transparent;\n",
              "      border-left-color: var(--fill-color);\n",
              "      border-top-color: var(--fill-color);\n",
              "    }\n",
              "    30% {\n",
              "      border-color: transparent;\n",
              "      border-left-color: var(--fill-color);\n",
              "      border-top-color: var(--fill-color);\n",
              "      border-right-color: var(--fill-color);\n",
              "    }\n",
              "    40% {\n",
              "      border-color: transparent;\n",
              "      border-right-color: var(--fill-color);\n",
              "      border-top-color: var(--fill-color);\n",
              "    }\n",
              "    60% {\n",
              "      border-color: transparent;\n",
              "      border-right-color: var(--fill-color);\n",
              "    }\n",
              "    80% {\n",
              "      border-color: transparent;\n",
              "      border-right-color: var(--fill-color);\n",
              "      border-bottom-color: var(--fill-color);\n",
              "    }\n",
              "    90% {\n",
              "      border-color: transparent;\n",
              "      border-bottom-color: var(--fill-color);\n",
              "    }\n",
              "  }\n",
              "</style>\n",
              "\n",
              "  <script>\n",
              "    async function quickchart(key) {\n",
              "      const quickchartButtonEl =\n",
              "        document.querySelector('#' + key + ' button');\n",
              "      quickchartButtonEl.disabled = true;  // To prevent multiple clicks.\n",
              "      quickchartButtonEl.classList.add('colab-df-spinner');\n",
              "      try {\n",
              "        const charts = await google.colab.kernel.invokeFunction(\n",
              "            'suggestCharts', [key], {});\n",
              "      } catch (error) {\n",
              "        console.error('Error during call to suggestCharts:', error);\n",
              "      }\n",
              "      quickchartButtonEl.classList.remove('colab-df-spinner');\n",
              "      quickchartButtonEl.classList.add('colab-df-quickchart-complete');\n",
              "    }\n",
              "    (() => {\n",
              "      let quickchartButtonEl =\n",
              "        document.querySelector('#df-06a42d28-52fc-4b0b-8368-e81a21f7e69c button');\n",
              "      quickchartButtonEl.style.display =\n",
              "        google.colab.kernel.accessAllowed ? 'block' : 'none';\n",
              "    })();\n",
              "  </script>\n",
              "</div>\n",
              "    </div>\n",
              "  </div>\n"
            ],
            "application/vnd.google.colaboratory.intrinsic+json": {
              "type": "dataframe",
              "variable_name": "df_2",
              "summary": "{\n  \"name\": \"df_2\",\n  \"rows\": 855,\n  \"fields\": [\n    {\n      \"column\": \"show_id\",\n      \"properties\": {\n        \"dtype\": \"string\",\n        \"num_unique_values\": 855,\n        \"samples\": [\n          \"s152\",\n          \"s826\",\n          \"s390\"\n        ],\n        \"semantic_type\": \"\",\n        \"description\": \"\"\n      }\n    },\n    {\n      \"column\": \"type\",\n      \"properties\": {\n        \"dtype\": \"category\",\n        \"num_unique_values\": 1,\n        \"samples\": [\n          \"Movie\"\n        ],\n        \"semantic_type\": \"\",\n        \"description\": \"\"\n      }\n    },\n    {\n      \"column\": \"title\",\n      \"properties\": {\n        \"dtype\": \"string\",\n        \"num_unique_values\": 855,\n        \"samples\": [\n          \"Ice Age: The Meltdown\"\n        ],\n        \"semantic_type\": \"\",\n        \"description\": \"\"\n      }\n    },\n    {\n      \"column\": \"director\",\n      \"properties\": {\n        \"dtype\": \"string\",\n        \"num_unique_values\": 535,\n        \"samples\": [\n          \"Michal Makarewicz\"\n        ],\n        \"semantic_type\": \"\",\n        \"description\": \"\"\n      }\n    },\n    {\n      \"column\": \"cast\",\n      \"properties\": {\n        \"dtype\": \"string\",\n        \"num_unique_values\": 794,\n        \"samples\": [\n          \"Sebastian Cabot, Junius Matthews, Barbara Luddy, Howard Morris, John Fiedler, Ralph Wright\"\n        ],\n        \"semantic_type\": \"\",\n        \"description\": \"\"\n      }\n    },\n    {\n      \"column\": \"country\",\n      \"properties\": {\n        \"dtype\": \"category\",\n        \"num_unique_values\": 61,\n        \"samples\": [\n          \"United States\"\n        ],\n        \"semantic_type\": \"\",\n        \"description\": \"\"\n      }\n    },\n    {\n      \"column\": \"date_added\",\n      \"properties\": {\n        \"dtype\": \"object\",\n        \"num_unique_values\": 124,\n        \"samples\": [\n          \"August 6, 2021\"\n        ],\n        \"semantic_type\": \"\",\n        \"description\": \"\"\n      }\n    },\n    {\n      \"column\": \"release_year\",\n      \"properties\": {\n        \"dtype\": \"number\",\n        \"std\": 18,\n        \"min\": 1937,\n        \"max\": 2021,\n        \"num_unique_values\": 80,\n        \"samples\": [\n          1959\n        ],\n        \"semantic_type\": \"\",\n        \"description\": \"\"\n      }\n    },\n    {\n      \"column\": \"rating\",\n      \"properties\": {\n        \"dtype\": \"category\",\n        \"num_unique_values\": 9,\n        \"samples\": [\n          \"TV-14\"\n        ],\n        \"semantic_type\": \"\",\n        \"description\": \"\"\n      }\n    },\n    {\n      \"column\": \"duration\",\n      \"properties\": {\n        \"dtype\": \"number\",\n        \"std\": 29.021012763760755,\n        \"min\": 18.0,\n        \"max\": 183.0,\n        \"num_unique_values\": 130,\n        \"samples\": [\n          121.0\n        ],\n        \"semantic_type\": \"\",\n        \"description\": \"\"\n      }\n    },\n    {\n      \"column\": \"listed_in\",\n      \"properties\": {\n        \"dtype\": \"category\",\n        \"num_unique_values\": 227,\n        \"samples\": [\n          \"Comedy, Family\"\n        ],\n        \"semantic_type\": \"\",\n        \"description\": \"\"\n      }\n    },\n    {\n      \"column\": \"description\",\n      \"properties\": {\n        \"dtype\": \"string\",\n        \"num_unique_values\": 854,\n        \"samples\": [\n          \"Manny, Sid, Diego and Scrat join forces with new friends to save the valley from an epic flood.\"\n        ],\n        \"semantic_type\": \"\",\n        \"description\": \"\"\n      }\n    }\n  ]\n}"
            }
          },
          "metadata": {},
          "execution_count": 118
        }
      ]
    },
    {
      "cell_type": "markdown",
      "source": [
        "Мы убрали текст из колонки и превратили строки в числа, а затем исключили значения меньше 15, чтобы убрать данные, касающиеся сезонов, а не фильмов."
      ],
      "metadata": {
        "id": "uoMERlpOer3z"
      }
    },
    {
      "cell_type": "markdown",
      "source": [
        "Функция *plt.scatter()* используется для построения диаграммы рассеяния (scatter plot), которая отображает зависимость между двумя переменными\n",
        "\n",
        "1. **Данные**\n",
        "* x, y – массивы значений, определяющие координаты точек на графике.\n",
        "\n",
        "2. **Размер и форма точек**\n",
        "* s – размер маркеров (может быть скалярным значением или массивом).\n",
        "* marker – форма маркера (например, \"o\" – круг, \"s\" – квадрат, \"^\" – треугольник и т. д.).\n",
        "* linewidths – толщина границы маркера.\n",
        "\n",
        "3. **Цветовые параметры**\n",
        "* c – цвет маркеров (один цвет или массив значений).\n",
        "* cmap – цветовая карта (если c представлен массивом чисел).\n",
        "* alpha – прозрачность точек (от 0 – полностью прозрачные, до 1 – непрозрачные).\n",
        "* edgecolors – цвет границ маркеров (например, \"black\", \"white\", \"none\").\n",
        "\n",
        "4. **Дополнительные параметры**\n",
        "* zorder – порядок отрисовки элементов (чем выше значение, тем ближе точка к переднему плану).\n",
        "* label – подпись серии данных (используется с plt.legend()).\n",
        "* norm – нормализация значений цвета при использовании cmap.\n",
        "\n",
        "https://matplotlib.org/stable/api/_as_gen/matplotlib.axes.Axes.scatter.html"
      ],
      "metadata": {
        "id": "EsjdLGEHzhcQ"
      }
    },
    {
      "cell_type": "code",
      "source": [
        "plt.scatter(df_2['release_year'], df_2['duration'], alpha=0.5)\n",
        "plt.show()"
      ],
      "metadata": {
        "colab": {
          "base_uri": "https://localhost:8080/",
          "height": 430
        },
        "id": "mrX1pP3heMQ9",
        "outputId": "7866e568-4ec7-4cbc-bc47-e71342d3e45e"
      },
      "execution_count": 119,
      "outputs": [
        {
          "output_type": "display_data",
          "data": {
            "text/plain": [
              "<Figure size 640x480 with 1 Axes>"
            ],
            "image/png": "[encoded data removed]"
          },
          "metadata": {}
        }
      ]
    },
    {
      "cell_type": "markdown",
      "source": [
        "Код выглядит очень просто. Мы указываем тип визуализации, переменные по шкале X и Y, а также для прозрачности показатель alpha, с которым мы уже сталкивались."
      ],
      "metadata": {
        "id": "Lmxu7BDyexj4"
      }
    },
    {
      "cell_type": "markdown",
      "source": [
        "По этой визуализации сложно однозначно сказать, изменилась ли значимо средняя длина фильмов за указанный период, однако она позволяет нам увидеть сразу на одной картинке связь между годом и длительностью фильма. В ряде случаев такие визуализации оказываются полезны для отражения зависимостей различных переменных."
      ],
      "metadata": {
        "id": "s-RYjCVje2Oc"
      }
    },
    {
      "cell_type": "markdown",
      "source": [
        "## Практика"
      ],
      "metadata": {
        "id": "y8Yg83gX2CCb"
      }
    },
    {
      "cell_type": "markdown",
      "source": [
        "Задания находятся вот здесь\n",
        "Необходимо скачать датасет и решить задачи, которые описаны в tasks.txt\n",
        "\n",
        "https://clck.ru/3Hd62w"
      ],
      "metadata": {
        "id": "ZCZs24oM2Kjn"
      }
    },
    {
      "cell_type": "markdown",
      "source": [
        "![clck.png](data:image/png;base64,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)"
      ],
      "metadata": {
        "id": "WApmXa8C2ai7"
      }
    },
    {
      "cell_type": "code",
      "source": [
        "!head PokemonData.csv"
      ],
      "metadata": {
        "colab": {
          "base_uri": "https://localhost:8080/"
        },
        "id": "mfkP5qqyC1ZZ",
        "outputId": "1a419126-0137-402e-d3a1-4b15d947f367"
      },
      "execution_count": 152,
      "outputs": [
        {
          "output_type": "stream",
          "name": "stdout",
          "text": [
            "﻿Num,Name,Type1,Type2,HP,Attack,Defense,SpAtk,SpDef,Speed,Generation,Legendary\n",
            "1,Bulbasaur,Grass,Poison,45,49,49,65,65,45,1,FALSE\n",
            "2,Ivysaur,Grass,Poison,60,62,63,80,80,60,1,FALSE\n",
            "3,Venusaur,Grass,Poison,80,82,83,100,100,80,1,FALSE\n",
            "3,VenusaurMega Venusaur,Grass,Poison,80,100,123,122,120,80,1,FALSE\n",
            "4,Charmander,Fire,,39,52,43,60,50,65,1,FALSE\n",
            "5,Charmeleon,Fire,,58,64,58,80,65,80,1,FALSE\n",
            "6,Charizard,Fire,Flying,78,84,78,109,85,100,1,FALSE\n",
            "6,CharizardMega Charizard X,Fire,Dragon,78,130,111,130,85,100,1,FALSE\n",
            "6,CharizardMega Charizard Y,Fire,Flying,78,104,78,159,115,100,1,FALSE\n"
          ]
        }
      ]
    },
    {
      "cell_type": "code",
      "source": [
        "df = pd.read_csv('PokemonData.csv')\n",
        "df.head()"
      ],
      "metadata": {
        "colab": {
          "base_uri": "https://localhost:8080/",
          "height": 206
        },
        "id": "oGXE3BS2C1XC",
        "outputId": "1bb91813-6760-4b0f-ef49-a8ac5339f268"
      },
      "execution_count": 153,
      "outputs": [
        {
          "output_type": "execute_result",
          "data": {
            "text/plain": [
              "   Num                   Name  Type1   Type2  HP  Attack  Defense  SpAtk  \\\n",
              "0    1              Bulbasaur  Grass  Poison  45      49       49     65   \n",
              "1    2                Ivysaur  Grass  Poison  60      62       63     80   \n",
              "2    3               Venusaur  Grass  Poison  80      82       83    100   \n",
              "3    3  VenusaurMega Venusaur  Grass  Poison  80     100      123    122   \n",
              "4    4             Charmander   Fire     NaN  39      52       43     60   \n",
              "\n",
              "   SpDef  Speed  Generation  Legendary  \n",
              "0     65     45           1      False  \n",
              "1     80     60           1      False  \n",
              "2    100     80           1      False  \n",
              "3    120     80           1      False  \n",
              "4     50     65           1      False  "
            ],
            "text/html": [
              "\n",
              "  <div id=\"df-f98bf8c3-831d-4f6d-aea7-7d84cf1db7df\" class=\"colab-df-container\">\n",
              "    <div>\n",
              "<style scoped>\n",
              "    .dataframe tbody tr th:only-of-type {\n",
              "        vertical-align: middle;\n",
              "    }\n",
              "\n",
              "    .dataframe tbody tr th {\n",
              "        vertical-align: top;\n",
              "    }\n",
              "\n",
              "    .dataframe thead th {\n",
              "        text-align: right;\n",
              "    }\n",
              "</style>\n",
              "<table border=\"1\" class=\"dataframe\">\n",
              "  <thead>\n",
              "    <tr style=\"text-align: right;\">\n",
              "      <th></th>\n",
              "      <th>Num</th>\n",
              "      <th>Name</th>\n",
              "      <th>Type1</th>\n",
              "      <th>Type2</th>\n",
              "      <th>HP</th>\n",
              "      <th>Attack</th>\n",
              "      <th>Defense</th>\n",
              "      <th>SpAtk</th>\n",
              "      <th>SpDef</th>\n",
              "      <th>Speed</th>\n",
              "      <th>Generation</th>\n",
              "      <th>Legendary</th>\n",
              "    </tr>\n",
              "  </thead>\n",
              "  <tbody>\n",
              "    <tr>\n",
              "      <th>0</th>\n",
              "      <td>1</td>\n",
              "      <td>Bulbasaur</td>\n",
              "      <td>Grass</td>\n",
              "      <td>Poison</td>\n",
              "      <td>45</td>\n",
              "      <td>49</td>\n",
              "      <td>49</td>\n",
              "      <td>65</td>\n",
              "      <td>65</td>\n",
              "      <td>45</td>\n",
              "      <td>1</td>\n",
              "      <td>False</td>\n",
              "    </tr>\n",
              "    <tr>\n",
              "      <th>1</th>\n",
              "      <td>2</td>\n",
              "      <td>Ivysaur</td>\n",
              "      <td>Grass</td>\n",
              "      <td>Poison</td>\n",
              "      <td>60</td>\n",
              "      <td>62</td>\n",
              "      <td>63</td>\n",
              "      <td>80</td>\n",
              "      <td>80</td>\n",
              "      <td>60</td>\n",
              "      <td>1</td>\n",
              "      <td>False</td>\n",
              "    </tr>\n",
              "    <tr>\n",
              "      <th>2</th>\n",
              "      <td>3</td>\n",
              "      <td>Venusaur</td>\n",
              "      <td>Grass</td>\n",
              "      <td>Poison</td>\n",
              "      <td>80</td>\n",
              "      <td>82</td>\n",
              "      <td>83</td>\n",
              "      <td>100</td>\n",
              "      <td>100</td>\n",
              "      <td>80</td>\n",
              "      <td>1</td>\n",
              "      <td>False</td>\n",
              "    </tr>\n",
              "    <tr>\n",
              "      <th>3</th>\n",
              "      <td>3</td>\n",
              "      <td>VenusaurMega Venusaur</td>\n",
              "      <td>Grass</td>\n",
              "      <td>Poison</td>\n",
              "      <td>80</td>\n",
              "      <td>100</td>\n",
              "      <td>123</td>\n",
              "      <td>122</td>\n",
              "      <td>120</td>\n",
              "      <td>80</td>\n",
              "      <td>1</td>\n",
              "      <td>False</td>\n",
              "    </tr>\n",
              "    <tr>\n",
              "      <th>4</th>\n",
              "      <td>4</td>\n",
              "      <td>Charmander</td>\n",
              "      <td>Fire</td>\n",
              "      <td>NaN</td>\n",
              "      <td>39</td>\n",
              "      <td>52</td>\n",
              "      <td>43</td>\n",
              "      <td>60</td>\n",
              "      <td>50</td>\n",
              "      <td>65</td>\n",
              "      <td>1</td>\n",
              "      <td>False</td>\n",
              "    </tr>\n",
              "  </tbody>\n",
              "</table>\n",
              "</div>\n",
              "    <div class=\"colab-df-buttons\">\n",
              "\n",
              "  <div class=\"colab-df-container\">\n",
              "    <button class=\"colab-df-convert\" onclick=\"convertToInteractive('df-f98bf8c3-831d-4f6d-aea7-7d84cf1db7df')\"\n",
              "            title=\"Convert this dataframe to an interactive table.\"\n",
              "            style=\"display:none;\">\n",
              "\n",
              "  <svg xmlns=\"http://www.w3.org/2000/svg\" height=\"24px\" viewBox=\"0 -960 960 960\">\n",
              "    <path d=\"M120-120v-720h720v720H120Zm60-500h600v-160H180v160Zm220 220h160v-160H400v160Zm0 220h160v-160H400v160ZM180-400h160v-160H180v160Zm440 0h160v-160H620v160ZM180-180h160v-160H180v160Zm440 0h160v-160H620v160Z\"/>\n",
              "  </svg>\n",
              "    </button>\n",
              "\n",
              "  <style>\n",
              "    .colab-df-container {\n",
              "      display:flex;\n",
              "      gap: 12px;\n",
              "    }\n",
              "\n",
              "    .colab-df-convert {\n",
              "      background-color: #E8F0FE;\n",
              "      border: none;\n",
              "      border-radius: 50%;\n",
              "      cursor: pointer;\n",
              "      display: none;\n",
              "      fill: #1967D2;\n",
              "      height: 32px;\n",
              "      padding: 0 0 0 0;\n",
              "      width: 32px;\n",
              "    }\n",
              "\n",
              "    .colab-df-convert:hover {\n",
              "      background-color: #E2EBFA;\n",
              "      box-shadow: 0px 1px 2px rgba(60, 64, 67, 0.3), 0px 1px 3px 1px rgba(60, 64, 67, 0.15);\n",
              "      fill: #174EA6;\n",
              "    }\n",
              "\n",
              "    .colab-df-buttons div {\n",
              "      margin-bottom: 4px;\n",
              "    }\n",
              "\n",
              "    [theme=dark] .colab-df-convert {\n",
              "      background-color: #3B4455;\n",
              "      fill: #D2E3FC;\n",
              "    }\n",
              "\n",
              "    [theme=dark] .colab-df-convert:hover {\n",
              "      background-color: #434B5C;\n",
              "      box-shadow: 0px 1px 3px 1px rgba(0, 0, 0, 0.15);\n",
              "      filter: drop-shadow(0px 1px 2px rgba(0, 0, 0, 0.3));\n",
              "      fill: #FFFFFF;\n",
              "    }\n",
              "  </style>\n",
              "\n",
              "    <script>\n",
              "      const buttonEl =\n",
              "        document.querySelector('#df-f98bf8c3-831d-4f6d-aea7-7d84cf1db7df button.colab-df-convert');\n",
              "      buttonEl.style.display =\n",
              "        google.colab.kernel.accessAllowed ? 'block' : 'none';\n",
              "\n",
              "      async function convertToInteractive(key) {\n",
              "        const element = document.querySelector('#df-f98bf8c3-831d-4f6d-aea7-7d84cf1db7df');\n",
              "        const dataTable =\n",
              "          await google.colab.kernel.invokeFunction('convertToInteractive',\n",
              "                                                    [key], {});\n",
              "        if (!dataTable) return;\n",
              "\n",
              "        const docLinkHtml = 'Like what you see? Visit the ' +\n",
              "          '<a target=\"_blank\" href=https://colab.research.google.com/notebooks/data_table.ipynb>data table notebook</a>'\n",
              "          + ' to learn more about interactive tables.';\n",
              "        element.innerHTML = '';\n",
              "        dataTable['output_type'] = 'display_data';\n",
              "        await google.colab.output.renderOutput(dataTable, element);\n",
              "        const docLink = document.createElement('div');\n",
              "        docLink.innerHTML = docLinkHtml;\n",
              "        element.appendChild(docLink);\n",
              "      }\n",
              "    </script>\n",
              "  </div>\n",
              "\n",
              "\n",
              "<div id=\"df-8c7e0323-305b-48ca-bb86-84bacecd51ee\">\n",
              "  <button class=\"colab-df-quickchart\" onclick=\"quickchart('df-8c7e0323-305b-48ca-bb86-84bacecd51ee')\"\n",
              "            title=\"Suggest charts\"\n",
              "            style=\"display:none;\">\n",
              "\n",
              "<svg xmlns=\"http://www.w3.org/2000/svg\" height=\"24px\"viewBox=\"0 0 24 24\"\n",
              "     width=\"24px\">\n",
              "    <g>\n",
              "        <path d=\"M19 3H5c-1.1 0-2 .9-2 2v14c0 1.1.9 2 2 2h14c1.1 0 2-.9 2-2V5c0-1.1-.9-2-2-2zM9 17H7v-7h2v7zm4 0h-2V7h2v10zm4 0h-2v-4h2v4z\"/>\n",
              "    </g>\n",
              "</svg>\n",
              "  </button>\n",
              "\n",
              "<style>\n",
              "  .colab-df-quickchart {\n",
              "      --bg-color: #E8F0FE;\n",
              "      --fill-color: #1967D2;\n",
              "      --hover-bg-color: #E2EBFA;\n",
              "      --hover-fill-color: #174EA6;\n",
              "      --disabled-fill-color: #AAA;\n",
              "      --disabled-bg-color: #DDD;\n",
              "  }\n",
              "\n",
              "  [theme=dark] .colab-df-quickchart {\n",
              "      --bg-color: #3B4455;\n",
              "      --fill-color: #D2E3FC;\n",
              "      --hover-bg-color: #434B5C;\n",
              "      --hover-fill-color: #FFFFFF;\n",
              "      --disabled-bg-color: #3B4455;\n",
              "      --disabled-fill-color: #666;\n",
              "  }\n",
              "\n",
              "  .colab-df-quickchart {\n",
              "    background-color: var(--bg-color);\n",
              "    border: none;\n",
              "    border-radius: 50%;\n",
              "    cursor: pointer;\n",
              "    display: none;\n",
              "    fill: var(--fill-color);\n",
              "    height: 32px;\n",
              "    padding: 0;\n",
              "    width: 32px;\n",
              "  }\n",
              "\n",
              "  .colab-df-quickchart:hover {\n",
              "    background-color: var(--hover-bg-color);\n",
              "    box-shadow: 0 1px 2px rgba(60, 64, 67, 0.3), 0 1px 3px 1px rgba(60, 64, 67, 0.15);\n",
              "    fill: var(--button-hover-fill-color);\n",
              "  }\n",
              "\n",
              "  .colab-df-quickchart-complete:disabled,\n",
              "  .colab-df-quickchart-complete:disabled:hover {\n",
              "    background-color: var(--disabled-bg-color);\n",
              "    fill: var(--disabled-fill-color);\n",
              "    box-shadow: none;\n",
              "  }\n",
              "\n",
              "  .colab-df-spinner {\n",
              "    border: 2px solid var(--fill-color);\n",
              "    border-color: transparent;\n",
              "    border-bottom-color: var(--fill-color);\n",
              "    animation:\n",
              "      spin 1s steps(1) infinite;\n",
              "  }\n",
              "\n",
              "  @keyframes spin {\n",
              "    0% {\n",
              "      border-color: transparent;\n",
              "      border-bottom-color: var(--fill-color);\n",
              "      border-left-color: var(--fill-color);\n",
              "    }\n",
              "    20% {\n",
              "      border-color: transparent;\n",
              "      border-left-color: var(--fill-color);\n",
              "      border-top-color: var(--fill-color);\n",
              "    }\n",
              "    30% {\n",
              "      border-color: transparent;\n",
              "      border-left-color: var(--fill-color);\n",
              "      border-top-color: var(--fill-color);\n",
              "      border-right-color: var(--fill-color);\n",
              "    }\n",
              "    40% {\n",
              "      border-color: transparent;\n",
              "      border-right-color: var(--fill-color);\n",
              "      border-top-color: var(--fill-color);\n",
              "    }\n",
              "    60% {\n",
              "      border-color: transparent;\n",
              "      border-right-color: var(--fill-color);\n",
              "    }\n",
              "    80% {\n",
              "      border-color: transparent;\n",
              "      border-right-color: var(--fill-color);\n",
              "      border-bottom-color: var(--fill-color);\n",
              "    }\n",
              "    90% {\n",
              "      border-color: transparent;\n",
              "      border-bottom-color: var(--fill-color);\n",
              "    }\n",
              "  }\n",
              "</style>\n",
              "\n",
              "  <script>\n",
              "    async function quickchart(key) {\n",
              "      const quickchartButtonEl =\n",
              "        document.querySelector('#' + key + ' button');\n",
              "      quickchartButtonEl.disabled = true;  // To prevent multiple clicks.\n",
              "      quickchartButtonEl.classList.add('colab-df-spinner');\n",
              "      try {\n",
              "        const charts = await google.colab.kernel.invokeFunction(\n",
              "            'suggestCharts', [key], {});\n",
              "      } catch (error) {\n",
              "        console.error('Error during call to suggestCharts:', error);\n",
              "      }\n",
              "      quickchartButtonEl.classList.remove('colab-df-spinner');\n",
              "      quickchartButtonEl.classList.add('colab-df-quickchart-complete');\n",
              "    }\n",
              "    (() => {\n",
              "      let quickchartButtonEl =\n",
              "        document.querySelector('#df-8c7e0323-305b-48ca-bb86-84bacecd51ee button');\n",
              "      quickchartButtonEl.style.display =\n",
              "        google.colab.kernel.accessAllowed ? 'block' : 'none';\n",
              "    })();\n",
              "  </script>\n",
              "</div>\n",
              "    </div>\n",
              "  </div>\n"
            ],
            "application/vnd.google.colaboratory.intrinsic+json": {
              "type": "dataframe",
              "variable_name": "df",
              "summary": "{\n  \"name\": \"df\",\n  \"rows\": 800,\n  \"fields\": [\n    {\n      \"column\": \"Num\",\n      \"properties\": {\n        \"dtype\": \"number\",\n        \"std\": 208,\n        \"min\": 1,\n        \"max\": 721,\n        \"num_unique_values\": 721,\n        \"samples\": [\n          260,\n          659,\n          78\n        ],\n        \"semantic_type\": \"\",\n        \"description\": \"\"\n      }\n    },\n    {\n      \"column\": \"Name\",\n      \"properties\": {\n        \"dtype\": \"string\",\n        \"num_unique_values\": 800,\n        \"samples\": [\n          \"Hydreigon\",\n          \"Beheeyem\",\n          \"Growlithe\"\n        ],\n        \"semantic_type\": \"\",\n        \"description\": \"\"\n      }\n    },\n    {\n      \"column\": \"Type1\",\n      \"properties\": {\n        \"dtype\": \"category\",\n        \"num_unique_values\": 18,\n        \"samples\": [\n          \"Grass\",\n          \"Fire\",\n          \"Fairy\"\n        ],\n        \"semantic_type\": \"\",\n        \"description\": \"\"\n      }\n    },\n    {\n      \"column\": \"Type2\",\n      \"properties\": {\n        \"dtype\": \"category\",\n        \"num_unique_values\": 18,\n        \"samples\": [\n          \"Poison\",\n          \"Flying\",\n          \"Steel\"\n        ],\n        \"semantic_type\": \"\",\n        \"description\": \"\"\n      }\n    },\n    {\n      \"column\": \"HP\",\n      \"properties\": {\n        \"dtype\": \"number\",\n        \"std\": 25,\n        \"min\": 1,\n        \"max\": 255,\n        \"num_unique_values\": 94,\n        \"samples\": [\n          106,\n          81,\n          170\n        ],\n        \"semantic_type\": \"\",\n        \"description\": \"\"\n      }\n    },\n    {\n      \"column\": \"Attack\",\n      \"properties\": {\n        \"dtype\": \"number\",\n        \"std\": 32,\n        \"min\": 5,\n        \"max\": 190,\n        \"num_unique_values\": 111,\n        \"samples\": [\n          79,\n          63,\n          52\n        ],\n        \"semantic_type\": \"\",\n        \"description\": \"\"\n      }\n    },\n    {\n      \"column\": \"Defense\",\n      \"properties\": {\n        \"dtype\": \"number\",\n        \"std\": 31,\n        \"min\": 5,\n        \"max\": 230,\n        \"num_unique_values\": 103,\n        \"samples\": [\n          20,\n          88,\n          23\n        ],\n        \"semantic_type\": \"\",\n        \"description\": \"\"\n      }\n    },\n    {\n      \"column\": \"SpAtk\",\n      \"properties\": {\n        \"dtype\": \"number\",\n        \"std\": 32,\n        \"min\": 10,\n        \"max\": 194,\n        \"num_unique_values\": 105,\n        \"samples\": [\n          58,\n          150,\n          160\n        ],\n        \"semantic_type\": \"\",\n        \"description\": \"\"\n      }\n    },\n    {\n      \"column\": \"SpDef\",\n      \"properties\": {\n        \"dtype\": \"number\",\n        \"std\": 27,\n        \"min\": 20,\n        \"max\": 230,\n        \"num_unique_values\": 92,\n        \"samples\": [\n          154,\n          45,\n          44\n        ],\n        \"semantic_type\": \"\",\n        \"description\": \"\"\n      }\n    },\n    {\n      \"column\": \"Speed\",\n      \"properties\": {\n        \"dtype\": \"number\",\n        \"std\": 29,\n        \"min\": 5,\n        \"max\": 180,\n        \"num_unique_values\": 108,\n        \"samples\": [\n          113,\n          50,\n          100\n        ],\n        \"semantic_type\": \"\",\n        \"description\": \"\"\n      }\n    },\n    {\n      \"column\": \"Generation\",\n      \"properties\": {\n        \"dtype\": \"number\",\n        \"std\": 1,\n        \"min\": 1,\n        \"max\": 6,\n        \"num_unique_values\": 6,\n        \"samples\": [\n          1,\n          2,\n          6\n        ],\n        \"semantic_type\": \"\",\n        \"description\": \"\"\n      }\n    },\n    {\n      \"column\": \"Legendary\",\n      \"properties\": {\n        \"dtype\": \"boolean\",\n        \"num_unique_values\": 2,\n        \"samples\": [\n          true,\n          false\n        ],\n        \"semantic_type\": \"\",\n        \"description\": \"\"\n      }\n    }\n  ]\n}"
            }
          },
          "metadata": {},
          "execution_count": 153
        }
      ]
    },
    {
      "cell_type": "markdown",
      "source": [
        "1) **Постройте гистограмму распределения показателя атаки (Attack) у покемона.**\n",
        "\n",
        "Как мы узнали из лекции, гистограмма показывает распределение численных значений. Давайте попробуем визуализировать диапазон атаки покемонов, чтобы узнать пропорции «сильных» и «слабых». А также понять, какова примерная мода значений. В используемой базе данных переменная именуется *Attack*."
      ],
      "metadata": {
        "id": "B3i1on7DD4ao"
      }
    },
    {
      "cell_type": "code",
      "source": [
        "plt.hist(df['Attack'], bins=20)\n",
        "plt.show()"
      ],
      "metadata": {
        "colab": {
          "base_uri": "https://localhost:8080/",
          "height": 430
        },
        "id": "iMBekwP8IRj5",
        "outputId": "d9aca3ba-f004-45ba-d9ac-fd474a7f12e4"
      },
      "execution_count": 156,
      "outputs": [
        {
          "output_type": "display_data",
          "data": {
            "text/plain": [
              "<Figure size 640x480 with 1 Axes>"
            ],
            "image/png": "[encoded data removed]"
          },
          "metadata": {}
        }
      ]
    },
    {
      "cell_type": "markdown",
      "source": [
        "2) **Гистограмма: постройте две переменные на одном графике**\n",
        "\n",
        "В предыдущем задании вы успешно построили распределение атаки. Давайте теперь попробуем отразить две шкалы на одном графике. Посмотрим, насколько сильно отличается распределения обычной атаки покемона и его специальной атаки.\n",
        "\n",
        "Правда ли, что специальная атака мощнее обычной базовой атаки? Показатели специальной атаки записаны в переменной SpAtk."
      ],
      "metadata": {
        "id": "HHSttlZaNes6"
      }
    },
    {
      "cell_type": "code",
      "source": [
        "plt.hist(df['Attack'], bins = 20)\n",
        "plt.hist(df['SpAtk'], bins = 20)\n",
        "plt.show()"
      ],
      "metadata": {
        "colab": {
          "base_uri": "https://localhost:8080/",
          "height": 430
        },
        "id": "yECzW_F-C1Us",
        "outputId": "a6e775d6-09de-4438-91fb-91e4a0ebce77"
      },
      "execution_count": 158,
      "outputs": [
        {
          "output_type": "display_data",
          "data": {
            "text/plain": [
              "<Figure size 640x480 with 1 Axes>"
            ],
            "image/png": "[encoded data removed]"
          },
          "metadata": {}
        }
      ]
    },
    {
      "cell_type": "markdown",
      "source": [
        "3) **Гистограмма: прозрачность**\n",
        "\n",
        "Отлично! Вы получили нужный результат. Но на такой график не очень удобно смотреть, правда?\n",
        "Удобно подмечать, что не так с графиком, когда представляешь, что на него смотрит посторонний человек. Кратко пройдемся по ошибкам:\n",
        "  1. Его колонки имеют сплошную заливку. Так неудобно смотреть на некоторые значения.\n",
        "  2. Непонятно, каким цветом выделяется обычная атака, а каким – специальная.\n",
        "  3. Что на графике изображено в принципе?\n",
        "\n",
        "Для полного понимания происходящего исправим наш график. Сначала настроим прозрачность переменных. В строках каждой переменных в методе plt.hist укажем параметр alpha и приравняем его к 0.5.\n"
      ],
      "metadata": {
        "id": "RVZ-2wuxF3Xp"
      }
    },
    {
      "cell_type": "code",
      "source": [
        "plt.hist(df['SpAtk'], bins = 20, edgecolor = 'white', alpha = 0.5)\n",
        "plt.hist(df['Attack'], bins = 20, edgecolor = 'white', alpha = 0.5)\n",
        "plt.show()"
      ],
      "metadata": {
        "colab": {
          "base_uri": "https://localhost:8080/",
          "height": 430
        },
        "id": "tcJTi2DgFzVm",
        "outputId": "6ddff199-6484-496e-d302-891b1adba94f"
      },
      "execution_count": 164,
      "outputs": [
        {
          "output_type": "display_data",
          "data": {
            "text/plain": [
              "<Figure size 640x480 with 1 Axes>"
            ],
            "image/png": "[encoded data removed]"
          },
          "metadata": {}
        }
      ]
    },
    {
      "cell_type": "markdown",
      "source": [
        "4) **Гистограмма: легенда**\n",
        "\n",
        "В строках с переменными в функции *plt.hist()* добавим аргументы label, чтобы присвоить переменной название, отражающееся в легенде. Пропишем, что *label=\"Обычная атака\"* и в строке со специальной атакой l*abel=\"Специальная атака\"*. После этого добавим строчку *plt.legend()*, чтобы вывести эти названия в легенду."
      ],
      "metadata": {
        "id": "MBUtV_hqOp5k"
      }
    },
    {
      "cell_type": "code",
      "source": [
        "plt.hist(df['SpAtk'], bins = 20, edgecolor = 'white', alpha = 0.5, label = 'Обычная атака')\n",
        "plt.hist(df['Attack'], bins = 20, edgecolor = 'white', alpha = 0.5, label = 'Специальная атака')\n",
        "plt.legend()\n",
        "plt.show()"
      ],
      "metadata": {
        "colab": {
          "base_uri": "https://localhost:8080/",
          "height": 430
        },
        "id": "BkdoSHlrC1Sm",
        "outputId": "6cd1eed4-04bf-47a8-aaf9-8fd82f8e8187"
      },
      "execution_count": 167,
      "outputs": [
        {
          "output_type": "display_data",
          "data": {
            "text/plain": [
              "<Figure size 640x480 with 1 Axes>"
            ],
            "image/png": "[encoded data removed]"
          },
          "metadata": {}
        }
      ]
    },
    {
      "cell_type": "markdown",
      "source": [
        "5) **Гистограмма: подписи к осям**\n",
        "\n",
        "Используем предыдущий график. Подпишем оси графика с помощью команд *plt.xlabel('Название оси')* и *plt.ylabel('Название оси')*.\n",
        "\n",
        "Для оси X укажите значение *\"Мощность атаки\"*, а для Y - *\"Количество покемонов\"*."
      ],
      "metadata": {
        "id": "MrtbNsX-O_WT"
      }
    },
    {
      "cell_type": "code",
      "source": [
        "plt.hist(df['SpAtk'], bins = 5, edgecolor = 'white', alpha = 0.5, label = 'Обычная атака')\n",
        "plt.hist(df['Attack'], bins = 5, edgecolor = 'white', alpha = 0.5, label = 'Специальная атака')\n",
        "plt.legend()\n",
        "plt.xlabel('Показатель')\n",
        "plt.ylabel('Количество')\n",
        "plt.title('Соотношение силы обычных атак и специальных')\n",
        "plt.show()"
      ],
      "metadata": {
        "colab": {
          "base_uri": "https://localhost:8080/",
          "height": 472
        },
        "id": "mwoSpQDtC1Qa",
        "outputId": "ef2ea374-8532-4cea-d153-8fd194603bf6"
      },
      "execution_count": 169,
      "outputs": [
        {
          "output_type": "display_data",
          "data": {
            "text/plain": [
              "<Figure size 640x480 with 1 Axes>"
            ],
            "image/png": "[encoded data removed]"
          },
          "metadata": {}
        }
      ]
    },
    {
      "cell_type": "markdown",
      "source": [
        "6) **Точечная диаграмма**\n",
        "\n",
        "Взглянем на соотношение стандартной атаки и стандартной защиты покемонов. Правда ли, что чем покемон сильнее, тем больше его защита?\n",
        "\n",
        "Постройте точечную диаграмму, чтобы проверить это. Переменная с характеристикой атаки: *'Attack'*.  \n",
        "Переменная с характеристикой защиты: *'Defense'*"
      ],
      "metadata": {
        "id": "oo030wmBPX57"
      }
    },
    {
      "cell_type": "code",
      "source": [
        "plt.scatter(df['Attack'], df['Defense'])\n",
        "\n",
        "plt.title('Соотношение атаки и защиты покемонов')\n",
        "plt.xlabel('Атака')\n",
        "plt.ylabel('Защита')\n",
        "\n",
        "plt.show()\n"
      ],
      "metadata": {
        "colab": {
          "base_uri": "https://localhost:8080/",
          "height": 472
        },
        "id": "GJUQ50uFC1OS",
        "outputId": "1e6ab72e-fea0-4e6a-8ee9-1ef1c222a016"
      },
      "execution_count": 171,
      "outputs": [
        {
          "output_type": "display_data",
          "data": {
            "text/plain": [
              "<Figure size 640x480 with 1 Axes>"
            ],
            "image/png": "[encoded data removed]"
          },
          "metadata": {}
        }
      ]
    },
    {
      "cell_type": "markdown",
      "source": [
        "7) **Столбчатая диаграмма**\n",
        "\n",
        "Визуализируем частоту наблюдений по типам покемонов. Информация о типаже покемона заложена в переменной 'Type1'. Отразим частоту наблюдений по категориям с помощью столбчатой диаграммы.  \n",
        "Напомним, что синтаксис барчарта выглядит следующим образом: *df['variable'].value_counts().plot(kind = 'bar')/*\n"
      ],
      "metadata": {
        "id": "eTjm0wyPQXlw"
      }
    },
    {
      "cell_type": "code",
      "source": [
        "df['Type1'].value_counts().plot(kind = 'bar', color = 'orange', edgecolor ='black' )\n",
        "\n",
        "plt.xlabel('type')\n",
        "plt.ylabel('chastota')\n",
        "plt.title('ch nabludeniy')\n",
        "plt.show()"
      ],
      "metadata": {
        "colab": {
          "base_uri": "https://localhost:8080/",
          "height": 513
        },
        "id": "T93AczmTC1L-",
        "outputId": "710270e1-c3eb-4e2a-8c29-eca9788db70d"
      },
      "execution_count": 176,
      "outputs": [
        {
          "output_type": "display_data",
          "data": {
            "text/plain": [
              "<Figure size 640x480 with 1 Axes>"
            ],
            "image/png": "[encoded data removed]"
          },
          "metadata": {}
        }
      ]
    },
    {
      "cell_type": "markdown",
      "source": [
        "8) **Столбчатая диаграмма: несколько переменных.**\n",
        "\n",
        "Отлично! Теперь попытаемся отобразить пропорцию легендарных и нелегендарных покемонов в каждом виде. И сделаем мы это на одном барчарте.\n",
        "\n",
        "Переменная легендарности обозначена в данных как Legendary. Сделайте так, чтобы в каждом типе покемона отображался столбик с количество легендарных и обычных покемонов. Помните, что для отражения данных по нескольким категориям нужно их сгруппировать перед визуализацией. Не забывайте о том, что нам понадобится функция *.unstack(0)*, чтобы категории разделялись по цвету.  \n",
        "Синтаксис, который может вам пригодиться:\n",
        "*df.groupby('grouping_variable')['categorical_variable'].value_counts().unstack(0).plot(kind = 'bar')*\n",
        "\n",
        "9) **Столбчатая диаграмма: названия осей**\n",
        "\n",
        "Остался последний штрих. Давайте внутри функции plot() переименуем оси и добавим название, чтобы было понятно, о чем наша визуализация. За это отвечают параметры xlabel, ylabel, title. Пусть название оси Х будет \"Тип покемонов\", оси Y — \"Количество\", а название –\"Легендарные покемоны по типам в сравнении с обычными\".\n",
        "\n"
      ],
      "metadata": {
        "id": "XxtYenhRQ8Pi"
      }
    },
    {
      "cell_type": "code",
      "source": [
        "df.groupby('Legendary')['Type1'].value_counts().unstack(0).plot(kind='bar')"
      ],
      "metadata": {
        "colab": {
          "base_uri": "https://localhost:8080/",
          "height": 509
        },
        "id": "1B-h29I_C1Jx",
        "outputId": "95165ebe-d2e2-47e4-ec26-ba222c77ef97"
      },
      "execution_count": 178,
      "outputs": [
        {
          "output_type": "execute_result",
          "data": {
            "text/plain": [
              "<Axes: xlabel='Type1'>"
            ]
          },
          "metadata": {},
          "execution_count": 178
        },
        {
          "output_type": "display_data",
          "data": {
            "text/plain": [
              "<Figure size 640x480 with 1 Axes>"
            ],
            "image/png": "[encoded data removed]"
          },
          "metadata": {}
        }
      ]
    },
    {
      "cell_type": "code",
      "source": [
        "vis_1 = df.groupby('Legendary')['Type1'].value_counts().unstack(0)\n",
        "vis_1 = vis_1.sort_values(by = True, ascending=False)\n",
        "vis_1.plot(kind='bar', ylabel='Легендарность', xlabel='Тип покемона')\n",
        "plt.show()"
      ],
      "metadata": {
        "colab": {
          "base_uri": "https://localhost:8080/",
          "height": 491
        },
        "id": "zZxD0dyahFlZ",
        "outputId": "b8798538-f3bf-4e33-9755-e5bb4163b87a"
      },
      "execution_count": 182,
      "outputs": [
        {
          "output_type": "display_data",
          "data": {
            "text/plain": [
              "<Figure size 640x480 with 1 Axes>"
            ],
            "image/png": "[encoded data removed]"
          },
          "metadata": {}
        }
      ]
    },
    {
      "cell_type": "code",
      "source": [],
      "metadata": {
        "id": "dciqU9T3RCuL"
      },
      "execution_count": null,
      "outputs": []
    }
  ]
}