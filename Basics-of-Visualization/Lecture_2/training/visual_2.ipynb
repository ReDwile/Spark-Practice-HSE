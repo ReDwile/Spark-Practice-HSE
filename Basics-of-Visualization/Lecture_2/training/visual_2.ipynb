{
  "nbformat": 4,
  "nbformat_minor": 0,
  "metadata": {
    "colab": {
      "provenance": []
    },
    "kernelspec": {
      "name": "python3",
      "display_name": "Python 3"
    },
    "language_info": {
      "name": "python"
    }
  },
  "cells": [
    {
      "cell_type": "markdown",
      "source": [
        "Датасет disney_plus_titles.csv содержит информацию о фильмах и сериалах, доступных на стриминговой платформе. В нем представлены ключевые характеристики контента, такие как тип (фильм или сериал), название, режиссер, актерский состав, страна производства, дата добавления на платформу, год выпуска, возрастной рейтинг, продолжительность, жанр и краткое описание."
      ],
      "metadata": {
        "id": "1cP-75CUcEsG"
      }
    },
    {
      "cell_type": "markdown",
      "source": [
        "Бизнес-описание колонок\n",
        "1. show_id – Уникальный идентификатор контента. Используется для внутреннего учета и управления каталогом.\n",
        "2. type – Тип контента: Movie (фильм) или TV Show (сериал). Позволяет фильтровать данные по форматам.\n",
        "3. title – Название фильма или сериала. Используется для отображения пользователям и поиска контента.\n",
        "4. director – Имя режиссера (или режиссеров). Влияет на восприятие качества контента и предпочтения зрителей.\n",
        "5. cast – Список актеров, участвующих в фильме или сериале. Может использоваться для поиска по актерскому составу.\n",
        "6. country – Страна производства контента. Позволяет анализировать географическое разнообразие библиотеки.\n",
        "7. date_added – Дата добавления фильма или сериала в каталог платформы. Важно для анализа свежести контента.\n",
        "8. release_year – Год выпуска контента. Используется для анализа тенденций в кино и классификации по эпохам.\n",
        "9. rating – Возрастной рейтинг (например, TV-G, PG). Важно для регулирования доступа к контенту.\n",
        "10. duration – Длительность фильма или количество сезонов в сериале. Позволяет анализировать продолжительность контента.\n",
        "11. listed_in – Жанры контента (например, Comedy, Family). Используется для классификации и рекомендаций.\n",
        "12. description – Краткое описание фильма или сериала. Используется в пользовательском интерфейсе для привлечения внимания зрителей."
      ],
      "metadata": {
        "id": "hqwb0F5ucJbh"
      }
    },
    {
      "cell_type": "code",
      "source": [
        "!head disney_plus_titles.csv"
      ],
      "metadata": {
        "colab": {
          "base_uri": "https://localhost:8080/"
        },
        "id": "W8ige9qgaXr8",
        "outputId": "b13d819e-1515-46fb-cd00-5a309a5445ac"
      },
      "execution_count": 1,
      "outputs": [
        {
          "output_type": "stream",
          "name": "stdout",
          "text": [
            "show_id,type,title,director,cast,country,date_added,release_year,rating,duration,listed_in,description\n",
            "s1,Movie,Duck the Halls: A Mickey Mouse Christmas Special,\"Alonso Ramirez Ramos, Dave Wasson\",\"Chris Diamantopoulos, Tony Anselmo, Tress MacNeille, Bill Farmer, Russi Taylor, Corey Burton\",,\"November 26, 2021\",2016,TV-G,23 min,\"Animation, Family\",Join Mickey and the gang as they duck the halls!\n",
            "s2,Movie,Ernest Saves Christmas,John Cherry,\"Jim Varney, Noelle Parker, Douglas Seale\",,\"November 26, 2021\",1988,PG,91 min,Comedy,Santa Claus passes his magic bag to a new St. Nic.\n",
            "s3,Movie,Ice Age: A Mammoth Christmas,Karen Disher,\"Raymond Albert Romano, John Leguizamo, Denis Leary, Queen Latifah\",United States,\"November 26, 2021\",2011,TV-G,23 min,\"Animation, Comedy, Family\",Sid the Sloth is on Santa's naughty list.\n",
            "s4,Movie,The Queen Family Singalong,Hamish Hamilton,\"Darren Criss, Adam Lambert, Derek Hough, Alexander Jean, Fall Out Boy, Jimmie Allen\",,\"November 26, 2021\",2021,TV-PG,41 min,Musical,\"This is real life, not just fantasy!\"\n",
            "s5,TV Show,The Beatles: Get Back,,\"John Lennon, Paul McCartney, George Harrison, Ringo Starr\",,\"November 25, 2021\",2021,,1 Season,\"Docuseries, Historical, Music\",A three-part documentary from Peter Jackson capturing a moment in music history with The Beatles.\n",
            "s6,Movie,Becoming Cousteau,Liz Garbus,\"Jacques Yves Cousteau, Vincent Cassel\",United States,\"November 24, 2021\",2021,PG-13,94 min,\"Biographical, Documentary\",An inside look at the legendary life of adventurer Jacques-Yves Cousteau.\n",
            "s7,TV Show,Hawkeye,,\"Jeremy Renner, Hailee Steinfeld, Vera Farmiga, Fra Fee, Tony Dalton, Zahn McClarnon\",,\"November 24, 2021\",2021,TV-14,1 Season,\"Action-Adventure, Superhero\",Clint Barton/Hawkeye must team up with skilled archer Kate Bishop to unravel a criminal conspiracy.\n",
            "s8,TV Show,Port Protection Alaska,,\"Gary Muehlberger, Mary Miller, Curly Leach, Sam Carlson, Stuart Andrews, David Squibb\",United States,\"November 24, 2021\",2015,TV-14,2 Seasons,\"Docuseries, Reality, Survival\",Residents of Port Protection must combat volatile conditions to survive and thrive in Alaska.\n",
            "s9,TV Show,Secrets of the Zoo: Tampa,,\"Dr. Ray Ball, Dr. Lauren Smith, Chris Massaro, Tiffany Burns, Mike Burns, Melinda Mendolusky\",United States,\"November 24, 2021\",2019,TV-PG,2 Seasons,\"Animals & Nature, Docuseries, Family\",A day in the life at ZooTampa is anything but ordinary. It's extraordinary!\n"
          ]
        }
      ]
    },
    {
      "cell_type": "markdown",
      "source": [
        "# Общие принципы matplotlib"
      ],
      "metadata": {
        "id": "zNCFQZYraaWM"
      }
    },
    {
      "cell_type": "markdown",
      "source": [
        "Библиотека matplotlib устанавливается и импортируется так же, как и другие библиотеки\n",
        "\n",
        "https://matplotlib.org/stable/api/pyplot_summary.html"
      ],
      "metadata": {
        "id": "M3dsm7kzhUn2"
      }
    },
    {
      "cell_type": "code",
      "source": [
        "import matplotlib.pyplot as plt\n",
        "import pandas as pd"
      ],
      "metadata": {
        "id": "JZGepJjiaZs6"
      },
      "execution_count": 2,
      "outputs": []
    },
    {
      "cell_type": "markdown",
      "source": [
        "Создание визуализаций можно представить как последовательное добавление различных элементов итогового графика:\n",
        "\n",
        "1. пустого графика с осями;\n",
        "2. элементов, отображающих переменные;\n",
        "3. подписей;\n",
        "4. цвета и стиля."
      ],
      "metadata": {
        "id": "dwkxLPU9bdqQ"
      }
    },
    {
      "cell_type": "markdown",
      "source": [
        "## Гистограммы"
      ],
      "metadata": {
        "id": "y1idmp6Obkgu"
      }
    },
    {
      "cell_type": "markdown",
      "source": [
        "Гистограммы — такой вид визуализаций, где рассматривается распределение значений по одному параметру. Например, мы можем посмотреть, каким было распределение значений по году производства фильма или шоу."
      ],
      "metadata": {
        "id": "yZdzskekbn3H"
      }
    },
    {
      "cell_type": "code",
      "source": [
        "df = pd.read_csv('disney_plus_titles.csv')\n",
        "df.head()"
      ],
      "metadata": {
        "colab": {
          "base_uri": "https://localhost:8080/",
          "height": 397
        },
        "id": "hyccn8ElhtiT",
        "outputId": "9c69c0ea-d1af-48e3-dbf8-9cd0c3fd7f84"
      },
      "execution_count": 4,
      "outputs": [
        {
          "output_type": "execute_result",
          "data": {
            "text/plain": [
              "  show_id     type                                             title  \\\n",
              "0      s1    Movie  Duck the Halls: A Mickey Mouse Christmas Special   \n",
              "1      s2    Movie                            Ernest Saves Christmas   \n",
              "2      s3    Movie                      Ice Age: A Mammoth Christmas   \n",
              "3      s4    Movie                        The Queen Family Singalong   \n",
              "4      s5  TV Show                             The Beatles: Get Back   \n",
              "\n",
              "                            director  \\\n",
              "0  Alonso Ramirez Ramos, Dave Wasson   \n",
              "1                        John Cherry   \n",
              "2                       Karen Disher   \n",
              "3                    Hamish Hamilton   \n",
              "4                                NaN   \n",
              "\n",
              "                                                cast        country  \\\n",
              "0  Chris Diamantopoulos, Tony Anselmo, Tress MacN...            NaN   \n",
              "1           Jim Varney, Noelle Parker, Douglas Seale            NaN   \n",
              "2  Raymond Albert Romano, John Leguizamo, Denis L...  United States   \n",
              "3  Darren Criss, Adam Lambert, Derek Hough, Alexa...            NaN   \n",
              "4  John Lennon, Paul McCartney, George Harrison, ...            NaN   \n",
              "\n",
              "          date_added  release_year rating  duration  \\\n",
              "0  November 26, 2021          2016   TV-G    23 min   \n",
              "1  November 26, 2021          1988     PG    91 min   \n",
              "2  November 26, 2021          2011   TV-G    23 min   \n",
              "3  November 26, 2021          2021  TV-PG    41 min   \n",
              "4  November 25, 2021          2021    NaN  1 Season   \n",
              "\n",
              "                       listed_in  \\\n",
              "0              Animation, Family   \n",
              "1                         Comedy   \n",
              "2      Animation, Comedy, Family   \n",
              "3                        Musical   \n",
              "4  Docuseries, Historical, Music   \n",
              "\n",
              "                                         description  \n",
              "0   Join Mickey and the gang as they duck the halls!  \n",
              "1  Santa Claus passes his magic bag to a new St. ...  \n",
              "2          Sid the Sloth is on Santa's naughty list.  \n",
              "3               This is real life, not just fantasy!  \n",
              "4  A three-part documentary from Peter Jackson ca...  "
            ],
            "text/html": [
              "\n",
              "  <div id=\"df-45da6b0c-c627-4e94-b6e5-907a6d92caaa\" class=\"colab-df-container\">\n",
              "    <div>\n",
              "<style scoped>\n",
              "    .dataframe tbody tr th:only-of-type {\n",
              "        vertical-align: middle;\n",
              "    }\n",
              "\n",
              "    .dataframe tbody tr th {\n",
              "        vertical-align: top;\n",
              "    }\n",
              "\n",
              "    .dataframe thead th {\n",
              "        text-align: right;\n",
              "    }\n",
              "</style>\n",
              "<table border=\"1\" class=\"dataframe\">\n",
              "  <thead>\n",
              "    <tr style=\"text-align: right;\">\n",
              "      <th></th>\n",
              "      <th>show_id</th>\n",
              "      <th>type</th>\n",
              "      <th>title</th>\n",
              "      <th>director</th>\n",
              "      <th>cast</th>\n",
              "      <th>country</th>\n",
              "      <th>date_added</th>\n",
              "      <th>release_year</th>\n",
              "      <th>rating</th>\n",
              "      <th>duration</th>\n",
              "      <th>listed_in</th>\n",
              "      <th>description</th>\n",
              "    </tr>\n",
              "  </thead>\n",
              "  <tbody>\n",
              "    <tr>\n",
              "      <th>0</th>\n",
              "      <td>s1</td>\n",
              "      <td>Movie</td>\n",
              "      <td>Duck the Halls: A Mickey Mouse Christmas Special</td>\n",
              "      <td>Alonso Ramirez Ramos, Dave Wasson</td>\n",
              "      <td>Chris Diamantopoulos, Tony Anselmo, Tress MacN...</td>\n",
              "      <td>NaN</td>\n",
              "      <td>November 26, 2021</td>\n",
              "      <td>2016</td>\n",
              "      <td>TV-G</td>\n",
              "      <td>23 min</td>\n",
              "      <td>Animation, Family</td>\n",
              "      <td>Join Mickey and the gang as they duck the halls!</td>\n",
              "    </tr>\n",
              "    <tr>\n",
              "      <th>1</th>\n",
              "      <td>s2</td>\n",
              "      <td>Movie</td>\n",
              "      <td>Ernest Saves Christmas</td>\n",
              "      <td>John Cherry</td>\n",
              "      <td>Jim Varney, Noelle Parker, Douglas Seale</td>\n",
              "      <td>NaN</td>\n",
              "      <td>November 26, 2021</td>\n",
              "      <td>1988</td>\n",
              "      <td>PG</td>\n",
              "      <td>91 min</td>\n",
              "      <td>Comedy</td>\n",
              "      <td>Santa Claus passes his magic bag to a new St. ...</td>\n",
              "    </tr>\n",
              "    <tr>\n",
              "      <th>2</th>\n",
              "      <td>s3</td>\n",
              "      <td>Movie</td>\n",
              "      <td>Ice Age: A Mammoth Christmas</td>\n",
              "      <td>Karen Disher</td>\n",
              "      <td>Raymond Albert Romano, John Leguizamo, Denis L...</td>\n",
              "      <td>United States</td>\n",
              "      <td>November 26, 2021</td>\n",
              "      <td>2011</td>\n",
              "      <td>TV-G</td>\n",
              "      <td>23 min</td>\n",
              "      <td>Animation, Comedy, Family</td>\n",
              "      <td>Sid the Sloth is on Santa's naughty list.</td>\n",
              "    </tr>\n",
              "    <tr>\n",
              "      <th>3</th>\n",
              "      <td>s4</td>\n",
              "      <td>Movie</td>\n",
              "      <td>The Queen Family Singalong</td>\n",
              "      <td>Hamish Hamilton</td>\n",
              "      <td>Darren Criss, Adam Lambert, Derek Hough, Alexa...</td>\n",
              "      <td>NaN</td>\n",
              "      <td>November 26, 2021</td>\n",
              "      <td>2021</td>\n",
              "      <td>TV-PG</td>\n",
              "      <td>41 min</td>\n",
              "      <td>Musical</td>\n",
              "      <td>This is real life, not just fantasy!</td>\n",
              "    </tr>\n",
              "    <tr>\n",
              "      <th>4</th>\n",
              "      <td>s5</td>\n",
              "      <td>TV Show</td>\n",
              "      <td>The Beatles: Get Back</td>\n",
              "      <td>NaN</td>\n",
              "      <td>John Lennon, Paul McCartney, George Harrison, ...</td>\n",
              "      <td>NaN</td>\n",
              "      <td>November 25, 2021</td>\n",
              "      <td>2021</td>\n",
              "      <td>NaN</td>\n",
              "      <td>1 Season</td>\n",
              "      <td>Docuseries, Historical, Music</td>\n",
              "      <td>A three-part documentary from Peter Jackson ca...</td>\n",
              "    </tr>\n",
              "  </tbody>\n",
              "</table>\n",
              "</div>\n",
              "    <div class=\"colab-df-buttons\">\n",
              "\n",
              "  <div class=\"colab-df-container\">\n",
              "    <button class=\"colab-df-convert\" onclick=\"convertToInteractive('df-45da6b0c-c627-4e94-b6e5-907a6d92caaa')\"\n",
              "            title=\"Convert this dataframe to an interactive table.\"\n",
              "            style=\"display:none;\">\n",
              "\n",
              "  <svg xmlns=\"http://www.w3.org/2000/svg\" height=\"24px\" viewBox=\"0 -960 960 960\">\n",
              "    <path d=\"M120-120v-720h720v720H120Zm60-500h600v-160H180v160Zm220 220h160v-160H400v160Zm0 220h160v-160H400v160ZM180-400h160v-160H180v160Zm440 0h160v-160H620v160ZM180-180h160v-160H180v160Zm440 0h160v-160H620v160Z\"/>\n",
              "  </svg>\n",
              "    </button>\n",
              "\n",
              "  <style>\n",
              "    .colab-df-container {\n",
              "      display:flex;\n",
              "      gap: 12px;\n",
              "    }\n",
              "\n",
              "    .colab-df-convert {\n",
              "      background-color: #E8F0FE;\n",
              "      border: none;\n",
              "      border-radius: 50%;\n",
              "      cursor: pointer;\n",
              "      display: none;\n",
              "      fill: #1967D2;\n",
              "      height: 32px;\n",
              "      padding: 0 0 0 0;\n",
              "      width: 32px;\n",
              "    }\n",
              "\n",
              "    .colab-df-convert:hover {\n",
              "      background-color: #E2EBFA;\n",
              "      box-shadow: 0px 1px 2px rgba(60, 64, 67, 0.3), 0px 1px 3px 1px rgba(60, 64, 67, 0.15);\n",
              "      fill: #174EA6;\n",
              "    }\n",
              "\n",
              "    .colab-df-buttons div {\n",
              "      margin-bottom: 4px;\n",
              "    }\n",
              "\n",
              "    [theme=dark] .colab-df-convert {\n",
              "      background-color: #3B4455;\n",
              "      fill: #D2E3FC;\n",
              "    }\n",
              "\n",
              "    [theme=dark] .colab-df-convert:hover {\n",
              "      background-color: #434B5C;\n",
              "      box-shadow: 0px 1px 3px 1px rgba(0, 0, 0, 0.15);\n",
              "      filter: drop-shadow(0px 1px 2px rgba(0, 0, 0, 0.3));\n",
              "      fill: #FFFFFF;\n",
              "    }\n",
              "  </style>\n",
              "\n",
              "    <script>\n",
              "      const buttonEl =\n",
              "        document.querySelector('#df-45da6b0c-c627-4e94-b6e5-907a6d92caaa button.colab-df-convert');\n",
              "      buttonEl.style.display =\n",
              "        google.colab.kernel.accessAllowed ? 'block' : 'none';\n",
              "\n",
              "      async function convertToInteractive(key) {\n",
              "        const element = document.querySelector('#df-45da6b0c-c627-4e94-b6e5-907a6d92caaa');\n",
              "        const dataTable =\n",
              "          await google.colab.kernel.invokeFunction('convertToInteractive',\n",
              "                                                    [key], {});\n",
              "        if (!dataTable) return;\n",
              "\n",
              "        const docLinkHtml = 'Like what you see? Visit the ' +\n",
              "          '<a target=\"_blank\" href=https://colab.research.google.com/notebooks/data_table.ipynb>data table notebook</a>'\n",
              "          + ' to learn more about interactive tables.';\n",
              "        element.innerHTML = '';\n",
              "        dataTable['output_type'] = 'display_data';\n",
              "        await google.colab.output.renderOutput(dataTable, element);\n",
              "        const docLink = document.createElement('div');\n",
              "        docLink.innerHTML = docLinkHtml;\n",
              "        element.appendChild(docLink);\n",
              "      }\n",
              "    </script>\n",
              "  </div>\n",
              "\n",
              "\n",
              "<div id=\"df-ef39ae09-3960-4226-a3a2-81865499fb92\">\n",
              "  <button class=\"colab-df-quickchart\" onclick=\"quickchart('df-ef39ae09-3960-4226-a3a2-81865499fb92')\"\n",
              "            title=\"Suggest charts\"\n",
              "            style=\"display:none;\">\n",
              "\n",
              "<svg xmlns=\"http://www.w3.org/2000/svg\" height=\"24px\"viewBox=\"0 0 24 24\"\n",
              "     width=\"24px\">\n",
              "    <g>\n",
              "        <path d=\"M19 3H5c-1.1 0-2 .9-2 2v14c0 1.1.9 2 2 2h14c1.1 0 2-.9 2-2V5c0-1.1-.9-2-2-2zM9 17H7v-7h2v7zm4 0h-2V7h2v10zm4 0h-2v-4h2v4z\"/>\n",
              "    </g>\n",
              "</svg>\n",
              "  </button>\n",
              "\n",
              "<style>\n",
              "  .colab-df-quickchart {\n",
              "      --bg-color: #E8F0FE;\n",
              "      --fill-color: #1967D2;\n",
              "      --hover-bg-color: #E2EBFA;\n",
              "      --hover-fill-color: #174EA6;\n",
              "      --disabled-fill-color: #AAA;\n",
              "      --disabled-bg-color: #DDD;\n",
              "  }\n",
              "\n",
              "  [theme=dark] .colab-df-quickchart {\n",
              "      --bg-color: #3B4455;\n",
              "      --fill-color: #D2E3FC;\n",
              "      --hover-bg-color: #434B5C;\n",
              "      --hover-fill-color: #FFFFFF;\n",
              "      --disabled-bg-color: #3B4455;\n",
              "      --disabled-fill-color: #666;\n",
              "  }\n",
              "\n",
              "  .colab-df-quickchart {\n",
              "    background-color: var(--bg-color);\n",
              "    border: none;\n",
              "    border-radius: 50%;\n",
              "    cursor: pointer;\n",
              "    display: none;\n",
              "    fill: var(--fill-color);\n",
              "    height: 32px;\n",
              "    padding: 0;\n",
              "    width: 32px;\n",
              "  }\n",
              "\n",
              "  .colab-df-quickchart:hover {\n",
              "    background-color: var(--hover-bg-color);\n",
              "    box-shadow: 0 1px 2px rgba(60, 64, 67, 0.3), 0 1px 3px 1px rgba(60, 64, 67, 0.15);\n",
              "    fill: var(--button-hover-fill-color);\n",
              "  }\n",
              "\n",
              "  .colab-df-quickchart-complete:disabled,\n",
              "  .colab-df-quickchart-complete:disabled:hover {\n",
              "    background-color: var(--disabled-bg-color);\n",
              "    fill: var(--disabled-fill-color);\n",
              "    box-shadow: none;\n",
              "  }\n",
              "\n",
              "  .colab-df-spinner {\n",
              "    border: 2px solid var(--fill-color);\n",
              "    border-color: transparent;\n",
              "    border-bottom-color: var(--fill-color);\n",
              "    animation:\n",
              "      spin 1s steps(1) infinite;\n",
              "  }\n",
              "\n",
              "  @keyframes spin {\n",
              "    0% {\n",
              "      border-color: transparent;\n",
              "      border-bottom-color: var(--fill-color);\n",
              "      border-left-color: var(--fill-color);\n",
              "    }\n",
              "    20% {\n",
              "      border-color: transparent;\n",
              "      border-left-color: var(--fill-color);\n",
              "      border-top-color: var(--fill-color);\n",
              "    }\n",
              "    30% {\n",
              "      border-color: transparent;\n",
              "      border-left-color: var(--fill-color);\n",
              "      border-top-color: var(--fill-color);\n",
              "      border-right-color: var(--fill-color);\n",
              "    }\n",
              "    40% {\n",
              "      border-color: transparent;\n",
              "      border-right-color: var(--fill-color);\n",
              "      border-top-color: var(--fill-color);\n",
              "    }\n",
              "    60% {\n",
              "      border-color: transparent;\n",
              "      border-right-color: var(--fill-color);\n",
              "    }\n",
              "    80% {\n",
              "      border-color: transparent;\n",
              "      border-right-color: var(--fill-color);\n",
              "      border-bottom-color: var(--fill-color);\n",
              "    }\n",
              "    90% {\n",
              "      border-color: transparent;\n",
              "      border-bottom-color: var(--fill-color);\n",
              "    }\n",
              "  }\n",
              "</style>\n",
              "\n",
              "  <script>\n",
              "    async function quickchart(key) {\n",
              "      const quickchartButtonEl =\n",
              "        document.querySelector('#' + key + ' button');\n",
              "      quickchartButtonEl.disabled = true;  // To prevent multiple clicks.\n",
              "      quickchartButtonEl.classList.add('colab-df-spinner');\n",
              "      try {\n",
              "        const charts = await google.colab.kernel.invokeFunction(\n",
              "            'suggestCharts', [key], {});\n",
              "      } catch (error) {\n",
              "        console.error('Error during call to suggestCharts:', error);\n",
              "      }\n",
              "      quickchartButtonEl.classList.remove('colab-df-spinner');\n",
              "      quickchartButtonEl.classList.add('colab-df-quickchart-complete');\n",
              "    }\n",
              "    (() => {\n",
              "      let quickchartButtonEl =\n",
              "        document.querySelector('#df-ef39ae09-3960-4226-a3a2-81865499fb92 button');\n",
              "      quickchartButtonEl.style.display =\n",
              "        google.colab.kernel.accessAllowed ? 'block' : 'none';\n",
              "    })();\n",
              "  </script>\n",
              "</div>\n",
              "    </div>\n",
              "  </div>\n"
            ],
            "application/vnd.google.colaboratory.intrinsic+json": {
              "type": "dataframe",
              "variable_name": "df",
              "summary": "{\n  \"name\": \"df\",\n  \"rows\": 1450,\n  \"fields\": [\n    {\n      \"column\": \"show_id\",\n      \"properties\": {\n        \"dtype\": \"string\",\n        \"num_unique_values\": 1450,\n        \"samples\": [\n          \"s539\",\n          \"s755\",\n          \"s50\"\n        ],\n        \"semantic_type\": \"\",\n        \"description\": \"\"\n      }\n    },\n    {\n      \"column\": \"type\",\n      \"properties\": {\n        \"dtype\": \"category\",\n        \"num_unique_values\": 2,\n        \"samples\": [\n          \"TV Show\",\n          \"Movie\"\n        ],\n        \"semantic_type\": \"\",\n        \"description\": \"\"\n      }\n    },\n    {\n      \"column\": \"title\",\n      \"properties\": {\n        \"dtype\": \"string\",\n        \"num_unique_values\": 1450,\n        \"samples\": [\n          \"Homeward Bound II: Lost in San Francisco\",\n          \"Boat Builders\"\n        ],\n        \"semantic_type\": \"\",\n        \"description\": \"\"\n      }\n    },\n    {\n      \"column\": \"director\",\n      \"properties\": {\n        \"dtype\": \"category\",\n        \"num_unique_values\": 609,\n        \"samples\": [\n          \"Richard Fleischer\",\n          \"Glenn Weiss\"\n        ],\n        \"semantic_type\": \"\",\n        \"description\": \"\"\n      }\n    },\n    {\n      \"column\": \"cast\",\n      \"properties\": {\n        \"dtype\": \"string\",\n        \"num_unique_values\": 1193,\n        \"samples\": [\n          \"Thomas Nicholas, Joss Ackland, Art Malik, Paloma Baeza, Kate Winslet, Daniel Craig\",\n          \"Hutch Dano, G. Hannelius, Maurice Godin, David Lambert, Kelsy Chow, Debra Mooney\"\n        ],\n        \"semantic_type\": \"\",\n        \"description\": \"\"\n      }\n    },\n    {\n      \"column\": \"country\",\n      \"properties\": {\n        \"dtype\": \"category\",\n        \"num_unique_values\": 89,\n        \"samples\": [\n          \"United States, Ireland\",\n          \"United States, Australia, France, Canada\"\n        ],\n        \"semantic_type\": \"\",\n        \"description\": \"\"\n      }\n    },\n    {\n      \"column\": \"date_added\",\n      \"properties\": {\n        \"dtype\": \"object\",\n        \"num_unique_values\": 167,\n        \"samples\": [\n          \"July 10, 2020\",\n          \"May 29, 2020\"\n        ],\n        \"semantic_type\": \"\",\n        \"description\": \"\"\n      }\n    },\n    {\n      \"column\": \"release_year\",\n      \"properties\": {\n        \"dtype\": \"number\",\n        \"std\": 21,\n        \"min\": 1928,\n        \"max\": 2021,\n        \"num_unique_values\": 90,\n        \"samples\": [\n          1992,\n          1997\n        ],\n        \"semantic_type\": \"\",\n        \"description\": \"\"\n      }\n    },\n    {\n      \"column\": \"rating\",\n      \"properties\": {\n        \"dtype\": \"category\",\n        \"num_unique_values\": 9,\n        \"samples\": [\n          \"TV-Y\",\n          \"PG\"\n        ],\n        \"semantic_type\": \"\",\n        \"description\": \"\"\n      }\n    },\n    {\n      \"column\": \"duration\",\n      \"properties\": {\n        \"dtype\": \"category\",\n        \"num_unique_values\": 158,\n        \"samples\": [\n          \"74 min\",\n          \"32 Seasons\"\n        ],\n        \"semantic_type\": \"\",\n        \"description\": \"\"\n      }\n    },\n    {\n      \"column\": \"listed_in\",\n      \"properties\": {\n        \"dtype\": \"category\",\n        \"num_unique_values\": 329,\n        \"samples\": [\n          \"Comedy, Family, Musical\",\n          \"Comedy, Variety\"\n        ],\n        \"semantic_type\": \"\",\n        \"description\": \"\"\n      }\n    },\n    {\n      \"column\": \"description\",\n      \"properties\": {\n        \"dtype\": \"string\",\n        \"num_unique_values\": 1448,\n        \"samples\": [\n          \"A toy-stealing bully meets his match in a Lost & Found box.\",\n          \"India From Above, a two-part aerial documentary of a nation and its people.\"\n        ],\n        \"semantic_type\": \"\",\n        \"description\": \"\"\n      }\n    }\n  ]\n}"
            }
          },
          "metadata": {},
          "execution_count": 4
        }
      ]
    },
    {
      "cell_type": "markdown",
      "source": [
        "Функция *plt.hist()* из библиотеки Matplotlib используется для построения гистограммы\n",
        "https://matplotlib.org/stable/api/_as_gen/matplotlib.axes.Axes.hist.html\n",
        "\n",
        "**Основные параметры**:\n",
        "* x – массив данных (список, массив NumPy, Pandas Series и т. д.).\n",
        "* bins – количество интервалов (бинов) или список границ бинов (по умолчанию 10).\n",
        "* range – кортеж (min, max), задающий диапазон значений, которые будут учтены в гистограмме.\n",
        "* density – если True, нормирует частоты так, чтобы сумма площадей всех бинов была равна 1.\n",
        "* weights – массив весов, определяющий вклад каждого значения x в высоту столбца.\n",
        "* cumulative – если True, строит накопленную (кумулятивную) гистограмму.\n",
        "\n",
        "**Настройки отображения**:\n",
        "* color – цвет столбцов гистограммы.\n",
        "* edgecolor – цвет границ столбцов.\n",
        "* alpha – прозрачность (0 – полностью прозрачный, 1 – полностью непрозрачный).\n",
        "* histtype – тип гистограммы:\n",
        "  1. 'bar' (по умолчанию) – стандартные столбцы.\n",
        "  2. 'step' – контур гистограммы.\n",
        "  3. 'stepfilled' – контур с заливкой.\n",
        "  4. 'barstacked' – сгруппированные данные.\n",
        "* linewidth – толщина линий (актуально для histtype='step').\n",
        "* rwidth – относительная ширина столбцов (0–1)."
      ],
      "metadata": {
        "id": "nMIipTg9kowq"
      }
    },
    {
      "cell_type": "code",
      "source": [
        "plt.hist(df['release_year'])\n",
        "plt.show()"
      ],
      "metadata": {
        "colab": {
          "base_uri": "https://localhost:8080/",
          "height": 430
        },
        "id": "L_8pZCj8aXqC",
        "outputId": "7571275e-6019-4b8d-daac-4b3f3a98f67f"
      },
      "execution_count": 16,
      "outputs": [
        {
          "output_type": "display_data",
          "data": {
            "text/plain": [
              "<Figure size 640x480 with 1 Axes>"
            ],
            "image/png": "[encoded data removed]"
          },
          "metadata": {}
        }
      ]
    },
    {
      "cell_type": "markdown",
      "source": [
        "По оси X указан год производства, а по оси Y — количество фильмов, произведённых в этот год. Как видно из этого графика, производство фильмов начало расти после восьмидесятых, причём после начала нулевых производство фильмов резко увеличилось.\n",
        "\n",
        "Столбцы на получившейся гистограмме довольно широкие, что позволяет нам довольно примерно оценить соотношение года и количества произведённых фильмов. Однако это регулируемый параметр. По умолчанию он равен 10, но давайте удвоим количество столбцов (иначе их называют корзинами):"
      ],
      "metadata": {
        "id": "viJjSxLccdI7"
      }
    },
    {
      "cell_type": "code",
      "source": [
        "plt.hist(df['release_year'], bins=20)\n",
        "plt.show()"
      ],
      "metadata": {
        "colab": {
          "base_uri": "https://localhost:8080/",
          "height": 430
        },
        "id": "mhRi2XIKaXnp",
        "outputId": "2cb3368f-019d-4adb-c801-fcd53504dd1f"
      },
      "execution_count": null,
      "outputs": [
        {
          "output_type": "display_data",
          "data": {
            "text/plain": [
              "<Figure size 640x480 with 1 Axes>"
            ],
            "image/png": "[encoded data removed]"
          },
          "metadata": {}
        }
      ]
    },
    {
      "cell_type": "markdown",
      "source": [
        "Построим гистограмму, задав несколько новых параметров"
      ],
      "metadata": {
        "id": "1G3CVhZpnS1v"
      }
    },
    {
      "cell_type": "code",
      "source": [
        "plt.hist(df['release_year'], bins=25, color='g', edgecolor='k', alpha=0.7, histtype='bar')\n",
        "plt.xlabel('Год производства')\n",
        "plt.ylabel('Количество фильмов')\n",
        "plt.title('Гистограмма распределения значений по году производства фильма или шоу')\n",
        "plt.show()"
      ],
      "metadata": {
        "colab": {
          "base_uri": "https://localhost:8080/",
          "height": 472
        },
        "id": "L-wihqzsmx8e",
        "outputId": "06610a2e-f92d-4753-d65f-27d4de3e09ea"
      },
      "execution_count": 23,
      "outputs": [
        {
          "output_type": "display_data",
          "data": {
            "text/plain": [
              "<Figure size 640x480 with 1 Axes>"
            ],
            "image/png": "[encoded data removed]"
          },
          "metadata": {}
        }
      ]
    },
    {
      "cell_type": "markdown",
      "source": [
        "Помимо этого, мы можем добавить на график сразу несколько разных данных. Предположим, мы хотим одновременно посмотреть на гистограммы фильмов и ТВ-шоу. Для этого сделаем отдельные наборы данных:"
      ],
      "metadata": {
        "id": "rV2VXtBoclt8"
      }
    },
    {
      "cell_type": "code",
      "source": [
        "df_film = df[df['type'] == 'Movie']\n",
        "df_show = df[df['type'] == 'TV Show']"
      ],
      "metadata": {
        "id": "xHylRRvhaXlW"
      },
      "execution_count": 24,
      "outputs": []
    },
    {
      "cell_type": "code",
      "source": [
        "plt.hist(df_film['release_year'])\n",
        "plt.hist(df_show['release_year'])\n",
        "plt.show()"
      ],
      "metadata": {
        "colab": {
          "base_uri": "https://localhost:8080/",
          "height": 430
        },
        "id": "PS3C-Xx0aXjF",
        "outputId": "dd0ae428-8166-4e35-e279-79498590a098"
      },
      "execution_count": 25,
      "outputs": [
        {
          "output_type": "display_data",
          "data": {
            "text/plain": [
              "<Figure size 640x480 with 1 Axes>"
            ],
            "image/png": "[encoded data removed]"
          },
          "metadata": {}
        }
      ]
    },
    {
      "cell_type": "markdown",
      "source": [
        "Мы рисуем две гистограммы, но видим их не отдельно, а вместе. Дело в том, что если мы определяем две гистограммы подряд, то пакет интерпретирует это как предложение нарисовать их поверх друг друга. Это может быть полезным.\n",
        "\n",
        "С помощью такой визуализации мы можем увидеть, как менялись темпы производства фильмов и шоу. Однако эта визуализация будет не вполне понятна для аудитории: что именно изображено на графике? Что отражает график синего и оранжевого цвета? Эти вопросы стоит прояснить, поэтому мы добавим текстовые объяснения на график."
      ],
      "metadata": {
        "id": "MZ8HarfJcvgB"
      }
    },
    {
      "cell_type": "code",
      "source": [
        "plt.hist(df_film['release_year'], label = 'Films')\n",
        "plt.hist (df_show['release_year'], label = 'Shows')\n",
        "plt.legend() # Используется для отображения легенды на графике, которая помогает различать различные серии данных\n",
        "plt.show()"
      ],
      "metadata": {
        "colab": {
          "base_uri": "https://localhost:8080/",
          "height": 430
        },
        "id": "F-8MKIJoaXg7",
        "outputId": "810ba0b3-618f-4e04-c418-741f05e8a895"
      },
      "execution_count": 32,
      "outputs": [
        {
          "output_type": "display_data",
          "data": {
            "text/plain": [
              "<Figure size 640x480 with 1 Axes>"
            ],
            "image/png": "[encoded data removed]"
          },
          "metadata": {}
        }
      ]
    },
    {
      "cell_type": "markdown",
      "source": [
        "Давайте разберём, что мы добавили на график:\n",
        "\n",
        "1. label — с помощью этого параметра мы добавили подписи к гистограммам;\n",
        "2. legend — с помощью этого аргумента мы выводим на график подписи к данным к ним — это не только названия данных, но и, например, названия осей и графика в целом."
      ],
      "metadata": {
        "id": "qiLgl0_gc0P1"
      }
    },
    {
      "cell_type": "code",
      "source": [
        "plt.hist(df_film['release_year'], label = 'Films', bins = 20)\n",
        "plt.hist(df_show['release_year'], label = 'Shows', bins = 20)\n",
        "plt.xlabel(\"Year\")\n",
        "plt.ylabel(\"amount\")\n",
        "plt.title('Hist #1')\n",
        "plt.legend()\n",
        "plt.show()"
      ],
      "metadata": {
        "colab": {
          "base_uri": "https://localhost:8080/",
          "height": 472
        },
        "id": "1B_P3isoaXes",
        "outputId": "700a3687-3856-41a5-ab1c-be8e7a03d86a"
      },
      "execution_count": 33,
      "outputs": [
        {
          "output_type": "display_data",
          "data": {
            "text/plain": [
              "<Figure size 640x480 with 1 Axes>"
            ],
            "image/png": "[encoded data removed]"
          },
          "metadata": {}
        }
      ]
    },
    {
      "cell_type": "markdown",
      "source": [
        "## Столбчатые диаграммы"
      ],
      "metadata": {
        "id": "VR1Nfj6bc8Vu"
      }
    },
    {
      "cell_type": "markdown",
      "source": [
        "Для визуализации категориальных переменных мы будем использовать столбчатые диаграммы. Они могут внешне напоминать гистограммы, но сильно отличаются по смыслу, в первую очередь как раз тем, что используются при работе с категориальными шкалами."
      ],
      "metadata": {
        "id": "TThEDe0gdC6w"
      }
    },
    {
      "cell_type": "markdown",
      "source": [
        "Для начала посмотрим, какие возрастные категории фильмов и шоу были самыми распространёнными. В нашем наборе данных есть переменная Rating, которая отражает, какой именно возрастной рейтинг был присвоен каждому фильму и шоу. Для начала посмотрим на эти данные без визуализации. Напомним, что для этого можно использовать функцию value_counts():"
      ],
      "metadata": {
        "id": "CNrOaRHCdFRk"
      }
    },
    {
      "cell_type": "code",
      "source": [
        "df['rating'].value_counts()"
      ],
      "metadata": {
        "colab": {
          "base_uri": "https://localhost:8080/",
          "height": 398
        },
        "id": "I0cSCrN4aXaK",
        "outputId": "b5f9f086-d002-48e1-a1fe-f28e7e61235b"
      },
      "execution_count": 36,
      "outputs": [
        {
          "output_type": "execute_result",
          "data": {
            "text/plain": [
              "rating\n",
              "TV-G        318\n",
              "TV-PG       301\n",
              "G           253\n",
              "PG          236\n",
              "TV-Y7       131\n",
              "TV-14        79\n",
              "PG-13        66\n",
              "TV-Y         50\n",
              "TV-Y7-FV     13\n",
              "Name: count, dtype: int64"
            ],
            "text/html": [
              "<div>\n",
              "<style scoped>\n",
              "    .dataframe tbody tr th:only-of-type {\n",
              "        vertical-align: middle;\n",
              "    }\n",
              "\n",
              "    .dataframe tbody tr th {\n",
              "        vertical-align: top;\n",
              "    }\n",
              "\n",
              "    .dataframe thead th {\n",
              "        text-align: right;\n",
              "    }\n",
              "</style>\n",
              "<table border=\"1\" class=\"dataframe\">\n",
              "  <thead>\n",
              "    <tr style=\"text-align: right;\">\n",
              "      <th></th>\n",
              "      <th>count</th>\n",
              "    </tr>\n",
              "    <tr>\n",
              "      <th>rating</th>\n",
              "      <th></th>\n",
              "    </tr>\n",
              "  </thead>\n",
              "  <tbody>\n",
              "    <tr>\n",
              "      <th>TV-G</th>\n",
              "      <td>318</td>\n",
              "    </tr>\n",
              "    <tr>\n",
              "      <th>TV-PG</th>\n",
              "      <td>301</td>\n",
              "    </tr>\n",
              "    <tr>\n",
              "      <th>G</th>\n",
              "      <td>253</td>\n",
              "    </tr>\n",
              "    <tr>\n",
              "      <th>PG</th>\n",
              "      <td>236</td>\n",
              "    </tr>\n",
              "    <tr>\n",
              "      <th>TV-Y7</th>\n",
              "      <td>131</td>\n",
              "    </tr>\n",
              "    <tr>\n",
              "      <th>TV-14</th>\n",
              "      <td>79</td>\n",
              "    </tr>\n",
              "    <tr>\n",
              "      <th>PG-13</th>\n",
              "      <td>66</td>\n",
              "    </tr>\n",
              "    <tr>\n",
              "      <th>TV-Y</th>\n",
              "      <td>50</td>\n",
              "    </tr>\n",
              "    <tr>\n",
              "      <th>TV-Y7-FV</th>\n",
              "      <td>13</td>\n",
              "    </tr>\n",
              "  </tbody>\n",
              "</table>\n",
              "</div><br><label><b>dtype:</b> int64</label>"
            ]
          },
          "metadata": {},
          "execution_count": 36
        }
      ]
    },
    {
      "cell_type": "markdown",
      "source": [
        "Так мы можем понять наиболее и наименее распространённые рейтинги. В кодбуке к набору данных (или просто в интернете) можно узнать, чему соответствует каждый рейтинг. Например, TV-G означает, что фильм подходит для всех возрастных категорий. Однако теперь попробуем визуализировать эти данные."
      ],
      "metadata": {
        "id": "ZkWQPimLdLZc"
      }
    },
    {
      "cell_type": "markdown",
      "source": [
        "Метод *pd.Series.plot()* позволяет визуализировать данные, хранящиеся в pandas.Series, используя библиотеку Matplotlib. Он является упрощённой версией *pd.DataFrame.plot()* и поддерживает основные типы графиков.\n",
        "\n",
        "1. **Тип графика**\n",
        "* kind – определяет тип графика (\"line\" (по умолчанию), \"bar\", \"barh\", \"hist\", \"box\", \"kde\", \"density\", \"pie\").\n",
        "\n",
        "2. **Настройки осей**\n",
        "* xlabel – подпись оси X.\n",
        "* ylabel – подпись оси Y.\n",
        "* xlim – диапазон значений оси X.\n",
        "* ylim – диапазон значений оси Y.\n",
        "* logx, logy, loglog – логарифмическая шкала.\n",
        "\n",
        "3. **Оформление графика**\n",
        "* figsize – размер графика (ширина, высота).\n",
        "* title – заголовок графика.\n",
        "* grid – включение сетки (True/False).\n",
        "* rot – угол наклона подписей оси X.\n",
        "* fontsize – размер шрифта.\n",
        "\n",
        "4. **Стиль линий и точек**\n",
        "* color – цвет линий или столбцов.\n",
        "* style – стиль линий ('-', '--', '-.', ':').\n",
        "* marker – маркер ('o', '^', 's', '*' и др.).\n",
        "* linewidth (или lw) – толщина линии.\n",
        "* alpha – прозрачность (0 – прозрачный, 1 – непрозрачный).\n",
        "\n",
        "5. **Дополнительные параметры для конкретных графиков**\n",
        "* bins – количество интервалов для гистограммы (hist).\n",
        "* density – нормализация гистограммы (True/False).\n",
        "* cmap – цветовая схема (например, \"viridis\", \"coolwarm\").\n",
        "* label – подпись в легенде (работает, если используется plt.legend()).\n",
        "\n",
        "https://pandas.pydata.org/docs/reference/api/pandas.Series.plot.html"
      ],
      "metadata": {
        "id": "Qcti1wjDqUR2"
      }
    },
    {
      "cell_type": "code",
      "source": [
        "df['rating'].value_counts().plot(kind='bar', ylabel='frequency')\n",
        "plt.show()"
      ],
      "metadata": {
        "colab": {
          "base_uri": "https://localhost:8080/",
          "height": 495
        },
        "id": "o_5znl_yaXYC",
        "outputId": "38b3602f-a4de-4cb0-b991-2a1c98ba5a70"
      },
      "execution_count": null,
      "outputs": [
        {
          "output_type": "display_data",
          "data": {
            "text/plain": [
              "<Figure size 640x480 with 1 Axes>"
            ],
            "image/png": "[encoded data removed]"
          },
          "metadata": {}
        }
      ]
    },
    {
      "cell_type": "markdown",
      "source": [
        "Несколько пояснений по этому коду, поскольку такой вид записи отличается от тех, что мы рассматривали ранее. Раз мы используем преобразованные данные, то код устроен следующим образом:\n",
        "\n",
        "* сначала мы проделываем работу с данными — это первая часть кода;\n",
        "* затем используем функцию plot() — она указывает, что полученные данные необходимо визуализировать;\n",
        "* параметры этой функции задают способ визуализации и дополнительные параметры, в нашем случае — тип графика и подпись к оси Y."
      ],
      "metadata": {
        "id": "GHvQkIzldS77"
      }
    },
    {
      "cell_type": "markdown",
      "source": [
        "Вот ещё возможные значения параметра kind:\n",
        "\n",
        "1. line — линейный график;\n",
        "2. hist — гистограмма;\n",
        "3. box — бокс-плот;\n",
        "4. pie — круговая диаграмма;\n",
        "5. kde — линия плотности распределения;\n",
        "6. density — гибрид линейного графика и гистограммы;\n",
        "7. scatter — точечная диаграмма;\n"
      ],
      "metadata": {
        "id": "2iBbU72WdfxK"
      }
    },
    {
      "cell_type": "markdown",
      "source": [
        "Мы можем отдельно оценить количество фильмов и ТВ-шоу по категориям. Опять же, начнём с кода, который покажет нам такие данные:"
      ],
      "metadata": {
        "id": "o4Bvkc67dsPn"
      }
    },
    {
      "cell_type": "code",
      "source": [
        "df.groupby('type')['rating'].value_counts()"
      ],
      "metadata": {
        "colab": {
          "base_uri": "https://localhost:8080/",
          "height": 617
        },
        "id": "U7aRjlMOaXVe",
        "outputId": "a31fc022-1ca1-42cc-fefe-244434db75f5"
      },
      "execution_count": null,
      "outputs": [
        {
          "output_type": "execute_result",
          "data": {
            "text/plain": [
              "type     rating  \n",
              "Movie    G           253\n",
              "         PG          235\n",
              "         TV-G        233\n",
              "         TV-PG       181\n",
              "         PG-13        66\n",
              "         TV-14        37\n",
              "         TV-Y7        36\n",
              "         TV-Y7-FV      7\n",
              "         TV-Y          3\n",
              "TV Show  TV-PG       120\n",
              "         TV-Y7        95\n",
              "         TV-G         85\n",
              "         TV-Y         47\n",
              "         TV-14        42\n",
              "         TV-Y7-FV      6\n",
              "         PG            1\n",
              "Name: count, dtype: int64"
            ],
            "text/html": [
              "<div>\n",
              "<style scoped>\n",
              "    .dataframe tbody tr th:only-of-type {\n",
              "        vertical-align: middle;\n",
              "    }\n",
              "\n",
              "    .dataframe tbody tr th {\n",
              "        vertical-align: top;\n",
              "    }\n",
              "\n",
              "    .dataframe thead th {\n",
              "        text-align: right;\n",
              "    }\n",
              "</style>\n",
              "<table border=\"1\" class=\"dataframe\">\n",
              "  <thead>\n",
              "    <tr style=\"text-align: right;\">\n",
              "      <th></th>\n",
              "      <th></th>\n",
              "      <th>count</th>\n",
              "    </tr>\n",
              "    <tr>\n",
              "      <th>type</th>\n",
              "      <th>rating</th>\n",
              "      <th></th>\n",
              "    </tr>\n",
              "  </thead>\n",
              "  <tbody>\n",
              "    <tr>\n",
              "      <th rowspan=\"9\" valign=\"top\">Movie</th>\n",
              "      <th>G</th>\n",
              "      <td>253</td>\n",
              "    </tr>\n",
              "    <tr>\n",
              "      <th>PG</th>\n",
              "      <td>235</td>\n",
              "    </tr>\n",
              "    <tr>\n",
              "      <th>TV-G</th>\n",
              "      <td>233</td>\n",
              "    </tr>\n",
              "    <tr>\n",
              "      <th>TV-PG</th>\n",
              "      <td>181</td>\n",
              "    </tr>\n",
              "    <tr>\n",
              "      <th>PG-13</th>\n",
              "      <td>66</td>\n",
              "    </tr>\n",
              "    <tr>\n",
              "      <th>TV-14</th>\n",
              "      <td>37</td>\n",
              "    </tr>\n",
              "    <tr>\n",
              "      <th>TV-Y7</th>\n",
              "      <td>36</td>\n",
              "    </tr>\n",
              "    <tr>\n",
              "      <th>TV-Y7-FV</th>\n",
              "      <td>7</td>\n",
              "    </tr>\n",
              "    <tr>\n",
              "      <th>TV-Y</th>\n",
              "      <td>3</td>\n",
              "    </tr>\n",
              "    <tr>\n",
              "      <th rowspan=\"7\" valign=\"top\">TV Show</th>\n",
              "      <th>TV-PG</th>\n",
              "      <td>120</td>\n",
              "    </tr>\n",
              "    <tr>\n",
              "      <th>TV-Y7</th>\n",
              "      <td>95</td>\n",
              "    </tr>\n",
              "    <tr>\n",
              "      <th>TV-G</th>\n",
              "      <td>85</td>\n",
              "    </tr>\n",
              "    <tr>\n",
              "      <th>TV-Y</th>\n",
              "      <td>47</td>\n",
              "    </tr>\n",
              "    <tr>\n",
              "      <th>TV-14</th>\n",
              "      <td>42</td>\n",
              "    </tr>\n",
              "    <tr>\n",
              "      <th>TV-Y7-FV</th>\n",
              "      <td>6</td>\n",
              "    </tr>\n",
              "    <tr>\n",
              "      <th>PG</th>\n",
              "      <td>1</td>\n",
              "    </tr>\n",
              "  </tbody>\n",
              "</table>\n",
              "</div><br><label><b>dtype:</b> int64</label>"
            ]
          },
          "metadata": {},
          "execution_count": 11
        }
      ]
    },
    {
      "cell_type": "markdown",
      "source": [
        "Тут вас может смутить синтаксис, расскажем о нём чуть подробнее:\n",
        "\n",
        "* на объекте df вызываем метод groupby, передав в качестве параметра аргумент type — этот метод группирует датафрейм по переменной type;\n",
        "* он возвращает новый объект — сгруппированный датафрейм;\n",
        "* у него выбираем все значения по переменной rating;\n",
        "* и подсчитываем количество наблюдений для каждого уникального значения."
      ],
      "metadata": {
        "id": "NLhoz3g4d0-z"
      }
    },
    {
      "cell_type": "code",
      "source": [
        "vis_1 = df.groupby('type')['rating'].value_counts()\n",
        "vis_1.unstack(0).plot(kind='bar', ylabel='frequency')"
      ],
      "metadata": {
        "colab": {
          "base_uri": "https://localhost:8080/",
          "height": 513
        },
        "id": "_HMPz4P1aXTG",
        "outputId": "2f859b99-153e-4f9b-ab2f-75bb4dfb0583"
      },
      "execution_count": 38,
      "outputs": [
        {
          "output_type": "execute_result",
          "data": {
            "text/plain": [
              "<Axes: xlabel='rating', ylabel='frequency'>"
            ]
          },
          "metadata": {},
          "execution_count": 38
        },
        {
          "output_type": "display_data",
          "data": {
            "text/plain": [
              "<Figure size 640x480 with 1 Axes>"
            ],
            "image/png": "[encoded data removed]"
          },
          "metadata": {}
        }
      ]
    },
    {
      "cell_type": "markdown",
      "source": [
        "Первой строкой мы сохранили данные в преобразованном виде.\n",
        "\n",
        "Второй строкой мы задали параметры визуализации. Все его части нам знакомы, кроме функции unstack. Она нужна для того, чтобы на визуализации объединить под одной категорией и фильмы, и ТВ-шоу. Чтобы лучше понять принцип работы этой функции, вы можете удалить эту часть кода и попробовать визуализировать без неё."
      ],
      "metadata": {
        "id": "N-RfB8MAd--X"
      }
    },
    {
      "cell_type": "markdown",
      "source": [
        "Глядя на эту визуализацию, можно обнаружить, что, хотя в большинстве категорий фильмы преобладают над ТВ-шоу, есть несколько категорий, где ситуация радикально иная."
      ],
      "metadata": {
        "id": "FN3RQokueD1J"
      }
    },
    {
      "cell_type": "markdown",
      "source": [
        "**Как эти данные можно еще представить?**"
      ],
      "metadata": {
        "id": "nQtApE5sr4rb"
      }
    },
    {
      "cell_type": "code",
      "source": [
        "# Линейный график\n",
        "df['rating'].value_counts().plot(kind='line', ylabel='frequency')\n",
        "plt.show()"
      ],
      "metadata": {
        "colab": {
          "base_uri": "https://localhost:8080/",
          "height": 449
        },
        "id": "0Vodmc-yrusU",
        "outputId": "b5fd0cad-cff2-496c-e35b-60e3f1b4667f"
      },
      "execution_count": 47,
      "outputs": [
        {
          "output_type": "display_data",
          "data": {
            "text/plain": [
              "<Figure size 640x480 with 1 Axes>"
            ],
            "image/png": "[encoded data removed]"
          },
          "metadata": {}
        }
      ]
    },
    {
      "cell_type": "code",
      "source": [
        "# Круговая диаграмма\n",
        "df['rating'].value_counts().plot(kind='pie', title='frequency')\n",
        "plt.show()"
      ],
      "metadata": {
        "colab": {
          "base_uri": "https://localhost:8080/",
          "height": 428
        },
        "id": "0vjgIOJ_rYD0",
        "outputId": "54606f2e-f8e4-4dca-b6ea-5d19dd100216"
      },
      "execution_count": 48,
      "outputs": [
        {
          "output_type": "display_data",
          "data": {
            "text/plain": [
              "<Figure size 640x480 with 1 Axes>"
            ],
            "image/png": "[encoded data removed]"
          },
          "metadata": {}
        }
      ]
    },
    {
      "cell_type": "markdown",
      "source": [
        "## Линейные графики"
      ],
      "metadata": {
        "id": "KudldOdWeGNQ"
      }
    },
    {
      "cell_type": "markdown",
      "source": [
        "Линейные графики нужны нам, когда мы визуализируем количественные показатели и их связь между собой. В нашем наборе данных один из таких показателей — это год производства фильма. Однако все остальные показатели — категориальные, поэтому нам необходимо выполнить некоторые преобразования. Например, мы можем посчитать, какое количество фильмов было произведено в каждый год."
      ],
      "metadata": {
        "id": "ptsjRXy5eLFP"
      }
    },
    {
      "cell_type": "code",
      "source": [
        "df['release_year'].value_counts()"
      ],
      "metadata": {
        "colab": {
          "base_uri": "https://localhost:8080/",
          "height": 490
        },
        "id": "6KfhjVBzaXQh",
        "outputId": "377e6ba0-0dde-4380-f562-302a6ed12ca8"
      },
      "execution_count": 49,
      "outputs": [
        {
          "output_type": "execute_result",
          "data": {
            "text/plain": [
              "release_year\n",
              "2021    125\n",
              "2020    114\n",
              "2019     99\n",
              "2017     69\n",
              "2018     65\n",
              "       ... \n",
              "1928      1\n",
              "1944      1\n",
              "1970      1\n",
              "1945      1\n",
              "1968      1\n",
              "Name: count, Length: 90, dtype: int64"
            ],
            "text/html": [
              "<div>\n",
              "<style scoped>\n",
              "    .dataframe tbody tr th:only-of-type {\n",
              "        vertical-align: middle;\n",
              "    }\n",
              "\n",
              "    .dataframe tbody tr th {\n",
              "        vertical-align: top;\n",
              "    }\n",
              "\n",
              "    .dataframe thead th {\n",
              "        text-align: right;\n",
              "    }\n",
              "</style>\n",
              "<table border=\"1\" class=\"dataframe\">\n",
              "  <thead>\n",
              "    <tr style=\"text-align: right;\">\n",
              "      <th></th>\n",
              "      <th>count</th>\n",
              "    </tr>\n",
              "    <tr>\n",
              "      <th>release_year</th>\n",
              "      <th></th>\n",
              "    </tr>\n",
              "  </thead>\n",
              "  <tbody>\n",
              "    <tr>\n",
              "      <th>2021</th>\n",
              "      <td>125</td>\n",
              "    </tr>\n",
              "    <tr>\n",
              "      <th>2020</th>\n",
              "      <td>114</td>\n",
              "    </tr>\n",
              "    <tr>\n",
              "      <th>2019</th>\n",
              "      <td>99</td>\n",
              "    </tr>\n",
              "    <tr>\n",
              "      <th>2017</th>\n",
              "      <td>69</td>\n",
              "    </tr>\n",
              "    <tr>\n",
              "      <th>2018</th>\n",
              "      <td>65</td>\n",
              "    </tr>\n",
              "    <tr>\n",
              "      <th>...</th>\n",
              "      <td>...</td>\n",
              "    </tr>\n",
              "    <tr>\n",
              "      <th>1928</th>\n",
              "      <td>1</td>\n",
              "    </tr>\n",
              "    <tr>\n",
              "      <th>1944</th>\n",
              "      <td>1</td>\n",
              "    </tr>\n",
              "    <tr>\n",
              "      <th>1970</th>\n",
              "      <td>1</td>\n",
              "    </tr>\n",
              "    <tr>\n",
              "      <th>1945</th>\n",
              "      <td>1</td>\n",
              "    </tr>\n",
              "    <tr>\n",
              "      <th>1968</th>\n",
              "      <td>1</td>\n",
              "    </tr>\n",
              "  </tbody>\n",
              "</table>\n",
              "<p>90 rows × 1 columns</p>\n",
              "</div><br><label><b>dtype:</b> int64</label>"
            ]
          },
          "metadata": {},
          "execution_count": 49
        }
      ]
    },
    {
      "cell_type": "markdown",
      "source": [
        "Так мы узнали, сколько фильмов было произведено в каждый год. Теперь визуализируем это соотношение. Чтобы это сделать, нам необходимо ещё одно преобразование — связь года и количества произведённых фильмов необходимо сохранить как датафрейм."
      ],
      "metadata": {
        "id": "3wUsbwLTeXqT"
      }
    },
    {
      "cell_type": "code",
      "source": [
        "film_year = pd.DataFrame(df['release_year'].value_counts().reset_index().values, columns=[\"Year\", \"amount\"])\n",
        "film_year = film_year.sort_values('Year', ascending = True)\n",
        "print(film_year)"
      ],
      "metadata": {
        "colab": {
          "base_uri": "https://localhost:8080/"
        },
        "id": "mHyeQfvKeMXc",
        "outputId": "37e9a3ff-a1cb-4280-a7ef-10847ec1a49e"
      },
      "execution_count": 50,
      "outputs": [
        {
          "output_type": "stream",
          "name": "stdout",
          "text": [
            "    Year  amount\n",
            "85  1928       1\n",
            "70  1932       3\n",
            "73  1933       3\n",
            "57  1934       4\n",
            "60  1935       4\n",
            "..   ...     ...\n",
            "3   2017      69\n",
            "4   2018      65\n",
            "2   2019      99\n",
            "1   2020     114\n",
            "0   2021     125\n",
            "\n",
            "[90 rows x 2 columns]\n"
          ]
        }
      ]
    },
    {
      "cell_type": "markdown",
      "source": [
        "Этим кодом мы создали первой строкой датафрейм с колонками “Year” и “amount”, а второй строкой отсортировали его по годам. Дальнейшая визуализация будет очень простой:\n"
      ],
      "metadata": {
        "id": "qqfjxOPReclq"
      }
    },
    {
      "cell_type": "markdown",
      "source": [
        "Функция *plt.plot()* из Matplotlib предназначена для построения линейных графиков.\n",
        "\n",
        "1. **Данные**\n",
        "* x, y – координаты точек, где:\n",
        "* x – массив значений по оси X (если не указан, используется range(len(y))).\n",
        "* y – массив значений по оси Y.\n",
        "\n",
        "2. **Настройка стиля линий**\n",
        "* color (или c) – цвет линии (\"red\", \"blue\", \"#ff5733\", \"r\", \"b\", и др.).\n",
        "* linestyle (или ls) – стиль линии:\n",
        "  1.\"-\" (сплошная, по умолчанию)\n",
        "  2. \"--\" (пунктирная)\n",
        "  3. \"-.\" (штрих-пунктирная)\n",
        "  4. \":\" (точечная)\n",
        "  5. \"\" или \"None\" (без линии).\n",
        "* linewidth (или lw) – толщина линии.\n",
        "* alpha – прозрачность (от 0 до 1).\n",
        "\n",
        "3. **Маркеры**\n",
        "* marker – тип маркера:\n",
        "  1. \"o\" (круг)\n",
        "  2. \"s\" (квадрат)\n",
        "  3. \"^\" (треугольник вверх)\n",
        "  4. \"x\" (крест)\n",
        "  5. \"*\", \"d\", \"p\", \"h\", \"D\" и др.\n",
        "* markersize (или ms) – размер маркера.\n",
        "* markeredgecolor (или mec) – цвет границы маркера.\n",
        "* markerfacecolor (или mfc) – цвет заливки маркера.\n",
        "* markeredgewidth (или mew) – толщина границы маркера.\n",
        "\n",
        "4. **Настройки осей**\n",
        "* label – подпись серии данных (используется с plt.legend()).\n",
        "* xlim, ylim – диапазон значений осей.\n",
        "* logx, logy – логарифмическая шкала.\n",
        "* grid – включение сетки (True/False).\n",
        "\n",
        "5. **Работа с несколькими графиками**\n",
        "* zorder – порядок отрисовки (чем больше значение, тем выше слой).\n",
        "* drawstyle – способ соединения точек:\n",
        "  1. \"default\" (прямая линия),\n",
        "  2. \"steps\" (ступенчатая),\n",
        "  3. \"steps-pre\", \"steps-mid\", \"steps-post\".\n",
        "\n",
        "https://matplotlib.org/stable/api/_as_gen/matplotlib.axes.Axes.plot.html"
      ],
      "metadata": {
        "id": "w1riWxLuxFNf"
      }
    },
    {
      "cell_type": "code",
      "source": [
        "plt.plot(film_year['Year'], film_year['amount'])\n",
        "plt.show()"
      ],
      "metadata": {
        "colab": {
          "base_uri": "https://localhost:8080/",
          "height": 430
        },
        "id": "Fl-_njAjeMVY",
        "outputId": "a61fde3f-7bfb-4cf1-f876-64b5cab47555"
      },
      "execution_count": null,
      "outputs": [
        {
          "output_type": "display_data",
          "data": {
            "text/plain": [
              "<Figure size 640x480 with 1 Axes>"
            ],
            "image/png": "[encoded data removed]"
          },
          "metadata": {}
        }
      ]
    },
    {
      "cell_type": "markdown",
      "source": [
        "Простой, но отчётливо наблюдаемый тренд — это увеличение производства фильмов и ТВ-шоу от года к году."
      ],
      "metadata": {
        "id": "HXCEAjwyehGH"
      }
    },
    {
      "cell_type": "code",
      "source": [
        "plt.plot(film_year['Year'], film_year['amount'], label=\"amount films\", color=\"blue\", linestyle=\"--\", linewidth=2, marker=\"o\", markersize=5)\n",
        "plt.xlabel(\"Год производства\")\n",
        "plt.ylabel(\"Количество фильмов\")\n",
        "plt.title(\"Производство фильмов по годам\")\n",
        "plt.legend()\n",
        "plt.grid(True)\n",
        "plt.show()"
      ],
      "metadata": {
        "colab": {
          "base_uri": "https://localhost:8080/",
          "height": 472
        },
        "id": "cx62v1GNx8RF",
        "outputId": "2eeb60a6-1d4c-4434-a7d8-15b9eff04a23"
      },
      "execution_count": 55,
      "outputs": [
        {
          "output_type": "display_data",
          "data": {
            "text/plain": [
              "<Figure size 640x480 with 1 Axes>"
            ],
            "image/png": "[encoded data removed]"
          },
          "metadata": {}
        }
      ]
    },
    {
      "cell_type": "markdown",
      "source": [
        "## Точечная диаграмма"
      ],
      "metadata": {
        "id": "NpJKJVPqejK5"
      }
    },
    {
      "cell_type": "markdown",
      "source": [
        "Точечная диаграмма нужна нам для визуализации двух переменных и, как мы уже видели в предыдущем параграфе, часто используется при работе с корреляциями.\n",
        "\n",
        "В нашем наборе данных есть две подходящие переменные: год производства и длительность фильма. Однако длительность фильма изначально представлена как строка, поскольку содержит не только данные о количестве минут или сезонов, но и текст. Это не подходит для наших задач, поэтому мы преобразуем переменную. Мы не будем подробно разбирать, как именно это сделать в Python, однако код для этой операции выглядит следующим образом:"
      ],
      "metadata": {
        "id": "1KCGlR4xeoGk"
      }
    },
    {
      "cell_type": "code",
      "source": [
        "df.head()"
      ],
      "metadata": {
        "colab": {
          "base_uri": "https://localhost:8080/",
          "height": 397
        },
        "id": "ykh3PDzszTvJ",
        "outputId": "59b2d0fa-eedd-42c7-c261-83df27f22eb1"
      },
      "execution_count": 58,
      "outputs": [
        {
          "output_type": "execute_result",
          "data": {
            "text/plain": [
              "  show_id     type                                             title  \\\n",
              "0      s1    Movie  Duck the Halls: A Mickey Mouse Christmas Special   \n",
              "1      s2    Movie                            Ernest Saves Christmas   \n",
              "2      s3    Movie                      Ice Age: A Mammoth Christmas   \n",
              "3      s4    Movie                        The Queen Family Singalong   \n",
              "4      s5  TV Show                             The Beatles: Get Back   \n",
              "\n",
              "                            director  \\\n",
              "0  Alonso Ramirez Ramos, Dave Wasson   \n",
              "1                        John Cherry   \n",
              "2                       Karen Disher   \n",
              "3                    Hamish Hamilton   \n",
              "4                                NaN   \n",
              "\n",
              "                                                cast        country  \\\n",
              "0  Chris Diamantopoulos, Tony Anselmo, Tress MacN...            NaN   \n",
              "1           Jim Varney, Noelle Parker, Douglas Seale            NaN   \n",
              "2  Raymond Albert Romano, John Leguizamo, Denis L...  United States   \n",
              "3  Darren Criss, Adam Lambert, Derek Hough, Alexa...            NaN   \n",
              "4  John Lennon, Paul McCartney, George Harrison, ...            NaN   \n",
              "\n",
              "          date_added  release_year rating  duration  \\\n",
              "0  November 26, 2021          2016   TV-G      23.0   \n",
              "1  November 26, 2021          1988     PG      91.0   \n",
              "2  November 26, 2021          2011   TV-G      23.0   \n",
              "3  November 26, 2021          2021  TV-PG      41.0   \n",
              "4  November 25, 2021          2021    NaN       NaN   \n",
              "\n",
              "                       listed_in  \\\n",
              "0              Animation, Family   \n",
              "1                         Comedy   \n",
              "2      Animation, Comedy, Family   \n",
              "3                        Musical   \n",
              "4  Docuseries, Historical, Music   \n",
              "\n",
              "                                         description  \n",
              "0   Join Mickey and the gang as they duck the halls!  \n",
              "1  Santa Claus passes his magic bag to a new St. ...  \n",
              "2          Sid the Sloth is on Santa's naughty list.  \n",
              "3               This is real life, not just fantasy!  \n",
              "4  A three-part documentary from Peter Jackson ca...  "
            ],
            "text/html": [
              "\n",
              "  <div id=\"df-3d00a12d-4804-423b-a60d-939c738428b9\" class=\"colab-df-container\">\n",
              "    <div>\n",
              "<style scoped>\n",
              "    .dataframe tbody tr th:only-of-type {\n",
              "        vertical-align: middle;\n",
              "    }\n",
              "\n",
              "    .dataframe tbody tr th {\n",
              "        vertical-align: top;\n",
              "    }\n",
              "\n",
              "    .dataframe thead th {\n",
              "        text-align: right;\n",
              "    }\n",
              "</style>\n",
              "<table border=\"1\" class=\"dataframe\">\n",
              "  <thead>\n",
              "    <tr style=\"text-align: right;\">\n",
              "      <th></th>\n",
              "      <th>show_id</th>\n",
              "      <th>type</th>\n",
              "      <th>title</th>\n",
              "      <th>director</th>\n",
              "      <th>cast</th>\n",
              "      <th>country</th>\n",
              "      <th>date_added</th>\n",
              "      <th>release_year</th>\n",
              "      <th>rating</th>\n",
              "      <th>duration</th>\n",
              "      <th>listed_in</th>\n",
              "      <th>description</th>\n",
              "    </tr>\n",
              "  </thead>\n",
              "  <tbody>\n",
              "    <tr>\n",
              "      <th>0</th>\n",
              "      <td>s1</td>\n",
              "      <td>Movie</td>\n",
              "      <td>Duck the Halls: A Mickey Mouse Christmas Special</td>\n",
              "      <td>Alonso Ramirez Ramos, Dave Wasson</td>\n",
              "      <td>Chris Diamantopoulos, Tony Anselmo, Tress MacN...</td>\n",
              "      <td>NaN</td>\n",
              "      <td>November 26, 2021</td>\n",
              "      <td>2016</td>\n",
              "      <td>TV-G</td>\n",
              "      <td>23.0</td>\n",
              "      <td>Animation, Family</td>\n",
              "      <td>Join Mickey and the gang as they duck the halls!</td>\n",
              "    </tr>\n",
              "    <tr>\n",
              "      <th>1</th>\n",
              "      <td>s2</td>\n",
              "      <td>Movie</td>\n",
              "      <td>Ernest Saves Christmas</td>\n",
              "      <td>John Cherry</td>\n",
              "      <td>Jim Varney, Noelle Parker, Douglas Seale</td>\n",
              "      <td>NaN</td>\n",
              "      <td>November 26, 2021</td>\n",
              "      <td>1988</td>\n",
              "      <td>PG</td>\n",
              "      <td>91.0</td>\n",
              "      <td>Comedy</td>\n",
              "      <td>Santa Claus passes his magic bag to a new St. ...</td>\n",
              "    </tr>\n",
              "    <tr>\n",
              "      <th>2</th>\n",
              "      <td>s3</td>\n",
              "      <td>Movie</td>\n",
              "      <td>Ice Age: A Mammoth Christmas</td>\n",
              "      <td>Karen Disher</td>\n",
              "      <td>Raymond Albert Romano, John Leguizamo, Denis L...</td>\n",
              "      <td>United States</td>\n",
              "      <td>November 26, 2021</td>\n",
              "      <td>2011</td>\n",
              "      <td>TV-G</td>\n",
              "      <td>23.0</td>\n",
              "      <td>Animation, Comedy, Family</td>\n",
              "      <td>Sid the Sloth is on Santa's naughty list.</td>\n",
              "    </tr>\n",
              "    <tr>\n",
              "      <th>3</th>\n",
              "      <td>s4</td>\n",
              "      <td>Movie</td>\n",
              "      <td>The Queen Family Singalong</td>\n",
              "      <td>Hamish Hamilton</td>\n",
              "      <td>Darren Criss, Adam Lambert, Derek Hough, Alexa...</td>\n",
              "      <td>NaN</td>\n",
              "      <td>November 26, 2021</td>\n",
              "      <td>2021</td>\n",
              "      <td>TV-PG</td>\n",
              "      <td>41.0</td>\n",
              "      <td>Musical</td>\n",
              "      <td>This is real life, not just fantasy!</td>\n",
              "    </tr>\n",
              "    <tr>\n",
              "      <th>4</th>\n",
              "      <td>s5</td>\n",
              "      <td>TV Show</td>\n",
              "      <td>The Beatles: Get Back</td>\n",
              "      <td>NaN</td>\n",
              "      <td>John Lennon, Paul McCartney, George Harrison, ...</td>\n",
              "      <td>NaN</td>\n",
              "      <td>November 25, 2021</td>\n",
              "      <td>2021</td>\n",
              "      <td>NaN</td>\n",
              "      <td>NaN</td>\n",
              "      <td>Docuseries, Historical, Music</td>\n",
              "      <td>A three-part documentary from Peter Jackson ca...</td>\n",
              "    </tr>\n",
              "  </tbody>\n",
              "</table>\n",
              "</div>\n",
              "    <div class=\"colab-df-buttons\">\n",
              "\n",
              "  <div class=\"colab-df-container\">\n",
              "    <button class=\"colab-df-convert\" onclick=\"convertToInteractive('df-3d00a12d-4804-423b-a60d-939c738428b9')\"\n",
              "            title=\"Convert this dataframe to an interactive table.\"\n",
              "            style=\"display:none;\">\n",
              "\n",
              "  <svg xmlns=\"http://www.w3.org/2000/svg\" height=\"24px\" viewBox=\"0 -960 960 960\">\n",
              "    <path d=\"M120-120v-720h720v720H120Zm60-500h600v-160H180v160Zm220 220h160v-160H400v160Zm0 220h160v-160H400v160ZM180-400h160v-160H180v160Zm440 0h160v-160H620v160ZM180-180h160v-160H180v160Zm440 0h160v-160H620v160Z\"/>\n",
              "  </svg>\n",
              "    </button>\n",
              "\n",
              "  <style>\n",
              "    .colab-df-container {\n",
              "      display:flex;\n",
              "      gap: 12px;\n",
              "    }\n",
              "\n",
              "    .colab-df-convert {\n",
              "      background-color: #E8F0FE;\n",
              "      border: none;\n",
              "      border-radius: 50%;\n",
              "      cursor: pointer;\n",
              "      display: none;\n",
              "      fill: #1967D2;\n",
              "      height: 32px;\n",
              "      padding: 0 0 0 0;\n",
              "      width: 32px;\n",
              "    }\n",
              "\n",
              "    .colab-df-convert:hover {\n",
              "      background-color: #E2EBFA;\n",
              "      box-shadow: 0px 1px 2px rgba(60, 64, 67, 0.3), 0px 1px 3px 1px rgba(60, 64, 67, 0.15);\n",
              "      fill: #174EA6;\n",
              "    }\n",
              "\n",
              "    .colab-df-buttons div {\n",
              "      margin-bottom: 4px;\n",
              "    }\n",
              "\n",
              "    [theme=dark] .colab-df-convert {\n",
              "      background-color: #3B4455;\n",
              "      fill: #D2E3FC;\n",
              "    }\n",
              "\n",
              "    [theme=dark] .colab-df-convert:hover {\n",
              "      background-color: #434B5C;\n",
              "      box-shadow: 0px 1px 3px 1px rgba(0, 0, 0, 0.15);\n",
              "      filter: drop-shadow(0px 1px 2px rgba(0, 0, 0, 0.3));\n",
              "      fill: #FFFFFF;\n",
              "    }\n",
              "  </style>\n",
              "\n",
              "    <script>\n",
              "      const buttonEl =\n",
              "        document.querySelector('#df-3d00a12d-4804-423b-a60d-939c738428b9 button.colab-df-convert');\n",
              "      buttonEl.style.display =\n",
              "        google.colab.kernel.accessAllowed ? 'block' : 'none';\n",
              "\n",
              "      async function convertToInteractive(key) {\n",
              "        const element = document.querySelector('#df-3d00a12d-4804-423b-a60d-939c738428b9');\n",
              "        const dataTable =\n",
              "          await google.colab.kernel.invokeFunction('convertToInteractive',\n",
              "                                                    [key], {});\n",
              "        if (!dataTable) return;\n",
              "\n",
              "        const docLinkHtml = 'Like what you see? Visit the ' +\n",
              "          '<a target=\"_blank\" href=https://colab.research.google.com/notebooks/data_table.ipynb>data table notebook</a>'\n",
              "          + ' to learn more about interactive tables.';\n",
              "        element.innerHTML = '';\n",
              "        dataTable['output_type'] = 'display_data';\n",
              "        await google.colab.output.renderOutput(dataTable, element);\n",
              "        const docLink = document.createElement('div');\n",
              "        docLink.innerHTML = docLinkHtml;\n",
              "        element.appendChild(docLink);\n",
              "      }\n",
              "    </script>\n",
              "  </div>\n",
              "\n",
              "\n",
              "<div id=\"df-ddba792d-d9fb-4a7c-afdf-8f655233484b\">\n",
              "  <button class=\"colab-df-quickchart\" onclick=\"quickchart('df-ddba792d-d9fb-4a7c-afdf-8f655233484b')\"\n",
              "            title=\"Suggest charts\"\n",
              "            style=\"display:none;\">\n",
              "\n",
              "<svg xmlns=\"http://www.w3.org/2000/svg\" height=\"24px\"viewBox=\"0 0 24 24\"\n",
              "     width=\"24px\">\n",
              "    <g>\n",
              "        <path d=\"M19 3H5c-1.1 0-2 .9-2 2v14c0 1.1.9 2 2 2h14c1.1 0 2-.9 2-2V5c0-1.1-.9-2-2-2zM9 17H7v-7h2v7zm4 0h-2V7h2v10zm4 0h-2v-4h2v4z\"/>\n",
              "    </g>\n",
              "</svg>\n",
              "  </button>\n",
              "\n",
              "<style>\n",
              "  .colab-df-quickchart {\n",
              "      --bg-color: #E8F0FE;\n",
              "      --fill-color: #1967D2;\n",
              "      --hover-bg-color: #E2EBFA;\n",
              "      --hover-fill-color: #174EA6;\n",
              "      --disabled-fill-color: #AAA;\n",
              "      --disabled-bg-color: #DDD;\n",
              "  }\n",
              "\n",
              "  [theme=dark] .colab-df-quickchart {\n",
              "      --bg-color: #3B4455;\n",
              "      --fill-color: #D2E3FC;\n",
              "      --hover-bg-color: #434B5C;\n",
              "      --hover-fill-color: #FFFFFF;\n",
              "      --disabled-bg-color: #3B4455;\n",
              "      --disabled-fill-color: #666;\n",
              "  }\n",
              "\n",
              "  .colab-df-quickchart {\n",
              "    background-color: var(--bg-color);\n",
              "    border: none;\n",
              "    border-radius: 50%;\n",
              "    cursor: pointer;\n",
              "    display: none;\n",
              "    fill: var(--fill-color);\n",
              "    height: 32px;\n",
              "    padding: 0;\n",
              "    width: 32px;\n",
              "  }\n",
              "\n",
              "  .colab-df-quickchart:hover {\n",
              "    background-color: var(--hover-bg-color);\n",
              "    box-shadow: 0 1px 2px rgba(60, 64, 67, 0.3), 0 1px 3px 1px rgba(60, 64, 67, 0.15);\n",
              "    fill: var(--button-hover-fill-color);\n",
              "  }\n",
              "\n",
              "  .colab-df-quickchart-complete:disabled,\n",
              "  .colab-df-quickchart-complete:disabled:hover {\n",
              "    background-color: var(--disabled-bg-color);\n",
              "    fill: var(--disabled-fill-color);\n",
              "    box-shadow: none;\n",
              "  }\n",
              "\n",
              "  .colab-df-spinner {\n",
              "    border: 2px solid var(--fill-color);\n",
              "    border-color: transparent;\n",
              "    border-bottom-color: var(--fill-color);\n",
              "    animation:\n",
              "      spin 1s steps(1) infinite;\n",
              "  }\n",
              "\n",
              "  @keyframes spin {\n",
              "    0% {\n",
              "      border-color: transparent;\n",
              "      border-bottom-color: var(--fill-color);\n",
              "      border-left-color: var(--fill-color);\n",
              "    }\n",
              "    20% {\n",
              "      border-color: transparent;\n",
              "      border-left-color: var(--fill-color);\n",
              "      border-top-color: var(--fill-color);\n",
              "    }\n",
              "    30% {\n",
              "      border-color: transparent;\n",
              "      border-left-color: var(--fill-color);\n",
              "      border-top-color: var(--fill-color);\n",
              "      border-right-color: var(--fill-color);\n",
              "    }\n",
              "    40% {\n",
              "      border-color: transparent;\n",
              "      border-right-color: var(--fill-color);\n",
              "      border-top-color: var(--fill-color);\n",
              "    }\n",
              "    60% {\n",
              "      border-color: transparent;\n",
              "      border-right-color: var(--fill-color);\n",
              "    }\n",
              "    80% {\n",
              "      border-color: transparent;\n",
              "      border-right-color: var(--fill-color);\n",
              "      border-bottom-color: var(--fill-color);\n",
              "    }\n",
              "    90% {\n",
              "      border-color: transparent;\n",
              "      border-bottom-color: var(--fill-color);\n",
              "    }\n",
              "  }\n",
              "</style>\n",
              "\n",
              "  <script>\n",
              "    async function quickchart(key) {\n",
              "      const quickchartButtonEl =\n",
              "        document.querySelector('#' + key + ' button');\n",
              "      quickchartButtonEl.disabled = true;  // To prevent multiple clicks.\n",
              "      quickchartButtonEl.classList.add('colab-df-spinner');\n",
              "      try {\n",
              "        const charts = await google.colab.kernel.invokeFunction(\n",
              "            'suggestCharts', [key], {});\n",
              "      } catch (error) {\n",
              "        console.error('Error during call to suggestCharts:', error);\n",
              "      }\n",
              "      quickchartButtonEl.classList.remove('colab-df-spinner');\n",
              "      quickchartButtonEl.classList.add('colab-df-quickchart-complete');\n",
              "    }\n",
              "    (() => {\n",
              "      let quickchartButtonEl =\n",
              "        document.querySelector('#df-ddba792d-d9fb-4a7c-afdf-8f655233484b button');\n",
              "      quickchartButtonEl.style.display =\n",
              "        google.colab.kernel.accessAllowed ? 'block' : 'none';\n",
              "    })();\n",
              "  </script>\n",
              "</div>\n",
              "    </div>\n",
              "  </div>\n"
            ],
            "application/vnd.google.colaboratory.intrinsic+json": {
              "type": "dataframe",
              "variable_name": "df",
              "summary": "{\n  \"name\": \"df\",\n  \"rows\": 1450,\n  \"fields\": [\n    {\n      \"column\": \"show_id\",\n      \"properties\": {\n        \"dtype\": \"string\",\n        \"num_unique_values\": 1450,\n        \"samples\": [\n          \"s539\",\n          \"s755\",\n          \"s50\"\n        ],\n        \"semantic_type\": \"\",\n        \"description\": \"\"\n      }\n    },\n    {\n      \"column\": \"type\",\n      \"properties\": {\n        \"dtype\": \"category\",\n        \"num_unique_values\": 2,\n        \"samples\": [\n          \"TV Show\",\n          \"Movie\"\n        ],\n        \"semantic_type\": \"\",\n        \"description\": \"\"\n      }\n    },\n    {\n      \"column\": \"title\",\n      \"properties\": {\n        \"dtype\": \"string\",\n        \"num_unique_values\": 1450,\n        \"samples\": [\n          \"Homeward Bound II: Lost in San Francisco\",\n          \"Boat Builders\"\n        ],\n        \"semantic_type\": \"\",\n        \"description\": \"\"\n      }\n    },\n    {\n      \"column\": \"director\",\n      \"properties\": {\n        \"dtype\": \"category\",\n        \"num_unique_values\": 609,\n        \"samples\": [\n          \"Richard Fleischer\",\n          \"Glenn Weiss\"\n        ],\n        \"semantic_type\": \"\",\n        \"description\": \"\"\n      }\n    },\n    {\n      \"column\": \"cast\",\n      \"properties\": {\n        \"dtype\": \"string\",\n        \"num_unique_values\": 1193,\n        \"samples\": [\n          \"Thomas Nicholas, Joss Ackland, Art Malik, Paloma Baeza, Kate Winslet, Daniel Craig\",\n          \"Hutch Dano, G. Hannelius, Maurice Godin, David Lambert, Kelsy Chow, Debra Mooney\"\n        ],\n        \"semantic_type\": \"\",\n        \"description\": \"\"\n      }\n    },\n    {\n      \"column\": \"country\",\n      \"properties\": {\n        \"dtype\": \"category\",\n        \"num_unique_values\": 89,\n        \"samples\": [\n          \"United States, Ireland\",\n          \"United States, Australia, France, Canada\"\n        ],\n        \"semantic_type\": \"\",\n        \"description\": \"\"\n      }\n    },\n    {\n      \"column\": \"date_added\",\n      \"properties\": {\n        \"dtype\": \"object\",\n        \"num_unique_values\": 167,\n        \"samples\": [\n          \"July 10, 2020\",\n          \"May 29, 2020\"\n        ],\n        \"semantic_type\": \"\",\n        \"description\": \"\"\n      }\n    },\n    {\n      \"column\": \"release_year\",\n      \"properties\": {\n        \"dtype\": \"number\",\n        \"std\": 21,\n        \"min\": 1928,\n        \"max\": 2021,\n        \"num_unique_values\": 90,\n        \"samples\": [\n          1992,\n          1997\n        ],\n        \"semantic_type\": \"\",\n        \"description\": \"\"\n      }\n    },\n    {\n      \"column\": \"rating\",\n      \"properties\": {\n        \"dtype\": \"category\",\n        \"num_unique_values\": 9,\n        \"samples\": [\n          \"TV-Y\",\n          \"PG\"\n        ],\n        \"semantic_type\": \"\",\n        \"description\": \"\"\n      }\n    },\n    {\n      \"column\": \"duration\",\n      \"properties\": {\n        \"dtype\": \"number\",\n        \"std\": 40.595585019595575,\n        \"min\": 1.0,\n        \"max\": 183.0,\n        \"num_unique_values\": 145,\n        \"samples\": [\n          109.0,\n          58.0\n        ],\n        \"semantic_type\": \"\",\n        \"description\": \"\"\n      }\n    },\n    {\n      \"column\": \"listed_in\",\n      \"properties\": {\n        \"dtype\": \"category\",\n        \"num_unique_values\": 329,\n        \"samples\": [\n          \"Comedy, Family, Musical\",\n          \"Comedy, Variety\"\n        ],\n        \"semantic_type\": \"\",\n        \"description\": \"\"\n      }\n    },\n    {\n      \"column\": \"description\",\n      \"properties\": {\n        \"dtype\": \"string\",\n        \"num_unique_values\": 1448,\n        \"samples\": [\n          \"A toy-stealing bully meets his match in a Lost & Found box.\",\n          \"India From Above, a two-part aerial documentary of a nation and its people.\"\n        ],\n        \"semantic_type\": \"\",\n        \"description\": \"\"\n      }\n    }\n  ]\n}"
            }
          },
          "metadata": {},
          "execution_count": 58
        }
      ]
    },
    {
      "cell_type": "code",
      "source": [
        "df['duration'] = df['duration'].replace('min' or 'Season', '', regex=True).apply(pd.to_numeric, errors='coerce')\n",
        "df_2 = df[df['duration'] > 15]"
      ],
      "metadata": {
        "id": "8A1p7wsgeMTQ"
      },
      "execution_count": 56,
      "outputs": []
    },
    {
      "cell_type": "code",
      "source": [
        "df_2.head()"
      ],
      "metadata": {
        "colab": {
          "base_uri": "https://localhost:8080/",
          "height": 397
        },
        "id": "14L-MkAezPTA",
        "outputId": "b65767d9-363d-42e8-96f3-e2158bd51475"
      },
      "execution_count": 57,
      "outputs": [
        {
          "output_type": "execute_result",
          "data": {
            "text/plain": [
              "  show_id   type                                             title  \\\n",
              "0      s1  Movie  Duck the Halls: A Mickey Mouse Christmas Special   \n",
              "1      s2  Movie                            Ernest Saves Christmas   \n",
              "2      s3  Movie                      Ice Age: A Mammoth Christmas   \n",
              "3      s4  Movie                        The Queen Family Singalong   \n",
              "5      s6  Movie                                 Becoming Cousteau   \n",
              "\n",
              "                            director  \\\n",
              "0  Alonso Ramirez Ramos, Dave Wasson   \n",
              "1                        John Cherry   \n",
              "2                       Karen Disher   \n",
              "3                    Hamish Hamilton   \n",
              "5                         Liz Garbus   \n",
              "\n",
              "                                                cast        country  \\\n",
              "0  Chris Diamantopoulos, Tony Anselmo, Tress MacN...            NaN   \n",
              "1           Jim Varney, Noelle Parker, Douglas Seale            NaN   \n",
              "2  Raymond Albert Romano, John Leguizamo, Denis L...  United States   \n",
              "3  Darren Criss, Adam Lambert, Derek Hough, Alexa...            NaN   \n",
              "5              Jacques Yves Cousteau, Vincent Cassel  United States   \n",
              "\n",
              "          date_added  release_year rating  duration  \\\n",
              "0  November 26, 2021          2016   TV-G      23.0   \n",
              "1  November 26, 2021          1988     PG      91.0   \n",
              "2  November 26, 2021          2011   TV-G      23.0   \n",
              "3  November 26, 2021          2021  TV-PG      41.0   \n",
              "5  November 24, 2021          2021  PG-13      94.0   \n",
              "\n",
              "                   listed_in  \\\n",
              "0          Animation, Family   \n",
              "1                     Comedy   \n",
              "2  Animation, Comedy, Family   \n",
              "3                    Musical   \n",
              "5  Biographical, Documentary   \n",
              "\n",
              "                                         description  \n",
              "0   Join Mickey and the gang as they duck the halls!  \n",
              "1  Santa Claus passes his magic bag to a new St. ...  \n",
              "2          Sid the Sloth is on Santa's naughty list.  \n",
              "3               This is real life, not just fantasy!  \n",
              "5  An inside look at the legendary life of advent...  "
            ],
            "text/html": [
              "\n",
              "  <div id=\"df-cb661e77-d76c-49d3-a1ba-6ab9a7385b7a\" class=\"colab-df-container\">\n",
              "    <div>\n",
              "<style scoped>\n",
              "    .dataframe tbody tr th:only-of-type {\n",
              "        vertical-align: middle;\n",
              "    }\n",
              "\n",
              "    .dataframe tbody tr th {\n",
              "        vertical-align: top;\n",
              "    }\n",
              "\n",
              "    .dataframe thead th {\n",
              "        text-align: right;\n",
              "    }\n",
              "</style>\n",
              "<table border=\"1\" class=\"dataframe\">\n",
              "  <thead>\n",
              "    <tr style=\"text-align: right;\">\n",
              "      <th></th>\n",
              "      <th>show_id</th>\n",
              "      <th>type</th>\n",
              "      <th>title</th>\n",
              "      <th>director</th>\n",
              "      <th>cast</th>\n",
              "      <th>country</th>\n",
              "      <th>date_added</th>\n",
              "      <th>release_year</th>\n",
              "      <th>rating</th>\n",
              "      <th>duration</th>\n",
              "      <th>listed_in</th>\n",
              "      <th>description</th>\n",
              "    </tr>\n",
              "  </thead>\n",
              "  <tbody>\n",
              "    <tr>\n",
              "      <th>0</th>\n",
              "      <td>s1</td>\n",
              "      <td>Movie</td>\n",
              "      <td>Duck the Halls: A Mickey Mouse Christmas Special</td>\n",
              "      <td>Alonso Ramirez Ramos, Dave Wasson</td>\n",
              "      <td>Chris Diamantopoulos, Tony Anselmo, Tress MacN...</td>\n",
              "      <td>NaN</td>\n",
              "      <td>November 26, 2021</td>\n",
              "      <td>2016</td>\n",
              "      <td>TV-G</td>\n",
              "      <td>23.0</td>\n",
              "      <td>Animation, Family</td>\n",
              "      <td>Join Mickey and the gang as they duck the halls!</td>\n",
              "    </tr>\n",
              "    <tr>\n",
              "      <th>1</th>\n",
              "      <td>s2</td>\n",
              "      <td>Movie</td>\n",
              "      <td>Ernest Saves Christmas</td>\n",
              "      <td>John Cherry</td>\n",
              "      <td>Jim Varney, Noelle Parker, Douglas Seale</td>\n",
              "      <td>NaN</td>\n",
              "      <td>November 26, 2021</td>\n",
              "      <td>1988</td>\n",
              "      <td>PG</td>\n",
              "      <td>91.0</td>\n",
              "      <td>Comedy</td>\n",
              "      <td>Santa Claus passes his magic bag to a new St. ...</td>\n",
              "    </tr>\n",
              "    <tr>\n",
              "      <th>2</th>\n",
              "      <td>s3</td>\n",
              "      <td>Movie</td>\n",
              "      <td>Ice Age: A Mammoth Christmas</td>\n",
              "      <td>Karen Disher</td>\n",
              "      <td>Raymond Albert Romano, John Leguizamo, Denis L...</td>\n",
              "      <td>United States</td>\n",
              "      <td>November 26, 2021</td>\n",
              "      <td>2011</td>\n",
              "      <td>TV-G</td>\n",
              "      <td>23.0</td>\n",
              "      <td>Animation, Comedy, Family</td>\n",
              "      <td>Sid the Sloth is on Santa's naughty list.</td>\n",
              "    </tr>\n",
              "    <tr>\n",
              "      <th>3</th>\n",
              "      <td>s4</td>\n",
              "      <td>Movie</td>\n",
              "      <td>The Queen Family Singalong</td>\n",
              "      <td>Hamish Hamilton</td>\n",
              "      <td>Darren Criss, Adam Lambert, Derek Hough, Alexa...</td>\n",
              "      <td>NaN</td>\n",
              "      <td>November 26, 2021</td>\n",
              "      <td>2021</td>\n",
              "      <td>TV-PG</td>\n",
              "      <td>41.0</td>\n",
              "      <td>Musical</td>\n",
              "      <td>This is real life, not just fantasy!</td>\n",
              "    </tr>\n",
              "    <tr>\n",
              "      <th>5</th>\n",
              "      <td>s6</td>\n",
              "      <td>Movie</td>\n",
              "      <td>Becoming Cousteau</td>\n",
              "      <td>Liz Garbus</td>\n",
              "      <td>Jacques Yves Cousteau, Vincent Cassel</td>\n",
              "      <td>United States</td>\n",
              "      <td>November 24, 2021</td>\n",
              "      <td>2021</td>\n",
              "      <td>PG-13</td>\n",
              "      <td>94.0</td>\n",
              "      <td>Biographical, Documentary</td>\n",
              "      <td>An inside look at the legendary life of advent...</td>\n",
              "    </tr>\n",
              "  </tbody>\n",
              "</table>\n",
              "</div>\n",
              "    <div class=\"colab-df-buttons\">\n",
              "\n",
              "  <div class=\"colab-df-container\">\n",
              "    <button class=\"colab-df-convert\" onclick=\"convertToInteractive('df-cb661e77-d76c-49d3-a1ba-6ab9a7385b7a')\"\n",
              "            title=\"Convert this dataframe to an interactive table.\"\n",
              "            style=\"display:none;\">\n",
              "\n",
              "  <svg xmlns=\"http://www.w3.org/2000/svg\" height=\"24px\" viewBox=\"0 -960 960 960\">\n",
              "    <path d=\"M120-120v-720h720v720H120Zm60-500h600v-160H180v160Zm220 220h160v-160H400v160Zm0 220h160v-160H400v160ZM180-400h160v-160H180v160Zm440 0h160v-160H620v160ZM180-180h160v-160H180v160Zm440 0h160v-160H620v160Z\"/>\n",
              "  </svg>\n",
              "    </button>\n",
              "\n",
              "  <style>\n",
              "    .colab-df-container {\n",
              "      display:flex;\n",
              "      gap: 12px;\n",
              "    }\n",
              "\n",
              "    .colab-df-convert {\n",
              "      background-color: #E8F0FE;\n",
              "      border: none;\n",
              "      border-radius: 50%;\n",
              "      cursor: pointer;\n",
              "      display: none;\n",
              "      fill: #1967D2;\n",
              "      height: 32px;\n",
              "      padding: 0 0 0 0;\n",
              "      width: 32px;\n",
              "    }\n",
              "\n",
              "    .colab-df-convert:hover {\n",
              "      background-color: #E2EBFA;\n",
              "      box-shadow: 0px 1px 2px rgba(60, 64, 67, 0.3), 0px 1px 3px 1px rgba(60, 64, 67, 0.15);\n",
              "      fill: #174EA6;\n",
              "    }\n",
              "\n",
              "    .colab-df-buttons div {\n",
              "      margin-bottom: 4px;\n",
              "    }\n",
              "\n",
              "    [theme=dark] .colab-df-convert {\n",
              "      background-color: #3B4455;\n",
              "      fill: #D2E3FC;\n",
              "    }\n",
              "\n",
              "    [theme=dark] .colab-df-convert:hover {\n",
              "      background-color: #434B5C;\n",
              "      box-shadow: 0px 1px 3px 1px rgba(0, 0, 0, 0.15);\n",
              "      filter: drop-shadow(0px 1px 2px rgba(0, 0, 0, 0.3));\n",
              "      fill: #FFFFFF;\n",
              "    }\n",
              "  </style>\n",
              "\n",
              "    <script>\n",
              "      const buttonEl =\n",
              "        document.querySelector('#df-cb661e77-d76c-49d3-a1ba-6ab9a7385b7a button.colab-df-convert');\n",
              "      buttonEl.style.display =\n",
              "        google.colab.kernel.accessAllowed ? 'block' : 'none';\n",
              "\n",
              "      async function convertToInteractive(key) {\n",
              "        const element = document.querySelector('#df-cb661e77-d76c-49d3-a1ba-6ab9a7385b7a');\n",
              "        const dataTable =\n",
              "          await google.colab.kernel.invokeFunction('convertToInteractive',\n",
              "                                                    [key], {});\n",
              "        if (!dataTable) return;\n",
              "\n",
              "        const docLinkHtml = 'Like what you see? Visit the ' +\n",
              "          '<a target=\"_blank\" href=https://colab.research.google.com/notebooks/data_table.ipynb>data table notebook</a>'\n",
              "          + ' to learn more about interactive tables.';\n",
              "        element.innerHTML = '';\n",
              "        dataTable['output_type'] = 'display_data';\n",
              "        await google.colab.output.renderOutput(dataTable, element);\n",
              "        const docLink = document.createElement('div');\n",
              "        docLink.innerHTML = docLinkHtml;\n",
              "        element.appendChild(docLink);\n",
              "      }\n",
              "    </script>\n",
              "  </div>\n",
              "\n",
              "\n",
              "<div id=\"df-eb2d63e7-b4d9-4a03-adac-cfeace81c59f\">\n",
              "  <button class=\"colab-df-quickchart\" onclick=\"quickchart('df-eb2d63e7-b4d9-4a03-adac-cfeace81c59f')\"\n",
              "            title=\"Suggest charts\"\n",
              "            style=\"display:none;\">\n",
              "\n",
              "<svg xmlns=\"http://www.w3.org/2000/svg\" height=\"24px\"viewBox=\"0 0 24 24\"\n",
              "     width=\"24px\">\n",
              "    <g>\n",
              "        <path d=\"M19 3H5c-1.1 0-2 .9-2 2v14c0 1.1.9 2 2 2h14c1.1 0 2-.9 2-2V5c0-1.1-.9-2-2-2zM9 17H7v-7h2v7zm4 0h-2V7h2v10zm4 0h-2v-4h2v4z\"/>\n",
              "    </g>\n",
              "</svg>\n",
              "  </button>\n",
              "\n",
              "<style>\n",
              "  .colab-df-quickchart {\n",
              "      --bg-color: #E8F0FE;\n",
              "      --fill-color: #1967D2;\n",
              "      --hover-bg-color: #E2EBFA;\n",
              "      --hover-fill-color: #174EA6;\n",
              "      --disabled-fill-color: #AAA;\n",
              "      --disabled-bg-color: #DDD;\n",
              "  }\n",
              "\n",
              "  [theme=dark] .colab-df-quickchart {\n",
              "      --bg-color: #3B4455;\n",
              "      --fill-color: #D2E3FC;\n",
              "      --hover-bg-color: #434B5C;\n",
              "      --hover-fill-color: #FFFFFF;\n",
              "      --disabled-bg-color: #3B4455;\n",
              "      --disabled-fill-color: #666;\n",
              "  }\n",
              "\n",
              "  .colab-df-quickchart {\n",
              "    background-color: var(--bg-color);\n",
              "    border: none;\n",
              "    border-radius: 50%;\n",
              "    cursor: pointer;\n",
              "    display: none;\n",
              "    fill: var(--fill-color);\n",
              "    height: 32px;\n",
              "    padding: 0;\n",
              "    width: 32px;\n",
              "  }\n",
              "\n",
              "  .colab-df-quickchart:hover {\n",
              "    background-color: var(--hover-bg-color);\n",
              "    box-shadow: 0 1px 2px rgba(60, 64, 67, 0.3), 0 1px 3px 1px rgba(60, 64, 67, 0.15);\n",
              "    fill: var(--button-hover-fill-color);\n",
              "  }\n",
              "\n",
              "  .colab-df-quickchart-complete:disabled,\n",
              "  .colab-df-quickchart-complete:disabled:hover {\n",
              "    background-color: var(--disabled-bg-color);\n",
              "    fill: var(--disabled-fill-color);\n",
              "    box-shadow: none;\n",
              "  }\n",
              "\n",
              "  .colab-df-spinner {\n",
              "    border: 2px solid var(--fill-color);\n",
              "    border-color: transparent;\n",
              "    border-bottom-color: var(--fill-color);\n",
              "    animation:\n",
              "      spin 1s steps(1) infinite;\n",
              "  }\n",
              "\n",
              "  @keyframes spin {\n",
              "    0% {\n",
              "      border-color: transparent;\n",
              "      border-bottom-color: var(--fill-color);\n",
              "      border-left-color: var(--fill-color);\n",
              "    }\n",
              "    20% {\n",
              "      border-color: transparent;\n",
              "      border-left-color: var(--fill-color);\n",
              "      border-top-color: var(--fill-color);\n",
              "    }\n",
              "    30% {\n",
              "      border-color: transparent;\n",
              "      border-left-color: var(--fill-color);\n",
              "      border-top-color: var(--fill-color);\n",
              "      border-right-color: var(--fill-color);\n",
              "    }\n",
              "    40% {\n",
              "      border-color: transparent;\n",
              "      border-right-color: var(--fill-color);\n",
              "      border-top-color: var(--fill-color);\n",
              "    }\n",
              "    60% {\n",
              "      border-color: transparent;\n",
              "      border-right-color: var(--fill-color);\n",
              "    }\n",
              "    80% {\n",
              "      border-color: transparent;\n",
              "      border-right-color: var(--fill-color);\n",
              "      border-bottom-color: var(--fill-color);\n",
              "    }\n",
              "    90% {\n",
              "      border-color: transparent;\n",
              "      border-bottom-color: var(--fill-color);\n",
              "    }\n",
              "  }\n",
              "</style>\n",
              "\n",
              "  <script>\n",
              "    async function quickchart(key) {\n",
              "      const quickchartButtonEl =\n",
              "        document.querySelector('#' + key + ' button');\n",
              "      quickchartButtonEl.disabled = true;  // To prevent multiple clicks.\n",
              "      quickchartButtonEl.classList.add('colab-df-spinner');\n",
              "      try {\n",
              "        const charts = await google.colab.kernel.invokeFunction(\n",
              "            'suggestCharts', [key], {});\n",
              "      } catch (error) {\n",
              "        console.error('Error during call to suggestCharts:', error);\n",
              "      }\n",
              "      quickchartButtonEl.classList.remove('colab-df-spinner');\n",
              "      quickchartButtonEl.classList.add('colab-df-quickchart-complete');\n",
              "    }\n",
              "    (() => {\n",
              "      let quickchartButtonEl =\n",
              "        document.querySelector('#df-eb2d63e7-b4d9-4a03-adac-cfeace81c59f button');\n",
              "      quickchartButtonEl.style.display =\n",
              "        google.colab.kernel.accessAllowed ? 'block' : 'none';\n",
              "    })();\n",
              "  </script>\n",
              "</div>\n",
              "    </div>\n",
              "  </div>\n"
            ],
            "application/vnd.google.colaboratory.intrinsic+json": {
              "type": "dataframe",
              "variable_name": "df_2",
              "summary": "{\n  \"name\": \"df_2\",\n  \"rows\": 855,\n  \"fields\": [\n    {\n      \"column\": \"show_id\",\n      \"properties\": {\n        \"dtype\": \"string\",\n        \"num_unique_values\": 855,\n        \"samples\": [\n          \"s152\",\n          \"s826\",\n          \"s390\"\n        ],\n        \"semantic_type\": \"\",\n        \"description\": \"\"\n      }\n    },\n    {\n      \"column\": \"type\",\n      \"properties\": {\n        \"dtype\": \"category\",\n        \"num_unique_values\": 1,\n        \"samples\": [\n          \"Movie\"\n        ],\n        \"semantic_type\": \"\",\n        \"description\": \"\"\n      }\n    },\n    {\n      \"column\": \"title\",\n      \"properties\": {\n        \"dtype\": \"string\",\n        \"num_unique_values\": 855,\n        \"samples\": [\n          \"Ice Age: The Meltdown\"\n        ],\n        \"semantic_type\": \"\",\n        \"description\": \"\"\n      }\n    },\n    {\n      \"column\": \"director\",\n      \"properties\": {\n        \"dtype\": \"string\",\n        \"num_unique_values\": 535,\n        \"samples\": [\n          \"Michal Makarewicz\"\n        ],\n        \"semantic_type\": \"\",\n        \"description\": \"\"\n      }\n    },\n    {\n      \"column\": \"cast\",\n      \"properties\": {\n        \"dtype\": \"string\",\n        \"num_unique_values\": 794,\n        \"samples\": [\n          \"Sebastian Cabot, Junius Matthews, Barbara Luddy, Howard Morris, John Fiedler, Ralph Wright\"\n        ],\n        \"semantic_type\": \"\",\n        \"description\": \"\"\n      }\n    },\n    {\n      \"column\": \"country\",\n      \"properties\": {\n        \"dtype\": \"category\",\n        \"num_unique_values\": 61,\n        \"samples\": [\n          \"United States\"\n        ],\n        \"semantic_type\": \"\",\n        \"description\": \"\"\n      }\n    },\n    {\n      \"column\": \"date_added\",\n      \"properties\": {\n        \"dtype\": \"object\",\n        \"num_unique_values\": 124,\n        \"samples\": [\n          \"August 6, 2021\"\n        ],\n        \"semantic_type\": \"\",\n        \"description\": \"\"\n      }\n    },\n    {\n      \"column\": \"release_year\",\n      \"properties\": {\n        \"dtype\": \"number\",\n        \"std\": 18,\n        \"min\": 1937,\n        \"max\": 2021,\n        \"num_unique_values\": 80,\n        \"samples\": [\n          1959\n        ],\n        \"semantic_type\": \"\",\n        \"description\": \"\"\n      }\n    },\n    {\n      \"column\": \"rating\",\n      \"properties\": {\n        \"dtype\": \"category\",\n        \"num_unique_values\": 9,\n        \"samples\": [\n          \"TV-14\"\n        ],\n        \"semantic_type\": \"\",\n        \"description\": \"\"\n      }\n    },\n    {\n      \"column\": \"duration\",\n      \"properties\": {\n        \"dtype\": \"number\",\n        \"std\": 29.021012763760755,\n        \"min\": 18.0,\n        \"max\": 183.0,\n        \"num_unique_values\": 130,\n        \"samples\": [\n          121.0\n        ],\n        \"semantic_type\": \"\",\n        \"description\": \"\"\n      }\n    },\n    {\n      \"column\": \"listed_in\",\n      \"properties\": {\n        \"dtype\": \"category\",\n        \"num_unique_values\": 227,\n        \"samples\": [\n          \"Comedy, Family\"\n        ],\n        \"semantic_type\": \"\",\n        \"description\": \"\"\n      }\n    },\n    {\n      \"column\": \"description\",\n      \"properties\": {\n        \"dtype\": \"string\",\n        \"num_unique_values\": 854,\n        \"samples\": [\n          \"Manny, Sid, Diego and Scrat join forces with new friends to save the valley from an epic flood.\"\n        ],\n        \"semantic_type\": \"\",\n        \"description\": \"\"\n      }\n    }\n  ]\n}"
            }
          },
          "metadata": {},
          "execution_count": 57
        }
      ]
    },
    {
      "cell_type": "markdown",
      "source": [
        "Мы убрали текст из колонки и превратили строки в числа, а затем исключили значения меньше 15, чтобы убрать данные, касающиеся сезонов, а не фильмов."
      ],
      "metadata": {
        "id": "uoMERlpOer3z"
      }
    },
    {
      "cell_type": "markdown",
      "source": [
        "Функция *plt.scatter()* используется для построения диаграммы рассеяния (scatter plot), которая отображает зависимость между двумя переменными\n",
        "\n",
        "1. **Данные**\n",
        "* x, y – массивы значений, определяющие координаты точек на графике.\n",
        "\n",
        "2. **Размер и форма точек**\n",
        "* s – размер маркеров (может быть скалярным значением или массивом).\n",
        "* marker – форма маркера (например, \"o\" – круг, \"s\" – квадрат, \"^\" – треугольник и т. д.).\n",
        "* linewidths – толщина границы маркера.\n",
        "\n",
        "3. **Цветовые параметры**\n",
        "* c – цвет маркеров (один цвет или массив значений).\n",
        "* cmap – цветовая карта (если c представлен массивом чисел).\n",
        "* alpha – прозрачность точек (от 0 – полностью прозрачные, до 1 – непрозрачные).\n",
        "* edgecolors – цвет границ маркеров (например, \"black\", \"white\", \"none\").\n",
        "\n",
        "4. **Дополнительные параметры**\n",
        "* zorder – порядок отрисовки элементов (чем выше значение, тем ближе точка к переднему плану).\n",
        "* label – подпись серии данных (используется с plt.legend()).\n",
        "* norm – нормализация значений цвета при использовании cmap.\n",
        "\n",
        "https://matplotlib.org/stable/api/_as_gen/matplotlib.axes.Axes.scatter.html"
      ],
      "metadata": {
        "id": "EsjdLGEHzhcQ"
      }
    },
    {
      "cell_type": "code",
      "source": [
        "plt.scatter(df_2['release_year'], df_2['duration'], alpha=0.5)\n",
        "plt.show()"
      ],
      "metadata": {
        "colab": {
          "base_uri": "https://localhost:8080/",
          "height": 430
        },
        "id": "mrX1pP3heMQ9",
        "outputId": "9aa6ccc4-4d60-41e9-ef82-9c57b4c74f0f"
      },
      "execution_count": 59,
      "outputs": [
        {
          "output_type": "display_data",
          "data": {
            "text/plain": [
              "<Figure size 640x480 with 1 Axes>"
            ],
            "image/png": "[encoded data removed]"
          },
          "metadata": {}
        }
      ]
    },
    {
      "cell_type": "markdown",
      "source": [
        "Код выглядит очень просто. Мы указываем тип визуализации, переменные по шкале X и Y, а также для прозрачности показатель alpha, с которым мы уже сталкивались."
      ],
      "metadata": {
        "id": "Lmxu7BDyexj4"
      }
    },
    {
      "cell_type": "markdown",
      "source": [
        "По этой визуализации сложно однозначно сказать, изменилась ли значимо средняя длина фильмов за указанный период, однако она позволяет нам увидеть сразу на одной картинке связь между годом и длительностью фильма. В ряде случаев такие визуализации оказываются полезны для отражения зависимостей различных переменных."
      ],
      "metadata": {
        "id": "s-RYjCVje2Oc"
      }
    }
  ]
}